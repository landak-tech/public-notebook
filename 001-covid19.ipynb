{
 "cells": [
  {
   "cell_type": "code",
   "execution_count": 1,
   "metadata": {},
   "outputs": [],
   "source": [
    "import pandas as pd\n",
    "import numpy as np\n",
    "import scipy as sp\n",
    "from scipy.optimize import curve_fit\n",
    "import matplotlib.pyplot as plt\n",
    "import plotly.express as px\n",
    "pd.options.mode.chained_assignment = None  # default='warn'"
   ]
  },
  {
   "cell_type": "code",
   "execution_count": 2,
   "metadata": {},
   "outputs": [
    {
     "output_type": "stream",
     "name": "stdout",
     "text": "True    188\nName: Country/Region, dtype: int64\nTrue    188\nName: Country/Region, dtype: int64\n"
    }
   ],
   "source": [
    "confirmed = pd.read_csv('https://raw.githubusercontent.com/CSSEGISandData/COVID-19/master/csse_covid_19_data/csse_covid_19_time_series/time_series_covid19_confirmed_global.csv').groupby('Country/Region', as_index=False).sum()\n",
    "death = pd.read_csv('https://raw.githubusercontent.com/CSSEGISandData/COVID-19/master/csse_covid_19_data/csse_covid_19_time_series/time_series_covid19_deaths_global.csv').groupby('Country/Region', as_index=False).sum()\n",
    "recovered = pd.read_csv('https://raw.githubusercontent.com/CSSEGISandData/COVID-19/master/csse_covid_19_data/csse_covid_19_time_series/time_series_covid19_recovered_global.csv').groupby('Country/Region', as_index=False).sum()\n",
    "reported_countries = len(confirmed['Country/Region'])\n",
    "print(confirmed['Country/Region'].isin(death['Country/Region']).value_counts())\n",
    "print(confirmed['Country/Region'].isin(recovered['Country/Region']).value_counts())"
   ]
  },
  {
   "cell_type": "code",
   "execution_count": 3,
   "metadata": {},
   "outputs": [],
   "source": [
    "confirmed_daily = confirmed.drop(['Lat','Long'],1).transpose().reset_index()\n",
    "confirmed_daily = pd.DataFrame(confirmed_daily.values[1:], columns=confirmed_daily.iloc[0,:])\n",
    "confirmed_daily['Global'] = confirmed_daily.iloc[:,1:].sum(axis=1)\n",
    "confirmed_daily = confirmed_daily.rename(columns={'Country/Region':'Date'})\n",
    "death_daily = death.drop(['Lat','Long'],1).transpose().reset_index()\n",
    "death_daily = pd.DataFrame(death_daily.values[1:], columns=death_daily.iloc[0,:])\n",
    "death_daily['Global'] = death_daily.iloc[:,1:].sum(axis=1)\n",
    "death_daily = death_daily.rename(columns={'Country/Region':'Date'})\n",
    "recovered_daily = recovered.drop(['Lat','Long'],1).transpose().reset_index()\n",
    "recovered_daily = pd.DataFrame(recovered_daily.values[1:], columns=recovered_daily.iloc[0,:])\n",
    "recovered_daily['Global'] = recovered_daily.iloc[:,1:].sum(axis=1)\n",
    "recovered_daily = recovered_daily.rename(columns={'Country/Region':'Date'})"
   ]
  },
  {
   "cell_type": "code",
   "execution_count": 4,
   "metadata": {},
   "outputs": [
    {
     "output_type": "execute_result",
     "data": {
      "text/plain": "         Country/Region       Long        Lat  ConfirmedCases  \\\n0           Afghanistan  65.000000  33.000000            5639   \n1               Albania  20.168300  41.153300             898   \n2               Algeria   1.659600  28.033900            6442   \n3               Andorra   1.521800  42.506300             761   \n4                Angola  17.873900 -11.202700              48   \n..                  ...        ...        ...             ...   \n183  West Bank and Gaza  35.233200  31.952200             375   \n184      Western Sahara -12.885800  24.215500               6   \n185               Yemen  48.516388  15.552727              85   \n186              Zambia  28.283300 -15.416700             654   \n187            Zimbabwe  30.000000 -20.000000              37   \n\n     NewConfirmedCases  DeathCases  NewDeathCases  RecoveredCases  \\\n0                  413         136              4             691   \n1                   18          31              0             694   \n2                  189         529              7            3158   \n3                    1          49              0             596   \n4                    3           2              0              14   \n..                 ...         ...            ...             ...   \n183                  0           2              0             310   \n184                  0           0              0               6   \n185                 15          12              0               1   \n186                208           7              0             124   \n187                  0           4              0              13   \n\n     NewRecoveredCases  ActiveCases  NewActiveCases  \n0                   43         4812             366  \n1                    6          173              12  \n2                  100         2755              82  \n3                   20          116             -19  \n4                    0           32               3  \n..                 ...          ...             ...  \n183                  0           63               0  \n184                  0            0               0  \n185                  0           72              15  \n186                  0          523             208  \n187                  1           20              -1  \n\n[188 rows x 11 columns]",
      "text/html": "<div>\n<style scoped>\n    .dataframe tbody tr th:only-of-type {\n        vertical-align: middle;\n    }\n\n    .dataframe tbody tr th {\n        vertical-align: top;\n    }\n\n    .dataframe thead th {\n        text-align: right;\n    }\n</style>\n<table border=\"1\" class=\"dataframe\">\n  <thead>\n    <tr style=\"text-align: right;\">\n      <th></th>\n      <th>Country/Region</th>\n      <th>Long</th>\n      <th>Lat</th>\n      <th>ConfirmedCases</th>\n      <th>NewConfirmedCases</th>\n      <th>DeathCases</th>\n      <th>NewDeathCases</th>\n      <th>RecoveredCases</th>\n      <th>NewRecoveredCases</th>\n      <th>ActiveCases</th>\n      <th>NewActiveCases</th>\n    </tr>\n  </thead>\n  <tbody>\n    <tr>\n      <th>0</th>\n      <td>Afghanistan</td>\n      <td>65.000000</td>\n      <td>33.000000</td>\n      <td>5639</td>\n      <td>413</td>\n      <td>136</td>\n      <td>4</td>\n      <td>691</td>\n      <td>43</td>\n      <td>4812</td>\n      <td>366</td>\n    </tr>\n    <tr>\n      <th>1</th>\n      <td>Albania</td>\n      <td>20.168300</td>\n      <td>41.153300</td>\n      <td>898</td>\n      <td>18</td>\n      <td>31</td>\n      <td>0</td>\n      <td>694</td>\n      <td>6</td>\n      <td>173</td>\n      <td>12</td>\n    </tr>\n    <tr>\n      <th>2</th>\n      <td>Algeria</td>\n      <td>1.659600</td>\n      <td>28.033900</td>\n      <td>6442</td>\n      <td>189</td>\n      <td>529</td>\n      <td>7</td>\n      <td>3158</td>\n      <td>100</td>\n      <td>2755</td>\n      <td>82</td>\n    </tr>\n    <tr>\n      <th>3</th>\n      <td>Andorra</td>\n      <td>1.521800</td>\n      <td>42.506300</td>\n      <td>761</td>\n      <td>1</td>\n      <td>49</td>\n      <td>0</td>\n      <td>596</td>\n      <td>20</td>\n      <td>116</td>\n      <td>-19</td>\n    </tr>\n    <tr>\n      <th>4</th>\n      <td>Angola</td>\n      <td>17.873900</td>\n      <td>-11.202700</td>\n      <td>48</td>\n      <td>3</td>\n      <td>2</td>\n      <td>0</td>\n      <td>14</td>\n      <td>0</td>\n      <td>32</td>\n      <td>3</td>\n    </tr>\n    <tr>\n      <th>...</th>\n      <td>...</td>\n      <td>...</td>\n      <td>...</td>\n      <td>...</td>\n      <td>...</td>\n      <td>...</td>\n      <td>...</td>\n      <td>...</td>\n      <td>...</td>\n      <td>...</td>\n      <td>...</td>\n    </tr>\n    <tr>\n      <th>183</th>\n      <td>West Bank and Gaza</td>\n      <td>35.233200</td>\n      <td>31.952200</td>\n      <td>375</td>\n      <td>0</td>\n      <td>2</td>\n      <td>0</td>\n      <td>310</td>\n      <td>0</td>\n      <td>63</td>\n      <td>0</td>\n    </tr>\n    <tr>\n      <th>184</th>\n      <td>Western Sahara</td>\n      <td>-12.885800</td>\n      <td>24.215500</td>\n      <td>6</td>\n      <td>0</td>\n      <td>0</td>\n      <td>0</td>\n      <td>6</td>\n      <td>0</td>\n      <td>0</td>\n      <td>0</td>\n    </tr>\n    <tr>\n      <th>185</th>\n      <td>Yemen</td>\n      <td>48.516388</td>\n      <td>15.552727</td>\n      <td>85</td>\n      <td>15</td>\n      <td>12</td>\n      <td>0</td>\n      <td>1</td>\n      <td>0</td>\n      <td>72</td>\n      <td>15</td>\n    </tr>\n    <tr>\n      <th>186</th>\n      <td>Zambia</td>\n      <td>28.283300</td>\n      <td>-15.416700</td>\n      <td>654</td>\n      <td>208</td>\n      <td>7</td>\n      <td>0</td>\n      <td>124</td>\n      <td>0</td>\n      <td>523</td>\n      <td>208</td>\n    </tr>\n    <tr>\n      <th>187</th>\n      <td>Zimbabwe</td>\n      <td>30.000000</td>\n      <td>-20.000000</td>\n      <td>37</td>\n      <td>0</td>\n      <td>4</td>\n      <td>0</td>\n      <td>13</td>\n      <td>1</td>\n      <td>20</td>\n      <td>-1</td>\n    </tr>\n  </tbody>\n</table>\n<p>188 rows × 11 columns</p>\n</div>"
     },
     "metadata": {},
     "execution_count": 4
    }
   ],
   "source": [
    "table = confirmed[['Country/Region','Long','Lat']]\n",
    "table['ConfirmedCases'] = confirmed.iloc[:,-1]\n",
    "table['NewConfirmedCases'] = confirmed.iloc[:,-1] - confirmed.iloc[:,-2]\n",
    "table['DeathCases'] = death.iloc[:,-1]\n",
    "table['NewDeathCases'] = death.iloc[:,-1] - death.iloc[:,-2]\n",
    "table['RecoveredCases'] = recovered.iloc[:,-1]\n",
    "table['NewRecoveredCases'] = recovered.iloc[:,-1] - recovered.iloc[:,-2]\n",
    "table = table.fillna(0)\n",
    "table['ActiveCases'] = table['ConfirmedCases'] - table['DeathCases'] - table['RecoveredCases']\n",
    "table['NewActiveCases'] = table['NewConfirmedCases'] - table['NewDeathCases'] - table['NewRecoveredCases']\n",
    "table = table.sort_values(by='Country/Region')\n",
    "table"
   ]
  },
  {
   "cell_type": "code",
   "execution_count": 5,
   "metadata": {},
   "outputs": [
    {
     "output_type": "execute_result",
     "data": {
      "text/plain": "       Cases      Total     New\n0     Active  2,551,852  50,578\n1  Confirmed  4,442,163  95,145\n2      Death    302,418   5,221\n3  Recovered  1,587,893  39,346",
      "text/html": "<div>\n<style scoped>\n    .dataframe tbody tr th:only-of-type {\n        vertical-align: middle;\n    }\n\n    .dataframe tbody tr th {\n        vertical-align: top;\n    }\n\n    .dataframe thead th {\n        text-align: right;\n    }\n</style>\n<table border=\"1\" class=\"dataframe\">\n  <thead>\n    <tr style=\"text-align: right;\">\n      <th></th>\n      <th>Cases</th>\n      <th>Total</th>\n      <th>New</th>\n    </tr>\n  </thead>\n  <tbody>\n    <tr>\n      <th>0</th>\n      <td>Active</td>\n      <td>2,551,852</td>\n      <td>50,578</td>\n    </tr>\n    <tr>\n      <th>1</th>\n      <td>Confirmed</td>\n      <td>4,442,163</td>\n      <td>95,145</td>\n    </tr>\n    <tr>\n      <th>2</th>\n      <td>Death</td>\n      <td>302,418</td>\n      <td>5,221</td>\n    </tr>\n    <tr>\n      <th>3</th>\n      <td>Recovered</td>\n      <td>1,587,893</td>\n      <td>39,346</td>\n    </tr>\n  </tbody>\n</table>\n</div>"
     },
     "metadata": {},
     "execution_count": 5
    }
   ],
   "source": [
    "active_total = table['ActiveCases'].sum()\n",
    "active_new_total = table['NewActiveCases'].sum()\n",
    "confirmed_total = table['ConfirmedCases'].sum()\n",
    "confirmed_new_total = table['NewConfirmedCases'].sum()\n",
    "death_total = table['DeathCases'].sum()\n",
    "death_new_total = table['NewDeathCases'].sum()\n",
    "recovered_total = table['RecoveredCases'].sum()\n",
    "recovered_new_total = table['NewRecoveredCases'].sum()\n",
    "summary_total = {'Cases':['Active','Confirmed','Death','Recovered'],'Total':[f'{active_total:,}',f'{confirmed_total:,}',f'{death_total:,}',f'{recovered_total:,}'],'New':[f'{active_new_total:,}',f'{confirmed_new_total:,}',f'{death_new_total:,}',f'{recovered_new_total:,}']}\n",
    "summary_total = pd.DataFrame(summary_total, columns = ['Cases','Total','New'])\n",
    "summary_total"
   ]
  },
  {
   "cell_type": "code",
   "execution_count": 6,
   "metadata": {},
   "outputs": [],
   "source": [
    "confirmed_table = table[['ConfirmedCases','Country/Region']].groupby('Country/Region', as_index=False).agg({\"ConfirmedCases\": \"sum\"})\n",
    "death_table = table[['DeathCases','Country/Region']].groupby('Country/Region', as_index=False).agg({\"DeathCases\": \"sum\"})\n",
    "recovered_table = table[['RecoveredCases','Country/Region']].groupby('Country/Region', as_index=False).agg({\"RecoveredCases\": \"sum\"})"
   ]
  },
  {
   "cell_type": "code",
   "execution_count": 7,
   "metadata": {},
   "outputs": [
    {
     "output_type": "display_data",
     "data": {
      "application/vnd.plotly.v1+json": {
       "config": {
        "plotlyServerURL": "https://plot.ly"
       },
       "data": [
        {
         "customdata": [
          [
           5639
          ],
          [
           898
          ],
          [
           6442
          ],
          [
           761
          ],
          [
           48
          ],
          [
           25
          ],
          [
           7134
          ],
          [
           3860
          ],
          [
           7019
          ],
          [
           16058
          ],
          [
           2879
          ],
          [
           96
          ],
          [
           6198
          ],
          [
           18863
          ],
          [
           85
          ],
          [
           26772
          ],
          [
           54288
          ],
          [
           18
          ],
          [
           339
          ],
          [
           20
          ],
          [
           3372
          ],
          [
           2218
          ],
          [
           24
          ],
          [
           203165
          ],
          [
           141
          ],
          [
           2100
          ],
          [
           773
          ],
          [
           181
          ],
          [
           15
          ],
          [
           315
          ],
          [
           122
          ],
          [
           2954
          ],
          [
           74781
          ],
          [
           143
          ],
          [
           399
          ],
          [
           37040
          ],
          [
           84029
          ],
          [
           13610
          ],
          [
           11
          ],
          [
           391
          ],
          [
           1242
          ],
          [
           830
          ],
          [
           1971
          ],
          [
           2221
          ],
          [
           1830
          ],
          [
           907
          ],
          [
           8351
          ],
          [
           10911
          ],
          [
           712
          ],
          [
           1284
          ],
          [
           16
          ],
          [
           11320
          ],
          [
           30502
          ],
          [
           10829
          ],
          [
           1112
          ],
          [
           583
          ],
          [
           39
          ],
          [
           1758
          ],
          [
           187
          ],
          [
           272
          ],
          [
           18
          ],
          [
           6145
          ],
          [
           178994
          ],
          [
           1104
          ],
          [
           23
          ],
          [
           667
          ],
          [
           174478
          ],
          [
           5530
          ],
          [
           2770
          ],
          [
           21
          ],
          [
           1518
          ],
          [
           2473
          ],
          [
           913
          ],
          [
           113
          ],
          [
           273
          ],
          [
           12
          ],
          [
           2318
          ],
          [
           3380
          ],
          [
           1802
          ],
          [
           81997
          ],
          [
           16006
          ],
          [
           114533
          ],
          [
           3143
          ],
          [
           23827
          ],
          [
           16579
          ],
          [
           223096
          ],
          [
           509
          ],
          [
           16120
          ],
          [
           586
          ],
          [
           5571
          ],
          [
           758
          ],
          [
           11018
          ],
          [
           944
          ],
          [
           11975
          ],
          [
           1082
          ],
          [
           19
          ],
          [
           962
          ],
          [
           886
          ],
          [
           1
          ],
          [
           215
          ],
          [
           64
          ],
          [
           82
          ],
          [
           1511
          ],
          [
           3915
          ],
          [
           9
          ],
          [
           230
          ],
          [
           63
          ],
          [
           6819
          ],
          [
           982
          ],
          [
           779
          ],
          [
           522
          ],
          [
           20
          ],
          [
           332
          ],
          [
           42595
          ],
          [
           5553
          ],
          [
           96
          ],
          [
           98
          ],
          [
           324
          ],
          [
           6607
          ],
          [
           115
          ],
          [
           16
          ],
          [
           249
          ],
          [
           43680
          ],
          [
           1498
          ],
          [
           25
          ],
          [
           876
          ],
          [
           5162
          ],
          [
           1723
          ],
          [
           8196
          ],
          [
           4341
          ],
          [
           35788
          ],
          [
           9118
          ],
          [
           8
          ],
          [
           754
          ],
          [
           80604
          ],
          [
           11876
          ],
          [
           17615
          ],
          [
           28319
          ],
          [
           28272
          ],
          [
           16247
          ],
          [
           252245
          ],
          [
           287
          ],
          [
           15
          ],
          [
           18
          ],
          [
           17
          ],
          [
           648
          ],
          [
           235
          ],
          [
           46869
          ],
          [
           2189
          ],
          [
           10374
          ],
          [
           11
          ],
          [
           408
          ],
          [
           26098
          ],
          [
           1477
          ],
          [
           1464
          ],
          [
           1284
          ],
          [
           12739
          ],
          [
           203
          ],
          [
           229540
          ],
          [
           925
          ],
          [
           1818
          ],
          [
           10
          ],
          [
           28582
          ],
          [
           30463
          ],
          [
           48
          ],
          [
           440
          ],
          [
           907
          ],
          [
           509
          ],
          [
           3018
          ],
          [
           24
          ],
          [
           238
          ],
          [
           116
          ],
          [
           1032
          ],
          [
           144749
          ],
          [
           1417774
          ],
          [
           160
          ],
          [
           16847
          ],
          [
           21084
          ],
          [
           234440
          ],
          [
           724
          ],
          [
           2645
          ],
          [
           455
          ],
          [
           312
          ],
          [
           375
          ],
          [
           6
          ],
          [
           85
          ],
          [
           654
          ],
          [
           37
          ]
         ],
         "hovertemplate": "<b>%{hovertext}</b><br><br>ConfirmedCases=%{marker.color}<br>Lat=%{lat}<br>Long=%{lon}<extra></extra>",
         "hovertext": [
          "Afghanistan",
          "Albania",
          "Algeria",
          "Andorra",
          "Angola",
          "Antigua and Barbuda",
          "Argentina",
          "Armenia",
          "Australia",
          "Austria",
          "Azerbaijan",
          "Bahamas",
          "Bahrain",
          "Bangladesh",
          "Barbados",
          "Belarus",
          "Belgium",
          "Belize",
          "Benin",
          "Bhutan",
          "Bolivia",
          "Bosnia and Herzegovina",
          "Botswana",
          "Brazil",
          "Brunei",
          "Bulgaria",
          "Burkina Faso",
          "Burma",
          "Burundi",
          "Cabo Verde",
          "Cambodia",
          "Cameroon",
          "Canada",
          "Central African Republic",
          "Chad",
          "Chile",
          "China",
          "Colombia",
          "Comoros",
          "Congo (Brazzaville)",
          "Congo (Kinshasa)",
          "Costa Rica",
          "Cote d'Ivoire",
          "Croatia",
          "Cuba",
          "Cyprus",
          "Czechia",
          "Denmark",
          "Diamond Princess",
          "Djibouti",
          "Dominica",
          "Dominican Republic",
          "Ecuador",
          "Egypt",
          "El Salvador",
          "Equatorial Guinea",
          "Eritrea",
          "Estonia",
          "Eswatini",
          "Ethiopia",
          "Fiji",
          "Finland",
          "France",
          "Gabon",
          "Gambia",
          "Georgia",
          "Germany",
          "Ghana",
          "Greece",
          "Grenada",
          "Guatemala",
          "Guinea",
          "Guinea-Bissau",
          "Guyana",
          "Haiti",
          "Holy See",
          "Honduras",
          "Hungary",
          "Iceland",
          "India",
          "Indonesia",
          "Iran",
          "Iraq",
          "Ireland",
          "Israel",
          "Italy",
          "Jamaica",
          "Japan",
          "Jordan",
          "Kazakhstan",
          "Kenya",
          "Korea, South",
          "Kosovo",
          "Kuwait",
          "Kyrgyzstan",
          "Laos",
          "Latvia",
          "Lebanon",
          "Lesotho",
          "Liberia",
          "Libya",
          "Liechtenstein",
          "Lithuania",
          "Luxembourg",
          "MS Zaandam",
          "Madagascar",
          "Malawi",
          "Malaysia",
          "Maldives",
          "Mali",
          "Malta",
          "Mauritania",
          "Mauritius",
          "Mexico",
          "Moldova",
          "Monaco",
          "Mongolia",
          "Montenegro",
          "Morocco",
          "Mozambique",
          "Namibia",
          "Nepal",
          "Netherlands",
          "New Zealand",
          "Nicaragua",
          "Niger",
          "Nigeria",
          "North Macedonia",
          "Norway",
          "Oman",
          "Pakistan",
          "Panama",
          "Papua New Guinea",
          "Paraguay",
          "Peru",
          "Philippines",
          "Poland",
          "Portugal",
          "Qatar",
          "Romania",
          "Russia",
          "Rwanda",
          "Saint Kitts and Nevis",
          "Saint Lucia",
          "Saint Vincent and the Grenadines",
          "San Marino",
          "Sao Tome and Principe",
          "Saudi Arabia",
          "Senegal",
          "Serbia",
          "Seychelles",
          "Sierra Leone",
          "Singapore",
          "Slovakia",
          "Slovenia",
          "Somalia",
          "South Africa",
          "South Sudan",
          "Spain",
          "Sri Lanka",
          "Sudan",
          "Suriname",
          "Sweden",
          "Switzerland",
          "Syria",
          "Taiwan*",
          "Tajikistan",
          "Tanzania",
          "Thailand",
          "Timor-Leste",
          "Togo",
          "Trinidad and Tobago",
          "Tunisia",
          "Turkey",
          "US",
          "Uganda",
          "Ukraine",
          "United Arab Emirates",
          "United Kingdom",
          "Uruguay",
          "Uzbekistan",
          "Venezuela",
          "Vietnam",
          "West Bank and Gaza",
          "Western Sahara",
          "Yemen",
          "Zambia",
          "Zimbabwe"
         ],
         "lat": [
          33,
          41.1533,
          28.0339,
          42.5063,
          -11.2027,
          17.0608,
          -38.4161,
          40.0691,
          -255.9695,
          47.5162,
          40.1431,
          25.0343,
          26.0275,
          23.685,
          13.1939,
          53.7098,
          50.8333,
          13.1939,
          9.3077,
          27.5142,
          -16.2902,
          43.9159,
          -22.3285,
          -14.235,
          4.5353,
          42.7339,
          12.2383,
          21.9162,
          -3.3731,
          16.5388,
          11.55,
          3.8480000000000003,
          671.7607,
          6.6111,
          15.4542,
          -35.6751,
          1083.3367,
          4.5709,
          -11.6455,
          -4.0383,
          -4.0383,
          9.7489,
          7.54,
          45.1,
          22,
          35.1264,
          49.8175,
          189.8634,
          0,
          11.8251,
          15.415,
          18.7357,
          -1.8312,
          26,
          13.7942,
          1.5,
          15.1794,
          58.5953,
          -26.5225,
          9.145,
          -17.7134,
          64,
          91.3624,
          -0.8037,
          13.4432,
          42.3154,
          51,
          7.9465,
          39.0742,
          12.1165,
          15.7835,
          9.9456,
          11.8037,
          5,
          18.9712,
          41.9029,
          15.2,
          47.1625,
          64.9631,
          21,
          -0.7893,
          32,
          33,
          53.1424,
          31,
          43,
          18.1096,
          36,
          31.24,
          48.0196,
          -0.0236,
          36,
          42.602636,
          29.5,
          41.2044,
          19.856270000000002,
          56.8796,
          33.8547,
          -29.609988,
          6.4281,
          26.3351,
          47.14,
          55.1694,
          49.8153,
          0,
          -18.7669,
          -13.254307999999998,
          2.5,
          3.2028,
          17.570692,
          35.9375,
          21.0079,
          -20.2,
          23.6345,
          47.4116,
          43.7333,
          46.8625,
          42.5,
          31.7917,
          -18.665695,
          -22.9576,
          28.1667,
          107.04169999999999,
          -40.9006,
          12.8654,
          17.6078,
          9.082,
          41.6086,
          60.472,
          21,
          30.3753,
          8.538,
          -6.315,
          -23.4425,
          -9.19,
          13,
          51.9194,
          39.3999,
          25.3548,
          45.9432,
          60,
          -1.9403,
          17.357822,
          13.9094,
          12.9843,
          43.9424,
          0.18636,
          24,
          14.4974,
          44.0165,
          -4.6796,
          8.460555000000001,
          1.2833,
          48.669,
          46.1512,
          5.1521,
          -30.5595,
          6.8770000000000024,
          40,
          7,
          12.8628,
          3.9193,
          63,
          46.8182,
          34.802075,
          23.7,
          38.861034000000004,
          -6.369,
          15,
          -8.874217,
          8.6195,
          10.6918,
          34,
          38.9637,
          37.0902,
          1,
          48.3794,
          24,
          270.0299,
          -32.5228,
          41.3775,
          6.4238,
          16,
          31.9522,
          24.2155,
          15.552726999999999,
          -15.4167,
          -20
         ],
         "legendgroup": "",
         "lon": [
          65,
          20.1683,
          1.6596,
          1.5218,
          17.8739,
          -61.7964,
          -63.6167,
          45.0382,
          1129.8623,
          14.5501,
          47.5769,
          -77.3963,
          50.55,
          90.3563,
          -59.5432,
          27.9534,
          4,
          -59.5432,
          2.3158,
          90.4336,
          -63.5887,
          17.6791,
          24.6849,
          -51.9253,
          114.7277,
          25.4858,
          -1.5616,
          95.956,
          29.9189,
          -23.0418,
          104.9167,
          11.5021,
          -1237.6289,
          20.9394,
          18.7322,
          -71.543,
          3684.4197000000004,
          -74.2973,
          43.3333,
          21.7587,
          21.7587,
          -83.7534,
          -5.5471,
          15.2,
          -80,
          33.4299,
          15.472999999999999,
          -40.014300000000006,
          0,
          42.5903,
          -61.371,
          -70.1627,
          -78.1834,
          30,
          -88.8965,
          10,
          39.7823,
          25.0136,
          31.4659,
          40.4897,
          178.065,
          26,
          59.71919999999999,
          11.6094,
          -15.3101,
          43.3569,
          9,
          -1.0232,
          21.8243,
          -61.678999999999995,
          -90.2308,
          -9.6966,
          -15.1804,
          -58.75,
          -72.2852,
          12.4534,
          -86.2419,
          19.5033,
          -19.0208,
          78,
          113.9213,
          53,
          44,
          -7.6921,
          35,
          12,
          -77.2975,
          138,
          36.51,
          66.9237,
          37.9062,
          128,
          20.902977,
          47.75,
          74.7661,
          102.495496,
          24.6032,
          35.8623,
          28.233608,
          -9.4295,
          17.228331,
          9.55,
          23.8813,
          6.1296,
          0,
          46.8691,
          34.301525,
          112.5,
          73.2207,
          -3.996166000000001,
          14.3754,
          10.9408,
          57.5,
          -102.5528,
          28.3699,
          7.4167,
          103.8467,
          19.3,
          -7.0926,
          35.529562,
          18.4904,
          84.25,
          -265.0278,
          174.886,
          -85.2072,
          8.0817,
          8.6753,
          21.7453,
          8.4689,
          57,
          69.3451,
          -80.7821,
          143.9555,
          -58.4438,
          -75.0152,
          122,
          19.1451,
          -8.2245,
          51.1839,
          24.9668,
          90,
          29.8739,
          -62.782998,
          -60.9789,
          -61.2872,
          12.4578,
          6.613081,
          45,
          -14.4524,
          21.0059,
          55.492,
          -11.779889,
          103.8333,
          19.699,
          14.9955,
          46.1996,
          22.9375,
          31.307,
          -4,
          81,
          30.2176,
          -56.0278,
          16,
          8.2275,
          38.99681500000001,
          121,
          71.276093,
          34.8888,
          101,
          125.727539,
          0.8248,
          -61.2225,
          9,
          35.2433,
          -95.7129,
          32,
          31.1656,
          54,
          -482.92470000000003,
          -55.7658,
          64.5853,
          -66.5897,
          108,
          35.2332,
          -12.8858,
          48.516388,
          28.2833,
          30
         ],
         "marker": {
          "color": [
           5639,
           898,
           6442,
           761,
           48,
           25,
           7134,
           3860,
           7019,
           16058,
           2879,
           96,
           6198,
           18863,
           85,
           26772,
           54288,
           18,
           339,
           20,
           3372,
           2218,
           24,
           203165,
           141,
           2100,
           773,
           181,
           15,
           315,
           122,
           2954,
           74781,
           143,
           399,
           37040,
           84029,
           13610,
           11,
           391,
           1242,
           830,
           1971,
           2221,
           1830,
           907,
           8351,
           10911,
           712,
           1284,
           16,
           11320,
           30502,
           10829,
           1112,
           583,
           39,
           1758,
           187,
           272,
           18,
           6145,
           178994,
           1104,
           23,
           667,
           174478,
           5530,
           2770,
           21,
           1518,
           2473,
           913,
           113,
           273,
           12,
           2318,
           3380,
           1802,
           81997,
           16006,
           114533,
           3143,
           23827,
           16579,
           223096,
           509,
           16120,
           586,
           5571,
           758,
           11018,
           944,
           11975,
           1082,
           19,
           962,
           886,
           1,
           215,
           64,
           82,
           1511,
           3915,
           9,
           230,
           63,
           6819,
           982,
           779,
           522,
           20,
           332,
           42595,
           5553,
           96,
           98,
           324,
           6607,
           115,
           16,
           249,
           43680,
           1498,
           25,
           876,
           5162,
           1723,
           8196,
           4341,
           35788,
           9118,
           8,
           754,
           80604,
           11876,
           17615,
           28319,
           28272,
           16247,
           252245,
           287,
           15,
           18,
           17,
           648,
           235,
           46869,
           2189,
           10374,
           11,
           408,
           26098,
           1477,
           1464,
           1284,
           12739,
           203,
           229540,
           925,
           1818,
           10,
           28582,
           30463,
           48,
           440,
           907,
           509,
           3018,
           24,
           238,
           116,
           1032,
           144749,
           1417774,
           160,
           16847,
           21084,
           234440,
           724,
           2645,
           455,
           312,
           375,
           6,
           85,
           654,
           37
          ],
          "coloraxis": "coloraxis",
          "size": [
           5639,
           898,
           6442,
           761,
           48,
           25,
           7134,
           3860,
           7019,
           16058,
           2879,
           96,
           6198,
           18863,
           85,
           26772,
           54288,
           18,
           339,
           20,
           3372,
           2218,
           24,
           203165,
           141,
           2100,
           773,
           181,
           15,
           315,
           122,
           2954,
           74781,
           143,
           399,
           37040,
           84029,
           13610,
           11,
           391,
           1242,
           830,
           1971,
           2221,
           1830,
           907,
           8351,
           10911,
           712,
           1284,
           16,
           11320,
           30502,
           10829,
           1112,
           583,
           39,
           1758,
           187,
           272,
           18,
           6145,
           178994,
           1104,
           23,
           667,
           174478,
           5530,
           2770,
           21,
           1518,
           2473,
           913,
           113,
           273,
           12,
           2318,
           3380,
           1802,
           81997,
           16006,
           114533,
           3143,
           23827,
           16579,
           223096,
           509,
           16120,
           586,
           5571,
           758,
           11018,
           944,
           11975,
           1082,
           19,
           962,
           886,
           1,
           215,
           64,
           82,
           1511,
           3915,
           9,
           230,
           63,
           6819,
           982,
           779,
           522,
           20,
           332,
           42595,
           5553,
           96,
           98,
           324,
           6607,
           115,
           16,
           249,
           43680,
           1498,
           25,
           876,
           5162,
           1723,
           8196,
           4341,
           35788,
           9118,
           8,
           754,
           80604,
           11876,
           17615,
           28319,
           28272,
           16247,
           252245,
           287,
           15,
           18,
           17,
           648,
           235,
           46869,
           2189,
           10374,
           11,
           408,
           26098,
           1477,
           1464,
           1284,
           12739,
           203,
           229540,
           925,
           1818,
           10,
           28582,
           30463,
           48,
           440,
           907,
           509,
           3018,
           24,
           238,
           116,
           1032,
           144749,
           1417774,
           160,
           16847,
           21084,
           234440,
           724,
           2645,
           455,
           312,
           375,
           6,
           85,
           654,
           37
          ],
          "sizemode": "area",
          "sizeref": 3544.435
         },
         "mode": "markers",
         "name": "",
         "showlegend": false,
         "subplot": "mapbox",
         "type": "scattermapbox"
        }
       ],
       "layout": {
        "coloraxis": {
         "colorbar": {
          "title": {
           "text": "ConfirmedCases"
          }
         },
         "colorscale": [
          [
           0,
           "#0d0887"
          ],
          [
           0.1111111111111111,
           "#46039f"
          ],
          [
           0.2222222222222222,
           "#7201a8"
          ],
          [
           0.3333333333333333,
           "#9c179e"
          ],
          [
           0.4444444444444444,
           "#bd3786"
          ],
          [
           0.5555555555555556,
           "#d8576b"
          ],
          [
           0.6666666666666666,
           "#ed7953"
          ],
          [
           0.7777777777777778,
           "#fb9f3a"
          ],
          [
           0.8888888888888888,
           "#fdca26"
          ],
          [
           1,
           "#f0f921"
          ]
         ]
        },
        "height": 500,
        "legend": {
         "itemsizing": "constant",
         "tracegroupgap": 0
        },
        "mapbox": {
         "center": {
          "lat": 29.922231718085104,
          "lon": 31.8897779893617
         },
         "domain": {
          "x": [
           0,
           1
          ],
          "y": [
           0,
           1
          ]
         },
         "style": "open-street-map",
         "zoom": 0.5
        },
        "margin": {
         "b": 0,
         "l": 0,
         "r": 0,
         "t": 0
        },
        "template": {
         "data": {
          "bar": [
           {
            "error_x": {
             "color": "#2a3f5f"
            },
            "error_y": {
             "color": "#2a3f5f"
            },
            "marker": {
             "line": {
              "color": "#E5ECF6",
              "width": 0.5
             }
            },
            "type": "bar"
           }
          ],
          "barpolar": [
           {
            "marker": {
             "line": {
              "color": "#E5ECF6",
              "width": 0.5
             }
            },
            "type": "barpolar"
           }
          ],
          "carpet": [
           {
            "aaxis": {
             "endlinecolor": "#2a3f5f",
             "gridcolor": "white",
             "linecolor": "white",
             "minorgridcolor": "white",
             "startlinecolor": "#2a3f5f"
            },
            "baxis": {
             "endlinecolor": "#2a3f5f",
             "gridcolor": "white",
             "linecolor": "white",
             "minorgridcolor": "white",
             "startlinecolor": "#2a3f5f"
            },
            "type": "carpet"
           }
          ],
          "choropleth": [
           {
            "colorbar": {
             "outlinewidth": 0,
             "ticks": ""
            },
            "type": "choropleth"
           }
          ],
          "contour": [
           {
            "colorbar": {
             "outlinewidth": 0,
             "ticks": ""
            },
            "colorscale": [
             [
              0,
              "#0d0887"
             ],
             [
              0.1111111111111111,
              "#46039f"
             ],
             [
              0.2222222222222222,
              "#7201a8"
             ],
             [
              0.3333333333333333,
              "#9c179e"
             ],
             [
              0.4444444444444444,
              "#bd3786"
             ],
             [
              0.5555555555555556,
              "#d8576b"
             ],
             [
              0.6666666666666666,
              "#ed7953"
             ],
             [
              0.7777777777777778,
              "#fb9f3a"
             ],
             [
              0.8888888888888888,
              "#fdca26"
             ],
             [
              1,
              "#f0f921"
             ]
            ],
            "type": "contour"
           }
          ],
          "contourcarpet": [
           {
            "colorbar": {
             "outlinewidth": 0,
             "ticks": ""
            },
            "type": "contourcarpet"
           }
          ],
          "heatmap": [
           {
            "colorbar": {
             "outlinewidth": 0,
             "ticks": ""
            },
            "colorscale": [
             [
              0,
              "#0d0887"
             ],
             [
              0.1111111111111111,
              "#46039f"
             ],
             [
              0.2222222222222222,
              "#7201a8"
             ],
             [
              0.3333333333333333,
              "#9c179e"
             ],
             [
              0.4444444444444444,
              "#bd3786"
             ],
             [
              0.5555555555555556,
              "#d8576b"
             ],
             [
              0.6666666666666666,
              "#ed7953"
             ],
             [
              0.7777777777777778,
              "#fb9f3a"
             ],
             [
              0.8888888888888888,
              "#fdca26"
             ],
             [
              1,
              "#f0f921"
             ]
            ],
            "type": "heatmap"
           }
          ],
          "heatmapgl": [
           {
            "colorbar": {
             "outlinewidth": 0,
             "ticks": ""
            },
            "colorscale": [
             [
              0,
              "#0d0887"
             ],
             [
              0.1111111111111111,
              "#46039f"
             ],
             [
              0.2222222222222222,
              "#7201a8"
             ],
             [
              0.3333333333333333,
              "#9c179e"
             ],
             [
              0.4444444444444444,
              "#bd3786"
             ],
             [
              0.5555555555555556,
              "#d8576b"
             ],
             [
              0.6666666666666666,
              "#ed7953"
             ],
             [
              0.7777777777777778,
              "#fb9f3a"
             ],
             [
              0.8888888888888888,
              "#fdca26"
             ],
             [
              1,
              "#f0f921"
             ]
            ],
            "type": "heatmapgl"
           }
          ],
          "histogram": [
           {
            "marker": {
             "colorbar": {
              "outlinewidth": 0,
              "ticks": ""
             }
            },
            "type": "histogram"
           }
          ],
          "histogram2d": [
           {
            "colorbar": {
             "outlinewidth": 0,
             "ticks": ""
            },
            "colorscale": [
             [
              0,
              "#0d0887"
             ],
             [
              0.1111111111111111,
              "#46039f"
             ],
             [
              0.2222222222222222,
              "#7201a8"
             ],
             [
              0.3333333333333333,
              "#9c179e"
             ],
             [
              0.4444444444444444,
              "#bd3786"
             ],
             [
              0.5555555555555556,
              "#d8576b"
             ],
             [
              0.6666666666666666,
              "#ed7953"
             ],
             [
              0.7777777777777778,
              "#fb9f3a"
             ],
             [
              0.8888888888888888,
              "#fdca26"
             ],
             [
              1,
              "#f0f921"
             ]
            ],
            "type": "histogram2d"
           }
          ],
          "histogram2dcontour": [
           {
            "colorbar": {
             "outlinewidth": 0,
             "ticks": ""
            },
            "colorscale": [
             [
              0,
              "#0d0887"
             ],
             [
              0.1111111111111111,
              "#46039f"
             ],
             [
              0.2222222222222222,
              "#7201a8"
             ],
             [
              0.3333333333333333,
              "#9c179e"
             ],
             [
              0.4444444444444444,
              "#bd3786"
             ],
             [
              0.5555555555555556,
              "#d8576b"
             ],
             [
              0.6666666666666666,
              "#ed7953"
             ],
             [
              0.7777777777777778,
              "#fb9f3a"
             ],
             [
              0.8888888888888888,
              "#fdca26"
             ],
             [
              1,
              "#f0f921"
             ]
            ],
            "type": "histogram2dcontour"
           }
          ],
          "mesh3d": [
           {
            "colorbar": {
             "outlinewidth": 0,
             "ticks": ""
            },
            "type": "mesh3d"
           }
          ],
          "parcoords": [
           {
            "line": {
             "colorbar": {
              "outlinewidth": 0,
              "ticks": ""
             }
            },
            "type": "parcoords"
           }
          ],
          "pie": [
           {
            "automargin": true,
            "type": "pie"
           }
          ],
          "scatter": [
           {
            "marker": {
             "colorbar": {
              "outlinewidth": 0,
              "ticks": ""
             }
            },
            "type": "scatter"
           }
          ],
          "scatter3d": [
           {
            "line": {
             "colorbar": {
              "outlinewidth": 0,
              "ticks": ""
             }
            },
            "marker": {
             "colorbar": {
              "outlinewidth": 0,
              "ticks": ""
             }
            },
            "type": "scatter3d"
           }
          ],
          "scattercarpet": [
           {
            "marker": {
             "colorbar": {
              "outlinewidth": 0,
              "ticks": ""
             }
            },
            "type": "scattercarpet"
           }
          ],
          "scattergeo": [
           {
            "marker": {
             "colorbar": {
              "outlinewidth": 0,
              "ticks": ""
             }
            },
            "type": "scattergeo"
           }
          ],
          "scattergl": [
           {
            "marker": {
             "colorbar": {
              "outlinewidth": 0,
              "ticks": ""
             }
            },
            "type": "scattergl"
           }
          ],
          "scattermapbox": [
           {
            "marker": {
             "colorbar": {
              "outlinewidth": 0,
              "ticks": ""
             }
            },
            "type": "scattermapbox"
           }
          ],
          "scatterpolar": [
           {
            "marker": {
             "colorbar": {
              "outlinewidth": 0,
              "ticks": ""
             }
            },
            "type": "scatterpolar"
           }
          ],
          "scatterpolargl": [
           {
            "marker": {
             "colorbar": {
              "outlinewidth": 0,
              "ticks": ""
             }
            },
            "type": "scatterpolargl"
           }
          ],
          "scatterternary": [
           {
            "marker": {
             "colorbar": {
              "outlinewidth": 0,
              "ticks": ""
             }
            },
            "type": "scatterternary"
           }
          ],
          "surface": [
           {
            "colorbar": {
             "outlinewidth": 0,
             "ticks": ""
            },
            "colorscale": [
             [
              0,
              "#0d0887"
             ],
             [
              0.1111111111111111,
              "#46039f"
             ],
             [
              0.2222222222222222,
              "#7201a8"
             ],
             [
              0.3333333333333333,
              "#9c179e"
             ],
             [
              0.4444444444444444,
              "#bd3786"
             ],
             [
              0.5555555555555556,
              "#d8576b"
             ],
             [
              0.6666666666666666,
              "#ed7953"
             ],
             [
              0.7777777777777778,
              "#fb9f3a"
             ],
             [
              0.8888888888888888,
              "#fdca26"
             ],
             [
              1,
              "#f0f921"
             ]
            ],
            "type": "surface"
           }
          ],
          "table": [
           {
            "cells": {
             "fill": {
              "color": "#EBF0F8"
             },
             "line": {
              "color": "white"
             }
            },
            "header": {
             "fill": {
              "color": "#C8D4E3"
             },
             "line": {
              "color": "white"
             }
            },
            "type": "table"
           }
          ]
         },
         "layout": {
          "annotationdefaults": {
           "arrowcolor": "#2a3f5f",
           "arrowhead": 0,
           "arrowwidth": 1
          },
          "coloraxis": {
           "colorbar": {
            "outlinewidth": 0,
            "ticks": ""
           }
          },
          "colorscale": {
           "diverging": [
            [
             0,
             "#8e0152"
            ],
            [
             0.1,
             "#c51b7d"
            ],
            [
             0.2,
             "#de77ae"
            ],
            [
             0.3,
             "#f1b6da"
            ],
            [
             0.4,
             "#fde0ef"
            ],
            [
             0.5,
             "#f7f7f7"
            ],
            [
             0.6,
             "#e6f5d0"
            ],
            [
             0.7,
             "#b8e186"
            ],
            [
             0.8,
             "#7fbc41"
            ],
            [
             0.9,
             "#4d9221"
            ],
            [
             1,
             "#276419"
            ]
           ],
           "sequential": [
            [
             0,
             "#0d0887"
            ],
            [
             0.1111111111111111,
             "#46039f"
            ],
            [
             0.2222222222222222,
             "#7201a8"
            ],
            [
             0.3333333333333333,
             "#9c179e"
            ],
            [
             0.4444444444444444,
             "#bd3786"
            ],
            [
             0.5555555555555556,
             "#d8576b"
            ],
            [
             0.6666666666666666,
             "#ed7953"
            ],
            [
             0.7777777777777778,
             "#fb9f3a"
            ],
            [
             0.8888888888888888,
             "#fdca26"
            ],
            [
             1,
             "#f0f921"
            ]
           ],
           "sequentialminus": [
            [
             0,
             "#0d0887"
            ],
            [
             0.1111111111111111,
             "#46039f"
            ],
            [
             0.2222222222222222,
             "#7201a8"
            ],
            [
             0.3333333333333333,
             "#9c179e"
            ],
            [
             0.4444444444444444,
             "#bd3786"
            ],
            [
             0.5555555555555556,
             "#d8576b"
            ],
            [
             0.6666666666666666,
             "#ed7953"
            ],
            [
             0.7777777777777778,
             "#fb9f3a"
            ],
            [
             0.8888888888888888,
             "#fdca26"
            ],
            [
             1,
             "#f0f921"
            ]
           ]
          },
          "colorway": [
           "#636efa",
           "#EF553B",
           "#00cc96",
           "#ab63fa",
           "#FFA15A",
           "#19d3f3",
           "#FF6692",
           "#B6E880",
           "#FF97FF",
           "#FECB52"
          ],
          "font": {
           "color": "#2a3f5f"
          },
          "geo": {
           "bgcolor": "white",
           "lakecolor": "white",
           "landcolor": "#E5ECF6",
           "showlakes": true,
           "showland": true,
           "subunitcolor": "white"
          },
          "hoverlabel": {
           "align": "left"
          },
          "hovermode": "closest",
          "mapbox": {
           "style": "light"
          },
          "paper_bgcolor": "white",
          "plot_bgcolor": "#E5ECF6",
          "polar": {
           "angularaxis": {
            "gridcolor": "white",
            "linecolor": "white",
            "ticks": ""
           },
           "bgcolor": "#E5ECF6",
           "radialaxis": {
            "gridcolor": "white",
            "linecolor": "white",
            "ticks": ""
           }
          },
          "scene": {
           "xaxis": {
            "backgroundcolor": "#E5ECF6",
            "gridcolor": "white",
            "gridwidth": 2,
            "linecolor": "white",
            "showbackground": true,
            "ticks": "",
            "zerolinecolor": "white"
           },
           "yaxis": {
            "backgroundcolor": "#E5ECF6",
            "gridcolor": "white",
            "gridwidth": 2,
            "linecolor": "white",
            "showbackground": true,
            "ticks": "",
            "zerolinecolor": "white"
           },
           "zaxis": {
            "backgroundcolor": "#E5ECF6",
            "gridcolor": "white",
            "gridwidth": 2,
            "linecolor": "white",
            "showbackground": true,
            "ticks": "",
            "zerolinecolor": "white"
           }
          },
          "shapedefaults": {
           "line": {
            "color": "#2a3f5f"
           }
          },
          "ternary": {
           "aaxis": {
            "gridcolor": "white",
            "linecolor": "white",
            "ticks": ""
           },
           "baxis": {
            "gridcolor": "white",
            "linecolor": "white",
            "ticks": ""
           },
           "bgcolor": "#E5ECF6",
           "caxis": {
            "gridcolor": "white",
            "linecolor": "white",
            "ticks": ""
           }
          },
          "title": {
           "x": 0.05
          },
          "xaxis": {
           "automargin": true,
           "gridcolor": "white",
           "linecolor": "white",
           "ticks": "",
           "title": {
            "standoff": 15
           },
           "zerolinecolor": "white",
           "zerolinewidth": 2
          },
          "yaxis": {
           "automargin": true,
           "gridcolor": "white",
           "linecolor": "white",
           "ticks": "",
           "title": {
            "standoff": 15
           },
           "zerolinecolor": "white",
           "zerolinewidth": 2
          }
         }
        },
        "width": 900
       }
      }
     },
     "metadata": {}
    }
   ],
   "source": [
    "c_fig = px.scatter_mapbox(table, lat=\"Lat\", lon=\"Long\", hover_name=\"Country/Region\", hover_data=[\"ConfirmedCases\"],\n",
    "                        color_discrete_sequence=[\"fuchsia\"], zoom=0.5, width=900, height=500, color=\"ConfirmedCases\", size=\"ConfirmedCases\")\n",
    "c_fig.update_layout(mapbox_style=\"open-street-map\")\n",
    "c_fig.update_layout(margin={\"r\":0,\"t\":0,\"l\":0,\"b\":0})\n",
    "c_fig.show()"
   ]
  },
  {
   "cell_type": "code",
   "execution_count": 8,
   "metadata": {},
   "outputs": [
    {
     "output_type": "display_data",
     "data": {
      "application/vnd.plotly.v1+json": {
       "config": {
        "plotlyServerURL": "https://plot.ly"
       },
       "data": [
        {
         "customdata": [
          [
           136
          ],
          [
           31
          ],
          [
           529
          ],
          [
           49
          ],
          [
           2
          ],
          [
           3
          ],
          [
           353
          ],
          [
           49
          ],
          [
           98
          ],
          [
           626
          ],
          [
           35
          ],
          [
           11
          ],
          [
           10
          ],
          [
           283
          ],
          [
           7
          ],
          [
           151
          ],
          [
           8903
          ],
          [
           2
          ],
          [
           2
          ],
          [
           0
          ],
          [
           152
          ],
          [
           122
          ],
          [
           1
          ],
          [
           13999
          ],
          [
           1
          ],
          [
           99
          ],
          [
           51
          ],
          [
           6
          ],
          [
           1
          ],
          [
           2
          ],
          [
           0
          ],
          [
           139
          ],
          [
           5592
          ],
          [
           0
          ],
          [
           46
          ],
          [
           368
          ],
          [
           4637
          ],
          [
           525
          ],
          [
           1
          ],
          [
           15
          ],
          [
           50
          ],
          [
           8
          ],
          [
           24
          ],
          [
           94
          ],
          [
           79
          ],
          [
           17
          ],
          [
           293
          ],
          [
           537
          ],
          [
           13
          ],
          [
           3
          ],
          [
           0
          ],
          [
           422
          ],
          [
           2338
          ],
          [
           571
          ],
          [
           23
          ],
          [
           7
          ],
          [
           0
          ],
          [
           62
          ],
          [
           2
          ],
          [
           5
          ],
          [
           0
          ],
          [
           287
          ],
          [
           27428
          ],
          [
           10
          ],
          [
           1
          ],
          [
           12
          ],
          [
           7884
          ],
          [
           24
          ],
          [
           156
          ],
          [
           0
          ],
          [
           29
          ],
          [
           15
          ],
          [
           3
          ],
          [
           10
          ],
          [
           20
          ],
          [
           0
          ],
          [
           133
          ],
          [
           436
          ],
          [
           10
          ],
          [
           2649
          ],
          [
           1043
          ],
          [
           6854
          ],
          [
           115
          ],
          [
           1506
          ],
          [
           265
          ],
          [
           31368
          ],
          [
           9
          ],
          [
           697
          ],
          [
           9
          ],
          [
           32
          ],
          [
           42
          ],
          [
           260
          ],
          [
           29
          ],
          [
           88
          ],
          [
           12
          ],
          [
           0
          ],
          [
           19
          ],
          [
           26
          ],
          [
           0
          ],
          [
           20
          ],
          [
           3
          ],
          [
           1
          ],
          [
           54
          ],
          [
           103
          ],
          [
           2
          ],
          [
           0
          ],
          [
           3
          ],
          [
           112
          ],
          [
           4
          ],
          [
           46
          ],
          [
           6
          ],
          [
           2
          ],
          [
           10
          ],
          [
           4477
          ],
          [
           194
          ],
          [
           4
          ],
          [
           0
          ],
          [
           9
          ],
          [
           190
          ],
          [
           0
          ],
          [
           0
          ],
          [
           0
          ],
          [
           5609
          ],
          [
           21
          ],
          [
           8
          ],
          [
           50
          ],
          [
           167
          ],
          [
           95
          ],
          [
           232
          ],
          [
           18
          ],
          [
           770
          ],
          [
           260
          ],
          [
           0
          ],
          [
           11
          ],
          [
           2267
          ],
          [
           790
          ],
          [
           883
          ],
          [
           1184
          ],
          [
           14
          ],
          [
           1053
          ],
          [
           2305
          ],
          [
           0
          ],
          [
           0
          ],
          [
           0
          ],
          [
           0
          ],
          [
           41
          ],
          [
           7
          ],
          [
           283
          ],
          [
           23
          ],
          [
           224
          ],
          [
           0
          ],
          [
           26
          ],
          [
           21
          ],
          [
           27
          ],
          [
           103
          ],
          [
           53
          ],
          [
           238
          ],
          [
           0
          ],
          [
           27321
          ],
          [
           9
          ],
          [
           90
          ],
          [
           1
          ],
          [
           3529
          ],
          [
           1872
          ],
          [
           3
          ],
          [
           7
          ],
          [
           29
          ],
          [
           21
          ],
          [
           56
          ],
          [
           0
          ],
          [
           11
          ],
          [
           8
          ],
          [
           45
          ],
          [
           4007
          ],
          [
           85898
          ],
          [
           0
          ],
          [
           456
          ],
          [
           208
          ],
          [
           33693
          ],
          [
           19
          ],
          [
           11
          ],
          [
           10
          ],
          [
           0
          ],
          [
           2
          ],
          [
           0
          ],
          [
           12
          ],
          [
           7
          ],
          [
           4
          ]
         ],
         "hovertemplate": "<b>%{hovertext}</b><br><br>DeathCases=%{marker.color}<br>Lat=%{lat}<br>Long=%{lon}<extra></extra>",
         "hovertext": [
          "Afghanistan",
          "Albania",
          "Algeria",
          "Andorra",
          "Angola",
          "Antigua and Barbuda",
          "Argentina",
          "Armenia",
          "Australia",
          "Austria",
          "Azerbaijan",
          "Bahamas",
          "Bahrain",
          "Bangladesh",
          "Barbados",
          "Belarus",
          "Belgium",
          "Belize",
          "Benin",
          "Bhutan",
          "Bolivia",
          "Bosnia and Herzegovina",
          "Botswana",
          "Brazil",
          "Brunei",
          "Bulgaria",
          "Burkina Faso",
          "Burma",
          "Burundi",
          "Cabo Verde",
          "Cambodia",
          "Cameroon",
          "Canada",
          "Central African Republic",
          "Chad",
          "Chile",
          "China",
          "Colombia",
          "Comoros",
          "Congo (Brazzaville)",
          "Congo (Kinshasa)",
          "Costa Rica",
          "Cote d'Ivoire",
          "Croatia",
          "Cuba",
          "Cyprus",
          "Czechia",
          "Denmark",
          "Diamond Princess",
          "Djibouti",
          "Dominica",
          "Dominican Republic",
          "Ecuador",
          "Egypt",
          "El Salvador",
          "Equatorial Guinea",
          "Eritrea",
          "Estonia",
          "Eswatini",
          "Ethiopia",
          "Fiji",
          "Finland",
          "France",
          "Gabon",
          "Gambia",
          "Georgia",
          "Germany",
          "Ghana",
          "Greece",
          "Grenada",
          "Guatemala",
          "Guinea",
          "Guinea-Bissau",
          "Guyana",
          "Haiti",
          "Holy See",
          "Honduras",
          "Hungary",
          "Iceland",
          "India",
          "Indonesia",
          "Iran",
          "Iraq",
          "Ireland",
          "Israel",
          "Italy",
          "Jamaica",
          "Japan",
          "Jordan",
          "Kazakhstan",
          "Kenya",
          "Korea, South",
          "Kosovo",
          "Kuwait",
          "Kyrgyzstan",
          "Laos",
          "Latvia",
          "Lebanon",
          "Lesotho",
          "Liberia",
          "Libya",
          "Liechtenstein",
          "Lithuania",
          "Luxembourg",
          "MS Zaandam",
          "Madagascar",
          "Malawi",
          "Malaysia",
          "Maldives",
          "Mali",
          "Malta",
          "Mauritania",
          "Mauritius",
          "Mexico",
          "Moldova",
          "Monaco",
          "Mongolia",
          "Montenegro",
          "Morocco",
          "Mozambique",
          "Namibia",
          "Nepal",
          "Netherlands",
          "New Zealand",
          "Nicaragua",
          "Niger",
          "Nigeria",
          "North Macedonia",
          "Norway",
          "Oman",
          "Pakistan",
          "Panama",
          "Papua New Guinea",
          "Paraguay",
          "Peru",
          "Philippines",
          "Poland",
          "Portugal",
          "Qatar",
          "Romania",
          "Russia",
          "Rwanda",
          "Saint Kitts and Nevis",
          "Saint Lucia",
          "Saint Vincent and the Grenadines",
          "San Marino",
          "Sao Tome and Principe",
          "Saudi Arabia",
          "Senegal",
          "Serbia",
          "Seychelles",
          "Sierra Leone",
          "Singapore",
          "Slovakia",
          "Slovenia",
          "Somalia",
          "South Africa",
          "South Sudan",
          "Spain",
          "Sri Lanka",
          "Sudan",
          "Suriname",
          "Sweden",
          "Switzerland",
          "Syria",
          "Taiwan*",
          "Tajikistan",
          "Tanzania",
          "Thailand",
          "Timor-Leste",
          "Togo",
          "Trinidad and Tobago",
          "Tunisia",
          "Turkey",
          "US",
          "Uganda",
          "Ukraine",
          "United Arab Emirates",
          "United Kingdom",
          "Uruguay",
          "Uzbekistan",
          "Venezuela",
          "Vietnam",
          "West Bank and Gaza",
          "Western Sahara",
          "Yemen",
          "Zambia",
          "Zimbabwe"
         ],
         "lat": [
          33,
          41.1533,
          28.0339,
          42.5063,
          -11.2027,
          17.0608,
          -38.4161,
          40.0691,
          -255.9695,
          47.5162,
          40.1431,
          25.0343,
          26.0275,
          23.685,
          13.1939,
          53.7098,
          50.8333,
          13.1939,
          9.3077,
          27.5142,
          -16.2902,
          43.9159,
          -22.3285,
          -14.235,
          4.5353,
          42.7339,
          12.2383,
          21.9162,
          -3.3731,
          16.5388,
          11.55,
          3.8480000000000003,
          671.7607,
          6.6111,
          15.4542,
          -35.6751,
          1083.3367,
          4.5709,
          -11.6455,
          -4.0383,
          -4.0383,
          9.7489,
          7.54,
          45.1,
          22,
          35.1264,
          49.8175,
          189.8634,
          0,
          11.8251,
          15.415,
          18.7357,
          -1.8312,
          26,
          13.7942,
          1.5,
          15.1794,
          58.5953,
          -26.5225,
          9.145,
          -17.7134,
          64,
          91.3624,
          -0.8037,
          13.4432,
          42.3154,
          51,
          7.9465,
          39.0742,
          12.1165,
          15.7835,
          9.9456,
          11.8037,
          5,
          18.9712,
          41.9029,
          15.2,
          47.1625,
          64.9631,
          21,
          -0.7893,
          32,
          33,
          53.1424,
          31,
          43,
          18.1096,
          36,
          31.24,
          48.0196,
          -0.0236,
          36,
          42.602636,
          29.5,
          41.2044,
          19.856270000000002,
          56.8796,
          33.8547,
          -29.609988,
          6.4281,
          26.3351,
          47.14,
          55.1694,
          49.8153,
          0,
          -18.7669,
          -13.254307999999998,
          2.5,
          3.2028,
          17.570692,
          35.9375,
          21.0079,
          -20.2,
          23.6345,
          47.4116,
          43.7333,
          46.8625,
          42.5,
          31.7917,
          -18.665695,
          -22.9576,
          28.1667,
          107.04169999999999,
          -40.9006,
          12.8654,
          17.6078,
          9.082,
          41.6086,
          60.472,
          21,
          30.3753,
          8.538,
          -6.315,
          -23.4425,
          -9.19,
          13,
          51.9194,
          39.3999,
          25.3548,
          45.9432,
          60,
          -1.9403,
          17.357822,
          13.9094,
          12.9843,
          43.9424,
          0.18636,
          24,
          14.4974,
          44.0165,
          -4.6796,
          8.460555000000001,
          1.2833,
          48.669,
          46.1512,
          5.1521,
          -30.5595,
          6.8770000000000024,
          40,
          7,
          12.8628,
          3.9193,
          63,
          46.8182,
          34.802075,
          23.7,
          38.861034000000004,
          -6.369,
          15,
          -8.874217,
          8.6195,
          10.6918,
          34,
          38.9637,
          37.0902,
          1,
          48.3794,
          24,
          270.0299,
          -32.5228,
          41.3775,
          6.4238,
          16,
          31.9522,
          24.2155,
          15.552726999999999,
          -15.4167,
          -20
         ],
         "legendgroup": "",
         "lon": [
          65,
          20.1683,
          1.6596,
          1.5218,
          17.8739,
          -61.7964,
          -63.6167,
          45.0382,
          1129.8623,
          14.5501,
          47.5769,
          -77.3963,
          50.55,
          90.3563,
          -59.5432,
          27.9534,
          4,
          -59.5432,
          2.3158,
          90.4336,
          -63.5887,
          17.6791,
          24.6849,
          -51.9253,
          114.7277,
          25.4858,
          -1.5616,
          95.956,
          29.9189,
          -23.0418,
          104.9167,
          11.5021,
          -1237.6289,
          20.9394,
          18.7322,
          -71.543,
          3684.4197000000004,
          -74.2973,
          43.3333,
          21.7587,
          21.7587,
          -83.7534,
          -5.5471,
          15.2,
          -80,
          33.4299,
          15.472999999999999,
          -40.014300000000006,
          0,
          42.5903,
          -61.371,
          -70.1627,
          -78.1834,
          30,
          -88.8965,
          10,
          39.7823,
          25.0136,
          31.4659,
          40.4897,
          178.065,
          26,
          59.71919999999999,
          11.6094,
          -15.3101,
          43.3569,
          9,
          -1.0232,
          21.8243,
          -61.678999999999995,
          -90.2308,
          -9.6966,
          -15.1804,
          -58.75,
          -72.2852,
          12.4534,
          -86.2419,
          19.5033,
          -19.0208,
          78,
          113.9213,
          53,
          44,
          -7.6921,
          35,
          12,
          -77.2975,
          138,
          36.51,
          66.9237,
          37.9062,
          128,
          20.902977,
          47.75,
          74.7661,
          102.495496,
          24.6032,
          35.8623,
          28.233608,
          -9.4295,
          17.228331,
          9.55,
          23.8813,
          6.1296,
          0,
          46.8691,
          34.301525,
          112.5,
          73.2207,
          -3.996166000000001,
          14.3754,
          10.9408,
          57.5,
          -102.5528,
          28.3699,
          7.4167,
          103.8467,
          19.3,
          -7.0926,
          35.529562,
          18.4904,
          84.25,
          -265.0278,
          174.886,
          -85.2072,
          8.0817,
          8.6753,
          21.7453,
          8.4689,
          57,
          69.3451,
          -80.7821,
          143.9555,
          -58.4438,
          -75.0152,
          122,
          19.1451,
          -8.2245,
          51.1839,
          24.9668,
          90,
          29.8739,
          -62.782998,
          -60.9789,
          -61.2872,
          12.4578,
          6.613081,
          45,
          -14.4524,
          21.0059,
          55.492,
          -11.779889,
          103.8333,
          19.699,
          14.9955,
          46.1996,
          22.9375,
          31.307,
          -4,
          81,
          30.2176,
          -56.0278,
          16,
          8.2275,
          38.99681500000001,
          121,
          71.276093,
          34.8888,
          101,
          125.727539,
          0.8248,
          -61.2225,
          9,
          35.2433,
          -95.7129,
          32,
          31.1656,
          54,
          -482.92470000000003,
          -55.7658,
          64.5853,
          -66.5897,
          108,
          35.2332,
          -12.8858,
          48.516388,
          28.2833,
          30
         ],
         "marker": {
          "color": [
           136,
           31,
           529,
           49,
           2,
           3,
           353,
           49,
           98,
           626,
           35,
           11,
           10,
           283,
           7,
           151,
           8903,
           2,
           2,
           0,
           152,
           122,
           1,
           13999,
           1,
           99,
           51,
           6,
           1,
           2,
           0,
           139,
           5592,
           0,
           46,
           368,
           4637,
           525,
           1,
           15,
           50,
           8,
           24,
           94,
           79,
           17,
           293,
           537,
           13,
           3,
           0,
           422,
           2338,
           571,
           23,
           7,
           0,
           62,
           2,
           5,
           0,
           287,
           27428,
           10,
           1,
           12,
           7884,
           24,
           156,
           0,
           29,
           15,
           3,
           10,
           20,
           0,
           133,
           436,
           10,
           2649,
           1043,
           6854,
           115,
           1506,
           265,
           31368,
           9,
           697,
           9,
           32,
           42,
           260,
           29,
           88,
           12,
           0,
           19,
           26,
           0,
           20,
           3,
           1,
           54,
           103,
           2,
           0,
           3,
           112,
           4,
           46,
           6,
           2,
           10,
           4477,
           194,
           4,
           0,
           9,
           190,
           0,
           0,
           0,
           5609,
           21,
           8,
           50,
           167,
           95,
           232,
           18,
           770,
           260,
           0,
           11,
           2267,
           790,
           883,
           1184,
           14,
           1053,
           2305,
           0,
           0,
           0,
           0,
           41,
           7,
           283,
           23,
           224,
           0,
           26,
           21,
           27,
           103,
           53,
           238,
           0,
           27321,
           9,
           90,
           1,
           3529,
           1872,
           3,
           7,
           29,
           21,
           56,
           0,
           11,
           8,
           45,
           4007,
           85898,
           0,
           456,
           208,
           33693,
           19,
           11,
           10,
           0,
           2,
           0,
           12,
           7,
           4
          ],
          "coloraxis": "coloraxis",
          "size": [
           136,
           31,
           529,
           49,
           2,
           3,
           353,
           49,
           98,
           626,
           35,
           11,
           10,
           283,
           7,
           151,
           8903,
           2,
           2,
           0,
           152,
           122,
           1,
           13999,
           1,
           99,
           51,
           6,
           1,
           2,
           0,
           139,
           5592,
           0,
           46,
           368,
           4637,
           525,
           1,
           15,
           50,
           8,
           24,
           94,
           79,
           17,
           293,
           537,
           13,
           3,
           0,
           422,
           2338,
           571,
           23,
           7,
           0,
           62,
           2,
           5,
           0,
           287,
           27428,
           10,
           1,
           12,
           7884,
           24,
           156,
           0,
           29,
           15,
           3,
           10,
           20,
           0,
           133,
           436,
           10,
           2649,
           1043,
           6854,
           115,
           1506,
           265,
           31368,
           9,
           697,
           9,
           32,
           42,
           260,
           29,
           88,
           12,
           0,
           19,
           26,
           0,
           20,
           3,
           1,
           54,
           103,
           2,
           0,
           3,
           112,
           4,
           46,
           6,
           2,
           10,
           4477,
           194,
           4,
           0,
           9,
           190,
           0,
           0,
           0,
           5609,
           21,
           8,
           50,
           167,
           95,
           232,
           18,
           770,
           260,
           0,
           11,
           2267,
           790,
           883,
           1184,
           14,
           1053,
           2305,
           0,
           0,
           0,
           0,
           41,
           7,
           283,
           23,
           224,
           0,
           26,
           21,
           27,
           103,
           53,
           238,
           0,
           27321,
           9,
           90,
           1,
           3529,
           1872,
           3,
           7,
           29,
           21,
           56,
           0,
           11,
           8,
           45,
           4007,
           85898,
           0,
           456,
           208,
           33693,
           19,
           11,
           10,
           0,
           2,
           0,
           12,
           7,
           4
          ],
          "sizemode": "area",
          "sizeref": 214.745
         },
         "mode": "markers",
         "name": "",
         "showlegend": false,
         "subplot": "mapbox",
         "type": "scattermapbox"
        }
       ],
       "layout": {
        "coloraxis": {
         "colorbar": {
          "title": {
           "text": "DeathCases"
          }
         },
         "colorscale": [
          [
           0,
           "#0d0887"
          ],
          [
           0.1111111111111111,
           "#46039f"
          ],
          [
           0.2222222222222222,
           "#7201a8"
          ],
          [
           0.3333333333333333,
           "#9c179e"
          ],
          [
           0.4444444444444444,
           "#bd3786"
          ],
          [
           0.5555555555555556,
           "#d8576b"
          ],
          [
           0.6666666666666666,
           "#ed7953"
          ],
          [
           0.7777777777777778,
           "#fb9f3a"
          ],
          [
           0.8888888888888888,
           "#fdca26"
          ],
          [
           1,
           "#f0f921"
          ]
         ]
        },
        "height": 500,
        "legend": {
         "itemsizing": "constant",
         "tracegroupgap": 0
        },
        "mapbox": {
         "center": {
          "lat": 29.922231718085104,
          "lon": 31.8897779893617
         },
         "domain": {
          "x": [
           0,
           1
          ],
          "y": [
           0,
           1
          ]
         },
         "style": "open-street-map",
         "zoom": 0.5
        },
        "margin": {
         "b": 0,
         "l": 0,
         "r": 0,
         "t": 0
        },
        "template": {
         "data": {
          "bar": [
           {
            "error_x": {
             "color": "#2a3f5f"
            },
            "error_y": {
             "color": "#2a3f5f"
            },
            "marker": {
             "line": {
              "color": "#E5ECF6",
              "width": 0.5
             }
            },
            "type": "bar"
           }
          ],
          "barpolar": [
           {
            "marker": {
             "line": {
              "color": "#E5ECF6",
              "width": 0.5
             }
            },
            "type": "barpolar"
           }
          ],
          "carpet": [
           {
            "aaxis": {
             "endlinecolor": "#2a3f5f",
             "gridcolor": "white",
             "linecolor": "white",
             "minorgridcolor": "white",
             "startlinecolor": "#2a3f5f"
            },
            "baxis": {
             "endlinecolor": "#2a3f5f",
             "gridcolor": "white",
             "linecolor": "white",
             "minorgridcolor": "white",
             "startlinecolor": "#2a3f5f"
            },
            "type": "carpet"
           }
          ],
          "choropleth": [
           {
            "colorbar": {
             "outlinewidth": 0,
             "ticks": ""
            },
            "type": "choropleth"
           }
          ],
          "contour": [
           {
            "colorbar": {
             "outlinewidth": 0,
             "ticks": ""
            },
            "colorscale": [
             [
              0,
              "#0d0887"
             ],
             [
              0.1111111111111111,
              "#46039f"
             ],
             [
              0.2222222222222222,
              "#7201a8"
             ],
             [
              0.3333333333333333,
              "#9c179e"
             ],
             [
              0.4444444444444444,
              "#bd3786"
             ],
             [
              0.5555555555555556,
              "#d8576b"
             ],
             [
              0.6666666666666666,
              "#ed7953"
             ],
             [
              0.7777777777777778,
              "#fb9f3a"
             ],
             [
              0.8888888888888888,
              "#fdca26"
             ],
             [
              1,
              "#f0f921"
             ]
            ],
            "type": "contour"
           }
          ],
          "contourcarpet": [
           {
            "colorbar": {
             "outlinewidth": 0,
             "ticks": ""
            },
            "type": "contourcarpet"
           }
          ],
          "heatmap": [
           {
            "colorbar": {
             "outlinewidth": 0,
             "ticks": ""
            },
            "colorscale": [
             [
              0,
              "#0d0887"
             ],
             [
              0.1111111111111111,
              "#46039f"
             ],
             [
              0.2222222222222222,
              "#7201a8"
             ],
             [
              0.3333333333333333,
              "#9c179e"
             ],
             [
              0.4444444444444444,
              "#bd3786"
             ],
             [
              0.5555555555555556,
              "#d8576b"
             ],
             [
              0.6666666666666666,
              "#ed7953"
             ],
             [
              0.7777777777777778,
              "#fb9f3a"
             ],
             [
              0.8888888888888888,
              "#fdca26"
             ],
             [
              1,
              "#f0f921"
             ]
            ],
            "type": "heatmap"
           }
          ],
          "heatmapgl": [
           {
            "colorbar": {
             "outlinewidth": 0,
             "ticks": ""
            },
            "colorscale": [
             [
              0,
              "#0d0887"
             ],
             [
              0.1111111111111111,
              "#46039f"
             ],
             [
              0.2222222222222222,
              "#7201a8"
             ],
             [
              0.3333333333333333,
              "#9c179e"
             ],
             [
              0.4444444444444444,
              "#bd3786"
             ],
             [
              0.5555555555555556,
              "#d8576b"
             ],
             [
              0.6666666666666666,
              "#ed7953"
             ],
             [
              0.7777777777777778,
              "#fb9f3a"
             ],
             [
              0.8888888888888888,
              "#fdca26"
             ],
             [
              1,
              "#f0f921"
             ]
            ],
            "type": "heatmapgl"
           }
          ],
          "histogram": [
           {
            "marker": {
             "colorbar": {
              "outlinewidth": 0,
              "ticks": ""
             }
            },
            "type": "histogram"
           }
          ],
          "histogram2d": [
           {
            "colorbar": {
             "outlinewidth": 0,
             "ticks": ""
            },
            "colorscale": [
             [
              0,
              "#0d0887"
             ],
             [
              0.1111111111111111,
              "#46039f"
             ],
             [
              0.2222222222222222,
              "#7201a8"
             ],
             [
              0.3333333333333333,
              "#9c179e"
             ],
             [
              0.4444444444444444,
              "#bd3786"
             ],
             [
              0.5555555555555556,
              "#d8576b"
             ],
             [
              0.6666666666666666,
              "#ed7953"
             ],
             [
              0.7777777777777778,
              "#fb9f3a"
             ],
             [
              0.8888888888888888,
              "#fdca26"
             ],
             [
              1,
              "#f0f921"
             ]
            ],
            "type": "histogram2d"
           }
          ],
          "histogram2dcontour": [
           {
            "colorbar": {
             "outlinewidth": 0,
             "ticks": ""
            },
            "colorscale": [
             [
              0,
              "#0d0887"
             ],
             [
              0.1111111111111111,
              "#46039f"
             ],
             [
              0.2222222222222222,
              "#7201a8"
             ],
             [
              0.3333333333333333,
              "#9c179e"
             ],
             [
              0.4444444444444444,
              "#bd3786"
             ],
             [
              0.5555555555555556,
              "#d8576b"
             ],
             [
              0.6666666666666666,
              "#ed7953"
             ],
             [
              0.7777777777777778,
              "#fb9f3a"
             ],
             [
              0.8888888888888888,
              "#fdca26"
             ],
             [
              1,
              "#f0f921"
             ]
            ],
            "type": "histogram2dcontour"
           }
          ],
          "mesh3d": [
           {
            "colorbar": {
             "outlinewidth": 0,
             "ticks": ""
            },
            "type": "mesh3d"
           }
          ],
          "parcoords": [
           {
            "line": {
             "colorbar": {
              "outlinewidth": 0,
              "ticks": ""
             }
            },
            "type": "parcoords"
           }
          ],
          "pie": [
           {
            "automargin": true,
            "type": "pie"
           }
          ],
          "scatter": [
           {
            "marker": {
             "colorbar": {
              "outlinewidth": 0,
              "ticks": ""
             }
            },
            "type": "scatter"
           }
          ],
          "scatter3d": [
           {
            "line": {
             "colorbar": {
              "outlinewidth": 0,
              "ticks": ""
             }
            },
            "marker": {
             "colorbar": {
              "outlinewidth": 0,
              "ticks": ""
             }
            },
            "type": "scatter3d"
           }
          ],
          "scattercarpet": [
           {
            "marker": {
             "colorbar": {
              "outlinewidth": 0,
              "ticks": ""
             }
            },
            "type": "scattercarpet"
           }
          ],
          "scattergeo": [
           {
            "marker": {
             "colorbar": {
              "outlinewidth": 0,
              "ticks": ""
             }
            },
            "type": "scattergeo"
           }
          ],
          "scattergl": [
           {
            "marker": {
             "colorbar": {
              "outlinewidth": 0,
              "ticks": ""
             }
            },
            "type": "scattergl"
           }
          ],
          "scattermapbox": [
           {
            "marker": {
             "colorbar": {
              "outlinewidth": 0,
              "ticks": ""
             }
            },
            "type": "scattermapbox"
           }
          ],
          "scatterpolar": [
           {
            "marker": {
             "colorbar": {
              "outlinewidth": 0,
              "ticks": ""
             }
            },
            "type": "scatterpolar"
           }
          ],
          "scatterpolargl": [
           {
            "marker": {
             "colorbar": {
              "outlinewidth": 0,
              "ticks": ""
             }
            },
            "type": "scatterpolargl"
           }
          ],
          "scatterternary": [
           {
            "marker": {
             "colorbar": {
              "outlinewidth": 0,
              "ticks": ""
             }
            },
            "type": "scatterternary"
           }
          ],
          "surface": [
           {
            "colorbar": {
             "outlinewidth": 0,
             "ticks": ""
            },
            "colorscale": [
             [
              0,
              "#0d0887"
             ],
             [
              0.1111111111111111,
              "#46039f"
             ],
             [
              0.2222222222222222,
              "#7201a8"
             ],
             [
              0.3333333333333333,
              "#9c179e"
             ],
             [
              0.4444444444444444,
              "#bd3786"
             ],
             [
              0.5555555555555556,
              "#d8576b"
             ],
             [
              0.6666666666666666,
              "#ed7953"
             ],
             [
              0.7777777777777778,
              "#fb9f3a"
             ],
             [
              0.8888888888888888,
              "#fdca26"
             ],
             [
              1,
              "#f0f921"
             ]
            ],
            "type": "surface"
           }
          ],
          "table": [
           {
            "cells": {
             "fill": {
              "color": "#EBF0F8"
             },
             "line": {
              "color": "white"
             }
            },
            "header": {
             "fill": {
              "color": "#C8D4E3"
             },
             "line": {
              "color": "white"
             }
            },
            "type": "table"
           }
          ]
         },
         "layout": {
          "annotationdefaults": {
           "arrowcolor": "#2a3f5f",
           "arrowhead": 0,
           "arrowwidth": 1
          },
          "coloraxis": {
           "colorbar": {
            "outlinewidth": 0,
            "ticks": ""
           }
          },
          "colorscale": {
           "diverging": [
            [
             0,
             "#8e0152"
            ],
            [
             0.1,
             "#c51b7d"
            ],
            [
             0.2,
             "#de77ae"
            ],
            [
             0.3,
             "#f1b6da"
            ],
            [
             0.4,
             "#fde0ef"
            ],
            [
             0.5,
             "#f7f7f7"
            ],
            [
             0.6,
             "#e6f5d0"
            ],
            [
             0.7,
             "#b8e186"
            ],
            [
             0.8,
             "#7fbc41"
            ],
            [
             0.9,
             "#4d9221"
            ],
            [
             1,
             "#276419"
            ]
           ],
           "sequential": [
            [
             0,
             "#0d0887"
            ],
            [
             0.1111111111111111,
             "#46039f"
            ],
            [
             0.2222222222222222,
             "#7201a8"
            ],
            [
             0.3333333333333333,
             "#9c179e"
            ],
            [
             0.4444444444444444,
             "#bd3786"
            ],
            [
             0.5555555555555556,
             "#d8576b"
            ],
            [
             0.6666666666666666,
             "#ed7953"
            ],
            [
             0.7777777777777778,
             "#fb9f3a"
            ],
            [
             0.8888888888888888,
             "#fdca26"
            ],
            [
             1,
             "#f0f921"
            ]
           ],
           "sequentialminus": [
            [
             0,
             "#0d0887"
            ],
            [
             0.1111111111111111,
             "#46039f"
            ],
            [
             0.2222222222222222,
             "#7201a8"
            ],
            [
             0.3333333333333333,
             "#9c179e"
            ],
            [
             0.4444444444444444,
             "#bd3786"
            ],
            [
             0.5555555555555556,
             "#d8576b"
            ],
            [
             0.6666666666666666,
             "#ed7953"
            ],
            [
             0.7777777777777778,
             "#fb9f3a"
            ],
            [
             0.8888888888888888,
             "#fdca26"
            ],
            [
             1,
             "#f0f921"
            ]
           ]
          },
          "colorway": [
           "#636efa",
           "#EF553B",
           "#00cc96",
           "#ab63fa",
           "#FFA15A",
           "#19d3f3",
           "#FF6692",
           "#B6E880",
           "#FF97FF",
           "#FECB52"
          ],
          "font": {
           "color": "#2a3f5f"
          },
          "geo": {
           "bgcolor": "white",
           "lakecolor": "white",
           "landcolor": "#E5ECF6",
           "showlakes": true,
           "showland": true,
           "subunitcolor": "white"
          },
          "hoverlabel": {
           "align": "left"
          },
          "hovermode": "closest",
          "mapbox": {
           "style": "light"
          },
          "paper_bgcolor": "white",
          "plot_bgcolor": "#E5ECF6",
          "polar": {
           "angularaxis": {
            "gridcolor": "white",
            "linecolor": "white",
            "ticks": ""
           },
           "bgcolor": "#E5ECF6",
           "radialaxis": {
            "gridcolor": "white",
            "linecolor": "white",
            "ticks": ""
           }
          },
          "scene": {
           "xaxis": {
            "backgroundcolor": "#E5ECF6",
            "gridcolor": "white",
            "gridwidth": 2,
            "linecolor": "white",
            "showbackground": true,
            "ticks": "",
            "zerolinecolor": "white"
           },
           "yaxis": {
            "backgroundcolor": "#E5ECF6",
            "gridcolor": "white",
            "gridwidth": 2,
            "linecolor": "white",
            "showbackground": true,
            "ticks": "",
            "zerolinecolor": "white"
           },
           "zaxis": {
            "backgroundcolor": "#E5ECF6",
            "gridcolor": "white",
            "gridwidth": 2,
            "linecolor": "white",
            "showbackground": true,
            "ticks": "",
            "zerolinecolor": "white"
           }
          },
          "shapedefaults": {
           "line": {
            "color": "#2a3f5f"
           }
          },
          "ternary": {
           "aaxis": {
            "gridcolor": "white",
            "linecolor": "white",
            "ticks": ""
           },
           "baxis": {
            "gridcolor": "white",
            "linecolor": "white",
            "ticks": ""
           },
           "bgcolor": "#E5ECF6",
           "caxis": {
            "gridcolor": "white",
            "linecolor": "white",
            "ticks": ""
           }
          },
          "title": {
           "x": 0.05
          },
          "xaxis": {
           "automargin": true,
           "gridcolor": "white",
           "linecolor": "white",
           "ticks": "",
           "title": {
            "standoff": 15
           },
           "zerolinecolor": "white",
           "zerolinewidth": 2
          },
          "yaxis": {
           "automargin": true,
           "gridcolor": "white",
           "linecolor": "white",
           "ticks": "",
           "title": {
            "standoff": 15
           },
           "zerolinecolor": "white",
           "zerolinewidth": 2
          }
         }
        },
        "width": 900
       }
      }
     },
     "metadata": {}
    }
   ],
   "source": [
    "d_fig = px.scatter_mapbox(table, lat=\"Lat\", lon=\"Long\", hover_name=\"Country/Region\", hover_data=[\"DeathCases\"],\n",
    "                        color_discrete_sequence=[\"fuchsia\"], zoom=0.5, width=900, height=500, color=\"DeathCases\", size=\"DeathCases\")\n",
    "d_fig.update_layout(mapbox_style=\"open-street-map\")\n",
    "d_fig.update_layout(margin={\"r\":0,\"t\":0,\"l\":0,\"b\":0})\n",
    "d_fig.show()"
   ]
  },
  {
   "cell_type": "code",
   "execution_count": 9,
   "metadata": {},
   "outputs": [
    {
     "output_type": "display_data",
     "data": {
      "application/vnd.plotly.v1+json": {
       "config": {
        "plotlyServerURL": "https://plot.ly"
       },
       "data": [
        {
         "customdata": [
          [
           691
          ],
          [
           694
          ],
          [
           3158
          ],
          [
           596
          ],
          [
           14
          ],
          [
           19
          ],
          [
           2385
          ],
          [
           1572
          ],
          [
           6334
          ],
          [
           14405
          ],
          [
           1833
          ],
          [
           41
          ],
          [
           2353
          ],
          [
           3361
          ],
          [
           65
          ],
          [
           8168
          ],
          [
           14111
          ],
          [
           16
          ],
          [
           83
          ],
          [
           5
          ],
          [
           356
          ],
          [
           1272
          ],
          [
           17
          ],
          [
           79479
          ],
          [
           134
          ],
          [
           531
          ],
          [
           592
          ],
          [
           84
          ],
          [
           7
          ],
          [
           67
          ],
          [
           121
          ],
          [
           1553
          ],
          [
           36104
          ],
          [
           10
          ],
          [
           83
          ],
          [
           15655
          ],
          [
           79261
          ],
          [
           3358
          ],
          [
           3
          ],
          [
           87
          ],
          [
           157
          ],
          [
           535
          ],
          [
           930
          ],
          [
           1850
          ],
          [
           1383
          ],
          [
           481
          ],
          [
           5241
          ],
          [
           9003
          ],
          [
           651
          ],
          [
           905
          ],
          [
           15
          ],
          [
           3351
          ],
          [
           3433
          ],
          [
           2626
          ],
          [
           405
          ],
          [
           13
          ],
          [
           38
          ],
          [
           909
          ],
          [
           51
          ],
          [
           108
          ],
          [
           14
          ],
          [
           4300
          ],
          [
           59719
          ],
          [
           182
          ],
          [
           10
          ],
          [
           383
          ],
          [
           150300
          ],
          [
           674
          ],
          [
           1374
          ],
          [
           14
          ],
          [
           129
          ],
          [
           895
          ],
          [
           26
          ],
          [
           42
          ],
          [
           18
          ],
          [
           2
          ],
          [
           253
          ],
          [
           1169
          ],
          [
           1780
          ],
          [
           27969
          ],
          [
           3518
          ],
          [
           90539
          ],
          [
           2028
          ],
          [
           19470
          ],
          [
           12521
          ],
          [
           115288
          ],
          [
           118
          ],
          [
           9868
          ],
          [
           393
          ],
          [
           2531
          ],
          [
           284
          ],
          [
           9821
          ],
          [
           690
          ],
          [
           3451
          ],
          [
           735
          ],
          [
           14
          ],
          [
           627
          ],
          [
           236
          ],
          [
           0
          ],
          [
           105
          ],
          [
           28
          ],
          [
           55
          ],
          [
           934
          ],
          [
           3665
          ],
          [
           0
          ],
          [
           108
          ],
          [
           24
          ],
          [
           5351
          ],
          [
           45
          ],
          [
           436
          ],
          [
           443
          ],
          [
           7
          ],
          [
           322
          ],
          [
           28475
          ],
          [
           2228
          ],
          [
           87
          ],
          [
           15
          ],
          [
           309
          ],
          [
           3310
          ],
          [
           35
          ],
          [
           12
          ],
          [
           35
          ],
          [
           159
          ],
          [
           1421
          ],
          [
           7
          ],
          [
           677
          ],
          [
           1180
          ],
          [
           1235
          ],
          [
           32
          ],
          [
           1303
          ],
          [
           9695
          ],
          [
           6080
          ],
          [
           8
          ],
          [
           184
          ],
          [
           25151
          ],
          [
           2337
          ],
          [
           6696
          ],
          [
           3198
          ],
          [
           3356
          ],
          [
           9053
          ],
          [
           53530
          ],
          [
           168
          ],
          [
           14
          ],
          [
           18
          ],
          [
           12
          ],
          [
           172
          ],
          [
           4
          ],
          [
           19051
          ],
          [
           842
          ],
          [
           4084
          ],
          [
           10
          ],
          [
           97
          ],
          [
           5973
          ],
          [
           1112
          ],
          [
           267
          ],
          [
           135
          ],
          [
           5676
          ],
          [
           3
          ],
          [
           143374
          ],
          [
           445
          ],
          [
           198
          ],
          [
           9
          ],
          [
           4971
          ],
          [
           27100
          ],
          [
           29
          ],
          [
           383
          ],
          [
           0
          ],
          [
           183
          ],
          [
           2850
          ],
          [
           21
          ],
          [
           96
          ],
          [
           107
          ],
          [
           770
          ],
          [
           104030
          ],
          [
           246414
          ],
          [
           63
          ],
          [
           4143
          ],
          [
           6930
          ],
          [
           1043
          ],
          [
           547
          ],
          [
           2136
          ],
          [
           220
          ],
          [
           260
          ],
          [
           310
          ],
          [
           6
          ],
          [
           1
          ],
          [
           124
          ],
          [
           13
          ]
         ],
         "hovertemplate": "<b>%{hovertext}</b><br><br>RecoveredCases=%{marker.color}<br>Lat=%{lat}<br>Long=%{lon}<extra></extra>",
         "hovertext": [
          "Afghanistan",
          "Albania",
          "Algeria",
          "Andorra",
          "Angola",
          "Antigua and Barbuda",
          "Argentina",
          "Armenia",
          "Australia",
          "Austria",
          "Azerbaijan",
          "Bahamas",
          "Bahrain",
          "Bangladesh",
          "Barbados",
          "Belarus",
          "Belgium",
          "Belize",
          "Benin",
          "Bhutan",
          "Bolivia",
          "Bosnia and Herzegovina",
          "Botswana",
          "Brazil",
          "Brunei",
          "Bulgaria",
          "Burkina Faso",
          "Burma",
          "Burundi",
          "Cabo Verde",
          "Cambodia",
          "Cameroon",
          "Canada",
          "Central African Republic",
          "Chad",
          "Chile",
          "China",
          "Colombia",
          "Comoros",
          "Congo (Brazzaville)",
          "Congo (Kinshasa)",
          "Costa Rica",
          "Cote d'Ivoire",
          "Croatia",
          "Cuba",
          "Cyprus",
          "Czechia",
          "Denmark",
          "Diamond Princess",
          "Djibouti",
          "Dominica",
          "Dominican Republic",
          "Ecuador",
          "Egypt",
          "El Salvador",
          "Equatorial Guinea",
          "Eritrea",
          "Estonia",
          "Eswatini",
          "Ethiopia",
          "Fiji",
          "Finland",
          "France",
          "Gabon",
          "Gambia",
          "Georgia",
          "Germany",
          "Ghana",
          "Greece",
          "Grenada",
          "Guatemala",
          "Guinea",
          "Guinea-Bissau",
          "Guyana",
          "Haiti",
          "Holy See",
          "Honduras",
          "Hungary",
          "Iceland",
          "India",
          "Indonesia",
          "Iran",
          "Iraq",
          "Ireland",
          "Israel",
          "Italy",
          "Jamaica",
          "Japan",
          "Jordan",
          "Kazakhstan",
          "Kenya",
          "Korea, South",
          "Kosovo",
          "Kuwait",
          "Kyrgyzstan",
          "Laos",
          "Latvia",
          "Lebanon",
          "Lesotho",
          "Liberia",
          "Libya",
          "Liechtenstein",
          "Lithuania",
          "Luxembourg",
          "MS Zaandam",
          "Madagascar",
          "Malawi",
          "Malaysia",
          "Maldives",
          "Mali",
          "Malta",
          "Mauritania",
          "Mauritius",
          "Mexico",
          "Moldova",
          "Monaco",
          "Mongolia",
          "Montenegro",
          "Morocco",
          "Mozambique",
          "Namibia",
          "Nepal",
          "Netherlands",
          "New Zealand",
          "Nicaragua",
          "Niger",
          "Nigeria",
          "North Macedonia",
          "Norway",
          "Oman",
          "Pakistan",
          "Panama",
          "Papua New Guinea",
          "Paraguay",
          "Peru",
          "Philippines",
          "Poland",
          "Portugal",
          "Qatar",
          "Romania",
          "Russia",
          "Rwanda",
          "Saint Kitts and Nevis",
          "Saint Lucia",
          "Saint Vincent and the Grenadines",
          "San Marino",
          "Sao Tome and Principe",
          "Saudi Arabia",
          "Senegal",
          "Serbia",
          "Seychelles",
          "Sierra Leone",
          "Singapore",
          "Slovakia",
          "Slovenia",
          "Somalia",
          "South Africa",
          "South Sudan",
          "Spain",
          "Sri Lanka",
          "Sudan",
          "Suriname",
          "Sweden",
          "Switzerland",
          "Syria",
          "Taiwan*",
          "Tajikistan",
          "Tanzania",
          "Thailand",
          "Timor-Leste",
          "Togo",
          "Trinidad and Tobago",
          "Tunisia",
          "Turkey",
          "US",
          "Uganda",
          "Ukraine",
          "United Arab Emirates",
          "United Kingdom",
          "Uruguay",
          "Uzbekistan",
          "Venezuela",
          "Vietnam",
          "West Bank and Gaza",
          "Western Sahara",
          "Yemen",
          "Zambia",
          "Zimbabwe"
         ],
         "lat": [
          33,
          41.1533,
          28.0339,
          42.5063,
          -11.2027,
          17.0608,
          -38.4161,
          40.0691,
          -255.9695,
          47.5162,
          40.1431,
          25.0343,
          26.0275,
          23.685,
          13.1939,
          53.7098,
          50.8333,
          13.1939,
          9.3077,
          27.5142,
          -16.2902,
          43.9159,
          -22.3285,
          -14.235,
          4.5353,
          42.7339,
          12.2383,
          21.9162,
          -3.3731,
          16.5388,
          11.55,
          3.8480000000000003,
          671.7607,
          6.6111,
          15.4542,
          -35.6751,
          1083.3367,
          4.5709,
          -11.6455,
          -4.0383,
          -4.0383,
          9.7489,
          7.54,
          45.1,
          22,
          35.1264,
          49.8175,
          189.8634,
          0,
          11.8251,
          15.415,
          18.7357,
          -1.8312,
          26,
          13.7942,
          1.5,
          15.1794,
          58.5953,
          -26.5225,
          9.145,
          -17.7134,
          64,
          91.3624,
          -0.8037,
          13.4432,
          42.3154,
          51,
          7.9465,
          39.0742,
          12.1165,
          15.7835,
          9.9456,
          11.8037,
          5,
          18.9712,
          41.9029,
          15.2,
          47.1625,
          64.9631,
          21,
          -0.7893,
          32,
          33,
          53.1424,
          31,
          43,
          18.1096,
          36,
          31.24,
          48.0196,
          -0.0236,
          36,
          42.602636,
          29.5,
          41.2044,
          19.856270000000002,
          56.8796,
          33.8547,
          -29.609988,
          6.4281,
          26.3351,
          47.14,
          55.1694,
          49.8153,
          0,
          -18.7669,
          -13.254307999999998,
          2.5,
          3.2028,
          17.570692,
          35.9375,
          21.0079,
          -20.2,
          23.6345,
          47.4116,
          43.7333,
          46.8625,
          42.5,
          31.7917,
          -18.665695,
          -22.9576,
          28.1667,
          107.04169999999999,
          -40.9006,
          12.8654,
          17.6078,
          9.082,
          41.6086,
          60.472,
          21,
          30.3753,
          8.538,
          -6.315,
          -23.4425,
          -9.19,
          13,
          51.9194,
          39.3999,
          25.3548,
          45.9432,
          60,
          -1.9403,
          17.357822,
          13.9094,
          12.9843,
          43.9424,
          0.18636,
          24,
          14.4974,
          44.0165,
          -4.6796,
          8.460555000000001,
          1.2833,
          48.669,
          46.1512,
          5.1521,
          -30.5595,
          6.8770000000000024,
          40,
          7,
          12.8628,
          3.9193,
          63,
          46.8182,
          34.802075,
          23.7,
          38.861034000000004,
          -6.369,
          15,
          -8.874217,
          8.6195,
          10.6918,
          34,
          38.9637,
          37.0902,
          1,
          48.3794,
          24,
          270.0299,
          -32.5228,
          41.3775,
          6.4238,
          16,
          31.9522,
          24.2155,
          15.552726999999999,
          -15.4167,
          -20
         ],
         "legendgroup": "",
         "lon": [
          65,
          20.1683,
          1.6596,
          1.5218,
          17.8739,
          -61.7964,
          -63.6167,
          45.0382,
          1129.8623,
          14.5501,
          47.5769,
          -77.3963,
          50.55,
          90.3563,
          -59.5432,
          27.9534,
          4,
          -59.5432,
          2.3158,
          90.4336,
          -63.5887,
          17.6791,
          24.6849,
          -51.9253,
          114.7277,
          25.4858,
          -1.5616,
          95.956,
          29.9189,
          -23.0418,
          104.9167,
          11.5021,
          -1237.6289,
          20.9394,
          18.7322,
          -71.543,
          3684.4197000000004,
          -74.2973,
          43.3333,
          21.7587,
          21.7587,
          -83.7534,
          -5.5471,
          15.2,
          -80,
          33.4299,
          15.472999999999999,
          -40.014300000000006,
          0,
          42.5903,
          -61.371,
          -70.1627,
          -78.1834,
          30,
          -88.8965,
          10,
          39.7823,
          25.0136,
          31.4659,
          40.4897,
          178.065,
          26,
          59.71919999999999,
          11.6094,
          -15.3101,
          43.3569,
          9,
          -1.0232,
          21.8243,
          -61.678999999999995,
          -90.2308,
          -9.6966,
          -15.1804,
          -58.75,
          -72.2852,
          12.4534,
          -86.2419,
          19.5033,
          -19.0208,
          78,
          113.9213,
          53,
          44,
          -7.6921,
          35,
          12,
          -77.2975,
          138,
          36.51,
          66.9237,
          37.9062,
          128,
          20.902977,
          47.75,
          74.7661,
          102.495496,
          24.6032,
          35.8623,
          28.233608,
          -9.4295,
          17.228331,
          9.55,
          23.8813,
          6.1296,
          0,
          46.8691,
          34.301525,
          112.5,
          73.2207,
          -3.996166000000001,
          14.3754,
          10.9408,
          57.5,
          -102.5528,
          28.3699,
          7.4167,
          103.8467,
          19.3,
          -7.0926,
          35.529562,
          18.4904,
          84.25,
          -265.0278,
          174.886,
          -85.2072,
          8.0817,
          8.6753,
          21.7453,
          8.4689,
          57,
          69.3451,
          -80.7821,
          143.9555,
          -58.4438,
          -75.0152,
          122,
          19.1451,
          -8.2245,
          51.1839,
          24.9668,
          90,
          29.8739,
          -62.782998,
          -60.9789,
          -61.2872,
          12.4578,
          6.613081,
          45,
          -14.4524,
          21.0059,
          55.492,
          -11.779889,
          103.8333,
          19.699,
          14.9955,
          46.1996,
          22.9375,
          31.307,
          -4,
          81,
          30.2176,
          -56.0278,
          16,
          8.2275,
          38.99681500000001,
          121,
          71.276093,
          34.8888,
          101,
          125.727539,
          0.8248,
          -61.2225,
          9,
          35.2433,
          -95.7129,
          32,
          31.1656,
          54,
          -482.92470000000003,
          -55.7658,
          64.5853,
          -66.5897,
          108,
          35.2332,
          -12.8858,
          48.516388,
          28.2833,
          30
         ],
         "marker": {
          "color": [
           691,
           694,
           3158,
           596,
           14,
           19,
           2385,
           1572,
           6334,
           14405,
           1833,
           41,
           2353,
           3361,
           65,
           8168,
           14111,
           16,
           83,
           5,
           356,
           1272,
           17,
           79479,
           134,
           531,
           592,
           84,
           7,
           67,
           121,
           1553,
           36104,
           10,
           83,
           15655,
           79261,
           3358,
           3,
           87,
           157,
           535,
           930,
           1850,
           1383,
           481,
           5241,
           9003,
           651,
           905,
           15,
           3351,
           3433,
           2626,
           405,
           13,
           38,
           909,
           51,
           108,
           14,
           4300,
           59719,
           182,
           10,
           383,
           150300,
           674,
           1374,
           14,
           129,
           895,
           26,
           42,
           18,
           2,
           253,
           1169,
           1780,
           27969,
           3518,
           90539,
           2028,
           19470,
           12521,
           115288,
           118,
           9868,
           393,
           2531,
           284,
           9821,
           690,
           3451,
           735,
           14,
           627,
           236,
           0,
           105,
           28,
           55,
           934,
           3665,
           0,
           108,
           24,
           5351,
           45,
           436,
           443,
           7,
           322,
           28475,
           2228,
           87,
           15,
           309,
           3310,
           35,
           12,
           35,
           159,
           1421,
           7,
           677,
           1180,
           1235,
           32,
           1303,
           9695,
           6080,
           8,
           184,
           25151,
           2337,
           6696,
           3198,
           3356,
           9053,
           53530,
           168,
           14,
           18,
           12,
           172,
           4,
           19051,
           842,
           4084,
           10,
           97,
           5973,
           1112,
           267,
           135,
           5676,
           3,
           143374,
           445,
           198,
           9,
           4971,
           27100,
           29,
           383,
           0,
           183,
           2850,
           21,
           96,
           107,
           770,
           104030,
           246414,
           63,
           4143,
           6930,
           1043,
           547,
           2136,
           220,
           260,
           310,
           6,
           1,
           124,
           13
          ],
          "coloraxis": "coloraxis",
          "size": [
           691,
           694,
           3158,
           596,
           14,
           19,
           2385,
           1572,
           6334,
           14405,
           1833,
           41,
           2353,
           3361,
           65,
           8168,
           14111,
           16,
           83,
           5,
           356,
           1272,
           17,
           79479,
           134,
           531,
           592,
           84,
           7,
           67,
           121,
           1553,
           36104,
           10,
           83,
           15655,
           79261,
           3358,
           3,
           87,
           157,
           535,
           930,
           1850,
           1383,
           481,
           5241,
           9003,
           651,
           905,
           15,
           3351,
           3433,
           2626,
           405,
           13,
           38,
           909,
           51,
           108,
           14,
           4300,
           59719,
           182,
           10,
           383,
           150300,
           674,
           1374,
           14,
           129,
           895,
           26,
           42,
           18,
           2,
           253,
           1169,
           1780,
           27969,
           3518,
           90539,
           2028,
           19470,
           12521,
           115288,
           118,
           9868,
           393,
           2531,
           284,
           9821,
           690,
           3451,
           735,
           14,
           627,
           236,
           0,
           105,
           28,
           55,
           934,
           3665,
           0,
           108,
           24,
           5351,
           45,
           436,
           443,
           7,
           322,
           28475,
           2228,
           87,
           15,
           309,
           3310,
           35,
           12,
           35,
           159,
           1421,
           7,
           677,
           1180,
           1235,
           32,
           1303,
           9695,
           6080,
           8,
           184,
           25151,
           2337,
           6696,
           3198,
           3356,
           9053,
           53530,
           168,
           14,
           18,
           12,
           172,
           4,
           19051,
           842,
           4084,
           10,
           97,
           5973,
           1112,
           267,
           135,
           5676,
           3,
           143374,
           445,
           198,
           9,
           4971,
           27100,
           29,
           383,
           0,
           183,
           2850,
           21,
           96,
           107,
           770,
           104030,
           246414,
           63,
           4143,
           6930,
           1043,
           547,
           2136,
           220,
           260,
           310,
           6,
           1,
           124,
           13
          ],
          "sizemode": "area",
          "sizeref": 616.035
         },
         "mode": "markers",
         "name": "",
         "showlegend": false,
         "subplot": "mapbox",
         "type": "scattermapbox"
        }
       ],
       "layout": {
        "coloraxis": {
         "colorbar": {
          "title": {
           "text": "RecoveredCases"
          }
         },
         "colorscale": [
          [
           0,
           "#0d0887"
          ],
          [
           0.1111111111111111,
           "#46039f"
          ],
          [
           0.2222222222222222,
           "#7201a8"
          ],
          [
           0.3333333333333333,
           "#9c179e"
          ],
          [
           0.4444444444444444,
           "#bd3786"
          ],
          [
           0.5555555555555556,
           "#d8576b"
          ],
          [
           0.6666666666666666,
           "#ed7953"
          ],
          [
           0.7777777777777778,
           "#fb9f3a"
          ],
          [
           0.8888888888888888,
           "#fdca26"
          ],
          [
           1,
           "#f0f921"
          ]
         ]
        },
        "height": 500,
        "legend": {
         "itemsizing": "constant",
         "tracegroupgap": 0
        },
        "mapbox": {
         "center": {
          "lat": 29.922231718085104,
          "lon": 31.8897779893617
         },
         "domain": {
          "x": [
           0,
           1
          ],
          "y": [
           0,
           1
          ]
         },
         "style": "open-street-map",
         "zoom": 0.5
        },
        "margin": {
         "b": 0,
         "l": 0,
         "r": 0,
         "t": 0
        },
        "template": {
         "data": {
          "bar": [
           {
            "error_x": {
             "color": "#2a3f5f"
            },
            "error_y": {
             "color": "#2a3f5f"
            },
            "marker": {
             "line": {
              "color": "#E5ECF6",
              "width": 0.5
             }
            },
            "type": "bar"
           }
          ],
          "barpolar": [
           {
            "marker": {
             "line": {
              "color": "#E5ECF6",
              "width": 0.5
             }
            },
            "type": "barpolar"
           }
          ],
          "carpet": [
           {
            "aaxis": {
             "endlinecolor": "#2a3f5f",
             "gridcolor": "white",
             "linecolor": "white",
             "minorgridcolor": "white",
             "startlinecolor": "#2a3f5f"
            },
            "baxis": {
             "endlinecolor": "#2a3f5f",
             "gridcolor": "white",
             "linecolor": "white",
             "minorgridcolor": "white",
             "startlinecolor": "#2a3f5f"
            },
            "type": "carpet"
           }
          ],
          "choropleth": [
           {
            "colorbar": {
             "outlinewidth": 0,
             "ticks": ""
            },
            "type": "choropleth"
           }
          ],
          "contour": [
           {
            "colorbar": {
             "outlinewidth": 0,
             "ticks": ""
            },
            "colorscale": [
             [
              0,
              "#0d0887"
             ],
             [
              0.1111111111111111,
              "#46039f"
             ],
             [
              0.2222222222222222,
              "#7201a8"
             ],
             [
              0.3333333333333333,
              "#9c179e"
             ],
             [
              0.4444444444444444,
              "#bd3786"
             ],
             [
              0.5555555555555556,
              "#d8576b"
             ],
             [
              0.6666666666666666,
              "#ed7953"
             ],
             [
              0.7777777777777778,
              "#fb9f3a"
             ],
             [
              0.8888888888888888,
              "#fdca26"
             ],
             [
              1,
              "#f0f921"
             ]
            ],
            "type": "contour"
           }
          ],
          "contourcarpet": [
           {
            "colorbar": {
             "outlinewidth": 0,
             "ticks": ""
            },
            "type": "contourcarpet"
           }
          ],
          "heatmap": [
           {
            "colorbar": {
             "outlinewidth": 0,
             "ticks": ""
            },
            "colorscale": [
             [
              0,
              "#0d0887"
             ],
             [
              0.1111111111111111,
              "#46039f"
             ],
             [
              0.2222222222222222,
              "#7201a8"
             ],
             [
              0.3333333333333333,
              "#9c179e"
             ],
             [
              0.4444444444444444,
              "#bd3786"
             ],
             [
              0.5555555555555556,
              "#d8576b"
             ],
             [
              0.6666666666666666,
              "#ed7953"
             ],
             [
              0.7777777777777778,
              "#fb9f3a"
             ],
             [
              0.8888888888888888,
              "#fdca26"
             ],
             [
              1,
              "#f0f921"
             ]
            ],
            "type": "heatmap"
           }
          ],
          "heatmapgl": [
           {
            "colorbar": {
             "outlinewidth": 0,
             "ticks": ""
            },
            "colorscale": [
             [
              0,
              "#0d0887"
             ],
             [
              0.1111111111111111,
              "#46039f"
             ],
             [
              0.2222222222222222,
              "#7201a8"
             ],
             [
              0.3333333333333333,
              "#9c179e"
             ],
             [
              0.4444444444444444,
              "#bd3786"
             ],
             [
              0.5555555555555556,
              "#d8576b"
             ],
             [
              0.6666666666666666,
              "#ed7953"
             ],
             [
              0.7777777777777778,
              "#fb9f3a"
             ],
             [
              0.8888888888888888,
              "#fdca26"
             ],
             [
              1,
              "#f0f921"
             ]
            ],
            "type": "heatmapgl"
           }
          ],
          "histogram": [
           {
            "marker": {
             "colorbar": {
              "outlinewidth": 0,
              "ticks": ""
             }
            },
            "type": "histogram"
           }
          ],
          "histogram2d": [
           {
            "colorbar": {
             "outlinewidth": 0,
             "ticks": ""
            },
            "colorscale": [
             [
              0,
              "#0d0887"
             ],
             [
              0.1111111111111111,
              "#46039f"
             ],
             [
              0.2222222222222222,
              "#7201a8"
             ],
             [
              0.3333333333333333,
              "#9c179e"
             ],
             [
              0.4444444444444444,
              "#bd3786"
             ],
             [
              0.5555555555555556,
              "#d8576b"
             ],
             [
              0.6666666666666666,
              "#ed7953"
             ],
             [
              0.7777777777777778,
              "#fb9f3a"
             ],
             [
              0.8888888888888888,
              "#fdca26"
             ],
             [
              1,
              "#f0f921"
             ]
            ],
            "type": "histogram2d"
           }
          ],
          "histogram2dcontour": [
           {
            "colorbar": {
             "outlinewidth": 0,
             "ticks": ""
            },
            "colorscale": [
             [
              0,
              "#0d0887"
             ],
             [
              0.1111111111111111,
              "#46039f"
             ],
             [
              0.2222222222222222,
              "#7201a8"
             ],
             [
              0.3333333333333333,
              "#9c179e"
             ],
             [
              0.4444444444444444,
              "#bd3786"
             ],
             [
              0.5555555555555556,
              "#d8576b"
             ],
             [
              0.6666666666666666,
              "#ed7953"
             ],
             [
              0.7777777777777778,
              "#fb9f3a"
             ],
             [
              0.8888888888888888,
              "#fdca26"
             ],
             [
              1,
              "#f0f921"
             ]
            ],
            "type": "histogram2dcontour"
           }
          ],
          "mesh3d": [
           {
            "colorbar": {
             "outlinewidth": 0,
             "ticks": ""
            },
            "type": "mesh3d"
           }
          ],
          "parcoords": [
           {
            "line": {
             "colorbar": {
              "outlinewidth": 0,
              "ticks": ""
             }
            },
            "type": "parcoords"
           }
          ],
          "pie": [
           {
            "automargin": true,
            "type": "pie"
           }
          ],
          "scatter": [
           {
            "marker": {
             "colorbar": {
              "outlinewidth": 0,
              "ticks": ""
             }
            },
            "type": "scatter"
           }
          ],
          "scatter3d": [
           {
            "line": {
             "colorbar": {
              "outlinewidth": 0,
              "ticks": ""
             }
            },
            "marker": {
             "colorbar": {
              "outlinewidth": 0,
              "ticks": ""
             }
            },
            "type": "scatter3d"
           }
          ],
          "scattercarpet": [
           {
            "marker": {
             "colorbar": {
              "outlinewidth": 0,
              "ticks": ""
             }
            },
            "type": "scattercarpet"
           }
          ],
          "scattergeo": [
           {
            "marker": {
             "colorbar": {
              "outlinewidth": 0,
              "ticks": ""
             }
            },
            "type": "scattergeo"
           }
          ],
          "scattergl": [
           {
            "marker": {
             "colorbar": {
              "outlinewidth": 0,
              "ticks": ""
             }
            },
            "type": "scattergl"
           }
          ],
          "scattermapbox": [
           {
            "marker": {
             "colorbar": {
              "outlinewidth": 0,
              "ticks": ""
             }
            },
            "type": "scattermapbox"
           }
          ],
          "scatterpolar": [
           {
            "marker": {
             "colorbar": {
              "outlinewidth": 0,
              "ticks": ""
             }
            },
            "type": "scatterpolar"
           }
          ],
          "scatterpolargl": [
           {
            "marker": {
             "colorbar": {
              "outlinewidth": 0,
              "ticks": ""
             }
            },
            "type": "scatterpolargl"
           }
          ],
          "scatterternary": [
           {
            "marker": {
             "colorbar": {
              "outlinewidth": 0,
              "ticks": ""
             }
            },
            "type": "scatterternary"
           }
          ],
          "surface": [
           {
            "colorbar": {
             "outlinewidth": 0,
             "ticks": ""
            },
            "colorscale": [
             [
              0,
              "#0d0887"
             ],
             [
              0.1111111111111111,
              "#46039f"
             ],
             [
              0.2222222222222222,
              "#7201a8"
             ],
             [
              0.3333333333333333,
              "#9c179e"
             ],
             [
              0.4444444444444444,
              "#bd3786"
             ],
             [
              0.5555555555555556,
              "#d8576b"
             ],
             [
              0.6666666666666666,
              "#ed7953"
             ],
             [
              0.7777777777777778,
              "#fb9f3a"
             ],
             [
              0.8888888888888888,
              "#fdca26"
             ],
             [
              1,
              "#f0f921"
             ]
            ],
            "type": "surface"
           }
          ],
          "table": [
           {
            "cells": {
             "fill": {
              "color": "#EBF0F8"
             },
             "line": {
              "color": "white"
             }
            },
            "header": {
             "fill": {
              "color": "#C8D4E3"
             },
             "line": {
              "color": "white"
             }
            },
            "type": "table"
           }
          ]
         },
         "layout": {
          "annotationdefaults": {
           "arrowcolor": "#2a3f5f",
           "arrowhead": 0,
           "arrowwidth": 1
          },
          "coloraxis": {
           "colorbar": {
            "outlinewidth": 0,
            "ticks": ""
           }
          },
          "colorscale": {
           "diverging": [
            [
             0,
             "#8e0152"
            ],
            [
             0.1,
             "#c51b7d"
            ],
            [
             0.2,
             "#de77ae"
            ],
            [
             0.3,
             "#f1b6da"
            ],
            [
             0.4,
             "#fde0ef"
            ],
            [
             0.5,
             "#f7f7f7"
            ],
            [
             0.6,
             "#e6f5d0"
            ],
            [
             0.7,
             "#b8e186"
            ],
            [
             0.8,
             "#7fbc41"
            ],
            [
             0.9,
             "#4d9221"
            ],
            [
             1,
             "#276419"
            ]
           ],
           "sequential": [
            [
             0,
             "#0d0887"
            ],
            [
             0.1111111111111111,
             "#46039f"
            ],
            [
             0.2222222222222222,
             "#7201a8"
            ],
            [
             0.3333333333333333,
             "#9c179e"
            ],
            [
             0.4444444444444444,
             "#bd3786"
            ],
            [
             0.5555555555555556,
             "#d8576b"
            ],
            [
             0.6666666666666666,
             "#ed7953"
            ],
            [
             0.7777777777777778,
             "#fb9f3a"
            ],
            [
             0.8888888888888888,
             "#fdca26"
            ],
            [
             1,
             "#f0f921"
            ]
           ],
           "sequentialminus": [
            [
             0,
             "#0d0887"
            ],
            [
             0.1111111111111111,
             "#46039f"
            ],
            [
             0.2222222222222222,
             "#7201a8"
            ],
            [
             0.3333333333333333,
             "#9c179e"
            ],
            [
             0.4444444444444444,
             "#bd3786"
            ],
            [
             0.5555555555555556,
             "#d8576b"
            ],
            [
             0.6666666666666666,
             "#ed7953"
            ],
            [
             0.7777777777777778,
             "#fb9f3a"
            ],
            [
             0.8888888888888888,
             "#fdca26"
            ],
            [
             1,
             "#f0f921"
            ]
           ]
          },
          "colorway": [
           "#636efa",
           "#EF553B",
           "#00cc96",
           "#ab63fa",
           "#FFA15A",
           "#19d3f3",
           "#FF6692",
           "#B6E880",
           "#FF97FF",
           "#FECB52"
          ],
          "font": {
           "color": "#2a3f5f"
          },
          "geo": {
           "bgcolor": "white",
           "lakecolor": "white",
           "landcolor": "#E5ECF6",
           "showlakes": true,
           "showland": true,
           "subunitcolor": "white"
          },
          "hoverlabel": {
           "align": "left"
          },
          "hovermode": "closest",
          "mapbox": {
           "style": "light"
          },
          "paper_bgcolor": "white",
          "plot_bgcolor": "#E5ECF6",
          "polar": {
           "angularaxis": {
            "gridcolor": "white",
            "linecolor": "white",
            "ticks": ""
           },
           "bgcolor": "#E5ECF6",
           "radialaxis": {
            "gridcolor": "white",
            "linecolor": "white",
            "ticks": ""
           }
          },
          "scene": {
           "xaxis": {
            "backgroundcolor": "#E5ECF6",
            "gridcolor": "white",
            "gridwidth": 2,
            "linecolor": "white",
            "showbackground": true,
            "ticks": "",
            "zerolinecolor": "white"
           },
           "yaxis": {
            "backgroundcolor": "#E5ECF6",
            "gridcolor": "white",
            "gridwidth": 2,
            "linecolor": "white",
            "showbackground": true,
            "ticks": "",
            "zerolinecolor": "white"
           },
           "zaxis": {
            "backgroundcolor": "#E5ECF6",
            "gridcolor": "white",
            "gridwidth": 2,
            "linecolor": "white",
            "showbackground": true,
            "ticks": "",
            "zerolinecolor": "white"
           }
          },
          "shapedefaults": {
           "line": {
            "color": "#2a3f5f"
           }
          },
          "ternary": {
           "aaxis": {
            "gridcolor": "white",
            "linecolor": "white",
            "ticks": ""
           },
           "baxis": {
            "gridcolor": "white",
            "linecolor": "white",
            "ticks": ""
           },
           "bgcolor": "#E5ECF6",
           "caxis": {
            "gridcolor": "white",
            "linecolor": "white",
            "ticks": ""
           }
          },
          "title": {
           "x": 0.05
          },
          "xaxis": {
           "automargin": true,
           "gridcolor": "white",
           "linecolor": "white",
           "ticks": "",
           "title": {
            "standoff": 15
           },
           "zerolinecolor": "white",
           "zerolinewidth": 2
          },
          "yaxis": {
           "automargin": true,
           "gridcolor": "white",
           "linecolor": "white",
           "ticks": "",
           "title": {
            "standoff": 15
           },
           "zerolinecolor": "white",
           "zerolinewidth": 2
          }
         }
        },
        "width": 900
       }
      }
     },
     "metadata": {}
    }
   ],
   "source": [
    "r_fig = px.scatter_mapbox(table, lat=\"Lat\", lon=\"Long\", hover_name=\"Country/Region\", hover_data=[\"RecoveredCases\"],\n",
    "                        color_discrete_sequence=[\"fuchsia\"], zoom=0.5, width=900, height=500, color=\"RecoveredCases\", size=\"RecoveredCases\")\n",
    "r_fig.update_layout(mapbox_style=\"open-street-map\")\n",
    "r_fig.update_layout(margin={\"r\":0,\"t\":0,\"l\":0,\"b\":0})\n",
    "r_fig.show()    "
   ]
  },
  {
   "cell_type": "code",
   "execution_count": 10,
   "metadata": {},
   "outputs": [],
   "source": [
    "a = pd.melt(confirmed_daily, id_vars='Date')\n",
    "a['Cases'] = 'Confirmed'\n",
    "b = pd.melt(death_daily, id_vars='Date')\n",
    "b['Cases'] = 'Death'\n",
    "c = pd.melt(recovered_daily, id_vars='Date')\n",
    "c['Cases'] = 'Recovered'\n",
    "daily = [a,b,c]\n",
    "daily = pd.concat(daily)\n",
    "daily['Date'] = pd.to_datetime(daily['Date'])\n",
    "daily.columns = ['Date','Country/Region','NumberOfCases','Category']\n",
    "daily['NumberOfCases'] = daily['NumberOfCases'].astype(int)\n",
    "daily['NewCases'] = (daily['NumberOfCases'] - daily['NumberOfCases'].shift(1)).fillna(method='bfill')"
   ]
  },
  {
   "cell_type": "code",
   "execution_count": 11,
   "metadata": {},
   "outputs": [],
   "source": [
    "def cum_cases(country):\n",
    "    dfc = daily[daily['Country/Region'] == country]\n",
    "    fig = px.line(dfc, x=\"Date\", y='NumberOfCases', color='Category', title=country+' Cumulative Cases')\n",
    "    return fig.show()\n",
    "def new_cases(country):\n",
    "    dfc = daily[daily['Country/Region'] == country]\n",
    "    dfc = dfc[dfc['Category'] == 'Confirmed']\n",
    "    fig = px.bar(dfc, x=\"Date\", y='NewCases', title=country+' New Cases')\n",
    "    return fig.show()"
   ]
  },
  {
   "cell_type": "code",
   "execution_count": 12,
   "metadata": {},
   "outputs": [
    {
     "output_type": "display_data",
     "data": {
      "application/vnd.plotly.v1+json": {
       "config": {
        "plotlyServerURL": "https://plot.ly"
       },
       "data": [
        {
         "hovertemplate": "Category=Confirmed<br>Date=%{x}<br>NumberOfCases=%{y}<extra></extra>",
         "legendgroup": "Confirmed",
         "line": {
          "color": "#636efa",
          "dash": "solid"
         },
         "mode": "lines",
         "name": "Confirmed",
         "showlegend": true,
         "type": "scatter",
         "x": [
          "2020-01-22T00:00:00",
          "2020-01-23T00:00:00",
          "2020-01-24T00:00:00",
          "2020-01-25T00:00:00",
          "2020-01-26T00:00:00",
          "2020-01-27T00:00:00",
          "2020-01-28T00:00:00",
          "2020-01-29T00:00:00",
          "2020-01-30T00:00:00",
          "2020-01-31T00:00:00",
          "2020-02-01T00:00:00",
          "2020-02-02T00:00:00",
          "2020-02-03T00:00:00",
          "2020-02-04T00:00:00",
          "2020-02-05T00:00:00",
          "2020-02-06T00:00:00",
          "2020-02-07T00:00:00",
          "2020-02-08T00:00:00",
          "2020-02-09T00:00:00",
          "2020-02-10T00:00:00",
          "2020-02-11T00:00:00",
          "2020-02-12T00:00:00",
          "2020-02-13T00:00:00",
          "2020-02-14T00:00:00",
          "2020-02-15T00:00:00",
          "2020-02-16T00:00:00",
          "2020-02-17T00:00:00",
          "2020-02-18T00:00:00",
          "2020-02-19T00:00:00",
          "2020-02-20T00:00:00",
          "2020-02-21T00:00:00",
          "2020-02-22T00:00:00",
          "2020-02-23T00:00:00",
          "2020-02-24T00:00:00",
          "2020-02-25T00:00:00",
          "2020-02-26T00:00:00",
          "2020-02-27T00:00:00",
          "2020-02-28T00:00:00",
          "2020-02-29T00:00:00",
          "2020-03-01T00:00:00",
          "2020-03-02T00:00:00",
          "2020-03-03T00:00:00",
          "2020-03-04T00:00:00",
          "2020-03-05T00:00:00",
          "2020-03-06T00:00:00",
          "2020-03-07T00:00:00",
          "2020-03-08T00:00:00",
          "2020-03-09T00:00:00",
          "2020-03-10T00:00:00",
          "2020-03-11T00:00:00",
          "2020-03-12T00:00:00",
          "2020-03-13T00:00:00",
          "2020-03-14T00:00:00",
          "2020-03-15T00:00:00",
          "2020-03-16T00:00:00",
          "2020-03-17T00:00:00",
          "2020-03-18T00:00:00",
          "2020-03-19T00:00:00",
          "2020-03-20T00:00:00",
          "2020-03-21T00:00:00",
          "2020-03-22T00:00:00",
          "2020-03-23T00:00:00",
          "2020-03-24T00:00:00",
          "2020-03-25T00:00:00",
          "2020-03-26T00:00:00",
          "2020-03-27T00:00:00",
          "2020-03-28T00:00:00",
          "2020-03-29T00:00:00",
          "2020-03-30T00:00:00",
          "2020-03-31T00:00:00",
          "2020-04-01T00:00:00",
          "2020-04-02T00:00:00",
          "2020-04-03T00:00:00",
          "2020-04-04T00:00:00",
          "2020-04-05T00:00:00",
          "2020-04-06T00:00:00",
          "2020-04-07T00:00:00",
          "2020-04-08T00:00:00",
          "2020-04-09T00:00:00",
          "2020-04-10T00:00:00",
          "2020-04-11T00:00:00",
          "2020-04-12T00:00:00",
          "2020-04-13T00:00:00",
          "2020-04-14T00:00:00",
          "2020-04-15T00:00:00",
          "2020-04-16T00:00:00",
          "2020-04-17T00:00:00",
          "2020-04-18T00:00:00",
          "2020-04-19T00:00:00",
          "2020-04-20T00:00:00",
          "2020-04-21T00:00:00",
          "2020-04-22T00:00:00",
          "2020-04-23T00:00:00",
          "2020-04-24T00:00:00",
          "2020-04-25T00:00:00",
          "2020-04-26T00:00:00",
          "2020-04-27T00:00:00",
          "2020-04-28T00:00:00",
          "2020-04-29T00:00:00",
          "2020-04-30T00:00:00",
          "2020-05-01T00:00:00",
          "2020-05-02T00:00:00",
          "2020-05-03T00:00:00",
          "2020-05-04T00:00:00",
          "2020-05-05T00:00:00",
          "2020-05-06T00:00:00",
          "2020-05-07T00:00:00",
          "2020-05-08T00:00:00",
          "2020-05-09T00:00:00",
          "2020-05-10T00:00:00",
          "2020-05-11T00:00:00",
          "2020-05-12T00:00:00",
          "2020-05-13T00:00:00",
          "2020-05-14T00:00:00"
         ],
         "xaxis": "x",
         "y": [
          555,
          654,
          941,
          1434,
          2118,
          2927,
          5578,
          6166,
          8234,
          9927,
          12038,
          16787,
          19881,
          23892,
          27635,
          30794,
          34391,
          37120,
          40150,
          42762,
          44802,
          45221,
          60368,
          66885,
          69030,
          71224,
          73258,
          75136,
          75639,
          76197,
          76819,
          78572,
          78958,
          79561,
          80406,
          81388,
          82746,
          84112,
          86011,
          88369,
          90306,
          92840,
          95120,
          97886,
          101801,
          105847,
          109821,
          113590,
          118620,
          125875,
          128352,
          145223,
          156118,
          167470,
          181624,
          197134,
          214875,
          242631,
          272263,
          304580,
          337018,
          378282,
          418106,
          467751,
          529722,
          593459,
          660853,
          720290,
          782500,
          857608,
          932650,
          1013477,
          1095893,
          1176059,
          1249743,
          1321436,
          1396438,
          1480232,
          1565555,
          1657950,
          1736032,
          1835145,
          1905160,
          1975566,
          2055424,
          2151792,
          2239634,
          2317243,
          2400787,
          2471727,
          2549046,
          2624608,
          2708403,
          2795731,
          2881140,
          2955033,
          3023722,
          3097229,
          3172287,
          3256910,
          3345558,
          3427584,
          3506729,
          3583055,
          3662691,
          3756069,
          3845718,
          3938064,
          4024009,
          4101699,
          4177502,
          4261747,
          4347018,
          4442163
         ],
         "yaxis": "y"
        },
        {
         "hovertemplate": "Category=Death<br>Date=%{x}<br>NumberOfCases=%{y}<extra></extra>",
         "legendgroup": "Death",
         "line": {
          "color": "#EF553B",
          "dash": "solid"
         },
         "mode": "lines",
         "name": "Death",
         "showlegend": true,
         "type": "scatter",
         "x": [
          "2020-01-22T00:00:00",
          "2020-01-23T00:00:00",
          "2020-01-24T00:00:00",
          "2020-01-25T00:00:00",
          "2020-01-26T00:00:00",
          "2020-01-27T00:00:00",
          "2020-01-28T00:00:00",
          "2020-01-29T00:00:00",
          "2020-01-30T00:00:00",
          "2020-01-31T00:00:00",
          "2020-02-01T00:00:00",
          "2020-02-02T00:00:00",
          "2020-02-03T00:00:00",
          "2020-02-04T00:00:00",
          "2020-02-05T00:00:00",
          "2020-02-06T00:00:00",
          "2020-02-07T00:00:00",
          "2020-02-08T00:00:00",
          "2020-02-09T00:00:00",
          "2020-02-10T00:00:00",
          "2020-02-11T00:00:00",
          "2020-02-12T00:00:00",
          "2020-02-13T00:00:00",
          "2020-02-14T00:00:00",
          "2020-02-15T00:00:00",
          "2020-02-16T00:00:00",
          "2020-02-17T00:00:00",
          "2020-02-18T00:00:00",
          "2020-02-19T00:00:00",
          "2020-02-20T00:00:00",
          "2020-02-21T00:00:00",
          "2020-02-22T00:00:00",
          "2020-02-23T00:00:00",
          "2020-02-24T00:00:00",
          "2020-02-25T00:00:00",
          "2020-02-26T00:00:00",
          "2020-02-27T00:00:00",
          "2020-02-28T00:00:00",
          "2020-02-29T00:00:00",
          "2020-03-01T00:00:00",
          "2020-03-02T00:00:00",
          "2020-03-03T00:00:00",
          "2020-03-04T00:00:00",
          "2020-03-05T00:00:00",
          "2020-03-06T00:00:00",
          "2020-03-07T00:00:00",
          "2020-03-08T00:00:00",
          "2020-03-09T00:00:00",
          "2020-03-10T00:00:00",
          "2020-03-11T00:00:00",
          "2020-03-12T00:00:00",
          "2020-03-13T00:00:00",
          "2020-03-14T00:00:00",
          "2020-03-15T00:00:00",
          "2020-03-16T00:00:00",
          "2020-03-17T00:00:00",
          "2020-03-18T00:00:00",
          "2020-03-19T00:00:00",
          "2020-03-20T00:00:00",
          "2020-03-21T00:00:00",
          "2020-03-22T00:00:00",
          "2020-03-23T00:00:00",
          "2020-03-24T00:00:00",
          "2020-03-25T00:00:00",
          "2020-03-26T00:00:00",
          "2020-03-27T00:00:00",
          "2020-03-28T00:00:00",
          "2020-03-29T00:00:00",
          "2020-03-30T00:00:00",
          "2020-03-31T00:00:00",
          "2020-04-01T00:00:00",
          "2020-04-02T00:00:00",
          "2020-04-03T00:00:00",
          "2020-04-04T00:00:00",
          "2020-04-05T00:00:00",
          "2020-04-06T00:00:00",
          "2020-04-07T00:00:00",
          "2020-04-08T00:00:00",
          "2020-04-09T00:00:00",
          "2020-04-10T00:00:00",
          "2020-04-11T00:00:00",
          "2020-04-12T00:00:00",
          "2020-04-13T00:00:00",
          "2020-04-14T00:00:00",
          "2020-04-15T00:00:00",
          "2020-04-16T00:00:00",
          "2020-04-17T00:00:00",
          "2020-04-18T00:00:00",
          "2020-04-19T00:00:00",
          "2020-04-20T00:00:00",
          "2020-04-21T00:00:00",
          "2020-04-22T00:00:00",
          "2020-04-23T00:00:00",
          "2020-04-24T00:00:00",
          "2020-04-25T00:00:00",
          "2020-04-26T00:00:00",
          "2020-04-27T00:00:00",
          "2020-04-28T00:00:00",
          "2020-04-29T00:00:00",
          "2020-04-30T00:00:00",
          "2020-05-01T00:00:00",
          "2020-05-02T00:00:00",
          "2020-05-03T00:00:00",
          "2020-05-04T00:00:00",
          "2020-05-05T00:00:00",
          "2020-05-06T00:00:00",
          "2020-05-07T00:00:00",
          "2020-05-08T00:00:00",
          "2020-05-09T00:00:00",
          "2020-05-10T00:00:00",
          "2020-05-11T00:00:00",
          "2020-05-12T00:00:00",
          "2020-05-13T00:00:00",
          "2020-05-14T00:00:00"
         ],
         "xaxis": "x",
         "y": [
          17,
          18,
          26,
          42,
          56,
          82,
          131,
          133,
          171,
          213,
          259,
          362,
          426,
          492,
          564,
          634,
          719,
          806,
          906,
          1013,
          1113,
          1118,
          1371,
          1523,
          1666,
          1770,
          1868,
          2007,
          2122,
          2247,
          2251,
          2458,
          2469,
          2629,
          2708,
          2770,
          2814,
          2872,
          2941,
          2996,
          3085,
          3160,
          3254,
          3347,
          3459,
          3558,
          3801,
          3987,
          4263,
          4614,
          4722,
          5408,
          5830,
          6472,
          7150,
          7956,
          8823,
          9946,
          11422,
          13125,
          14825,
          16759,
          19014,
          21785,
          24788,
          28288,
          31798,
          35323,
          39439,
          44238,
          49675,
          55817,
          61812,
          67981,
          73077,
          78767,
          86662,
          93354,
          100882,
          108113,
          114146,
          119853,
          125561,
          132439,
          140659,
          147946,
          156804,
          163214,
          167772,
          173097,
          180236,
          186912,
          193665,
          199997,
          206187,
          209900,
          214444,
          220801,
          227665,
          233360,
          238619,
          243813,
          247470,
          251537,
          257239,
          263855,
          269567,
          274898,
          279311,
          282709,
          286330,
          291942,
          297197,
          302418
         ],
         "yaxis": "y"
        },
        {
         "hovertemplate": "Category=Recovered<br>Date=%{x}<br>NumberOfCases=%{y}<extra></extra>",
         "legendgroup": "Recovered",
         "line": {
          "color": "#00cc96",
          "dash": "solid"
         },
         "mode": "lines",
         "name": "Recovered",
         "showlegend": true,
         "type": "scatter",
         "x": [
          "2020-01-22T00:00:00",
          "2020-01-23T00:00:00",
          "2020-01-24T00:00:00",
          "2020-01-25T00:00:00",
          "2020-01-26T00:00:00",
          "2020-01-27T00:00:00",
          "2020-01-28T00:00:00",
          "2020-01-29T00:00:00",
          "2020-01-30T00:00:00",
          "2020-01-31T00:00:00",
          "2020-02-01T00:00:00",
          "2020-02-02T00:00:00",
          "2020-02-03T00:00:00",
          "2020-02-04T00:00:00",
          "2020-02-05T00:00:00",
          "2020-02-06T00:00:00",
          "2020-02-07T00:00:00",
          "2020-02-08T00:00:00",
          "2020-02-09T00:00:00",
          "2020-02-10T00:00:00",
          "2020-02-11T00:00:00",
          "2020-02-12T00:00:00",
          "2020-02-13T00:00:00",
          "2020-02-14T00:00:00",
          "2020-02-15T00:00:00",
          "2020-02-16T00:00:00",
          "2020-02-17T00:00:00",
          "2020-02-18T00:00:00",
          "2020-02-19T00:00:00",
          "2020-02-20T00:00:00",
          "2020-02-21T00:00:00",
          "2020-02-22T00:00:00",
          "2020-02-23T00:00:00",
          "2020-02-24T00:00:00",
          "2020-02-25T00:00:00",
          "2020-02-26T00:00:00",
          "2020-02-27T00:00:00",
          "2020-02-28T00:00:00",
          "2020-02-29T00:00:00",
          "2020-03-01T00:00:00",
          "2020-03-02T00:00:00",
          "2020-03-03T00:00:00",
          "2020-03-04T00:00:00",
          "2020-03-05T00:00:00",
          "2020-03-06T00:00:00",
          "2020-03-07T00:00:00",
          "2020-03-08T00:00:00",
          "2020-03-09T00:00:00",
          "2020-03-10T00:00:00",
          "2020-03-11T00:00:00",
          "2020-03-12T00:00:00",
          "2020-03-13T00:00:00",
          "2020-03-14T00:00:00",
          "2020-03-15T00:00:00",
          "2020-03-16T00:00:00",
          "2020-03-17T00:00:00",
          "2020-03-18T00:00:00",
          "2020-03-19T00:00:00",
          "2020-03-20T00:00:00",
          "2020-03-21T00:00:00",
          "2020-03-22T00:00:00",
          "2020-03-23T00:00:00",
          "2020-03-24T00:00:00",
          "2020-03-25T00:00:00",
          "2020-03-26T00:00:00",
          "2020-03-27T00:00:00",
          "2020-03-28T00:00:00",
          "2020-03-29T00:00:00",
          "2020-03-30T00:00:00",
          "2020-03-31T00:00:00",
          "2020-04-01T00:00:00",
          "2020-04-02T00:00:00",
          "2020-04-03T00:00:00",
          "2020-04-04T00:00:00",
          "2020-04-05T00:00:00",
          "2020-04-06T00:00:00",
          "2020-04-07T00:00:00",
          "2020-04-08T00:00:00",
          "2020-04-09T00:00:00",
          "2020-04-10T00:00:00",
          "2020-04-11T00:00:00",
          "2020-04-12T00:00:00",
          "2020-04-13T00:00:00",
          "2020-04-14T00:00:00",
          "2020-04-15T00:00:00",
          "2020-04-16T00:00:00",
          "2020-04-17T00:00:00",
          "2020-04-18T00:00:00",
          "2020-04-19T00:00:00",
          "2020-04-20T00:00:00",
          "2020-04-21T00:00:00",
          "2020-04-22T00:00:00",
          "2020-04-23T00:00:00",
          "2020-04-24T00:00:00",
          "2020-04-25T00:00:00",
          "2020-04-26T00:00:00",
          "2020-04-27T00:00:00",
          "2020-04-28T00:00:00",
          "2020-04-29T00:00:00",
          "2020-04-30T00:00:00",
          "2020-05-01T00:00:00",
          "2020-05-02T00:00:00",
          "2020-05-03T00:00:00",
          "2020-05-04T00:00:00",
          "2020-05-05T00:00:00",
          "2020-05-06T00:00:00",
          "2020-05-07T00:00:00",
          "2020-05-08T00:00:00",
          "2020-05-09T00:00:00",
          "2020-05-10T00:00:00",
          "2020-05-11T00:00:00",
          "2020-05-12T00:00:00",
          "2020-05-13T00:00:00",
          "2020-05-14T00:00:00"
         ],
         "xaxis": "x",
         "y": [
          28,
          30,
          36,
          39,
          52,
          61,
          107,
          126,
          143,
          222,
          284,
          472,
          623,
          852,
          1124,
          1487,
          2011,
          2616,
          3244,
          3946,
          4683,
          5150,
          6295,
          8058,
          9395,
          10865,
          12583,
          14352,
          16121,
          18177,
          18890,
          22886,
          23394,
          25227,
          27905,
          30384,
          33277,
          36711,
          39782,
          42716,
          45602,
          48228,
          51170,
          53796,
          55865,
          58358,
          60694,
          62494,
          64404,
          67003,
          68324,
          70251,
          72624,
          76034,
          78088,
          80840,
          83312,
          84975,
          87420,
          91692,
          97899,
          98351,
          108000,
          113787,
          122150,
          130915,
          139415,
          149082,
          164566,
          178034,
          193198,
          210269,
          225814,
          246152,
          260023,
          276534,
          300054,
          328703,
          353989,
          376104,
          402120,
          421722,
          448672,
          473980,
          510516,
          541592,
          567765,
          591719,
          623307,
          645308,
          679905,
          710046,
          738980,
          789585,
          817405,
          845985,
          873677,
          906955,
          948425,
          1013886,
          1052415,
          1093137,
          1125236,
          1162724,
          1198832,
          1245413,
          1284741,
          1322050,
          1375624,
          1408980,
          1456209,
          1493414,
          1548547,
          1587893
         ],
         "yaxis": "y"
        }
       ],
       "layout": {
        "legend": {
         "title": {
          "text": "Category"
         },
         "tracegroupgap": 0
        },
        "template": {
         "data": {
          "bar": [
           {
            "error_x": {
             "color": "#2a3f5f"
            },
            "error_y": {
             "color": "#2a3f5f"
            },
            "marker": {
             "line": {
              "color": "#E5ECF6",
              "width": 0.5
             }
            },
            "type": "bar"
           }
          ],
          "barpolar": [
           {
            "marker": {
             "line": {
              "color": "#E5ECF6",
              "width": 0.5
             }
            },
            "type": "barpolar"
           }
          ],
          "carpet": [
           {
            "aaxis": {
             "endlinecolor": "#2a3f5f",
             "gridcolor": "white",
             "linecolor": "white",
             "minorgridcolor": "white",
             "startlinecolor": "#2a3f5f"
            },
            "baxis": {
             "endlinecolor": "#2a3f5f",
             "gridcolor": "white",
             "linecolor": "white",
             "minorgridcolor": "white",
             "startlinecolor": "#2a3f5f"
            },
            "type": "carpet"
           }
          ],
          "choropleth": [
           {
            "colorbar": {
             "outlinewidth": 0,
             "ticks": ""
            },
            "type": "choropleth"
           }
          ],
          "contour": [
           {
            "colorbar": {
             "outlinewidth": 0,
             "ticks": ""
            },
            "colorscale": [
             [
              0,
              "#0d0887"
             ],
             [
              0.1111111111111111,
              "#46039f"
             ],
             [
              0.2222222222222222,
              "#7201a8"
             ],
             [
              0.3333333333333333,
              "#9c179e"
             ],
             [
              0.4444444444444444,
              "#bd3786"
             ],
             [
              0.5555555555555556,
              "#d8576b"
             ],
             [
              0.6666666666666666,
              "#ed7953"
             ],
             [
              0.7777777777777778,
              "#fb9f3a"
             ],
             [
              0.8888888888888888,
              "#fdca26"
             ],
             [
              1,
              "#f0f921"
             ]
            ],
            "type": "contour"
           }
          ],
          "contourcarpet": [
           {
            "colorbar": {
             "outlinewidth": 0,
             "ticks": ""
            },
            "type": "contourcarpet"
           }
          ],
          "heatmap": [
           {
            "colorbar": {
             "outlinewidth": 0,
             "ticks": ""
            },
            "colorscale": [
             [
              0,
              "#0d0887"
             ],
             [
              0.1111111111111111,
              "#46039f"
             ],
             [
              0.2222222222222222,
              "#7201a8"
             ],
             [
              0.3333333333333333,
              "#9c179e"
             ],
             [
              0.4444444444444444,
              "#bd3786"
             ],
             [
              0.5555555555555556,
              "#d8576b"
             ],
             [
              0.6666666666666666,
              "#ed7953"
             ],
             [
              0.7777777777777778,
              "#fb9f3a"
             ],
             [
              0.8888888888888888,
              "#fdca26"
             ],
             [
              1,
              "#f0f921"
             ]
            ],
            "type": "heatmap"
           }
          ],
          "heatmapgl": [
           {
            "colorbar": {
             "outlinewidth": 0,
             "ticks": ""
            },
            "colorscale": [
             [
              0,
              "#0d0887"
             ],
             [
              0.1111111111111111,
              "#46039f"
             ],
             [
              0.2222222222222222,
              "#7201a8"
             ],
             [
              0.3333333333333333,
              "#9c179e"
             ],
             [
              0.4444444444444444,
              "#bd3786"
             ],
             [
              0.5555555555555556,
              "#d8576b"
             ],
             [
              0.6666666666666666,
              "#ed7953"
             ],
             [
              0.7777777777777778,
              "#fb9f3a"
             ],
             [
              0.8888888888888888,
              "#fdca26"
             ],
             [
              1,
              "#f0f921"
             ]
            ],
            "type": "heatmapgl"
           }
          ],
          "histogram": [
           {
            "marker": {
             "colorbar": {
              "outlinewidth": 0,
              "ticks": ""
             }
            },
            "type": "histogram"
           }
          ],
          "histogram2d": [
           {
            "colorbar": {
             "outlinewidth": 0,
             "ticks": ""
            },
            "colorscale": [
             [
              0,
              "#0d0887"
             ],
             [
              0.1111111111111111,
              "#46039f"
             ],
             [
              0.2222222222222222,
              "#7201a8"
             ],
             [
              0.3333333333333333,
              "#9c179e"
             ],
             [
              0.4444444444444444,
              "#bd3786"
             ],
             [
              0.5555555555555556,
              "#d8576b"
             ],
             [
              0.6666666666666666,
              "#ed7953"
             ],
             [
              0.7777777777777778,
              "#fb9f3a"
             ],
             [
              0.8888888888888888,
              "#fdca26"
             ],
             [
              1,
              "#f0f921"
             ]
            ],
            "type": "histogram2d"
           }
          ],
          "histogram2dcontour": [
           {
            "colorbar": {
             "outlinewidth": 0,
             "ticks": ""
            },
            "colorscale": [
             [
              0,
              "#0d0887"
             ],
             [
              0.1111111111111111,
              "#46039f"
             ],
             [
              0.2222222222222222,
              "#7201a8"
             ],
             [
              0.3333333333333333,
              "#9c179e"
             ],
             [
              0.4444444444444444,
              "#bd3786"
             ],
             [
              0.5555555555555556,
              "#d8576b"
             ],
             [
              0.6666666666666666,
              "#ed7953"
             ],
             [
              0.7777777777777778,
              "#fb9f3a"
             ],
             [
              0.8888888888888888,
              "#fdca26"
             ],
             [
              1,
              "#f0f921"
             ]
            ],
            "type": "histogram2dcontour"
           }
          ],
          "mesh3d": [
           {
            "colorbar": {
             "outlinewidth": 0,
             "ticks": ""
            },
            "type": "mesh3d"
           }
          ],
          "parcoords": [
           {
            "line": {
             "colorbar": {
              "outlinewidth": 0,
              "ticks": ""
             }
            },
            "type": "parcoords"
           }
          ],
          "pie": [
           {
            "automargin": true,
            "type": "pie"
           }
          ],
          "scatter": [
           {
            "marker": {
             "colorbar": {
              "outlinewidth": 0,
              "ticks": ""
             }
            },
            "type": "scatter"
           }
          ],
          "scatter3d": [
           {
            "line": {
             "colorbar": {
              "outlinewidth": 0,
              "ticks": ""
             }
            },
            "marker": {
             "colorbar": {
              "outlinewidth": 0,
              "ticks": ""
             }
            },
            "type": "scatter3d"
           }
          ],
          "scattercarpet": [
           {
            "marker": {
             "colorbar": {
              "outlinewidth": 0,
              "ticks": ""
             }
            },
            "type": "scattercarpet"
           }
          ],
          "scattergeo": [
           {
            "marker": {
             "colorbar": {
              "outlinewidth": 0,
              "ticks": ""
             }
            },
            "type": "scattergeo"
           }
          ],
          "scattergl": [
           {
            "marker": {
             "colorbar": {
              "outlinewidth": 0,
              "ticks": ""
             }
            },
            "type": "scattergl"
           }
          ],
          "scattermapbox": [
           {
            "marker": {
             "colorbar": {
              "outlinewidth": 0,
              "ticks": ""
             }
            },
            "type": "scattermapbox"
           }
          ],
          "scatterpolar": [
           {
            "marker": {
             "colorbar": {
              "outlinewidth": 0,
              "ticks": ""
             }
            },
            "type": "scatterpolar"
           }
          ],
          "scatterpolargl": [
           {
            "marker": {
             "colorbar": {
              "outlinewidth": 0,
              "ticks": ""
             }
            },
            "type": "scatterpolargl"
           }
          ],
          "scatterternary": [
           {
            "marker": {
             "colorbar": {
              "outlinewidth": 0,
              "ticks": ""
             }
            },
            "type": "scatterternary"
           }
          ],
          "surface": [
           {
            "colorbar": {
             "outlinewidth": 0,
             "ticks": ""
            },
            "colorscale": [
             [
              0,
              "#0d0887"
             ],
             [
              0.1111111111111111,
              "#46039f"
             ],
             [
              0.2222222222222222,
              "#7201a8"
             ],
             [
              0.3333333333333333,
              "#9c179e"
             ],
             [
              0.4444444444444444,
              "#bd3786"
             ],
             [
              0.5555555555555556,
              "#d8576b"
             ],
             [
              0.6666666666666666,
              "#ed7953"
             ],
             [
              0.7777777777777778,
              "#fb9f3a"
             ],
             [
              0.8888888888888888,
              "#fdca26"
             ],
             [
              1,
              "#f0f921"
             ]
            ],
            "type": "surface"
           }
          ],
          "table": [
           {
            "cells": {
             "fill": {
              "color": "#EBF0F8"
             },
             "line": {
              "color": "white"
             }
            },
            "header": {
             "fill": {
              "color": "#C8D4E3"
             },
             "line": {
              "color": "white"
             }
            },
            "type": "table"
           }
          ]
         },
         "layout": {
          "annotationdefaults": {
           "arrowcolor": "#2a3f5f",
           "arrowhead": 0,
           "arrowwidth": 1
          },
          "coloraxis": {
           "colorbar": {
            "outlinewidth": 0,
            "ticks": ""
           }
          },
          "colorscale": {
           "diverging": [
            [
             0,
             "#8e0152"
            ],
            [
             0.1,
             "#c51b7d"
            ],
            [
             0.2,
             "#de77ae"
            ],
            [
             0.3,
             "#f1b6da"
            ],
            [
             0.4,
             "#fde0ef"
            ],
            [
             0.5,
             "#f7f7f7"
            ],
            [
             0.6,
             "#e6f5d0"
            ],
            [
             0.7,
             "#b8e186"
            ],
            [
             0.8,
             "#7fbc41"
            ],
            [
             0.9,
             "#4d9221"
            ],
            [
             1,
             "#276419"
            ]
           ],
           "sequential": [
            [
             0,
             "#0d0887"
            ],
            [
             0.1111111111111111,
             "#46039f"
            ],
            [
             0.2222222222222222,
             "#7201a8"
            ],
            [
             0.3333333333333333,
             "#9c179e"
            ],
            [
             0.4444444444444444,
             "#bd3786"
            ],
            [
             0.5555555555555556,
             "#d8576b"
            ],
            [
             0.6666666666666666,
             "#ed7953"
            ],
            [
             0.7777777777777778,
             "#fb9f3a"
            ],
            [
             0.8888888888888888,
             "#fdca26"
            ],
            [
             1,
             "#f0f921"
            ]
           ],
           "sequentialminus": [
            [
             0,
             "#0d0887"
            ],
            [
             0.1111111111111111,
             "#46039f"
            ],
            [
             0.2222222222222222,
             "#7201a8"
            ],
            [
             0.3333333333333333,
             "#9c179e"
            ],
            [
             0.4444444444444444,
             "#bd3786"
            ],
            [
             0.5555555555555556,
             "#d8576b"
            ],
            [
             0.6666666666666666,
             "#ed7953"
            ],
            [
             0.7777777777777778,
             "#fb9f3a"
            ],
            [
             0.8888888888888888,
             "#fdca26"
            ],
            [
             1,
             "#f0f921"
            ]
           ]
          },
          "colorway": [
           "#636efa",
           "#EF553B",
           "#00cc96",
           "#ab63fa",
           "#FFA15A",
           "#19d3f3",
           "#FF6692",
           "#B6E880",
           "#FF97FF",
           "#FECB52"
          ],
          "font": {
           "color": "#2a3f5f"
          },
          "geo": {
           "bgcolor": "white",
           "lakecolor": "white",
           "landcolor": "#E5ECF6",
           "showlakes": true,
           "showland": true,
           "subunitcolor": "white"
          },
          "hoverlabel": {
           "align": "left"
          },
          "hovermode": "closest",
          "mapbox": {
           "style": "light"
          },
          "paper_bgcolor": "white",
          "plot_bgcolor": "#E5ECF6",
          "polar": {
           "angularaxis": {
            "gridcolor": "white",
            "linecolor": "white",
            "ticks": ""
           },
           "bgcolor": "#E5ECF6",
           "radialaxis": {
            "gridcolor": "white",
            "linecolor": "white",
            "ticks": ""
           }
          },
          "scene": {
           "xaxis": {
            "backgroundcolor": "#E5ECF6",
            "gridcolor": "white",
            "gridwidth": 2,
            "linecolor": "white",
            "showbackground": true,
            "ticks": "",
            "zerolinecolor": "white"
           },
           "yaxis": {
            "backgroundcolor": "#E5ECF6",
            "gridcolor": "white",
            "gridwidth": 2,
            "linecolor": "white",
            "showbackground": true,
            "ticks": "",
            "zerolinecolor": "white"
           },
           "zaxis": {
            "backgroundcolor": "#E5ECF6",
            "gridcolor": "white",
            "gridwidth": 2,
            "linecolor": "white",
            "showbackground": true,
            "ticks": "",
            "zerolinecolor": "white"
           }
          },
          "shapedefaults": {
           "line": {
            "color": "#2a3f5f"
           }
          },
          "ternary": {
           "aaxis": {
            "gridcolor": "white",
            "linecolor": "white",
            "ticks": ""
           },
           "baxis": {
            "gridcolor": "white",
            "linecolor": "white",
            "ticks": ""
           },
           "bgcolor": "#E5ECF6",
           "caxis": {
            "gridcolor": "white",
            "linecolor": "white",
            "ticks": ""
           }
          },
          "title": {
           "x": 0.05
          },
          "xaxis": {
           "automargin": true,
           "gridcolor": "white",
           "linecolor": "white",
           "ticks": "",
           "title": {
            "standoff": 15
           },
           "zerolinecolor": "white",
           "zerolinewidth": 2
          },
          "yaxis": {
           "automargin": true,
           "gridcolor": "white",
           "linecolor": "white",
           "ticks": "",
           "title": {
            "standoff": 15
           },
           "zerolinecolor": "white",
           "zerolinewidth": 2
          }
         }
        },
        "title": {
         "text": "Global Cumulative Cases"
        },
        "xaxis": {
         "anchor": "y",
         "domain": [
          0,
          1
         ],
         "title": {
          "text": "Date"
         }
        },
        "yaxis": {
         "anchor": "x",
         "domain": [
          0,
          1
         ],
         "title": {
          "text": "NumberOfCases"
         }
        }
       }
      }
     },
     "metadata": {}
    },
    {
     "output_type": "display_data",
     "data": {
      "application/vnd.plotly.v1+json": {
       "config": {
        "plotlyServerURL": "https://plot.ly"
       },
       "data": [
        {
         "alignmentgroup": "True",
         "hovertemplate": "Date=%{x}<br>NewCases=%{y}<extra></extra>",
         "legendgroup": "",
         "marker": {
          "color": "#636efa"
         },
         "name": "",
         "offsetgroup": "",
         "orientation": "v",
         "showlegend": false,
         "textposition": "auto",
         "type": "bar",
         "x": [
          "2020-01-22T00:00:00",
          "2020-01-23T00:00:00",
          "2020-01-24T00:00:00",
          "2020-01-25T00:00:00",
          "2020-01-26T00:00:00",
          "2020-01-27T00:00:00",
          "2020-01-28T00:00:00",
          "2020-01-29T00:00:00",
          "2020-01-30T00:00:00",
          "2020-01-31T00:00:00",
          "2020-02-01T00:00:00",
          "2020-02-02T00:00:00",
          "2020-02-03T00:00:00",
          "2020-02-04T00:00:00",
          "2020-02-05T00:00:00",
          "2020-02-06T00:00:00",
          "2020-02-07T00:00:00",
          "2020-02-08T00:00:00",
          "2020-02-09T00:00:00",
          "2020-02-10T00:00:00",
          "2020-02-11T00:00:00",
          "2020-02-12T00:00:00",
          "2020-02-13T00:00:00",
          "2020-02-14T00:00:00",
          "2020-02-15T00:00:00",
          "2020-02-16T00:00:00",
          "2020-02-17T00:00:00",
          "2020-02-18T00:00:00",
          "2020-02-19T00:00:00",
          "2020-02-20T00:00:00",
          "2020-02-21T00:00:00",
          "2020-02-22T00:00:00",
          "2020-02-23T00:00:00",
          "2020-02-24T00:00:00",
          "2020-02-25T00:00:00",
          "2020-02-26T00:00:00",
          "2020-02-27T00:00:00",
          "2020-02-28T00:00:00",
          "2020-02-29T00:00:00",
          "2020-03-01T00:00:00",
          "2020-03-02T00:00:00",
          "2020-03-03T00:00:00",
          "2020-03-04T00:00:00",
          "2020-03-05T00:00:00",
          "2020-03-06T00:00:00",
          "2020-03-07T00:00:00",
          "2020-03-08T00:00:00",
          "2020-03-09T00:00:00",
          "2020-03-10T00:00:00",
          "2020-03-11T00:00:00",
          "2020-03-12T00:00:00",
          "2020-03-13T00:00:00",
          "2020-03-14T00:00:00",
          "2020-03-15T00:00:00",
          "2020-03-16T00:00:00",
          "2020-03-17T00:00:00",
          "2020-03-18T00:00:00",
          "2020-03-19T00:00:00",
          "2020-03-20T00:00:00",
          "2020-03-21T00:00:00",
          "2020-03-22T00:00:00",
          "2020-03-23T00:00:00",
          "2020-03-24T00:00:00",
          "2020-03-25T00:00:00",
          "2020-03-26T00:00:00",
          "2020-03-27T00:00:00",
          "2020-03-28T00:00:00",
          "2020-03-29T00:00:00",
          "2020-03-30T00:00:00",
          "2020-03-31T00:00:00",
          "2020-04-01T00:00:00",
          "2020-04-02T00:00:00",
          "2020-04-03T00:00:00",
          "2020-04-04T00:00:00",
          "2020-04-05T00:00:00",
          "2020-04-06T00:00:00",
          "2020-04-07T00:00:00",
          "2020-04-08T00:00:00",
          "2020-04-09T00:00:00",
          "2020-04-10T00:00:00",
          "2020-04-11T00:00:00",
          "2020-04-12T00:00:00",
          "2020-04-13T00:00:00",
          "2020-04-14T00:00:00",
          "2020-04-15T00:00:00",
          "2020-04-16T00:00:00",
          "2020-04-17T00:00:00",
          "2020-04-18T00:00:00",
          "2020-04-19T00:00:00",
          "2020-04-20T00:00:00",
          "2020-04-21T00:00:00",
          "2020-04-22T00:00:00",
          "2020-04-23T00:00:00",
          "2020-04-24T00:00:00",
          "2020-04-25T00:00:00",
          "2020-04-26T00:00:00",
          "2020-04-27T00:00:00",
          "2020-04-28T00:00:00",
          "2020-04-29T00:00:00",
          "2020-04-30T00:00:00",
          "2020-05-01T00:00:00",
          "2020-05-02T00:00:00",
          "2020-05-03T00:00:00",
          "2020-05-04T00:00:00",
          "2020-05-05T00:00:00",
          "2020-05-06T00:00:00",
          "2020-05-07T00:00:00",
          "2020-05-08T00:00:00",
          "2020-05-09T00:00:00",
          "2020-05-10T00:00:00",
          "2020-05-11T00:00:00",
          "2020-05-12T00:00:00",
          "2020-05-13T00:00:00",
          "2020-05-14T00:00:00"
         ],
         "xaxis": "x",
         "y": [
          518,
          99,
          287,
          493,
          684,
          809,
          2651,
          588,
          2068,
          1693,
          2111,
          4749,
          3094,
          4011,
          3743,
          3159,
          3597,
          2729,
          3030,
          2612,
          2040,
          419,
          15147,
          6517,
          2145,
          2194,
          2034,
          1878,
          503,
          558,
          622,
          1753,
          386,
          603,
          845,
          982,
          1358,
          1366,
          1899,
          2358,
          1937,
          2534,
          2280,
          2766,
          3915,
          4046,
          3974,
          3769,
          5030,
          7255,
          2477,
          16871,
          10895,
          11352,
          14154,
          15510,
          17741,
          27756,
          29632,
          32317,
          32438,
          41264,
          39824,
          49645,
          61971,
          63737,
          67394,
          59437,
          62210,
          75108,
          75042,
          80827,
          82416,
          80166,
          73684,
          71693,
          75002,
          83794,
          85323,
          92395,
          78082,
          99113,
          70015,
          70406,
          79858,
          96368,
          87842,
          77609,
          83544,
          70940,
          77319,
          75562,
          83795,
          87328,
          85409,
          73893,
          68689,
          73507,
          75058,
          84623,
          88648,
          82026,
          79145,
          76326,
          79636,
          93378,
          89649,
          92346,
          85945,
          77690,
          75803,
          84245,
          85271,
          95145
         ],
         "yaxis": "y"
        }
       ],
       "layout": {
        "barmode": "relative",
        "legend": {
         "tracegroupgap": 0
        },
        "template": {
         "data": {
          "bar": [
           {
            "error_x": {
             "color": "#2a3f5f"
            },
            "error_y": {
             "color": "#2a3f5f"
            },
            "marker": {
             "line": {
              "color": "#E5ECF6",
              "width": 0.5
             }
            },
            "type": "bar"
           }
          ],
          "barpolar": [
           {
            "marker": {
             "line": {
              "color": "#E5ECF6",
              "width": 0.5
             }
            },
            "type": "barpolar"
           }
          ],
          "carpet": [
           {
            "aaxis": {
             "endlinecolor": "#2a3f5f",
             "gridcolor": "white",
             "linecolor": "white",
             "minorgridcolor": "white",
             "startlinecolor": "#2a3f5f"
            },
            "baxis": {
             "endlinecolor": "#2a3f5f",
             "gridcolor": "white",
             "linecolor": "white",
             "minorgridcolor": "white",
             "startlinecolor": "#2a3f5f"
            },
            "type": "carpet"
           }
          ],
          "choropleth": [
           {
            "colorbar": {
             "outlinewidth": 0,
             "ticks": ""
            },
            "type": "choropleth"
           }
          ],
          "contour": [
           {
            "colorbar": {
             "outlinewidth": 0,
             "ticks": ""
            },
            "colorscale": [
             [
              0,
              "#0d0887"
             ],
             [
              0.1111111111111111,
              "#46039f"
             ],
             [
              0.2222222222222222,
              "#7201a8"
             ],
             [
              0.3333333333333333,
              "#9c179e"
             ],
             [
              0.4444444444444444,
              "#bd3786"
             ],
             [
              0.5555555555555556,
              "#d8576b"
             ],
             [
              0.6666666666666666,
              "#ed7953"
             ],
             [
              0.7777777777777778,
              "#fb9f3a"
             ],
             [
              0.8888888888888888,
              "#fdca26"
             ],
             [
              1,
              "#f0f921"
             ]
            ],
            "type": "contour"
           }
          ],
          "contourcarpet": [
           {
            "colorbar": {
             "outlinewidth": 0,
             "ticks": ""
            },
            "type": "contourcarpet"
           }
          ],
          "heatmap": [
           {
            "colorbar": {
             "outlinewidth": 0,
             "ticks": ""
            },
            "colorscale": [
             [
              0,
              "#0d0887"
             ],
             [
              0.1111111111111111,
              "#46039f"
             ],
             [
              0.2222222222222222,
              "#7201a8"
             ],
             [
              0.3333333333333333,
              "#9c179e"
             ],
             [
              0.4444444444444444,
              "#bd3786"
             ],
             [
              0.5555555555555556,
              "#d8576b"
             ],
             [
              0.6666666666666666,
              "#ed7953"
             ],
             [
              0.7777777777777778,
              "#fb9f3a"
             ],
             [
              0.8888888888888888,
              "#fdca26"
             ],
             [
              1,
              "#f0f921"
             ]
            ],
            "type": "heatmap"
           }
          ],
          "heatmapgl": [
           {
            "colorbar": {
             "outlinewidth": 0,
             "ticks": ""
            },
            "colorscale": [
             [
              0,
              "#0d0887"
             ],
             [
              0.1111111111111111,
              "#46039f"
             ],
             [
              0.2222222222222222,
              "#7201a8"
             ],
             [
              0.3333333333333333,
              "#9c179e"
             ],
             [
              0.4444444444444444,
              "#bd3786"
             ],
             [
              0.5555555555555556,
              "#d8576b"
             ],
             [
              0.6666666666666666,
              "#ed7953"
             ],
             [
              0.7777777777777778,
              "#fb9f3a"
             ],
             [
              0.8888888888888888,
              "#fdca26"
             ],
             [
              1,
              "#f0f921"
             ]
            ],
            "type": "heatmapgl"
           }
          ],
          "histogram": [
           {
            "marker": {
             "colorbar": {
              "outlinewidth": 0,
              "ticks": ""
             }
            },
            "type": "histogram"
           }
          ],
          "histogram2d": [
           {
            "colorbar": {
             "outlinewidth": 0,
             "ticks": ""
            },
            "colorscale": [
             [
              0,
              "#0d0887"
             ],
             [
              0.1111111111111111,
              "#46039f"
             ],
             [
              0.2222222222222222,
              "#7201a8"
             ],
             [
              0.3333333333333333,
              "#9c179e"
             ],
             [
              0.4444444444444444,
              "#bd3786"
             ],
             [
              0.5555555555555556,
              "#d8576b"
             ],
             [
              0.6666666666666666,
              "#ed7953"
             ],
             [
              0.7777777777777778,
              "#fb9f3a"
             ],
             [
              0.8888888888888888,
              "#fdca26"
             ],
             [
              1,
              "#f0f921"
             ]
            ],
            "type": "histogram2d"
           }
          ],
          "histogram2dcontour": [
           {
            "colorbar": {
             "outlinewidth": 0,
             "ticks": ""
            },
            "colorscale": [
             [
              0,
              "#0d0887"
             ],
             [
              0.1111111111111111,
              "#46039f"
             ],
             [
              0.2222222222222222,
              "#7201a8"
             ],
             [
              0.3333333333333333,
              "#9c179e"
             ],
             [
              0.4444444444444444,
              "#bd3786"
             ],
             [
              0.5555555555555556,
              "#d8576b"
             ],
             [
              0.6666666666666666,
              "#ed7953"
             ],
             [
              0.7777777777777778,
              "#fb9f3a"
             ],
             [
              0.8888888888888888,
              "#fdca26"
             ],
             [
              1,
              "#f0f921"
             ]
            ],
            "type": "histogram2dcontour"
           }
          ],
          "mesh3d": [
           {
            "colorbar": {
             "outlinewidth": 0,
             "ticks": ""
            },
            "type": "mesh3d"
           }
          ],
          "parcoords": [
           {
            "line": {
             "colorbar": {
              "outlinewidth": 0,
              "ticks": ""
             }
            },
            "type": "parcoords"
           }
          ],
          "pie": [
           {
            "automargin": true,
            "type": "pie"
           }
          ],
          "scatter": [
           {
            "marker": {
             "colorbar": {
              "outlinewidth": 0,
              "ticks": ""
             }
            },
            "type": "scatter"
           }
          ],
          "scatter3d": [
           {
            "line": {
             "colorbar": {
              "outlinewidth": 0,
              "ticks": ""
             }
            },
            "marker": {
             "colorbar": {
              "outlinewidth": 0,
              "ticks": ""
             }
            },
            "type": "scatter3d"
           }
          ],
          "scattercarpet": [
           {
            "marker": {
             "colorbar": {
              "outlinewidth": 0,
              "ticks": ""
             }
            },
            "type": "scattercarpet"
           }
          ],
          "scattergeo": [
           {
            "marker": {
             "colorbar": {
              "outlinewidth": 0,
              "ticks": ""
             }
            },
            "type": "scattergeo"
           }
          ],
          "scattergl": [
           {
            "marker": {
             "colorbar": {
              "outlinewidth": 0,
              "ticks": ""
             }
            },
            "type": "scattergl"
           }
          ],
          "scattermapbox": [
           {
            "marker": {
             "colorbar": {
              "outlinewidth": 0,
              "ticks": ""
             }
            },
            "type": "scattermapbox"
           }
          ],
          "scatterpolar": [
           {
            "marker": {
             "colorbar": {
              "outlinewidth": 0,
              "ticks": ""
             }
            },
            "type": "scatterpolar"
           }
          ],
          "scatterpolargl": [
           {
            "marker": {
             "colorbar": {
              "outlinewidth": 0,
              "ticks": ""
             }
            },
            "type": "scatterpolargl"
           }
          ],
          "scatterternary": [
           {
            "marker": {
             "colorbar": {
              "outlinewidth": 0,
              "ticks": ""
             }
            },
            "type": "scatterternary"
           }
          ],
          "surface": [
           {
            "colorbar": {
             "outlinewidth": 0,
             "ticks": ""
            },
            "colorscale": [
             [
              0,
              "#0d0887"
             ],
             [
              0.1111111111111111,
              "#46039f"
             ],
             [
              0.2222222222222222,
              "#7201a8"
             ],
             [
              0.3333333333333333,
              "#9c179e"
             ],
             [
              0.4444444444444444,
              "#bd3786"
             ],
             [
              0.5555555555555556,
              "#d8576b"
             ],
             [
              0.6666666666666666,
              "#ed7953"
             ],
             [
              0.7777777777777778,
              "#fb9f3a"
             ],
             [
              0.8888888888888888,
              "#fdca26"
             ],
             [
              1,
              "#f0f921"
             ]
            ],
            "type": "surface"
           }
          ],
          "table": [
           {
            "cells": {
             "fill": {
              "color": "#EBF0F8"
             },
             "line": {
              "color": "white"
             }
            },
            "header": {
             "fill": {
              "color": "#C8D4E3"
             },
             "line": {
              "color": "white"
             }
            },
            "type": "table"
           }
          ]
         },
         "layout": {
          "annotationdefaults": {
           "arrowcolor": "#2a3f5f",
           "arrowhead": 0,
           "arrowwidth": 1
          },
          "coloraxis": {
           "colorbar": {
            "outlinewidth": 0,
            "ticks": ""
           }
          },
          "colorscale": {
           "diverging": [
            [
             0,
             "#8e0152"
            ],
            [
             0.1,
             "#c51b7d"
            ],
            [
             0.2,
             "#de77ae"
            ],
            [
             0.3,
             "#f1b6da"
            ],
            [
             0.4,
             "#fde0ef"
            ],
            [
             0.5,
             "#f7f7f7"
            ],
            [
             0.6,
             "#e6f5d0"
            ],
            [
             0.7,
             "#b8e186"
            ],
            [
             0.8,
             "#7fbc41"
            ],
            [
             0.9,
             "#4d9221"
            ],
            [
             1,
             "#276419"
            ]
           ],
           "sequential": [
            [
             0,
             "#0d0887"
            ],
            [
             0.1111111111111111,
             "#46039f"
            ],
            [
             0.2222222222222222,
             "#7201a8"
            ],
            [
             0.3333333333333333,
             "#9c179e"
            ],
            [
             0.4444444444444444,
             "#bd3786"
            ],
            [
             0.5555555555555556,
             "#d8576b"
            ],
            [
             0.6666666666666666,
             "#ed7953"
            ],
            [
             0.7777777777777778,
             "#fb9f3a"
            ],
            [
             0.8888888888888888,
             "#fdca26"
            ],
            [
             1,
             "#f0f921"
            ]
           ],
           "sequentialminus": [
            [
             0,
             "#0d0887"
            ],
            [
             0.1111111111111111,
             "#46039f"
            ],
            [
             0.2222222222222222,
             "#7201a8"
            ],
            [
             0.3333333333333333,
             "#9c179e"
            ],
            [
             0.4444444444444444,
             "#bd3786"
            ],
            [
             0.5555555555555556,
             "#d8576b"
            ],
            [
             0.6666666666666666,
             "#ed7953"
            ],
            [
             0.7777777777777778,
             "#fb9f3a"
            ],
            [
             0.8888888888888888,
             "#fdca26"
            ],
            [
             1,
             "#f0f921"
            ]
           ]
          },
          "colorway": [
           "#636efa",
           "#EF553B",
           "#00cc96",
           "#ab63fa",
           "#FFA15A",
           "#19d3f3",
           "#FF6692",
           "#B6E880",
           "#FF97FF",
           "#FECB52"
          ],
          "font": {
           "color": "#2a3f5f"
          },
          "geo": {
           "bgcolor": "white",
           "lakecolor": "white",
           "landcolor": "#E5ECF6",
           "showlakes": true,
           "showland": true,
           "subunitcolor": "white"
          },
          "hoverlabel": {
           "align": "left"
          },
          "hovermode": "closest",
          "mapbox": {
           "style": "light"
          },
          "paper_bgcolor": "white",
          "plot_bgcolor": "#E5ECF6",
          "polar": {
           "angularaxis": {
            "gridcolor": "white",
            "linecolor": "white",
            "ticks": ""
           },
           "bgcolor": "#E5ECF6",
           "radialaxis": {
            "gridcolor": "white",
            "linecolor": "white",
            "ticks": ""
           }
          },
          "scene": {
           "xaxis": {
            "backgroundcolor": "#E5ECF6",
            "gridcolor": "white",
            "gridwidth": 2,
            "linecolor": "white",
            "showbackground": true,
            "ticks": "",
            "zerolinecolor": "white"
           },
           "yaxis": {
            "backgroundcolor": "#E5ECF6",
            "gridcolor": "white",
            "gridwidth": 2,
            "linecolor": "white",
            "showbackground": true,
            "ticks": "",
            "zerolinecolor": "white"
           },
           "zaxis": {
            "backgroundcolor": "#E5ECF6",
            "gridcolor": "white",
            "gridwidth": 2,
            "linecolor": "white",
            "showbackground": true,
            "ticks": "",
            "zerolinecolor": "white"
           }
          },
          "shapedefaults": {
           "line": {
            "color": "#2a3f5f"
           }
          },
          "ternary": {
           "aaxis": {
            "gridcolor": "white",
            "linecolor": "white",
            "ticks": ""
           },
           "baxis": {
            "gridcolor": "white",
            "linecolor": "white",
            "ticks": ""
           },
           "bgcolor": "#E5ECF6",
           "caxis": {
            "gridcolor": "white",
            "linecolor": "white",
            "ticks": ""
           }
          },
          "title": {
           "x": 0.05
          },
          "xaxis": {
           "automargin": true,
           "gridcolor": "white",
           "linecolor": "white",
           "ticks": "",
           "title": {
            "standoff": 15
           },
           "zerolinecolor": "white",
           "zerolinewidth": 2
          },
          "yaxis": {
           "automargin": true,
           "gridcolor": "white",
           "linecolor": "white",
           "ticks": "",
           "title": {
            "standoff": 15
           },
           "zerolinecolor": "white",
           "zerolinewidth": 2
          }
         }
        },
        "title": {
         "text": "Global New Cases"
        },
        "xaxis": {
         "anchor": "y",
         "domain": [
          0,
          1
         ],
         "title": {
          "text": "Date"
         }
        },
        "yaxis": {
         "anchor": "x",
         "domain": [
          0,
          1
         ],
         "title": {
          "text": "NewCases"
         }
        }
       }
      }
     },
     "metadata": {}
    }
   ],
   "source": [
    "cum_cases('Global')\n",
    "new_cases('Global')"
   ]
  }
 ],
 "metadata": {
  "language_info": {
   "codemirror_mode": {
    "name": "ipython",
    "version": 3
   },
   "file_extension": ".py",
   "mimetype": "text/x-python",
   "name": "python",
   "nbconvert_exporter": "python",
   "pygments_lexer": "ipython3",
   "version": "3.8.2-final"
  },
  "orig_nbformat": 2,
  "kernelspec": {
   "name": "python3",
   "display_name": "Python 3"
  }
 },
 "nbformat": 4,
 "nbformat_minor": 2
}