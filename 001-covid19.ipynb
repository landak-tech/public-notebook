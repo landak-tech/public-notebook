{
 "cells": [
  {
   "cell_type": "code",
   "execution_count": 1,
   "metadata": {},
   "outputs": [],
   "source": [
    "import pandas as pd\n",
    "import numpy as np\n",
    "import scipy as sp\n",
    "from scipy.optimize import curve_fit\n",
    "import matplotlib.pyplot as plt\n",
    "import plotly.express as px\n",
    "pd.options.mode.chained_assignment = None  # default='warn'"
   ]
  },
  {
   "cell_type": "code",
   "execution_count": 161,
   "metadata": {},
   "outputs": [
    {
     "output_type": "stream",
     "name": "stdout",
     "text": "True    188\nName: Country/Region, dtype: int64\nTrue    188\nName: Country/Region, dtype: int64\n"
    }
   ],
   "source": [
    "confirmed = pd.read_csv('https://raw.githubusercontent.com/CSSEGISandData/COVID-19/master/csse_covid_19_data/csse_covid_19_time_series/time_series_covid19_confirmed_global.csv').groupby('Country/Region', as_index=False).sum()\n",
    "death = pd.read_csv('https://raw.githubusercontent.com/CSSEGISandData/COVID-19/master/csse_covid_19_data/csse_covid_19_time_series/time_series_covid19_deaths_global.csv').groupby('Country/Region', as_index=False).sum()\n",
    "recovered = pd.read_csv('https://raw.githubusercontent.com/CSSEGISandData/COVID-19/master/csse_covid_19_data/csse_covid_19_time_series/time_series_covid19_recovered_global.csv').groupby('Country/Region', as_index=False).sum()\n",
    "reported_countries = len(confirmed['Country/Region'])\n",
    "print(confirmed['Country/Region'].isin(death['Country/Region']).value_counts())\n",
    "print(confirmed['Country/Region'].isin(recovered['Country/Region']).value_counts())"
   ]
  },
  {
   "cell_type": "code",
   "execution_count": 162,
   "metadata": {},
   "outputs": [],
   "source": [
    "confirmed_daily = confirmed.drop(['Lat','Long'],1).transpose().reset_index()\n",
    "confirmed_daily = pd.DataFrame(confirmed_daily.values[1:], columns=confirmed_daily.iloc[0,:])\n",
    "confirmed_daily['Global'] = confirmed_daily.iloc[:,1:].sum(axis=1)\n",
    "confirmed_daily = confirmed_daily.rename(columns={'Country/Region':'Date'})\n",
    "death_daily = death.drop(['Lat','Long'],1).transpose().reset_index()\n",
    "death_daily = pd.DataFrame(death_daily.values[1:], columns=death_daily.iloc[0,:])\n",
    "death_daily['Global'] = death_daily.iloc[:,1:].sum(axis=1)\n",
    "death_daily = death_daily.rename(columns={'Country/Region':'Date'})\n",
    "recovered_daily = recovered.drop(['Lat','Long'],1).transpose().reset_index()\n",
    "recovered_daily = pd.DataFrame(recovered_daily.values[1:], columns=recovered_daily.iloc[0,:])\n",
    "recovered_daily['Global'] = recovered_daily.iloc[:,1:].sum(axis=1)\n",
    "recovered_daily = recovered_daily.rename(columns={'Country/Region':'Date'})\n"
   ]
  },
  {
   "cell_type": "code",
   "execution_count": 163,
   "metadata": {},
   "outputs": [
    {
     "output_type": "execute_result",
     "data": {
      "text/plain": "         Country/Region       Long        Lat  ConfirmedCases  \\\n0           Afghanistan  65.000000  33.000000            8145   \n1               Albania  20.168300  41.153300             964   \n2               Algeria   1.659600  28.033900            7542   \n3               Andorra   1.521800  42.506300             762   \n4                Angola  17.873900 -11.202700              52   \n..                  ...        ...        ...             ...   \n183  West Bank and Gaza  35.233200  31.952200             398   \n184      Western Sahara -12.885800  24.215500               6   \n185               Yemen  48.516388  15.552727             184   \n186              Zambia  28.283300 -15.416700             832   \n187            Zimbabwe  30.000000 -20.000000              48   \n\n     NewConfirmedCases  DeathCases  NewDeathCases  RecoveredCases  \\\n0                  492         187              9             930   \n1                   15          31              0             758   \n2                  165         568              7            3968   \n3                    1          51              0             639   \n4                    0           3              0              17   \n..                 ...         ...            ...             ...   \n183                  7           2              0             346   \n184                  0           0              0               6   \n185                 17          30              2               5   \n186                 60           7              0             197   \n187                  2           4              0              18   \n\n     NewRecoveredCases  ActiveCases  NewActiveCases  \n0                   80         7028             403  \n1                   16          175              -1  \n2                  222         3006             -64  \n3                   11           72             -10  \n4                    0           32               0  \n..                 ...          ...             ...  \n183                  0           50               7  \n184                  0            0               0  \n185                  0          149              15  \n186                  5          628              55  \n187                  0           26               2  \n\n[188 rows x 11 columns]",
      "text/html": "<div>\n<style scoped>\n    .dataframe tbody tr th:only-of-type {\n        vertical-align: middle;\n    }\n\n    .dataframe tbody tr th {\n        vertical-align: top;\n    }\n\n    .dataframe thead th {\n        text-align: right;\n    }\n</style>\n<table border=\"1\" class=\"dataframe\">\n  <thead>\n    <tr style=\"text-align: right;\">\n      <th></th>\n      <th>Country/Region</th>\n      <th>Long</th>\n      <th>Lat</th>\n      <th>ConfirmedCases</th>\n      <th>NewConfirmedCases</th>\n      <th>DeathCases</th>\n      <th>NewDeathCases</th>\n      <th>RecoveredCases</th>\n      <th>NewRecoveredCases</th>\n      <th>ActiveCases</th>\n      <th>NewActiveCases</th>\n    </tr>\n  </thead>\n  <tbody>\n    <tr>\n      <th>0</th>\n      <td>Afghanistan</td>\n      <td>65.000000</td>\n      <td>33.000000</td>\n      <td>8145</td>\n      <td>492</td>\n      <td>187</td>\n      <td>9</td>\n      <td>930</td>\n      <td>80</td>\n      <td>7028</td>\n      <td>403</td>\n    </tr>\n    <tr>\n      <th>1</th>\n      <td>Albania</td>\n      <td>20.168300</td>\n      <td>41.153300</td>\n      <td>964</td>\n      <td>15</td>\n      <td>31</td>\n      <td>0</td>\n      <td>758</td>\n      <td>16</td>\n      <td>175</td>\n      <td>-1</td>\n    </tr>\n    <tr>\n      <th>2</th>\n      <td>Algeria</td>\n      <td>1.659600</td>\n      <td>28.033900</td>\n      <td>7542</td>\n      <td>165</td>\n      <td>568</td>\n      <td>7</td>\n      <td>3968</td>\n      <td>222</td>\n      <td>3006</td>\n      <td>-64</td>\n    </tr>\n    <tr>\n      <th>3</th>\n      <td>Andorra</td>\n      <td>1.521800</td>\n      <td>42.506300</td>\n      <td>762</td>\n      <td>1</td>\n      <td>51</td>\n      <td>0</td>\n      <td>639</td>\n      <td>11</td>\n      <td>72</td>\n      <td>-10</td>\n    </tr>\n    <tr>\n      <th>4</th>\n      <td>Angola</td>\n      <td>17.873900</td>\n      <td>-11.202700</td>\n      <td>52</td>\n      <td>0</td>\n      <td>3</td>\n      <td>0</td>\n      <td>17</td>\n      <td>0</td>\n      <td>32</td>\n      <td>0</td>\n    </tr>\n    <tr>\n      <th>...</th>\n      <td>...</td>\n      <td>...</td>\n      <td>...</td>\n      <td>...</td>\n      <td>...</td>\n      <td>...</td>\n      <td>...</td>\n      <td>...</td>\n      <td>...</td>\n      <td>...</td>\n      <td>...</td>\n    </tr>\n    <tr>\n      <th>183</th>\n      <td>West Bank and Gaza</td>\n      <td>35.233200</td>\n      <td>31.952200</td>\n      <td>398</td>\n      <td>7</td>\n      <td>2</td>\n      <td>0</td>\n      <td>346</td>\n      <td>0</td>\n      <td>50</td>\n      <td>7</td>\n    </tr>\n    <tr>\n      <th>184</th>\n      <td>Western Sahara</td>\n      <td>-12.885800</td>\n      <td>24.215500</td>\n      <td>6</td>\n      <td>0</td>\n      <td>0</td>\n      <td>0</td>\n      <td>6</td>\n      <td>0</td>\n      <td>0</td>\n      <td>0</td>\n    </tr>\n    <tr>\n      <th>185</th>\n      <td>Yemen</td>\n      <td>48.516388</td>\n      <td>15.552727</td>\n      <td>184</td>\n      <td>17</td>\n      <td>30</td>\n      <td>2</td>\n      <td>5</td>\n      <td>0</td>\n      <td>149</td>\n      <td>15</td>\n    </tr>\n    <tr>\n      <th>186</th>\n      <td>Zambia</td>\n      <td>28.283300</td>\n      <td>-15.416700</td>\n      <td>832</td>\n      <td>60</td>\n      <td>7</td>\n      <td>0</td>\n      <td>197</td>\n      <td>5</td>\n      <td>628</td>\n      <td>55</td>\n    </tr>\n    <tr>\n      <th>187</th>\n      <td>Zimbabwe</td>\n      <td>30.000000</td>\n      <td>-20.000000</td>\n      <td>48</td>\n      <td>2</td>\n      <td>4</td>\n      <td>0</td>\n      <td>18</td>\n      <td>0</td>\n      <td>26</td>\n      <td>2</td>\n    </tr>\n  </tbody>\n</table>\n<p>188 rows × 11 columns</p>\n</div>"
     },
     "metadata": {},
     "execution_count": 163
    }
   ],
   "source": [
    "table = confirmed[['Country/Region','Long','Lat']]\n",
    "table['ConfirmedCases'] = confirmed.iloc[:,-1]\n",
    "table['NewConfirmedCases'] = confirmed.iloc[:,-1] - confirmed.iloc[:,-2]\n",
    "table['DeathCases'] = death.iloc[:,-1]\n",
    "table['NewDeathCases'] = death.iloc[:,-1] - death.iloc[:,-2]\n",
    "table['RecoveredCases'] = recovered.iloc[:,-1]\n",
    "table['NewRecoveredCases'] = recovered.iloc[:,-1] - recovered.iloc[:,-2]\n",
    "table = table.fillna(0)\n",
    "table['ActiveCases'] = table['ConfirmedCases'] - table['DeathCases'] - table['RecoveredCases']\n",
    "table['NewActiveCases'] = table['NewConfirmedCases'] - table['NewDeathCases'] - table['NewRecoveredCases']\n",
    "table = table.sort_values(by='Country/Region')\n",
    "table"
   ]
  },
  {
   "cell_type": "code",
   "execution_count": 164,
   "metadata": {},
   "outputs": [
    {
     "output_type": "execute_result",
     "data": {
      "text/plain": "       Cases      Total     New\n0     Active  2,770,891  35,679\n1  Confirmed  4,996,472  98,980\n2      Death    328,115   4,830\n3  Recovered  1,897,466  58,471",
      "text/html": "<div>\n<style scoped>\n    .dataframe tbody tr th:only-of-type {\n        vertical-align: middle;\n    }\n\n    .dataframe tbody tr th {\n        vertical-align: top;\n    }\n\n    .dataframe thead th {\n        text-align: right;\n    }\n</style>\n<table border=\"1\" class=\"dataframe\">\n  <thead>\n    <tr style=\"text-align: right;\">\n      <th></th>\n      <th>Cases</th>\n      <th>Total</th>\n      <th>New</th>\n    </tr>\n  </thead>\n  <tbody>\n    <tr>\n      <th>0</th>\n      <td>Active</td>\n      <td>2,770,891</td>\n      <td>35,679</td>\n    </tr>\n    <tr>\n      <th>1</th>\n      <td>Confirmed</td>\n      <td>4,996,472</td>\n      <td>98,980</td>\n    </tr>\n    <tr>\n      <th>2</th>\n      <td>Death</td>\n      <td>328,115</td>\n      <td>4,830</td>\n    </tr>\n    <tr>\n      <th>3</th>\n      <td>Recovered</td>\n      <td>1,897,466</td>\n      <td>58,471</td>\n    </tr>\n  </tbody>\n</table>\n</div>"
     },
     "metadata": {},
     "execution_count": 164
    }
   ],
   "source": [
    "active_total = table['ActiveCases'].sum()\n",
    "active_new_total = table['NewActiveCases'].sum()\n",
    "confirmed_total = table['ConfirmedCases'].sum()\n",
    "confirmed_new_total = table['NewConfirmedCases'].sum()\n",
    "death_total = table['DeathCases'].sum()\n",
    "death_new_total = table['NewDeathCases'].sum()\n",
    "recovered_total = table['RecoveredCases'].sum()\n",
    "recovered_new_total = table['NewRecoveredCases'].sum()\n",
    "summary_total = {'Cases':['Active','Confirmed','Death','Recovered'],'Total':[f'{active_total:,}',f'{confirmed_total:,}',f'{death_total:,}',f'{recovered_total:,}'],'New':[f'{active_new_total:,}',f'{confirmed_new_total:,}',f'{death_new_total:,}',f'{recovered_new_total:,}']}\n",
    "summary_total = pd.DataFrame(summary_total, columns = ['Cases','Total','New'])\n",
    "summary_total"
   ]
  },
  {
   "cell_type": "code",
   "execution_count": 165,
   "metadata": {},
   "outputs": [],
   "source": [
    "confirmed_table = table[['ConfirmedCases','Country/Region']].groupby('Country/Region', as_index=False).agg({\"ConfirmedCases\": \"sum\"})\n",
    "death_table = table[['DeathCases','Country/Region']].groupby('Country/Region', as_index=False).agg({\"DeathCases\": \"sum\"})\n",
    "recovered_table = table[['RecoveredCases','Country/Region']].groupby('Country/Region', as_index=False).agg({\"RecoveredCases\": \"sum\"})"
   ]
  },
  {
   "cell_type": "code",
   "execution_count": 166,
   "metadata": {},
   "outputs": [
    {
     "output_type": "display_data",
     "data": {
      "application/vnd.plotly.v1+json": {
       "config": {
        "plotlyServerURL": "https://plot.ly"
       },
       "data": [
        {
         "customdata": [
          [
           8145
          ],
          [
           964
          ],
          [
           7542
          ],
          [
           762
          ],
          [
           52
          ],
          [
           25
          ],
          [
           9283
          ],
          [
           5271
          ],
          [
           7081
          ],
          [
           16353
          ],
          [
           3631
          ],
          [
           97
          ],
          [
           7888
          ],
          [
           26738
          ],
          [
           90
          ],
          [
           32426
          ],
          [
           55983
          ],
          [
           18
          ],
          [
           130
          ],
          [
           21
          ],
          [
           4919
          ],
          [
           2338
          ],
          [
           25
          ],
          [
           291579
          ],
          [
           141
          ],
          [
           2292
          ],
          [
           809
          ],
          [
           199
          ],
          [
           42
          ],
          [
           349
          ],
          [
           122
          ],
          [
           3733
          ],
          [
           81575
          ],
          [
           418
          ],
          [
           565
          ],
          [
           53617
          ],
          [
           84063
          ],
          [
           17687
          ],
          [
           34
          ],
          [
           420
          ],
          [
           1731
          ],
          [
           897
          ],
          [
           2231
          ],
          [
           2234
          ],
          [
           1900
          ],
          [
           922
          ],
          [
           8721
          ],
          [
           11315
          ],
          [
           712
          ],
          [
           1828
          ],
          [
           16
          ],
          [
           13477
          ],
          [
           34854
          ],
          [
           14229
          ],
          [
           1571
          ],
          [
           890
          ],
          [
           39
          ],
          [
           1794
          ],
          [
           217
          ],
          [
           389
          ],
          [
           18
          ],
          [
           6443
          ],
          [
           181700
          ],
          [
           1567
          ],
          [
           24
          ],
          [
           713
          ],
          [
           178473
          ],
          [
           6269
          ],
          [
           2850
          ],
          [
           22
          ],
          [
           2265
          ],
          [
           2863
          ],
          [
           1089
          ],
          [
           125
          ],
          [
           596
          ],
          [
           12
          ],
          [
           2955
          ],
          [
           3598
          ],
          [
           1803
          ],
          [
           112028
          ],
          [
           19189
          ],
          [
           126949
          ],
          [
           3724
          ],
          [
           24315
          ],
          [
           16667
          ],
          [
           227364
          ],
          [
           529
          ],
          [
           16367
          ],
          [
           672
          ],
          [
           6969
          ],
          [
           1029
          ],
          [
           11122
          ],
          [
           989
          ],
          [
           17568
          ],
          [
           1270
          ],
          [
           19
          ],
          [
           1016
          ],
          [
           961
          ],
          [
           1
          ],
          [
           238
          ],
          [
           69
          ],
          [
           82
          ],
          [
           1577
          ],
          [
           3971
          ],
          [
           9
          ],
          [
           371
          ],
          [
           71
          ],
          [
           7009
          ],
          [
           1186
          ],
          [
           931
          ],
          [
           584
          ],
          [
           141
          ],
          [
           332
          ],
          [
           56594
          ],
          [
           6553
          ],
          [
           97
          ],
          [
           140
          ],
          [
           324
          ],
          [
           7133
          ],
          [
           156
          ],
          [
           16
          ],
          [
           427
          ],
          [
           44647
          ],
          [
           1503
          ],
          [
           254
          ],
          [
           920
          ],
          [
           6677
          ],
          [
           1858
          ],
          [
           8281
          ],
          [
           6043
          ],
          [
           45898
          ],
          [
           9977
          ],
          [
           8
          ],
          [
           833
          ],
          [
           104020
          ],
          [
           13221
          ],
          [
           19739
          ],
          [
           29660
          ],
          [
           37097
          ],
          [
           17387
          ],
          [
           308705
          ],
          [
           314
          ],
          [
           15
          ],
          [
           18
          ],
          [
           18
          ],
          [
           656
          ],
          [
           251
          ],
          [
           62545
          ],
          [
           2714
          ],
          [
           10833
          ],
          [
           11
          ],
          [
           570
          ],
          [
           29364
          ],
          [
           1496
          ],
          [
           1468
          ],
          [
           1573
          ],
          [
           18003
          ],
          [
           290
          ],
          [
           232555
          ],
          [
           1028
          ],
          [
           2728
          ],
          [
           11
          ],
          [
           31523
          ],
          [
           30658
          ],
          [
           58
          ],
          [
           440
          ],
          [
           2140
          ],
          [
           509
          ],
          [
           3034
          ],
          [
           24
          ],
          [
           340
          ],
          [
           116
          ],
          [
           1045
          ],
          [
           152587
          ],
          [
           1551853
          ],
          [
           264
          ],
          [
           19230
          ],
          [
           26004
          ],
          [
           249619
          ],
          [
           746
          ],
          [
           2939
          ],
          [
           824
          ],
          [
           324
          ],
          [
           398
          ],
          [
           6
          ],
          [
           184
          ],
          [
           832
          ],
          [
           48
          ]
         ],
         "hovertemplate": "<b>%{hovertext}</b><br><br>ConfirmedCases=%{marker.color}<br>Lat=%{lat}<br>Long=%{lon}<extra></extra>",
         "hovertext": [
          "Afghanistan",
          "Albania",
          "Algeria",
          "Andorra",
          "Angola",
          "Antigua and Barbuda",
          "Argentina",
          "Armenia",
          "Australia",
          "Austria",
          "Azerbaijan",
          "Bahamas",
          "Bahrain",
          "Bangladesh",
          "Barbados",
          "Belarus",
          "Belgium",
          "Belize",
          "Benin",
          "Bhutan",
          "Bolivia",
          "Bosnia and Herzegovina",
          "Botswana",
          "Brazil",
          "Brunei",
          "Bulgaria",
          "Burkina Faso",
          "Burma",
          "Burundi",
          "Cabo Verde",
          "Cambodia",
          "Cameroon",
          "Canada",
          "Central African Republic",
          "Chad",
          "Chile",
          "China",
          "Colombia",
          "Comoros",
          "Congo (Brazzaville)",
          "Congo (Kinshasa)",
          "Costa Rica",
          "Cote d'Ivoire",
          "Croatia",
          "Cuba",
          "Cyprus",
          "Czechia",
          "Denmark",
          "Diamond Princess",
          "Djibouti",
          "Dominica",
          "Dominican Republic",
          "Ecuador",
          "Egypt",
          "El Salvador",
          "Equatorial Guinea",
          "Eritrea",
          "Estonia",
          "Eswatini",
          "Ethiopia",
          "Fiji",
          "Finland",
          "France",
          "Gabon",
          "Gambia",
          "Georgia",
          "Germany",
          "Ghana",
          "Greece",
          "Grenada",
          "Guatemala",
          "Guinea",
          "Guinea-Bissau",
          "Guyana",
          "Haiti",
          "Holy See",
          "Honduras",
          "Hungary",
          "Iceland",
          "India",
          "Indonesia",
          "Iran",
          "Iraq",
          "Ireland",
          "Israel",
          "Italy",
          "Jamaica",
          "Japan",
          "Jordan",
          "Kazakhstan",
          "Kenya",
          "Korea, South",
          "Kosovo",
          "Kuwait",
          "Kyrgyzstan",
          "Laos",
          "Latvia",
          "Lebanon",
          "Lesotho",
          "Liberia",
          "Libya",
          "Liechtenstein",
          "Lithuania",
          "Luxembourg",
          "MS Zaandam",
          "Madagascar",
          "Malawi",
          "Malaysia",
          "Maldives",
          "Mali",
          "Malta",
          "Mauritania",
          "Mauritius",
          "Mexico",
          "Moldova",
          "Monaco",
          "Mongolia",
          "Montenegro",
          "Morocco",
          "Mozambique",
          "Namibia",
          "Nepal",
          "Netherlands",
          "New Zealand",
          "Nicaragua",
          "Niger",
          "Nigeria",
          "North Macedonia",
          "Norway",
          "Oman",
          "Pakistan",
          "Panama",
          "Papua New Guinea",
          "Paraguay",
          "Peru",
          "Philippines",
          "Poland",
          "Portugal",
          "Qatar",
          "Romania",
          "Russia",
          "Rwanda",
          "Saint Kitts and Nevis",
          "Saint Lucia",
          "Saint Vincent and the Grenadines",
          "San Marino",
          "Sao Tome and Principe",
          "Saudi Arabia",
          "Senegal",
          "Serbia",
          "Seychelles",
          "Sierra Leone",
          "Singapore",
          "Slovakia",
          "Slovenia",
          "Somalia",
          "South Africa",
          "South Sudan",
          "Spain",
          "Sri Lanka",
          "Sudan",
          "Suriname",
          "Sweden",
          "Switzerland",
          "Syria",
          "Taiwan*",
          "Tajikistan",
          "Tanzania",
          "Thailand",
          "Timor-Leste",
          "Togo",
          "Trinidad and Tobago",
          "Tunisia",
          "Turkey",
          "US",
          "Uganda",
          "Ukraine",
          "United Arab Emirates",
          "United Kingdom",
          "Uruguay",
          "Uzbekistan",
          "Venezuela",
          "Vietnam",
          "West Bank and Gaza",
          "Western Sahara",
          "Yemen",
          "Zambia",
          "Zimbabwe"
         ],
         "lat": [
          33,
          41.1533,
          28.0339,
          42.5063,
          -11.2027,
          17.0608,
          -38.4161,
          40.0691,
          -255.9695,
          47.5162,
          40.1431,
          25.0343,
          26.0275,
          23.685,
          13.1939,
          53.7098,
          50.8333,
          13.1939,
          9.3077,
          27.5142,
          -16.2902,
          43.9159,
          -22.3285,
          -14.235,
          4.5353,
          42.7339,
          12.2383,
          21.9162,
          -3.3731,
          16.5388,
          11.55,
          3.848,
          671.7607,
          6.6111,
          15.4542,
          -35.6751,
          1083.3367,
          4.5709,
          -11.6455,
          -4.0383,
          -4.0383,
          9.7489,
          7.54,
          45.1,
          22,
          35.1264,
          49.8175,
          189.8634,
          0,
          11.8251,
          15.415,
          18.7357,
          -1.8312,
          26,
          13.7942,
          1.5,
          15.1794,
          58.5953,
          -26.5225,
          9.145,
          -17.7134,
          64,
          91.3624,
          -0.8037,
          13.4432,
          42.3154,
          51,
          7.9465,
          39.0742,
          12.1165,
          15.7835,
          9.9456,
          11.8037,
          5,
          18.9712,
          41.9029,
          15.2,
          47.1625,
          64.9631,
          21,
          -0.7893,
          32,
          33,
          53.1424,
          31,
          43,
          18.1096,
          36,
          31.24,
          48.0196,
          -0.0236,
          36,
          42.602636,
          29.5,
          41.2044,
          19.85627,
          56.8796,
          33.8547,
          -29.609988,
          6.4281,
          26.3351,
          47.14,
          55.1694,
          49.8153,
          0,
          -18.7669,
          -13.254307999999998,
          2.5,
          3.2028,
          17.570692,
          35.9375,
          21.0079,
          -20.2,
          23.6345,
          47.4116,
          43.7333,
          46.8625,
          42.5,
          31.7917,
          -18.665695,
          -22.9576,
          28.1667,
          107.04169999999999,
          -40.9006,
          12.8654,
          17.6078,
          9.082,
          41.6086,
          60.472,
          21,
          30.3753,
          8.538,
          -6.315,
          -23.4425,
          -9.19,
          13,
          51.9194,
          39.3999,
          25.3548,
          45.9432,
          60,
          -1.9403,
          17.357822,
          13.9094,
          12.9843,
          43.9424,
          0.18636,
          24,
          14.4974,
          44.0165,
          -4.6796,
          8.460555000000001,
          1.2833,
          48.669,
          46.1512,
          5.1521,
          -30.5595,
          6.877000000000002,
          40,
          7,
          12.8628,
          3.9193,
          63,
          46.8182,
          34.802075,
          23.7,
          38.861034,
          -6.369,
          15,
          -8.874217,
          8.6195,
          10.6918,
          34,
          38.9637,
          37.0902,
          1,
          48.3794,
          24,
          270.0299,
          -32.5228,
          41.3775,
          6.4238,
          16,
          31.9522,
          24.2155,
          15.552727,
          -15.4167,
          -20
         ],
         "legendgroup": "",
         "lon": [
          65,
          20.1683,
          1.6596,
          1.5218,
          17.8739,
          -61.7964,
          -63.6167,
          45.0382,
          1129.8623,
          14.5501,
          47.5769,
          -77.3963,
          50.55,
          90.3563,
          -59.5432,
          27.9534,
          4,
          -59.5432,
          2.3158,
          90.4336,
          -63.5887,
          17.6791,
          24.6849,
          -51.9253,
          114.7277,
          25.4858,
          -1.5616,
          95.956,
          29.9189,
          -23.0418,
          104.9167,
          11.5021,
          -1237.6289,
          20.9394,
          18.7322,
          -71.543,
          3684.4197000000004,
          -74.2973,
          43.3333,
          21.7587,
          21.7587,
          -83.7534,
          -5.5471,
          15.2,
          -80,
          33.4299,
          15.473,
          -40.014300000000006,
          0,
          42.5903,
          -61.371,
          -70.1627,
          -78.1834,
          30,
          -88.8965,
          10,
          39.7823,
          25.0136,
          31.4659,
          40.4897,
          178.065,
          26,
          59.71919999999999,
          11.6094,
          -15.3101,
          43.3569,
          9,
          -1.0232,
          21.8243,
          -61.679,
          -90.2308,
          -9.6966,
          -15.1804,
          -58.75,
          -72.2852,
          12.4534,
          -86.2419,
          19.5033,
          -19.0208,
          78,
          113.9213,
          53,
          44,
          -7.6921,
          35,
          12,
          -77.2975,
          138,
          36.51,
          66.9237,
          37.9062,
          128,
          20.902977,
          47.75,
          74.7661,
          102.495496,
          24.6032,
          35.8623,
          28.233608,
          -9.4295,
          17.228331,
          9.55,
          23.8813,
          6.1296,
          0,
          46.8691,
          34.301525,
          112.5,
          73.2207,
          -3.996166000000001,
          14.3754,
          10.9408,
          57.5,
          -102.5528,
          28.3699,
          7.4167,
          103.8467,
          19.3,
          -7.0926,
          35.529562,
          18.4904,
          84.25,
          -265.0278,
          174.886,
          -85.2072,
          8.0817,
          8.6753,
          21.7453,
          8.4689,
          57,
          69.3451,
          -80.7821,
          143.9555,
          -58.4438,
          -75.0152,
          122,
          19.1451,
          -8.2245,
          51.1839,
          24.9668,
          90,
          29.8739,
          -62.782998,
          -60.9789,
          -61.2872,
          12.4578,
          6.613081,
          45,
          -14.4524,
          21.0059,
          55.492,
          -11.779889,
          103.8333,
          19.699,
          14.9955,
          46.1996,
          22.9375,
          31.307,
          -4,
          81,
          30.2176,
          -56.0278,
          16,
          8.2275,
          38.99681500000001,
          121,
          71.276093,
          34.8888,
          101,
          125.727539,
          0.8248,
          -61.2225,
          9,
          35.2433,
          -95.7129,
          32,
          31.1656,
          54,
          -482.92470000000003,
          -55.7658,
          64.5853,
          -66.5897,
          108,
          35.2332,
          -12.8858,
          48.516388,
          28.2833,
          30
         ],
         "marker": {
          "color": [
           8145,
           964,
           7542,
           762,
           52,
           25,
           9283,
           5271,
           7081,
           16353,
           3631,
           97,
           7888,
           26738,
           90,
           32426,
           55983,
           18,
           130,
           21,
           4919,
           2338,
           25,
           291579,
           141,
           2292,
           809,
           199,
           42,
           349,
           122,
           3733,
           81575,
           418,
           565,
           53617,
           84063,
           17687,
           34,
           420,
           1731,
           897,
           2231,
           2234,
           1900,
           922,
           8721,
           11315,
           712,
           1828,
           16,
           13477,
           34854,
           14229,
           1571,
           890,
           39,
           1794,
           217,
           389,
           18,
           6443,
           181700,
           1567,
           24,
           713,
           178473,
           6269,
           2850,
           22,
           2265,
           2863,
           1089,
           125,
           596,
           12,
           2955,
           3598,
           1803,
           112028,
           19189,
           126949,
           3724,
           24315,
           16667,
           227364,
           529,
           16367,
           672,
           6969,
           1029,
           11122,
           989,
           17568,
           1270,
           19,
           1016,
           961,
           1,
           238,
           69,
           82,
           1577,
           3971,
           9,
           371,
           71,
           7009,
           1186,
           931,
           584,
           141,
           332,
           56594,
           6553,
           97,
           140,
           324,
           7133,
           156,
           16,
           427,
           44647,
           1503,
           254,
           920,
           6677,
           1858,
           8281,
           6043,
           45898,
           9977,
           8,
           833,
           104020,
           13221,
           19739,
           29660,
           37097,
           17387,
           308705,
           314,
           15,
           18,
           18,
           656,
           251,
           62545,
           2714,
           10833,
           11,
           570,
           29364,
           1496,
           1468,
           1573,
           18003,
           290,
           232555,
           1028,
           2728,
           11,
           31523,
           30658,
           58,
           440,
           2140,
           509,
           3034,
           24,
           340,
           116,
           1045,
           152587,
           1551853,
           264,
           19230,
           26004,
           249619,
           746,
           2939,
           824,
           324,
           398,
           6,
           184,
           832,
           48
          ],
          "coloraxis": "coloraxis",
          "size": [
           8145,
           964,
           7542,
           762,
           52,
           25,
           9283,
           5271,
           7081,
           16353,
           3631,
           97,
           7888,
           26738,
           90,
           32426,
           55983,
           18,
           130,
           21,
           4919,
           2338,
           25,
           291579,
           141,
           2292,
           809,
           199,
           42,
           349,
           122,
           3733,
           81575,
           418,
           565,
           53617,
           84063,
           17687,
           34,
           420,
           1731,
           897,
           2231,
           2234,
           1900,
           922,
           8721,
           11315,
           712,
           1828,
           16,
           13477,
           34854,
           14229,
           1571,
           890,
           39,
           1794,
           217,
           389,
           18,
           6443,
           181700,
           1567,
           24,
           713,
           178473,
           6269,
           2850,
           22,
           2265,
           2863,
           1089,
           125,
           596,
           12,
           2955,
           3598,
           1803,
           112028,
           19189,
           126949,
           3724,
           24315,
           16667,
           227364,
           529,
           16367,
           672,
           6969,
           1029,
           11122,
           989,
           17568,
           1270,
           19,
           1016,
           961,
           1,
           238,
           69,
           82,
           1577,
           3971,
           9,
           371,
           71,
           7009,
           1186,
           931,
           584,
           141,
           332,
           56594,
           6553,
           97,
           140,
           324,
           7133,
           156,
           16,
           427,
           44647,
           1503,
           254,
           920,
           6677,
           1858,
           8281,
           6043,
           45898,
           9977,
           8,
           833,
           104020,
           13221,
           19739,
           29660,
           37097,
           17387,
           308705,
           314,
           15,
           18,
           18,
           656,
           251,
           62545,
           2714,
           10833,
           11,
           570,
           29364,
           1496,
           1468,
           1573,
           18003,
           290,
           232555,
           1028,
           2728,
           11,
           31523,
           30658,
           58,
           440,
           2140,
           509,
           3034,
           24,
           340,
           116,
           1045,
           152587,
           1551853,
           264,
           19230,
           26004,
           249619,
           746,
           2939,
           824,
           324,
           398,
           6,
           184,
           832,
           48
          ],
          "sizemode": "area",
          "sizeref": 3879.6325
         },
         "mode": "markers",
         "name": "",
         "showlegend": false,
         "subplot": "mapbox",
         "type": "scattermapbox"
        }
       ],
       "layout": {
        "coloraxis": {
         "colorbar": {
          "title": {
           "text": "ConfirmedCases"
          }
         },
         "colorscale": [
          [
           0,
           "#0d0887"
          ],
          [
           0.1111111111111111,
           "#46039f"
          ],
          [
           0.2222222222222222,
           "#7201a8"
          ],
          [
           0.3333333333333333,
           "#9c179e"
          ],
          [
           0.4444444444444444,
           "#bd3786"
          ],
          [
           0.5555555555555556,
           "#d8576b"
          ],
          [
           0.6666666666666666,
           "#ed7953"
          ],
          [
           0.7777777777777778,
           "#fb9f3a"
          ],
          [
           0.8888888888888888,
           "#fdca26"
          ],
          [
           1,
           "#f0f921"
          ]
         ]
        },
        "height": 500,
        "legend": {
         "itemsizing": "constant",
         "tracegroupgap": 0
        },
        "mapbox": {
         "center": {
          "lat": 29.922231718085104,
          "lon": 31.8897779893617
         },
         "domain": {
          "x": [
           0,
           1
          ],
          "y": [
           0,
           1
          ]
         },
         "style": "open-street-map",
         "zoom": 0.5
        },
        "margin": {
         "b": 0,
         "l": 0,
         "r": 0,
         "t": 0
        },
        "template": {
         "data": {
          "bar": [
           {
            "error_x": {
             "color": "#2a3f5f"
            },
            "error_y": {
             "color": "#2a3f5f"
            },
            "marker": {
             "line": {
              "color": "#E5ECF6",
              "width": 0.5
             }
            },
            "type": "bar"
           }
          ],
          "barpolar": [
           {
            "marker": {
             "line": {
              "color": "#E5ECF6",
              "width": 0.5
             }
            },
            "type": "barpolar"
           }
          ],
          "carpet": [
           {
            "aaxis": {
             "endlinecolor": "#2a3f5f",
             "gridcolor": "white",
             "linecolor": "white",
             "minorgridcolor": "white",
             "startlinecolor": "#2a3f5f"
            },
            "baxis": {
             "endlinecolor": "#2a3f5f",
             "gridcolor": "white",
             "linecolor": "white",
             "minorgridcolor": "white",
             "startlinecolor": "#2a3f5f"
            },
            "type": "carpet"
           }
          ],
          "choropleth": [
           {
            "colorbar": {
             "outlinewidth": 0,
             "ticks": ""
            },
            "type": "choropleth"
           }
          ],
          "contour": [
           {
            "colorbar": {
             "outlinewidth": 0,
             "ticks": ""
            },
            "colorscale": [
             [
              0,
              "#0d0887"
             ],
             [
              0.1111111111111111,
              "#46039f"
             ],
             [
              0.2222222222222222,
              "#7201a8"
             ],
             [
              0.3333333333333333,
              "#9c179e"
             ],
             [
              0.4444444444444444,
              "#bd3786"
             ],
             [
              0.5555555555555556,
              "#d8576b"
             ],
             [
              0.6666666666666666,
              "#ed7953"
             ],
             [
              0.7777777777777778,
              "#fb9f3a"
             ],
             [
              0.8888888888888888,
              "#fdca26"
             ],
             [
              1,
              "#f0f921"
             ]
            ],
            "type": "contour"
           }
          ],
          "contourcarpet": [
           {
            "colorbar": {
             "outlinewidth": 0,
             "ticks": ""
            },
            "type": "contourcarpet"
           }
          ],
          "heatmap": [
           {
            "colorbar": {
             "outlinewidth": 0,
             "ticks": ""
            },
            "colorscale": [
             [
              0,
              "#0d0887"
             ],
             [
              0.1111111111111111,
              "#46039f"
             ],
             [
              0.2222222222222222,
              "#7201a8"
             ],
             [
              0.3333333333333333,
              "#9c179e"
             ],
             [
              0.4444444444444444,
              "#bd3786"
             ],
             [
              0.5555555555555556,
              "#d8576b"
             ],
             [
              0.6666666666666666,
              "#ed7953"
             ],
             [
              0.7777777777777778,
              "#fb9f3a"
             ],
             [
              0.8888888888888888,
              "#fdca26"
             ],
             [
              1,
              "#f0f921"
             ]
            ],
            "type": "heatmap"
           }
          ],
          "heatmapgl": [
           {
            "colorbar": {
             "outlinewidth": 0,
             "ticks": ""
            },
            "colorscale": [
             [
              0,
              "#0d0887"
             ],
             [
              0.1111111111111111,
              "#46039f"
             ],
             [
              0.2222222222222222,
              "#7201a8"
             ],
             [
              0.3333333333333333,
              "#9c179e"
             ],
             [
              0.4444444444444444,
              "#bd3786"
             ],
             [
              0.5555555555555556,
              "#d8576b"
             ],
             [
              0.6666666666666666,
              "#ed7953"
             ],
             [
              0.7777777777777778,
              "#fb9f3a"
             ],
             [
              0.8888888888888888,
              "#fdca26"
             ],
             [
              1,
              "#f0f921"
             ]
            ],
            "type": "heatmapgl"
           }
          ],
          "histogram": [
           {
            "marker": {
             "colorbar": {
              "outlinewidth": 0,
              "ticks": ""
             }
            },
            "type": "histogram"
           }
          ],
          "histogram2d": [
           {
            "colorbar": {
             "outlinewidth": 0,
             "ticks": ""
            },
            "colorscale": [
             [
              0,
              "#0d0887"
             ],
             [
              0.1111111111111111,
              "#46039f"
             ],
             [
              0.2222222222222222,
              "#7201a8"
             ],
             [
              0.3333333333333333,
              "#9c179e"
             ],
             [
              0.4444444444444444,
              "#bd3786"
             ],
             [
              0.5555555555555556,
              "#d8576b"
             ],
             [
              0.6666666666666666,
              "#ed7953"
             ],
             [
              0.7777777777777778,
              "#fb9f3a"
             ],
             [
              0.8888888888888888,
              "#fdca26"
             ],
             [
              1,
              "#f0f921"
             ]
            ],
            "type": "histogram2d"
           }
          ],
          "histogram2dcontour": [
           {
            "colorbar": {
             "outlinewidth": 0,
             "ticks": ""
            },
            "colorscale": [
             [
              0,
              "#0d0887"
             ],
             [
              0.1111111111111111,
              "#46039f"
             ],
             [
              0.2222222222222222,
              "#7201a8"
             ],
             [
              0.3333333333333333,
              "#9c179e"
             ],
             [
              0.4444444444444444,
              "#bd3786"
             ],
             [
              0.5555555555555556,
              "#d8576b"
             ],
             [
              0.6666666666666666,
              "#ed7953"
             ],
             [
              0.7777777777777778,
              "#fb9f3a"
             ],
             [
              0.8888888888888888,
              "#fdca26"
             ],
             [
              1,
              "#f0f921"
             ]
            ],
            "type": "histogram2dcontour"
           }
          ],
          "mesh3d": [
           {
            "colorbar": {
             "outlinewidth": 0,
             "ticks": ""
            },
            "type": "mesh3d"
           }
          ],
          "parcoords": [
           {
            "line": {
             "colorbar": {
              "outlinewidth": 0,
              "ticks": ""
             }
            },
            "type": "parcoords"
           }
          ],
          "pie": [
           {
            "automargin": true,
            "type": "pie"
           }
          ],
          "scatter": [
           {
            "marker": {
             "colorbar": {
              "outlinewidth": 0,
              "ticks": ""
             }
            },
            "type": "scatter"
           }
          ],
          "scatter3d": [
           {
            "line": {
             "colorbar": {
              "outlinewidth": 0,
              "ticks": ""
             }
            },
            "marker": {
             "colorbar": {
              "outlinewidth": 0,
              "ticks": ""
             }
            },
            "type": "scatter3d"
           }
          ],
          "scattercarpet": [
           {
            "marker": {
             "colorbar": {
              "outlinewidth": 0,
              "ticks": ""
             }
            },
            "type": "scattercarpet"
           }
          ],
          "scattergeo": [
           {
            "marker": {
             "colorbar": {
              "outlinewidth": 0,
              "ticks": ""
             }
            },
            "type": "scattergeo"
           }
          ],
          "scattergl": [
           {
            "marker": {
             "colorbar": {
              "outlinewidth": 0,
              "ticks": ""
             }
            },
            "type": "scattergl"
           }
          ],
          "scattermapbox": [
           {
            "marker": {
             "colorbar": {
              "outlinewidth": 0,
              "ticks": ""
             }
            },
            "type": "scattermapbox"
           }
          ],
          "scatterpolar": [
           {
            "marker": {
             "colorbar": {
              "outlinewidth": 0,
              "ticks": ""
             }
            },
            "type": "scatterpolar"
           }
          ],
          "scatterpolargl": [
           {
            "marker": {
             "colorbar": {
              "outlinewidth": 0,
              "ticks": ""
             }
            },
            "type": "scatterpolargl"
           }
          ],
          "scatterternary": [
           {
            "marker": {
             "colorbar": {
              "outlinewidth": 0,
              "ticks": ""
             }
            },
            "type": "scatterternary"
           }
          ],
          "surface": [
           {
            "colorbar": {
             "outlinewidth": 0,
             "ticks": ""
            },
            "colorscale": [
             [
              0,
              "#0d0887"
             ],
             [
              0.1111111111111111,
              "#46039f"
             ],
             [
              0.2222222222222222,
              "#7201a8"
             ],
             [
              0.3333333333333333,
              "#9c179e"
             ],
             [
              0.4444444444444444,
              "#bd3786"
             ],
             [
              0.5555555555555556,
              "#d8576b"
             ],
             [
              0.6666666666666666,
              "#ed7953"
             ],
             [
              0.7777777777777778,
              "#fb9f3a"
             ],
             [
              0.8888888888888888,
              "#fdca26"
             ],
             [
              1,
              "#f0f921"
             ]
            ],
            "type": "surface"
           }
          ],
          "table": [
           {
            "cells": {
             "fill": {
              "color": "#EBF0F8"
             },
             "line": {
              "color": "white"
             }
            },
            "header": {
             "fill": {
              "color": "#C8D4E3"
             },
             "line": {
              "color": "white"
             }
            },
            "type": "table"
           }
          ]
         },
         "layout": {
          "annotationdefaults": {
           "arrowcolor": "#2a3f5f",
           "arrowhead": 0,
           "arrowwidth": 1
          },
          "coloraxis": {
           "colorbar": {
            "outlinewidth": 0,
            "ticks": ""
           }
          },
          "colorscale": {
           "diverging": [
            [
             0,
             "#8e0152"
            ],
            [
             0.1,
             "#c51b7d"
            ],
            [
             0.2,
             "#de77ae"
            ],
            [
             0.3,
             "#f1b6da"
            ],
            [
             0.4,
             "#fde0ef"
            ],
            [
             0.5,
             "#f7f7f7"
            ],
            [
             0.6,
             "#e6f5d0"
            ],
            [
             0.7,
             "#b8e186"
            ],
            [
             0.8,
             "#7fbc41"
            ],
            [
             0.9,
             "#4d9221"
            ],
            [
             1,
             "#276419"
            ]
           ],
           "sequential": [
            [
             0,
             "#0d0887"
            ],
            [
             0.1111111111111111,
             "#46039f"
            ],
            [
             0.2222222222222222,
             "#7201a8"
            ],
            [
             0.3333333333333333,
             "#9c179e"
            ],
            [
             0.4444444444444444,
             "#bd3786"
            ],
            [
             0.5555555555555556,
             "#d8576b"
            ],
            [
             0.6666666666666666,
             "#ed7953"
            ],
            [
             0.7777777777777778,
             "#fb9f3a"
            ],
            [
             0.8888888888888888,
             "#fdca26"
            ],
            [
             1,
             "#f0f921"
            ]
           ],
           "sequentialminus": [
            [
             0,
             "#0d0887"
            ],
            [
             0.1111111111111111,
             "#46039f"
            ],
            [
             0.2222222222222222,
             "#7201a8"
            ],
            [
             0.3333333333333333,
             "#9c179e"
            ],
            [
             0.4444444444444444,
             "#bd3786"
            ],
            [
             0.5555555555555556,
             "#d8576b"
            ],
            [
             0.6666666666666666,
             "#ed7953"
            ],
            [
             0.7777777777777778,
             "#fb9f3a"
            ],
            [
             0.8888888888888888,
             "#fdca26"
            ],
            [
             1,
             "#f0f921"
            ]
           ]
          },
          "colorway": [
           "#636efa",
           "#EF553B",
           "#00cc96",
           "#ab63fa",
           "#FFA15A",
           "#19d3f3",
           "#FF6692",
           "#B6E880",
           "#FF97FF",
           "#FECB52"
          ],
          "font": {
           "color": "#2a3f5f"
          },
          "geo": {
           "bgcolor": "white",
           "lakecolor": "white",
           "landcolor": "#E5ECF6",
           "showlakes": true,
           "showland": true,
           "subunitcolor": "white"
          },
          "hoverlabel": {
           "align": "left"
          },
          "hovermode": "closest",
          "mapbox": {
           "style": "light"
          },
          "paper_bgcolor": "white",
          "plot_bgcolor": "#E5ECF6",
          "polar": {
           "angularaxis": {
            "gridcolor": "white",
            "linecolor": "white",
            "ticks": ""
           },
           "bgcolor": "#E5ECF6",
           "radialaxis": {
            "gridcolor": "white",
            "linecolor": "white",
            "ticks": ""
           }
          },
          "scene": {
           "xaxis": {
            "backgroundcolor": "#E5ECF6",
            "gridcolor": "white",
            "gridwidth": 2,
            "linecolor": "white",
            "showbackground": true,
            "ticks": "",
            "zerolinecolor": "white"
           },
           "yaxis": {
            "backgroundcolor": "#E5ECF6",
            "gridcolor": "white",
            "gridwidth": 2,
            "linecolor": "white",
            "showbackground": true,
            "ticks": "",
            "zerolinecolor": "white"
           },
           "zaxis": {
            "backgroundcolor": "#E5ECF6",
            "gridcolor": "white",
            "gridwidth": 2,
            "linecolor": "white",
            "showbackground": true,
            "ticks": "",
            "zerolinecolor": "white"
           }
          },
          "shapedefaults": {
           "line": {
            "color": "#2a3f5f"
           }
          },
          "ternary": {
           "aaxis": {
            "gridcolor": "white",
            "linecolor": "white",
            "ticks": ""
           },
           "baxis": {
            "gridcolor": "white",
            "linecolor": "white",
            "ticks": ""
           },
           "bgcolor": "#E5ECF6",
           "caxis": {
            "gridcolor": "white",
            "linecolor": "white",
            "ticks": ""
           }
          },
          "title": {
           "x": 0.05
          },
          "xaxis": {
           "automargin": true,
           "gridcolor": "white",
           "linecolor": "white",
           "ticks": "",
           "title": {
            "standoff": 15
           },
           "zerolinecolor": "white",
           "zerolinewidth": 2
          },
          "yaxis": {
           "automargin": true,
           "gridcolor": "white",
           "linecolor": "white",
           "ticks": "",
           "title": {
            "standoff": 15
           },
           "zerolinecolor": "white",
           "zerolinewidth": 2
          }
         }
        },
        "width": 900
       }
      }
     },
     "metadata": {}
    }
   ],
   "source": [
    "c_fig = px.scatter_mapbox(table, lat=\"Lat\", lon=\"Long\", hover_name=\"Country/Region\", hover_data=[\"ConfirmedCases\"],\n",
    "                        color_discrete_sequence=[\"fuchsia\"], zoom=0.5, width=900, height=500, color=\"ConfirmedCases\", size=\"ConfirmedCases\")\n",
    "c_fig.update_layout(mapbox_style=\"open-street-map\")\n",
    "c_fig.update_layout(margin={\"r\":0,\"t\":0,\"l\":0,\"b\":0})\n",
    "c_fig.show()"
   ]
  },
  {
   "cell_type": "code",
   "execution_count": 167,
   "metadata": {},
   "outputs": [
    {
     "output_type": "display_data",
     "data": {
      "application/vnd.plotly.v1+json": {
       "config": {
        "plotlyServerURL": "https://plot.ly"
       },
       "data": [
        {
         "customdata": [
          [
           187
          ],
          [
           31
          ],
          [
           568
          ],
          [
           51
          ],
          [
           3
          ],
          [
           3
          ],
          [
           403
          ],
          [
           67
          ],
          [
           100
          ],
          [
           633
          ],
          [
           43
          ],
          [
           11
          ],
          [
           12
          ],
          [
           386
          ],
          [
           7
          ],
          [
           179
          ],
          [
           9150
          ],
          [
           2
          ],
          [
           2
          ],
          [
           0
          ],
          [
           199
          ],
          [
           136
          ],
          [
           1
          ],
          [
           18859
          ],
          [
           1
          ],
          [
           116
          ],
          [
           52
          ],
          [
           6
          ],
          [
           1
          ],
          [
           3
          ],
          [
           0
          ],
          [
           146
          ],
          [
           6150
          ],
          [
           0
          ],
          [
           57
          ],
          [
           544
          ],
          [
           4638
          ],
          [
           630
          ],
          [
           1
          ],
          [
           15
          ],
          [
           61
          ],
          [
           10
          ],
          [
           29
          ],
          [
           96
          ],
          [
           79
          ],
          [
           17
          ],
          [
           304
          ],
          [
           554
          ],
          [
           13
          ],
          [
           9
          ],
          [
           0
          ],
          [
           446
          ],
          [
           2888
          ],
          [
           680
          ],
          [
           31
          ],
          [
           7
          ],
          [
           0
          ],
          [
           64
          ],
          [
           2
          ],
          [
           5
          ],
          [
           0
          ],
          [
           304
          ],
          [
           28135
          ],
          [
           12
          ],
          [
           1
          ],
          [
           12
          ],
          [
           8144
          ],
          [
           31
          ],
          [
           166
          ],
          [
           0
          ],
          [
           45
          ],
          [
           18
          ],
          [
           6
          ],
          [
           10
          ],
          [
           22
          ],
          [
           0
          ],
          [
           147
          ],
          [
           470
          ],
          [
           10
          ],
          [
           3434
          ],
          [
           1242
          ],
          [
           7183
          ],
          [
           134
          ],
          [
           1571
          ],
          [
           279
          ],
          [
           32330
          ],
          [
           9
          ],
          [
           768
          ],
          [
           9
          ],
          [
           35
          ],
          [
           50
          ],
          [
           264
          ],
          [
           29
          ],
          [
           124
          ],
          [
           14
          ],
          [
           0
          ],
          [
           21
          ],
          [
           26
          ],
          [
           0
          ],
          [
           23
          ],
          [
           3
          ],
          [
           1
          ],
          [
           60
          ],
          [
           109
          ],
          [
           2
          ],
          [
           2
          ],
          [
           3
          ],
          [
           114
          ],
          [
           4
          ],
          [
           55
          ],
          [
           6
          ],
          [
           4
          ],
          [
           10
          ],
          [
           6090
          ],
          [
           228
          ],
          [
           4
          ],
          [
           0
          ],
          [
           9
          ],
          [
           194
          ],
          [
           0
          ],
          [
           0
          ],
          [
           2
          ],
          [
           5767
          ],
          [
           21
          ],
          [
           17
          ],
          [
           58
          ],
          [
           200
          ],
          [
           110
          ],
          [
           234
          ],
          [
           30
          ],
          [
           985
          ],
          [
           287
          ],
          [
           0
          ],
          [
           11
          ],
          [
           3024
          ],
          [
           842
          ],
          [
           962
          ],
          [
           1263
          ],
          [
           16
          ],
          [
           1147
          ],
          [
           2972
          ],
          [
           0
          ],
          [
           0
          ],
          [
           0
          ],
          [
           0
          ],
          [
           41
          ],
          [
           8
          ],
          [
           339
          ],
          [
           30
          ],
          [
           235
          ],
          [
           0
          ],
          [
           34
          ],
          [
           22
          ],
          [
           28
          ],
          [
           105
          ],
          [
           61
          ],
          [
           339
          ],
          [
           4
          ],
          [
           27888
          ],
          [
           9
          ],
          [
           111
          ],
          [
           1
          ],
          [
           3831
          ],
          [
           1892
          ],
          [
           3
          ],
          [
           7
          ],
          [
           41
          ],
          [
           21
          ],
          [
           56
          ],
          [
           0
          ],
          [
           12
          ],
          [
           8
          ],
          [
           47
          ],
          [
           4222
          ],
          [
           93439
          ],
          [
           0
          ],
          [
           564
          ],
          [
           233
          ],
          [
           35786
          ],
          [
           20
          ],
          [
           13
          ],
          [
           10
          ],
          [
           0
          ],
          [
           2
          ],
          [
           0
          ],
          [
           30
          ],
          [
           7
          ],
          [
           4
          ]
         ],
         "hovertemplate": "<b>%{hovertext}</b><br><br>DeathCases=%{marker.color}<br>Lat=%{lat}<br>Long=%{lon}<extra></extra>",
         "hovertext": [
          "Afghanistan",
          "Albania",
          "Algeria",
          "Andorra",
          "Angola",
          "Antigua and Barbuda",
          "Argentina",
          "Armenia",
          "Australia",
          "Austria",
          "Azerbaijan",
          "Bahamas",
          "Bahrain",
          "Bangladesh",
          "Barbados",
          "Belarus",
          "Belgium",
          "Belize",
          "Benin",
          "Bhutan",
          "Bolivia",
          "Bosnia and Herzegovina",
          "Botswana",
          "Brazil",
          "Brunei",
          "Bulgaria",
          "Burkina Faso",
          "Burma",
          "Burundi",
          "Cabo Verde",
          "Cambodia",
          "Cameroon",
          "Canada",
          "Central African Republic",
          "Chad",
          "Chile",
          "China",
          "Colombia",
          "Comoros",
          "Congo (Brazzaville)",
          "Congo (Kinshasa)",
          "Costa Rica",
          "Cote d'Ivoire",
          "Croatia",
          "Cuba",
          "Cyprus",
          "Czechia",
          "Denmark",
          "Diamond Princess",
          "Djibouti",
          "Dominica",
          "Dominican Republic",
          "Ecuador",
          "Egypt",
          "El Salvador",
          "Equatorial Guinea",
          "Eritrea",
          "Estonia",
          "Eswatini",
          "Ethiopia",
          "Fiji",
          "Finland",
          "France",
          "Gabon",
          "Gambia",
          "Georgia",
          "Germany",
          "Ghana",
          "Greece",
          "Grenada",
          "Guatemala",
          "Guinea",
          "Guinea-Bissau",
          "Guyana",
          "Haiti",
          "Holy See",
          "Honduras",
          "Hungary",
          "Iceland",
          "India",
          "Indonesia",
          "Iran",
          "Iraq",
          "Ireland",
          "Israel",
          "Italy",
          "Jamaica",
          "Japan",
          "Jordan",
          "Kazakhstan",
          "Kenya",
          "Korea, South",
          "Kosovo",
          "Kuwait",
          "Kyrgyzstan",
          "Laos",
          "Latvia",
          "Lebanon",
          "Lesotho",
          "Liberia",
          "Libya",
          "Liechtenstein",
          "Lithuania",
          "Luxembourg",
          "MS Zaandam",
          "Madagascar",
          "Malawi",
          "Malaysia",
          "Maldives",
          "Mali",
          "Malta",
          "Mauritania",
          "Mauritius",
          "Mexico",
          "Moldova",
          "Monaco",
          "Mongolia",
          "Montenegro",
          "Morocco",
          "Mozambique",
          "Namibia",
          "Nepal",
          "Netherlands",
          "New Zealand",
          "Nicaragua",
          "Niger",
          "Nigeria",
          "North Macedonia",
          "Norway",
          "Oman",
          "Pakistan",
          "Panama",
          "Papua New Guinea",
          "Paraguay",
          "Peru",
          "Philippines",
          "Poland",
          "Portugal",
          "Qatar",
          "Romania",
          "Russia",
          "Rwanda",
          "Saint Kitts and Nevis",
          "Saint Lucia",
          "Saint Vincent and the Grenadines",
          "San Marino",
          "Sao Tome and Principe",
          "Saudi Arabia",
          "Senegal",
          "Serbia",
          "Seychelles",
          "Sierra Leone",
          "Singapore",
          "Slovakia",
          "Slovenia",
          "Somalia",
          "South Africa",
          "South Sudan",
          "Spain",
          "Sri Lanka",
          "Sudan",
          "Suriname",
          "Sweden",
          "Switzerland",
          "Syria",
          "Taiwan*",
          "Tajikistan",
          "Tanzania",
          "Thailand",
          "Timor-Leste",
          "Togo",
          "Trinidad and Tobago",
          "Tunisia",
          "Turkey",
          "US",
          "Uganda",
          "Ukraine",
          "United Arab Emirates",
          "United Kingdom",
          "Uruguay",
          "Uzbekistan",
          "Venezuela",
          "Vietnam",
          "West Bank and Gaza",
          "Western Sahara",
          "Yemen",
          "Zambia",
          "Zimbabwe"
         ],
         "lat": [
          33,
          41.1533,
          28.0339,
          42.5063,
          -11.2027,
          17.0608,
          -38.4161,
          40.0691,
          -255.9695,
          47.5162,
          40.1431,
          25.0343,
          26.0275,
          23.685,
          13.1939,
          53.7098,
          50.8333,
          13.1939,
          9.3077,
          27.5142,
          -16.2902,
          43.9159,
          -22.3285,
          -14.235,
          4.5353,
          42.7339,
          12.2383,
          21.9162,
          -3.3731,
          16.5388,
          11.55,
          3.848,
          671.7607,
          6.6111,
          15.4542,
          -35.6751,
          1083.3367,
          4.5709,
          -11.6455,
          -4.0383,
          -4.0383,
          9.7489,
          7.54,
          45.1,
          22,
          35.1264,
          49.8175,
          189.8634,
          0,
          11.8251,
          15.415,
          18.7357,
          -1.8312,
          26,
          13.7942,
          1.5,
          15.1794,
          58.5953,
          -26.5225,
          9.145,
          -17.7134,
          64,
          91.3624,
          -0.8037,
          13.4432,
          42.3154,
          51,
          7.9465,
          39.0742,
          12.1165,
          15.7835,
          9.9456,
          11.8037,
          5,
          18.9712,
          41.9029,
          15.2,
          47.1625,
          64.9631,
          21,
          -0.7893,
          32,
          33,
          53.1424,
          31,
          43,
          18.1096,
          36,
          31.24,
          48.0196,
          -0.0236,
          36,
          42.602636,
          29.5,
          41.2044,
          19.85627,
          56.8796,
          33.8547,
          -29.609988,
          6.4281,
          26.3351,
          47.14,
          55.1694,
          49.8153,
          0,
          -18.7669,
          -13.254307999999998,
          2.5,
          3.2028,
          17.570692,
          35.9375,
          21.0079,
          -20.2,
          23.6345,
          47.4116,
          43.7333,
          46.8625,
          42.5,
          31.7917,
          -18.665695,
          -22.9576,
          28.1667,
          107.04169999999999,
          -40.9006,
          12.8654,
          17.6078,
          9.082,
          41.6086,
          60.472,
          21,
          30.3753,
          8.538,
          -6.315,
          -23.4425,
          -9.19,
          13,
          51.9194,
          39.3999,
          25.3548,
          45.9432,
          60,
          -1.9403,
          17.357822,
          13.9094,
          12.9843,
          43.9424,
          0.18636,
          24,
          14.4974,
          44.0165,
          -4.6796,
          8.460555000000001,
          1.2833,
          48.669,
          46.1512,
          5.1521,
          -30.5595,
          6.877000000000002,
          40,
          7,
          12.8628,
          3.9193,
          63,
          46.8182,
          34.802075,
          23.7,
          38.861034,
          -6.369,
          15,
          -8.874217,
          8.6195,
          10.6918,
          34,
          38.9637,
          37.0902,
          1,
          48.3794,
          24,
          270.0299,
          -32.5228,
          41.3775,
          6.4238,
          16,
          31.9522,
          24.2155,
          15.552727,
          -15.4167,
          -20
         ],
         "legendgroup": "",
         "lon": [
          65,
          20.1683,
          1.6596,
          1.5218,
          17.8739,
          -61.7964,
          -63.6167,
          45.0382,
          1129.8623,
          14.5501,
          47.5769,
          -77.3963,
          50.55,
          90.3563,
          -59.5432,
          27.9534,
          4,
          -59.5432,
          2.3158,
          90.4336,
          -63.5887,
          17.6791,
          24.6849,
          -51.9253,
          114.7277,
          25.4858,
          -1.5616,
          95.956,
          29.9189,
          -23.0418,
          104.9167,
          11.5021,
          -1237.6289,
          20.9394,
          18.7322,
          -71.543,
          3684.4197000000004,
          -74.2973,
          43.3333,
          21.7587,
          21.7587,
          -83.7534,
          -5.5471,
          15.2,
          -80,
          33.4299,
          15.473,
          -40.014300000000006,
          0,
          42.5903,
          -61.371,
          -70.1627,
          -78.1834,
          30,
          -88.8965,
          10,
          39.7823,
          25.0136,
          31.4659,
          40.4897,
          178.065,
          26,
          59.71919999999999,
          11.6094,
          -15.3101,
          43.3569,
          9,
          -1.0232,
          21.8243,
          -61.679,
          -90.2308,
          -9.6966,
          -15.1804,
          -58.75,
          -72.2852,
          12.4534,
          -86.2419,
          19.5033,
          -19.0208,
          78,
          113.9213,
          53,
          44,
          -7.6921,
          35,
          12,
          -77.2975,
          138,
          36.51,
          66.9237,
          37.9062,
          128,
          20.902977,
          47.75,
          74.7661,
          102.495496,
          24.6032,
          35.8623,
          28.233608,
          -9.4295,
          17.228331,
          9.55,
          23.8813,
          6.1296,
          0,
          46.8691,
          34.301525,
          112.5,
          73.2207,
          -3.996166000000001,
          14.3754,
          10.9408,
          57.5,
          -102.5528,
          28.3699,
          7.4167,
          103.8467,
          19.3,
          -7.0926,
          35.529562,
          18.4904,
          84.25,
          -265.0278,
          174.886,
          -85.2072,
          8.0817,
          8.6753,
          21.7453,
          8.4689,
          57,
          69.3451,
          -80.7821,
          143.9555,
          -58.4438,
          -75.0152,
          122,
          19.1451,
          -8.2245,
          51.1839,
          24.9668,
          90,
          29.8739,
          -62.782998,
          -60.9789,
          -61.2872,
          12.4578,
          6.613081,
          45,
          -14.4524,
          21.0059,
          55.492,
          -11.779889,
          103.8333,
          19.699,
          14.9955,
          46.1996,
          22.9375,
          31.307,
          -4,
          81,
          30.2176,
          -56.0278,
          16,
          8.2275,
          38.99681500000001,
          121,
          71.276093,
          34.8888,
          101,
          125.727539,
          0.8248,
          -61.2225,
          9,
          35.2433,
          -95.7129,
          32,
          31.1656,
          54,
          -482.92470000000003,
          -55.7658,
          64.5853,
          -66.5897,
          108,
          35.2332,
          -12.8858,
          48.516388,
          28.2833,
          30
         ],
         "marker": {
          "color": [
           187,
           31,
           568,
           51,
           3,
           3,
           403,
           67,
           100,
           633,
           43,
           11,
           12,
           386,
           7,
           179,
           9150,
           2,
           2,
           0,
           199,
           136,
           1,
           18859,
           1,
           116,
           52,
           6,
           1,
           3,
           0,
           146,
           6150,
           0,
           57,
           544,
           4638,
           630,
           1,
           15,
           61,
           10,
           29,
           96,
           79,
           17,
           304,
           554,
           13,
           9,
           0,
           446,
           2888,
           680,
           31,
           7,
           0,
           64,
           2,
           5,
           0,
           304,
           28135,
           12,
           1,
           12,
           8144,
           31,
           166,
           0,
           45,
           18,
           6,
           10,
           22,
           0,
           147,
           470,
           10,
           3434,
           1242,
           7183,
           134,
           1571,
           279,
           32330,
           9,
           768,
           9,
           35,
           50,
           264,
           29,
           124,
           14,
           0,
           21,
           26,
           0,
           23,
           3,
           1,
           60,
           109,
           2,
           2,
           3,
           114,
           4,
           55,
           6,
           4,
           10,
           6090,
           228,
           4,
           0,
           9,
           194,
           0,
           0,
           2,
           5767,
           21,
           17,
           58,
           200,
           110,
           234,
           30,
           985,
           287,
           0,
           11,
           3024,
           842,
           962,
           1263,
           16,
           1147,
           2972,
           0,
           0,
           0,
           0,
           41,
           8,
           339,
           30,
           235,
           0,
           34,
           22,
           28,
           105,
           61,
           339,
           4,
           27888,
           9,
           111,
           1,
           3831,
           1892,
           3,
           7,
           41,
           21,
           56,
           0,
           12,
           8,
           47,
           4222,
           93439,
           0,
           564,
           233,
           35786,
           20,
           13,
           10,
           0,
           2,
           0,
           30,
           7,
           4
          ],
          "coloraxis": "coloraxis",
          "size": [
           187,
           31,
           568,
           51,
           3,
           3,
           403,
           67,
           100,
           633,
           43,
           11,
           12,
           386,
           7,
           179,
           9150,
           2,
           2,
           0,
           199,
           136,
           1,
           18859,
           1,
           116,
           52,
           6,
           1,
           3,
           0,
           146,
           6150,
           0,
           57,
           544,
           4638,
           630,
           1,
           15,
           61,
           10,
           29,
           96,
           79,
           17,
           304,
           554,
           13,
           9,
           0,
           446,
           2888,
           680,
           31,
           7,
           0,
           64,
           2,
           5,
           0,
           304,
           28135,
           12,
           1,
           12,
           8144,
           31,
           166,
           0,
           45,
           18,
           6,
           10,
           22,
           0,
           147,
           470,
           10,
           3434,
           1242,
           7183,
           134,
           1571,
           279,
           32330,
           9,
           768,
           9,
           35,
           50,
           264,
           29,
           124,
           14,
           0,
           21,
           26,
           0,
           23,
           3,
           1,
           60,
           109,
           2,
           2,
           3,
           114,
           4,
           55,
           6,
           4,
           10,
           6090,
           228,
           4,
           0,
           9,
           194,
           0,
           0,
           2,
           5767,
           21,
           17,
           58,
           200,
           110,
           234,
           30,
           985,
           287,
           0,
           11,
           3024,
           842,
           962,
           1263,
           16,
           1147,
           2972,
           0,
           0,
           0,
           0,
           41,
           8,
           339,
           30,
           235,
           0,
           34,
           22,
           28,
           105,
           61,
           339,
           4,
           27888,
           9,
           111,
           1,
           3831,
           1892,
           3,
           7,
           41,
           21,
           56,
           0,
           12,
           8,
           47,
           4222,
           93439,
           0,
           564,
           233,
           35786,
           20,
           13,
           10,
           0,
           2,
           0,
           30,
           7,
           4
          ],
          "sizemode": "area",
          "sizeref": 233.5975
         },
         "mode": "markers",
         "name": "",
         "showlegend": false,
         "subplot": "mapbox",
         "type": "scattermapbox"
        }
       ],
       "layout": {
        "coloraxis": {
         "colorbar": {
          "title": {
           "text": "DeathCases"
          }
         },
         "colorscale": [
          [
           0,
           "#0d0887"
          ],
          [
           0.1111111111111111,
           "#46039f"
          ],
          [
           0.2222222222222222,
           "#7201a8"
          ],
          [
           0.3333333333333333,
           "#9c179e"
          ],
          [
           0.4444444444444444,
           "#bd3786"
          ],
          [
           0.5555555555555556,
           "#d8576b"
          ],
          [
           0.6666666666666666,
           "#ed7953"
          ],
          [
           0.7777777777777778,
           "#fb9f3a"
          ],
          [
           0.8888888888888888,
           "#fdca26"
          ],
          [
           1,
           "#f0f921"
          ]
         ]
        },
        "height": 500,
        "legend": {
         "itemsizing": "constant",
         "tracegroupgap": 0
        },
        "mapbox": {
         "center": {
          "lat": 29.922231718085104,
          "lon": 31.8897779893617
         },
         "domain": {
          "x": [
           0,
           1
          ],
          "y": [
           0,
           1
          ]
         },
         "style": "open-street-map",
         "zoom": 0.5
        },
        "margin": {
         "b": 0,
         "l": 0,
         "r": 0,
         "t": 0
        },
        "template": {
         "data": {
          "bar": [
           {
            "error_x": {
             "color": "#2a3f5f"
            },
            "error_y": {
             "color": "#2a3f5f"
            },
            "marker": {
             "line": {
              "color": "#E5ECF6",
              "width": 0.5
             }
            },
            "type": "bar"
           }
          ],
          "barpolar": [
           {
            "marker": {
             "line": {
              "color": "#E5ECF6",
              "width": 0.5
             }
            },
            "type": "barpolar"
           }
          ],
          "carpet": [
           {
            "aaxis": {
             "endlinecolor": "#2a3f5f",
             "gridcolor": "white",
             "linecolor": "white",
             "minorgridcolor": "white",
             "startlinecolor": "#2a3f5f"
            },
            "baxis": {
             "endlinecolor": "#2a3f5f",
             "gridcolor": "white",
             "linecolor": "white",
             "minorgridcolor": "white",
             "startlinecolor": "#2a3f5f"
            },
            "type": "carpet"
           }
          ],
          "choropleth": [
           {
            "colorbar": {
             "outlinewidth": 0,
             "ticks": ""
            },
            "type": "choropleth"
           }
          ],
          "contour": [
           {
            "colorbar": {
             "outlinewidth": 0,
             "ticks": ""
            },
            "colorscale": [
             [
              0,
              "#0d0887"
             ],
             [
              0.1111111111111111,
              "#46039f"
             ],
             [
              0.2222222222222222,
              "#7201a8"
             ],
             [
              0.3333333333333333,
              "#9c179e"
             ],
             [
              0.4444444444444444,
              "#bd3786"
             ],
             [
              0.5555555555555556,
              "#d8576b"
             ],
             [
              0.6666666666666666,
              "#ed7953"
             ],
             [
              0.7777777777777778,
              "#fb9f3a"
             ],
             [
              0.8888888888888888,
              "#fdca26"
             ],
             [
              1,
              "#f0f921"
             ]
            ],
            "type": "contour"
           }
          ],
          "contourcarpet": [
           {
            "colorbar": {
             "outlinewidth": 0,
             "ticks": ""
            },
            "type": "contourcarpet"
           }
          ],
          "heatmap": [
           {
            "colorbar": {
             "outlinewidth": 0,
             "ticks": ""
            },
            "colorscale": [
             [
              0,
              "#0d0887"
             ],
             [
              0.1111111111111111,
              "#46039f"
             ],
             [
              0.2222222222222222,
              "#7201a8"
             ],
             [
              0.3333333333333333,
              "#9c179e"
             ],
             [
              0.4444444444444444,
              "#bd3786"
             ],
             [
              0.5555555555555556,
              "#d8576b"
             ],
             [
              0.6666666666666666,
              "#ed7953"
             ],
             [
              0.7777777777777778,
              "#fb9f3a"
             ],
             [
              0.8888888888888888,
              "#fdca26"
             ],
             [
              1,
              "#f0f921"
             ]
            ],
            "type": "heatmap"
           }
          ],
          "heatmapgl": [
           {
            "colorbar": {
             "outlinewidth": 0,
             "ticks": ""
            },
            "colorscale": [
             [
              0,
              "#0d0887"
             ],
             [
              0.1111111111111111,
              "#46039f"
             ],
             [
              0.2222222222222222,
              "#7201a8"
             ],
             [
              0.3333333333333333,
              "#9c179e"
             ],
             [
              0.4444444444444444,
              "#bd3786"
             ],
             [
              0.5555555555555556,
              "#d8576b"
             ],
             [
              0.6666666666666666,
              "#ed7953"
             ],
             [
              0.7777777777777778,
              "#fb9f3a"
             ],
             [
              0.8888888888888888,
              "#fdca26"
             ],
             [
              1,
              "#f0f921"
             ]
            ],
            "type": "heatmapgl"
           }
          ],
          "histogram": [
           {
            "marker": {
             "colorbar": {
              "outlinewidth": 0,
              "ticks": ""
             }
            },
            "type": "histogram"
           }
          ],
          "histogram2d": [
           {
            "colorbar": {
             "outlinewidth": 0,
             "ticks": ""
            },
            "colorscale": [
             [
              0,
              "#0d0887"
             ],
             [
              0.1111111111111111,
              "#46039f"
             ],
             [
              0.2222222222222222,
              "#7201a8"
             ],
             [
              0.3333333333333333,
              "#9c179e"
             ],
             [
              0.4444444444444444,
              "#bd3786"
             ],
             [
              0.5555555555555556,
              "#d8576b"
             ],
             [
              0.6666666666666666,
              "#ed7953"
             ],
             [
              0.7777777777777778,
              "#fb9f3a"
             ],
             [
              0.8888888888888888,
              "#fdca26"
             ],
             [
              1,
              "#f0f921"
             ]
            ],
            "type": "histogram2d"
           }
          ],
          "histogram2dcontour": [
           {
            "colorbar": {
             "outlinewidth": 0,
             "ticks": ""
            },
            "colorscale": [
             [
              0,
              "#0d0887"
             ],
             [
              0.1111111111111111,
              "#46039f"
             ],
             [
              0.2222222222222222,
              "#7201a8"
             ],
             [
              0.3333333333333333,
              "#9c179e"
             ],
             [
              0.4444444444444444,
              "#bd3786"
             ],
             [
              0.5555555555555556,
              "#d8576b"
             ],
             [
              0.6666666666666666,
              "#ed7953"
             ],
             [
              0.7777777777777778,
              "#fb9f3a"
             ],
             [
              0.8888888888888888,
              "#fdca26"
             ],
             [
              1,
              "#f0f921"
             ]
            ],
            "type": "histogram2dcontour"
           }
          ],
          "mesh3d": [
           {
            "colorbar": {
             "outlinewidth": 0,
             "ticks": ""
            },
            "type": "mesh3d"
           }
          ],
          "parcoords": [
           {
            "line": {
             "colorbar": {
              "outlinewidth": 0,
              "ticks": ""
             }
            },
            "type": "parcoords"
           }
          ],
          "pie": [
           {
            "automargin": true,
            "type": "pie"
           }
          ],
          "scatter": [
           {
            "marker": {
             "colorbar": {
              "outlinewidth": 0,
              "ticks": ""
             }
            },
            "type": "scatter"
           }
          ],
          "scatter3d": [
           {
            "line": {
             "colorbar": {
              "outlinewidth": 0,
              "ticks": ""
             }
            },
            "marker": {
             "colorbar": {
              "outlinewidth": 0,
              "ticks": ""
             }
            },
            "type": "scatter3d"
           }
          ],
          "scattercarpet": [
           {
            "marker": {
             "colorbar": {
              "outlinewidth": 0,
              "ticks": ""
             }
            },
            "type": "scattercarpet"
           }
          ],
          "scattergeo": [
           {
            "marker": {
             "colorbar": {
              "outlinewidth": 0,
              "ticks": ""
             }
            },
            "type": "scattergeo"
           }
          ],
          "scattergl": [
           {
            "marker": {
             "colorbar": {
              "outlinewidth": 0,
              "ticks": ""
             }
            },
            "type": "scattergl"
           }
          ],
          "scattermapbox": [
           {
            "marker": {
             "colorbar": {
              "outlinewidth": 0,
              "ticks": ""
             }
            },
            "type": "scattermapbox"
           }
          ],
          "scatterpolar": [
           {
            "marker": {
             "colorbar": {
              "outlinewidth": 0,
              "ticks": ""
             }
            },
            "type": "scatterpolar"
           }
          ],
          "scatterpolargl": [
           {
            "marker": {
             "colorbar": {
              "outlinewidth": 0,
              "ticks": ""
             }
            },
            "type": "scatterpolargl"
           }
          ],
          "scatterternary": [
           {
            "marker": {
             "colorbar": {
              "outlinewidth": 0,
              "ticks": ""
             }
            },
            "type": "scatterternary"
           }
          ],
          "surface": [
           {
            "colorbar": {
             "outlinewidth": 0,
             "ticks": ""
            },
            "colorscale": [
             [
              0,
              "#0d0887"
             ],
             [
              0.1111111111111111,
              "#46039f"
             ],
             [
              0.2222222222222222,
              "#7201a8"
             ],
             [
              0.3333333333333333,
              "#9c179e"
             ],
             [
              0.4444444444444444,
              "#bd3786"
             ],
             [
              0.5555555555555556,
              "#d8576b"
             ],
             [
              0.6666666666666666,
              "#ed7953"
             ],
             [
              0.7777777777777778,
              "#fb9f3a"
             ],
             [
              0.8888888888888888,
              "#fdca26"
             ],
             [
              1,
              "#f0f921"
             ]
            ],
            "type": "surface"
           }
          ],
          "table": [
           {
            "cells": {
             "fill": {
              "color": "#EBF0F8"
             },
             "line": {
              "color": "white"
             }
            },
            "header": {
             "fill": {
              "color": "#C8D4E3"
             },
             "line": {
              "color": "white"
             }
            },
            "type": "table"
           }
          ]
         },
         "layout": {
          "annotationdefaults": {
           "arrowcolor": "#2a3f5f",
           "arrowhead": 0,
           "arrowwidth": 1
          },
          "coloraxis": {
           "colorbar": {
            "outlinewidth": 0,
            "ticks": ""
           }
          },
          "colorscale": {
           "diverging": [
            [
             0,
             "#8e0152"
            ],
            [
             0.1,
             "#c51b7d"
            ],
            [
             0.2,
             "#de77ae"
            ],
            [
             0.3,
             "#f1b6da"
            ],
            [
             0.4,
             "#fde0ef"
            ],
            [
             0.5,
             "#f7f7f7"
            ],
            [
             0.6,
             "#e6f5d0"
            ],
            [
             0.7,
             "#b8e186"
            ],
            [
             0.8,
             "#7fbc41"
            ],
            [
             0.9,
             "#4d9221"
            ],
            [
             1,
             "#276419"
            ]
           ],
           "sequential": [
            [
             0,
             "#0d0887"
            ],
            [
             0.1111111111111111,
             "#46039f"
            ],
            [
             0.2222222222222222,
             "#7201a8"
            ],
            [
             0.3333333333333333,
             "#9c179e"
            ],
            [
             0.4444444444444444,
             "#bd3786"
            ],
            [
             0.5555555555555556,
             "#d8576b"
            ],
            [
             0.6666666666666666,
             "#ed7953"
            ],
            [
             0.7777777777777778,
             "#fb9f3a"
            ],
            [
             0.8888888888888888,
             "#fdca26"
            ],
            [
             1,
             "#f0f921"
            ]
           ],
           "sequentialminus": [
            [
             0,
             "#0d0887"
            ],
            [
             0.1111111111111111,
             "#46039f"
            ],
            [
             0.2222222222222222,
             "#7201a8"
            ],
            [
             0.3333333333333333,
             "#9c179e"
            ],
            [
             0.4444444444444444,
             "#bd3786"
            ],
            [
             0.5555555555555556,
             "#d8576b"
            ],
            [
             0.6666666666666666,
             "#ed7953"
            ],
            [
             0.7777777777777778,
             "#fb9f3a"
            ],
            [
             0.8888888888888888,
             "#fdca26"
            ],
            [
             1,
             "#f0f921"
            ]
           ]
          },
          "colorway": [
           "#636efa",
           "#EF553B",
           "#00cc96",
           "#ab63fa",
           "#FFA15A",
           "#19d3f3",
           "#FF6692",
           "#B6E880",
           "#FF97FF",
           "#FECB52"
          ],
          "font": {
           "color": "#2a3f5f"
          },
          "geo": {
           "bgcolor": "white",
           "lakecolor": "white",
           "landcolor": "#E5ECF6",
           "showlakes": true,
           "showland": true,
           "subunitcolor": "white"
          },
          "hoverlabel": {
           "align": "left"
          },
          "hovermode": "closest",
          "mapbox": {
           "style": "light"
          },
          "paper_bgcolor": "white",
          "plot_bgcolor": "#E5ECF6",
          "polar": {
           "angularaxis": {
            "gridcolor": "white",
            "linecolor": "white",
            "ticks": ""
           },
           "bgcolor": "#E5ECF6",
           "radialaxis": {
            "gridcolor": "white",
            "linecolor": "white",
            "ticks": ""
           }
          },
          "scene": {
           "xaxis": {
            "backgroundcolor": "#E5ECF6",
            "gridcolor": "white",
            "gridwidth": 2,
            "linecolor": "white",
            "showbackground": true,
            "ticks": "",
            "zerolinecolor": "white"
           },
           "yaxis": {
            "backgroundcolor": "#E5ECF6",
            "gridcolor": "white",
            "gridwidth": 2,
            "linecolor": "white",
            "showbackground": true,
            "ticks": "",
            "zerolinecolor": "white"
           },
           "zaxis": {
            "backgroundcolor": "#E5ECF6",
            "gridcolor": "white",
            "gridwidth": 2,
            "linecolor": "white",
            "showbackground": true,
            "ticks": "",
            "zerolinecolor": "white"
           }
          },
          "shapedefaults": {
           "line": {
            "color": "#2a3f5f"
           }
          },
          "ternary": {
           "aaxis": {
            "gridcolor": "white",
            "linecolor": "white",
            "ticks": ""
           },
           "baxis": {
            "gridcolor": "white",
            "linecolor": "white",
            "ticks": ""
           },
           "bgcolor": "#E5ECF6",
           "caxis": {
            "gridcolor": "white",
            "linecolor": "white",
            "ticks": ""
           }
          },
          "title": {
           "x": 0.05
          },
          "xaxis": {
           "automargin": true,
           "gridcolor": "white",
           "linecolor": "white",
           "ticks": "",
           "title": {
            "standoff": 15
           },
           "zerolinecolor": "white",
           "zerolinewidth": 2
          },
          "yaxis": {
           "automargin": true,
           "gridcolor": "white",
           "linecolor": "white",
           "ticks": "",
           "title": {
            "standoff": 15
           },
           "zerolinecolor": "white",
           "zerolinewidth": 2
          }
         }
        },
        "width": 900
       }
      }
     },
     "metadata": {}
    }
   ],
   "source": [
    "d_fig = px.scatter_mapbox(table, lat=\"Lat\", lon=\"Long\", hover_name=\"Country/Region\", hover_data=[\"DeathCases\"],\n",
    "                        color_discrete_sequence=[\"fuchsia\"], zoom=0.5, width=900, height=500, color=\"DeathCases\", size=\"DeathCases\")\n",
    "d_fig.update_layout(mapbox_style=\"open-street-map\")\n",
    "d_fig.update_layout(margin={\"r\":0,\"t\":0,\"l\":0,\"b\":0})\n",
    "d_fig.show()"
   ]
  },
  {
   "cell_type": "code",
   "execution_count": 168,
   "metadata": {},
   "outputs": [
    {
     "output_type": "display_data",
     "data": {
      "application/vnd.plotly.v1+json": {
       "config": {
        "plotlyServerURL": "https://plot.ly"
       },
       "data": [
        {
         "customdata": [
          [
           930
          ],
          [
           758
          ],
          [
           3968
          ],
          [
           639
          ],
          [
           17
          ],
          [
           19
          ],
          [
           2933
          ],
          [
           2419
          ],
          [
           6470
          ],
          [
           14882
          ],
          [
           2253
          ],
          [
           43
          ],
          [
           3568
          ],
          [
           5207
          ],
          [
           70
          ],
          [
           11415
          ],
          [
           14847
          ],
          [
           16
          ],
          [
           57
          ],
          [
           5
          ],
          [
           553
          ],
          [
           1557
          ],
          [
           17
          ],
          [
           116683
          ],
          [
           136
          ],
          [
           684
          ],
          [
           661
          ],
          [
           108
          ],
          [
           20
          ],
          [
           85
          ],
          [
           122
          ],
          [
           1595
          ],
          [
           40793
          ],
          [
           18
          ],
          [
           177
          ],
          [
           22504
          ],
          [
           79310
          ],
          [
           4256
          ],
          [
           8
          ],
          [
           132
          ],
          [
           302
          ],
          [
           582
          ],
          [
           1083
          ],
          [
           1978
          ],
          [
           1573
          ],
          [
           516
          ],
          [
           5830
          ],
          [
           9734
          ],
          [
           651
          ],
          [
           1052
          ],
          [
           16
          ],
          [
           7142
          ],
          [
           3557
          ],
          [
           3994
          ],
          [
           537
          ],
          [
           22
          ],
          [
           39
          ],
          [
           956
          ],
          [
           97
          ],
          [
           122
          ],
          [
           15
          ],
          [
           4800
          ],
          [
           63472
          ],
          [
           365
          ],
          [
           13
          ],
          [
           475
          ],
          [
           156966
          ],
          [
           1898
          ],
          [
           1374
          ],
          [
           17
          ],
          [
           159
          ],
          [
           1525
          ],
          [
           42
          ],
          [
           47
          ],
          [
           21
          ],
          [
           2
          ],
          [
           349
          ],
          [
           1454
          ],
          [
           1789
          ],
          [
           45422
          ],
          [
           4575
          ],
          [
           98808
          ],
          [
           2438
          ],
          [
           21060
          ],
          [
           13504
          ],
          [
           132282
          ],
          [
           171
          ],
          [
           11564
          ],
          [
           446
          ],
          [
           3734
          ],
          [
           366
          ],
          [
           10135
          ],
          [
           769
          ],
          [
           4885
          ],
          [
           910
          ],
          [
           14
          ],
          [
           694
          ],
          [
           251
          ],
          [
           0
          ],
          [
           128
          ],
          [
           35
          ],
          [
           55
          ],
          [
           1049
          ],
          [
           3728
          ],
          [
           0
          ],
          [
           131
          ],
          [
           27
          ],
          [
           5706
          ],
          [
           91
          ],
          [
           543
          ],
          [
           465
          ],
          [
           7
          ],
          [
           322
          ],
          [
           38419
          ],
          [
           2953
          ],
          [
           90
          ],
          [
           26
          ],
          [
           312
          ],
          [
           4098
          ],
          [
           48
          ],
          [
           14
          ],
          [
           45
          ],
          [
           169
          ],
          [
           1452
          ],
          [
           199
          ],
          [
           738
          ],
          [
           1840
          ],
          [
           1367
          ],
          [
           32
          ],
          [
           1661
          ],
          [
           13101
          ],
          [
           6194
          ],
          [
           8
          ],
          [
           242
          ],
          [
           41968
          ],
          [
           2932
          ],
          [
           8183
          ],
          [
           6452
          ],
          [
           6600
          ],
          [
           10356
          ],
          [
           85392
          ],
          [
           216
          ],
          [
           15
          ],
          [
           18
          ],
          [
           14
          ],
          [
           220
          ],
          [
           4
          ],
          [
           33478
          ],
          [
           1186
          ],
          [
           5067
          ],
          [
           11
          ],
          [
           205
          ],
          [
           11207
          ],
          [
           1231
          ],
          [
           1340
          ],
          [
           188
          ],
          [
           8950
          ],
          [
           4
          ],
          [
           150376
          ],
          [
           584
          ],
          [
           286
          ],
          [
           9
          ],
          [
           4971
          ],
          [
           27800
          ],
          [
           36
          ],
          [
           398
          ],
          [
           470
          ],
          [
           183
          ],
          [
           2888
          ],
          [
           24
          ],
          [
           110
          ],
          [
           107
          ],
          [
           862
          ],
          [
           113987
          ],
          [
           294312
          ],
          [
           65
          ],
          [
           5955
          ],
          [
           11809
          ],
          [
           1116
          ],
          [
           588
          ],
          [
           2372
          ],
          [
           262
          ],
          [
           263
          ],
          [
           346
          ],
          [
           6
          ],
          [
           5
          ],
          [
           197
          ],
          [
           18
          ]
         ],
         "hovertemplate": "<b>%{hovertext}</b><br><br>RecoveredCases=%{marker.color}<br>Lat=%{lat}<br>Long=%{lon}<extra></extra>",
         "hovertext": [
          "Afghanistan",
          "Albania",
          "Algeria",
          "Andorra",
          "Angola",
          "Antigua and Barbuda",
          "Argentina",
          "Armenia",
          "Australia",
          "Austria",
          "Azerbaijan",
          "Bahamas",
          "Bahrain",
          "Bangladesh",
          "Barbados",
          "Belarus",
          "Belgium",
          "Belize",
          "Benin",
          "Bhutan",
          "Bolivia",
          "Bosnia and Herzegovina",
          "Botswana",
          "Brazil",
          "Brunei",
          "Bulgaria",
          "Burkina Faso",
          "Burma",
          "Burundi",
          "Cabo Verde",
          "Cambodia",
          "Cameroon",
          "Canada",
          "Central African Republic",
          "Chad",
          "Chile",
          "China",
          "Colombia",
          "Comoros",
          "Congo (Brazzaville)",
          "Congo (Kinshasa)",
          "Costa Rica",
          "Cote d'Ivoire",
          "Croatia",
          "Cuba",
          "Cyprus",
          "Czechia",
          "Denmark",
          "Diamond Princess",
          "Djibouti",
          "Dominica",
          "Dominican Republic",
          "Ecuador",
          "Egypt",
          "El Salvador",
          "Equatorial Guinea",
          "Eritrea",
          "Estonia",
          "Eswatini",
          "Ethiopia",
          "Fiji",
          "Finland",
          "France",
          "Gabon",
          "Gambia",
          "Georgia",
          "Germany",
          "Ghana",
          "Greece",
          "Grenada",
          "Guatemala",
          "Guinea",
          "Guinea-Bissau",
          "Guyana",
          "Haiti",
          "Holy See",
          "Honduras",
          "Hungary",
          "Iceland",
          "India",
          "Indonesia",
          "Iran",
          "Iraq",
          "Ireland",
          "Israel",
          "Italy",
          "Jamaica",
          "Japan",
          "Jordan",
          "Kazakhstan",
          "Kenya",
          "Korea, South",
          "Kosovo",
          "Kuwait",
          "Kyrgyzstan",
          "Laos",
          "Latvia",
          "Lebanon",
          "Lesotho",
          "Liberia",
          "Libya",
          "Liechtenstein",
          "Lithuania",
          "Luxembourg",
          "MS Zaandam",
          "Madagascar",
          "Malawi",
          "Malaysia",
          "Maldives",
          "Mali",
          "Malta",
          "Mauritania",
          "Mauritius",
          "Mexico",
          "Moldova",
          "Monaco",
          "Mongolia",
          "Montenegro",
          "Morocco",
          "Mozambique",
          "Namibia",
          "Nepal",
          "Netherlands",
          "New Zealand",
          "Nicaragua",
          "Niger",
          "Nigeria",
          "North Macedonia",
          "Norway",
          "Oman",
          "Pakistan",
          "Panama",
          "Papua New Guinea",
          "Paraguay",
          "Peru",
          "Philippines",
          "Poland",
          "Portugal",
          "Qatar",
          "Romania",
          "Russia",
          "Rwanda",
          "Saint Kitts and Nevis",
          "Saint Lucia",
          "Saint Vincent and the Grenadines",
          "San Marino",
          "Sao Tome and Principe",
          "Saudi Arabia",
          "Senegal",
          "Serbia",
          "Seychelles",
          "Sierra Leone",
          "Singapore",
          "Slovakia",
          "Slovenia",
          "Somalia",
          "South Africa",
          "South Sudan",
          "Spain",
          "Sri Lanka",
          "Sudan",
          "Suriname",
          "Sweden",
          "Switzerland",
          "Syria",
          "Taiwan*",
          "Tajikistan",
          "Tanzania",
          "Thailand",
          "Timor-Leste",
          "Togo",
          "Trinidad and Tobago",
          "Tunisia",
          "Turkey",
          "US",
          "Uganda",
          "Ukraine",
          "United Arab Emirates",
          "United Kingdom",
          "Uruguay",
          "Uzbekistan",
          "Venezuela",
          "Vietnam",
          "West Bank and Gaza",
          "Western Sahara",
          "Yemen",
          "Zambia",
          "Zimbabwe"
         ],
         "lat": [
          33,
          41.1533,
          28.0339,
          42.5063,
          -11.2027,
          17.0608,
          -38.4161,
          40.0691,
          -255.9695,
          47.5162,
          40.1431,
          25.0343,
          26.0275,
          23.685,
          13.1939,
          53.7098,
          50.8333,
          13.1939,
          9.3077,
          27.5142,
          -16.2902,
          43.9159,
          -22.3285,
          -14.235,
          4.5353,
          42.7339,
          12.2383,
          21.9162,
          -3.3731,
          16.5388,
          11.55,
          3.848,
          671.7607,
          6.6111,
          15.4542,
          -35.6751,
          1083.3367,
          4.5709,
          -11.6455,
          -4.0383,
          -4.0383,
          9.7489,
          7.54,
          45.1,
          22,
          35.1264,
          49.8175,
          189.8634,
          0,
          11.8251,
          15.415,
          18.7357,
          -1.8312,
          26,
          13.7942,
          1.5,
          15.1794,
          58.5953,
          -26.5225,
          9.145,
          -17.7134,
          64,
          91.3624,
          -0.8037,
          13.4432,
          42.3154,
          51,
          7.9465,
          39.0742,
          12.1165,
          15.7835,
          9.9456,
          11.8037,
          5,
          18.9712,
          41.9029,
          15.2,
          47.1625,
          64.9631,
          21,
          -0.7893,
          32,
          33,
          53.1424,
          31,
          43,
          18.1096,
          36,
          31.24,
          48.0196,
          -0.0236,
          36,
          42.602636,
          29.5,
          41.2044,
          19.85627,
          56.8796,
          33.8547,
          -29.609988,
          6.4281,
          26.3351,
          47.14,
          55.1694,
          49.8153,
          0,
          -18.7669,
          -13.254307999999998,
          2.5,
          3.2028,
          17.570692,
          35.9375,
          21.0079,
          -20.2,
          23.6345,
          47.4116,
          43.7333,
          46.8625,
          42.5,
          31.7917,
          -18.665695,
          -22.9576,
          28.1667,
          107.04169999999999,
          -40.9006,
          12.8654,
          17.6078,
          9.082,
          41.6086,
          60.472,
          21,
          30.3753,
          8.538,
          -6.315,
          -23.4425,
          -9.19,
          13,
          51.9194,
          39.3999,
          25.3548,
          45.9432,
          60,
          -1.9403,
          17.357822,
          13.9094,
          12.9843,
          43.9424,
          0.18636,
          24,
          14.4974,
          44.0165,
          -4.6796,
          8.460555000000001,
          1.2833,
          48.669,
          46.1512,
          5.1521,
          -30.5595,
          6.877000000000002,
          40,
          7,
          12.8628,
          3.9193,
          63,
          46.8182,
          34.802075,
          23.7,
          38.861034,
          -6.369,
          15,
          -8.874217,
          8.6195,
          10.6918,
          34,
          38.9637,
          37.0902,
          1,
          48.3794,
          24,
          270.0299,
          -32.5228,
          41.3775,
          6.4238,
          16,
          31.9522,
          24.2155,
          15.552727,
          -15.4167,
          -20
         ],
         "legendgroup": "",
         "lon": [
          65,
          20.1683,
          1.6596,
          1.5218,
          17.8739,
          -61.7964,
          -63.6167,
          45.0382,
          1129.8623,
          14.5501,
          47.5769,
          -77.3963,
          50.55,
          90.3563,
          -59.5432,
          27.9534,
          4,
          -59.5432,
          2.3158,
          90.4336,
          -63.5887,
          17.6791,
          24.6849,
          -51.9253,
          114.7277,
          25.4858,
          -1.5616,
          95.956,
          29.9189,
          -23.0418,
          104.9167,
          11.5021,
          -1237.6289,
          20.9394,
          18.7322,
          -71.543,
          3684.4197000000004,
          -74.2973,
          43.3333,
          21.7587,
          21.7587,
          -83.7534,
          -5.5471,
          15.2,
          -80,
          33.4299,
          15.473,
          -40.014300000000006,
          0,
          42.5903,
          -61.371,
          -70.1627,
          -78.1834,
          30,
          -88.8965,
          10,
          39.7823,
          25.0136,
          31.4659,
          40.4897,
          178.065,
          26,
          59.71919999999999,
          11.6094,
          -15.3101,
          43.3569,
          9,
          -1.0232,
          21.8243,
          -61.679,
          -90.2308,
          -9.6966,
          -15.1804,
          -58.75,
          -72.2852,
          12.4534,
          -86.2419,
          19.5033,
          -19.0208,
          78,
          113.9213,
          53,
          44,
          -7.6921,
          35,
          12,
          -77.2975,
          138,
          36.51,
          66.9237,
          37.9062,
          128,
          20.902977,
          47.75,
          74.7661,
          102.495496,
          24.6032,
          35.8623,
          28.233608,
          -9.4295,
          17.228331,
          9.55,
          23.8813,
          6.1296,
          0,
          46.8691,
          34.301525,
          112.5,
          73.2207,
          -3.996166000000001,
          14.3754,
          10.9408,
          57.5,
          -102.5528,
          28.3699,
          7.4167,
          103.8467,
          19.3,
          -7.0926,
          35.529562,
          18.4904,
          84.25,
          -265.0278,
          174.886,
          -85.2072,
          8.0817,
          8.6753,
          21.7453,
          8.4689,
          57,
          69.3451,
          -80.7821,
          143.9555,
          -58.4438,
          -75.0152,
          122,
          19.1451,
          -8.2245,
          51.1839,
          24.9668,
          90,
          29.8739,
          -62.782998,
          -60.9789,
          -61.2872,
          12.4578,
          6.613081,
          45,
          -14.4524,
          21.0059,
          55.492,
          -11.779889,
          103.8333,
          19.699,
          14.9955,
          46.1996,
          22.9375,
          31.307,
          -4,
          81,
          30.2176,
          -56.0278,
          16,
          8.2275,
          38.99681500000001,
          121,
          71.276093,
          34.8888,
          101,
          125.727539,
          0.8248,
          -61.2225,
          9,
          35.2433,
          -95.7129,
          32,
          31.1656,
          54,
          -482.92470000000003,
          -55.7658,
          64.5853,
          -66.5897,
          108,
          35.2332,
          -12.8858,
          48.516388,
          28.2833,
          30
         ],
         "marker": {
          "color": [
           930,
           758,
           3968,
           639,
           17,
           19,
           2933,
           2419,
           6470,
           14882,
           2253,
           43,
           3568,
           5207,
           70,
           11415,
           14847,
           16,
           57,
           5,
           553,
           1557,
           17,
           116683,
           136,
           684,
           661,
           108,
           20,
           85,
           122,
           1595,
           40793,
           18,
           177,
           22504,
           79310,
           4256,
           8,
           132,
           302,
           582,
           1083,
           1978,
           1573,
           516,
           5830,
           9734,
           651,
           1052,
           16,
           7142,
           3557,
           3994,
           537,
           22,
           39,
           956,
           97,
           122,
           15,
           4800,
           63472,
           365,
           13,
           475,
           156966,
           1898,
           1374,
           17,
           159,
           1525,
           42,
           47,
           21,
           2,
           349,
           1454,
           1789,
           45422,
           4575,
           98808,
           2438,
           21060,
           13504,
           132282,
           171,
           11564,
           446,
           3734,
           366,
           10135,
           769,
           4885,
           910,
           14,
           694,
           251,
           0,
           128,
           35,
           55,
           1049,
           3728,
           0,
           131,
           27,
           5706,
           91,
           543,
           465,
           7,
           322,
           38419,
           2953,
           90,
           26,
           312,
           4098,
           48,
           14,
           45,
           169,
           1452,
           199,
           738,
           1840,
           1367,
           32,
           1661,
           13101,
           6194,
           8,
           242,
           41968,
           2932,
           8183,
           6452,
           6600,
           10356,
           85392,
           216,
           15,
           18,
           14,
           220,
           4,
           33478,
           1186,
           5067,
           11,
           205,
           11207,
           1231,
           1340,
           188,
           8950,
           4,
           150376,
           584,
           286,
           9,
           4971,
           27800,
           36,
           398,
           470,
           183,
           2888,
           24,
           110,
           107,
           862,
           113987,
           294312,
           65,
           5955,
           11809,
           1116,
           588,
           2372,
           262,
           263,
           346,
           6,
           5,
           197,
           18
          ],
          "coloraxis": "coloraxis",
          "size": [
           930,
           758,
           3968,
           639,
           17,
           19,
           2933,
           2419,
           6470,
           14882,
           2253,
           43,
           3568,
           5207,
           70,
           11415,
           14847,
           16,
           57,
           5,
           553,
           1557,
           17,
           116683,
           136,
           684,
           661,
           108,
           20,
           85,
           122,
           1595,
           40793,
           18,
           177,
           22504,
           79310,
           4256,
           8,
           132,
           302,
           582,
           1083,
           1978,
           1573,
           516,
           5830,
           9734,
           651,
           1052,
           16,
           7142,
           3557,
           3994,
           537,
           22,
           39,
           956,
           97,
           122,
           15,
           4800,
           63472,
           365,
           13,
           475,
           156966,
           1898,
           1374,
           17,
           159,
           1525,
           42,
           47,
           21,
           2,
           349,
           1454,
           1789,
           45422,
           4575,
           98808,
           2438,
           21060,
           13504,
           132282,
           171,
           11564,
           446,
           3734,
           366,
           10135,
           769,
           4885,
           910,
           14,
           694,
           251,
           0,
           128,
           35,
           55,
           1049,
           3728,
           0,
           131,
           27,
           5706,
           91,
           543,
           465,
           7,
           322,
           38419,
           2953,
           90,
           26,
           312,
           4098,
           48,
           14,
           45,
           169,
           1452,
           199,
           738,
           1840,
           1367,
           32,
           1661,
           13101,
           6194,
           8,
           242,
           41968,
           2932,
           8183,
           6452,
           6600,
           10356,
           85392,
           216,
           15,
           18,
           14,
           220,
           4,
           33478,
           1186,
           5067,
           11,
           205,
           11207,
           1231,
           1340,
           188,
           8950,
           4,
           150376,
           584,
           286,
           9,
           4971,
           27800,
           36,
           398,
           470,
           183,
           2888,
           24,
           110,
           107,
           862,
           113987,
           294312,
           65,
           5955,
           11809,
           1116,
           588,
           2372,
           262,
           263,
           346,
           6,
           5,
           197,
           18
          ],
          "sizemode": "area",
          "sizeref": 735.78
         },
         "mode": "markers",
         "name": "",
         "showlegend": false,
         "subplot": "mapbox",
         "type": "scattermapbox"
        }
       ],
       "layout": {
        "coloraxis": {
         "colorbar": {
          "title": {
           "text": "RecoveredCases"
          }
         },
         "colorscale": [
          [
           0,
           "#0d0887"
          ],
          [
           0.1111111111111111,
           "#46039f"
          ],
          [
           0.2222222222222222,
           "#7201a8"
          ],
          [
           0.3333333333333333,
           "#9c179e"
          ],
          [
           0.4444444444444444,
           "#bd3786"
          ],
          [
           0.5555555555555556,
           "#d8576b"
          ],
          [
           0.6666666666666666,
           "#ed7953"
          ],
          [
           0.7777777777777778,
           "#fb9f3a"
          ],
          [
           0.8888888888888888,
           "#fdca26"
          ],
          [
           1,
           "#f0f921"
          ]
         ]
        },
        "height": 500,
        "legend": {
         "itemsizing": "constant",
         "tracegroupgap": 0
        },
        "mapbox": {
         "center": {
          "lat": 29.922231718085104,
          "lon": 31.8897779893617
         },
         "domain": {
          "x": [
           0,
           1
          ],
          "y": [
           0,
           1
          ]
         },
         "style": "open-street-map",
         "zoom": 0.5
        },
        "margin": {
         "b": 0,
         "l": 0,
         "r": 0,
         "t": 0
        },
        "template": {
         "data": {
          "bar": [
           {
            "error_x": {
             "color": "#2a3f5f"
            },
            "error_y": {
             "color": "#2a3f5f"
            },
            "marker": {
             "line": {
              "color": "#E5ECF6",
              "width": 0.5
             }
            },
            "type": "bar"
           }
          ],
          "barpolar": [
           {
            "marker": {
             "line": {
              "color": "#E5ECF6",
              "width": 0.5
             }
            },
            "type": "barpolar"
           }
          ],
          "carpet": [
           {
            "aaxis": {
             "endlinecolor": "#2a3f5f",
             "gridcolor": "white",
             "linecolor": "white",
             "minorgridcolor": "white",
             "startlinecolor": "#2a3f5f"
            },
            "baxis": {
             "endlinecolor": "#2a3f5f",
             "gridcolor": "white",
             "linecolor": "white",
             "minorgridcolor": "white",
             "startlinecolor": "#2a3f5f"
            },
            "type": "carpet"
           }
          ],
          "choropleth": [
           {
            "colorbar": {
             "outlinewidth": 0,
             "ticks": ""
            },
            "type": "choropleth"
           }
          ],
          "contour": [
           {
            "colorbar": {
             "outlinewidth": 0,
             "ticks": ""
            },
            "colorscale": [
             [
              0,
              "#0d0887"
             ],
             [
              0.1111111111111111,
              "#46039f"
             ],
             [
              0.2222222222222222,
              "#7201a8"
             ],
             [
              0.3333333333333333,
              "#9c179e"
             ],
             [
              0.4444444444444444,
              "#bd3786"
             ],
             [
              0.5555555555555556,
              "#d8576b"
             ],
             [
              0.6666666666666666,
              "#ed7953"
             ],
             [
              0.7777777777777778,
              "#fb9f3a"
             ],
             [
              0.8888888888888888,
              "#fdca26"
             ],
             [
              1,
              "#f0f921"
             ]
            ],
            "type": "contour"
           }
          ],
          "contourcarpet": [
           {
            "colorbar": {
             "outlinewidth": 0,
             "ticks": ""
            },
            "type": "contourcarpet"
           }
          ],
          "heatmap": [
           {
            "colorbar": {
             "outlinewidth": 0,
             "ticks": ""
            },
            "colorscale": [
             [
              0,
              "#0d0887"
             ],
             [
              0.1111111111111111,
              "#46039f"
             ],
             [
              0.2222222222222222,
              "#7201a8"
             ],
             [
              0.3333333333333333,
              "#9c179e"
             ],
             [
              0.4444444444444444,
              "#bd3786"
             ],
             [
              0.5555555555555556,
              "#d8576b"
             ],
             [
              0.6666666666666666,
              "#ed7953"
             ],
             [
              0.7777777777777778,
              "#fb9f3a"
             ],
             [
              0.8888888888888888,
              "#fdca26"
             ],
             [
              1,
              "#f0f921"
             ]
            ],
            "type": "heatmap"
           }
          ],
          "heatmapgl": [
           {
            "colorbar": {
             "outlinewidth": 0,
             "ticks": ""
            },
            "colorscale": [
             [
              0,
              "#0d0887"
             ],
             [
              0.1111111111111111,
              "#46039f"
             ],
             [
              0.2222222222222222,
              "#7201a8"
             ],
             [
              0.3333333333333333,
              "#9c179e"
             ],
             [
              0.4444444444444444,
              "#bd3786"
             ],
             [
              0.5555555555555556,
              "#d8576b"
             ],
             [
              0.6666666666666666,
              "#ed7953"
             ],
             [
              0.7777777777777778,
              "#fb9f3a"
             ],
             [
              0.8888888888888888,
              "#fdca26"
             ],
             [
              1,
              "#f0f921"
             ]
            ],
            "type": "heatmapgl"
           }
          ],
          "histogram": [
           {
            "marker": {
             "colorbar": {
              "outlinewidth": 0,
              "ticks": ""
             }
            },
            "type": "histogram"
           }
          ],
          "histogram2d": [
           {
            "colorbar": {
             "outlinewidth": 0,
             "ticks": ""
            },
            "colorscale": [
             [
              0,
              "#0d0887"
             ],
             [
              0.1111111111111111,
              "#46039f"
             ],
             [
              0.2222222222222222,
              "#7201a8"
             ],
             [
              0.3333333333333333,
              "#9c179e"
             ],
             [
              0.4444444444444444,
              "#bd3786"
             ],
             [
              0.5555555555555556,
              "#d8576b"
             ],
             [
              0.6666666666666666,
              "#ed7953"
             ],
             [
              0.7777777777777778,
              "#fb9f3a"
             ],
             [
              0.8888888888888888,
              "#fdca26"
             ],
             [
              1,
              "#f0f921"
             ]
            ],
            "type": "histogram2d"
           }
          ],
          "histogram2dcontour": [
           {
            "colorbar": {
             "outlinewidth": 0,
             "ticks": ""
            },
            "colorscale": [
             [
              0,
              "#0d0887"
             ],
             [
              0.1111111111111111,
              "#46039f"
             ],
             [
              0.2222222222222222,
              "#7201a8"
             ],
             [
              0.3333333333333333,
              "#9c179e"
             ],
             [
              0.4444444444444444,
              "#bd3786"
             ],
             [
              0.5555555555555556,
              "#d8576b"
             ],
             [
              0.6666666666666666,
              "#ed7953"
             ],
             [
              0.7777777777777778,
              "#fb9f3a"
             ],
             [
              0.8888888888888888,
              "#fdca26"
             ],
             [
              1,
              "#f0f921"
             ]
            ],
            "type": "histogram2dcontour"
           }
          ],
          "mesh3d": [
           {
            "colorbar": {
             "outlinewidth": 0,
             "ticks": ""
            },
            "type": "mesh3d"
           }
          ],
          "parcoords": [
           {
            "line": {
             "colorbar": {
              "outlinewidth": 0,
              "ticks": ""
             }
            },
            "type": "parcoords"
           }
          ],
          "pie": [
           {
            "automargin": true,
            "type": "pie"
           }
          ],
          "scatter": [
           {
            "marker": {
             "colorbar": {
              "outlinewidth": 0,
              "ticks": ""
             }
            },
            "type": "scatter"
           }
          ],
          "scatter3d": [
           {
            "line": {
             "colorbar": {
              "outlinewidth": 0,
              "ticks": ""
             }
            },
            "marker": {
             "colorbar": {
              "outlinewidth": 0,
              "ticks": ""
             }
            },
            "type": "scatter3d"
           }
          ],
          "scattercarpet": [
           {
            "marker": {
             "colorbar": {
              "outlinewidth": 0,
              "ticks": ""
             }
            },
            "type": "scattercarpet"
           }
          ],
          "scattergeo": [
           {
            "marker": {
             "colorbar": {
              "outlinewidth": 0,
              "ticks": ""
             }
            },
            "type": "scattergeo"
           }
          ],
          "scattergl": [
           {
            "marker": {
             "colorbar": {
              "outlinewidth": 0,
              "ticks": ""
             }
            },
            "type": "scattergl"
           }
          ],
          "scattermapbox": [
           {
            "marker": {
             "colorbar": {
              "outlinewidth": 0,
              "ticks": ""
             }
            },
            "type": "scattermapbox"
           }
          ],
          "scatterpolar": [
           {
            "marker": {
             "colorbar": {
              "outlinewidth": 0,
              "ticks": ""
             }
            },
            "type": "scatterpolar"
           }
          ],
          "scatterpolargl": [
           {
            "marker": {
             "colorbar": {
              "outlinewidth": 0,
              "ticks": ""
             }
            },
            "type": "scatterpolargl"
           }
          ],
          "scatterternary": [
           {
            "marker": {
             "colorbar": {
              "outlinewidth": 0,
              "ticks": ""
             }
            },
            "type": "scatterternary"
           }
          ],
          "surface": [
           {
            "colorbar": {
             "outlinewidth": 0,
             "ticks": ""
            },
            "colorscale": [
             [
              0,
              "#0d0887"
             ],
             [
              0.1111111111111111,
              "#46039f"
             ],
             [
              0.2222222222222222,
              "#7201a8"
             ],
             [
              0.3333333333333333,
              "#9c179e"
             ],
             [
              0.4444444444444444,
              "#bd3786"
             ],
             [
              0.5555555555555556,
              "#d8576b"
             ],
             [
              0.6666666666666666,
              "#ed7953"
             ],
             [
              0.7777777777777778,
              "#fb9f3a"
             ],
             [
              0.8888888888888888,
              "#fdca26"
             ],
             [
              1,
              "#f0f921"
             ]
            ],
            "type": "surface"
           }
          ],
          "table": [
           {
            "cells": {
             "fill": {
              "color": "#EBF0F8"
             },
             "line": {
              "color": "white"
             }
            },
            "header": {
             "fill": {
              "color": "#C8D4E3"
             },
             "line": {
              "color": "white"
             }
            },
            "type": "table"
           }
          ]
         },
         "layout": {
          "annotationdefaults": {
           "arrowcolor": "#2a3f5f",
           "arrowhead": 0,
           "arrowwidth": 1
          },
          "coloraxis": {
           "colorbar": {
            "outlinewidth": 0,
            "ticks": ""
           }
          },
          "colorscale": {
           "diverging": [
            [
             0,
             "#8e0152"
            ],
            [
             0.1,
             "#c51b7d"
            ],
            [
             0.2,
             "#de77ae"
            ],
            [
             0.3,
             "#f1b6da"
            ],
            [
             0.4,
             "#fde0ef"
            ],
            [
             0.5,
             "#f7f7f7"
            ],
            [
             0.6,
             "#e6f5d0"
            ],
            [
             0.7,
             "#b8e186"
            ],
            [
             0.8,
             "#7fbc41"
            ],
            [
             0.9,
             "#4d9221"
            ],
            [
             1,
             "#276419"
            ]
           ],
           "sequential": [
            [
             0,
             "#0d0887"
            ],
            [
             0.1111111111111111,
             "#46039f"
            ],
            [
             0.2222222222222222,
             "#7201a8"
            ],
            [
             0.3333333333333333,
             "#9c179e"
            ],
            [
             0.4444444444444444,
             "#bd3786"
            ],
            [
             0.5555555555555556,
             "#d8576b"
            ],
            [
             0.6666666666666666,
             "#ed7953"
            ],
            [
             0.7777777777777778,
             "#fb9f3a"
            ],
            [
             0.8888888888888888,
             "#fdca26"
            ],
            [
             1,
             "#f0f921"
            ]
           ],
           "sequentialminus": [
            [
             0,
             "#0d0887"
            ],
            [
             0.1111111111111111,
             "#46039f"
            ],
            [
             0.2222222222222222,
             "#7201a8"
            ],
            [
             0.3333333333333333,
             "#9c179e"
            ],
            [
             0.4444444444444444,
             "#bd3786"
            ],
            [
             0.5555555555555556,
             "#d8576b"
            ],
            [
             0.6666666666666666,
             "#ed7953"
            ],
            [
             0.7777777777777778,
             "#fb9f3a"
            ],
            [
             0.8888888888888888,
             "#fdca26"
            ],
            [
             1,
             "#f0f921"
            ]
           ]
          },
          "colorway": [
           "#636efa",
           "#EF553B",
           "#00cc96",
           "#ab63fa",
           "#FFA15A",
           "#19d3f3",
           "#FF6692",
           "#B6E880",
           "#FF97FF",
           "#FECB52"
          ],
          "font": {
           "color": "#2a3f5f"
          },
          "geo": {
           "bgcolor": "white",
           "lakecolor": "white",
           "landcolor": "#E5ECF6",
           "showlakes": true,
           "showland": true,
           "subunitcolor": "white"
          },
          "hoverlabel": {
           "align": "left"
          },
          "hovermode": "closest",
          "mapbox": {
           "style": "light"
          },
          "paper_bgcolor": "white",
          "plot_bgcolor": "#E5ECF6",
          "polar": {
           "angularaxis": {
            "gridcolor": "white",
            "linecolor": "white",
            "ticks": ""
           },
           "bgcolor": "#E5ECF6",
           "radialaxis": {
            "gridcolor": "white",
            "linecolor": "white",
            "ticks": ""
           }
          },
          "scene": {
           "xaxis": {
            "backgroundcolor": "#E5ECF6",
            "gridcolor": "white",
            "gridwidth": 2,
            "linecolor": "white",
            "showbackground": true,
            "ticks": "",
            "zerolinecolor": "white"
           },
           "yaxis": {
            "backgroundcolor": "#E5ECF6",
            "gridcolor": "white",
            "gridwidth": 2,
            "linecolor": "white",
            "showbackground": true,
            "ticks": "",
            "zerolinecolor": "white"
           },
           "zaxis": {
            "backgroundcolor": "#E5ECF6",
            "gridcolor": "white",
            "gridwidth": 2,
            "linecolor": "white",
            "showbackground": true,
            "ticks": "",
            "zerolinecolor": "white"
           }
          },
          "shapedefaults": {
           "line": {
            "color": "#2a3f5f"
           }
          },
          "ternary": {
           "aaxis": {
            "gridcolor": "white",
            "linecolor": "white",
            "ticks": ""
           },
           "baxis": {
            "gridcolor": "white",
            "linecolor": "white",
            "ticks": ""
           },
           "bgcolor": "#E5ECF6",
           "caxis": {
            "gridcolor": "white",
            "linecolor": "white",
            "ticks": ""
           }
          },
          "title": {
           "x": 0.05
          },
          "xaxis": {
           "automargin": true,
           "gridcolor": "white",
           "linecolor": "white",
           "ticks": "",
           "title": {
            "standoff": 15
           },
           "zerolinecolor": "white",
           "zerolinewidth": 2
          },
          "yaxis": {
           "automargin": true,
           "gridcolor": "white",
           "linecolor": "white",
           "ticks": "",
           "title": {
            "standoff": 15
           },
           "zerolinecolor": "white",
           "zerolinewidth": 2
          }
         }
        },
        "width": 900
       }
      }
     },
     "metadata": {}
    }
   ],
   "source": [
    "r_fig = px.scatter_mapbox(table, lat=\"Lat\", lon=\"Long\", hover_name=\"Country/Region\", hover_data=[\"RecoveredCases\"],\n",
    "                        color_discrete_sequence=[\"fuchsia\"], zoom=0.5, width=900, height=500, color=\"RecoveredCases\", size=\"RecoveredCases\")\n",
    "r_fig.update_layout(mapbox_style=\"open-street-map\")\n",
    "r_fig.update_layout(margin={\"r\":0,\"t\":0,\"l\":0,\"b\":0})\n",
    "r_fig.show()    "
   ]
  },
  {
   "cell_type": "code",
   "execution_count": 170,
   "metadata": {},
   "outputs": [],
   "source": [
    "a = pd.melt(confirmed_daily, id_vars='Date')\n",
    "a['Cases'] = 'Confirmed'\n",
    "b = pd.melt(death_daily, id_vars='Date')\n",
    "b['Cases'] = 'Death'\n",
    "c = pd.melt(recovered_daily, id_vars='Date')\n",
    "c['Cases'] = 'Recovered'\n",
    "daily = [a,b,c]\n",
    "daily = pd.concat(daily)\n",
    "daily['Date'] = pd.to_datetime(daily['Date'])\n",
    "daily.columns = ['Date','Country/Region','NumberOfCases','Category']\n",
    "daily['NumberOfCases'] = daily['NumberOfCases'].astype(int)\n",
    "daily['NewCases'] = (daily['NumberOfCases'] - daily['NumberOfCases'].shift(1)).fillna(method='bfill')"
   ]
  },
  {
   "cell_type": "code",
   "execution_count": 171,
   "metadata": {},
   "outputs": [],
   "source": [
    "def cum_cases(country):\n",
    "    dfc = daily[daily['Country/Region'] == country]\n",
    "    fig = px.line(dfc, x=\"Date\", y='NumberOfCases', color='Category', title=country+' Cumulative Cases')\n",
    "    return fig.show()\n",
    "def new_cases(country):\n",
    "    dfc = daily[daily['Country/Region'] == country]\n",
    "    dfc = dfc[dfc['Category'] == 'Confirmed']\n",
    "    fig = px.bar(dfc, x=\"Date\", y='NewCases', title=country+' New Cases')\n",
    "    return fig.show()"
   ]
  },
  {
   "cell_type": "code",
   "execution_count": 172,
   "metadata": {},
   "outputs": [
    {
     "output_type": "display_data",
     "data": {
      "application/vnd.plotly.v1+json": {
       "config": {
        "plotlyServerURL": "https://plot.ly"
       },
       "data": [
        {
         "hovertemplate": "Category=Confirmed<br>Date=%{x}<br>NumberOfCases=%{y}<extra></extra>",
         "legendgroup": "Confirmed",
         "line": {
          "color": "#636efa",
          "dash": "solid"
         },
         "mode": "lines",
         "name": "Confirmed",
         "showlegend": true,
         "type": "scatter",
         "x": [
          "2020-01-22T00:00:00",
          "2020-01-23T00:00:00",
          "2020-01-24T00:00:00",
          "2020-01-25T00:00:00",
          "2020-01-26T00:00:00",
          "2020-01-27T00:00:00",
          "2020-01-28T00:00:00",
          "2020-01-29T00:00:00",
          "2020-01-30T00:00:00",
          "2020-01-31T00:00:00",
          "2020-02-01T00:00:00",
          "2020-02-02T00:00:00",
          "2020-02-03T00:00:00",
          "2020-02-04T00:00:00",
          "2020-02-05T00:00:00",
          "2020-02-06T00:00:00",
          "2020-02-07T00:00:00",
          "2020-02-08T00:00:00",
          "2020-02-09T00:00:00",
          "2020-02-10T00:00:00",
          "2020-02-11T00:00:00",
          "2020-02-12T00:00:00",
          "2020-02-13T00:00:00",
          "2020-02-14T00:00:00",
          "2020-02-15T00:00:00",
          "2020-02-16T00:00:00",
          "2020-02-17T00:00:00",
          "2020-02-18T00:00:00",
          "2020-02-19T00:00:00",
          "2020-02-20T00:00:00",
          "2020-02-21T00:00:00",
          "2020-02-22T00:00:00",
          "2020-02-23T00:00:00",
          "2020-02-24T00:00:00",
          "2020-02-25T00:00:00",
          "2020-02-26T00:00:00",
          "2020-02-27T00:00:00",
          "2020-02-28T00:00:00",
          "2020-02-29T00:00:00",
          "2020-03-01T00:00:00",
          "2020-03-02T00:00:00",
          "2020-03-03T00:00:00",
          "2020-03-04T00:00:00",
          "2020-03-05T00:00:00",
          "2020-03-06T00:00:00",
          "2020-03-07T00:00:00",
          "2020-03-08T00:00:00",
          "2020-03-09T00:00:00",
          "2020-03-10T00:00:00",
          "2020-03-11T00:00:00",
          "2020-03-12T00:00:00",
          "2020-03-13T00:00:00",
          "2020-03-14T00:00:00",
          "2020-03-15T00:00:00",
          "2020-03-16T00:00:00",
          "2020-03-17T00:00:00",
          "2020-03-18T00:00:00",
          "2020-03-19T00:00:00",
          "2020-03-20T00:00:00",
          "2020-03-21T00:00:00",
          "2020-03-22T00:00:00",
          "2020-03-23T00:00:00",
          "2020-03-24T00:00:00",
          "2020-03-25T00:00:00",
          "2020-03-26T00:00:00",
          "2020-03-27T00:00:00",
          "2020-03-28T00:00:00",
          "2020-03-29T00:00:00",
          "2020-03-30T00:00:00",
          "2020-03-31T00:00:00",
          "2020-04-01T00:00:00",
          "2020-04-02T00:00:00",
          "2020-04-03T00:00:00",
          "2020-04-04T00:00:00",
          "2020-04-05T00:00:00",
          "2020-04-06T00:00:00",
          "2020-04-07T00:00:00",
          "2020-04-08T00:00:00",
          "2020-04-09T00:00:00",
          "2020-04-10T00:00:00",
          "2020-04-11T00:00:00",
          "2020-04-12T00:00:00",
          "2020-04-13T00:00:00",
          "2020-04-14T00:00:00",
          "2020-04-15T00:00:00",
          "2020-04-16T00:00:00",
          "2020-04-17T00:00:00",
          "2020-04-18T00:00:00",
          "2020-04-19T00:00:00",
          "2020-04-20T00:00:00",
          "2020-04-21T00:00:00",
          "2020-04-22T00:00:00",
          "2020-04-23T00:00:00",
          "2020-04-24T00:00:00",
          "2020-04-25T00:00:00",
          "2020-04-26T00:00:00",
          "2020-04-27T00:00:00",
          "2020-04-28T00:00:00",
          "2020-04-29T00:00:00",
          "2020-04-30T00:00:00",
          "2020-05-01T00:00:00",
          "2020-05-02T00:00:00",
          "2020-05-03T00:00:00",
          "2020-05-04T00:00:00",
          "2020-05-05T00:00:00",
          "2020-05-06T00:00:00",
          "2020-05-07T00:00:00",
          "2020-05-08T00:00:00",
          "2020-05-09T00:00:00",
          "2020-05-10T00:00:00",
          "2020-05-11T00:00:00",
          "2020-05-12T00:00:00",
          "2020-05-13T00:00:00",
          "2020-05-14T00:00:00",
          "2020-05-15T00:00:00",
          "2020-05-16T00:00:00",
          "2020-05-17T00:00:00",
          "2020-05-18T00:00:00",
          "2020-05-19T00:00:00",
          "2020-05-20T00:00:00"
         ],
         "xaxis": "x",
         "y": [
          555,
          654,
          941,
          1434,
          2118,
          2927,
          5578,
          6166,
          8234,
          9927,
          12038,
          16787,
          19881,
          23892,
          27635,
          30794,
          34391,
          37120,
          40150,
          42762,
          44802,
          45221,
          60368,
          66885,
          69030,
          71224,
          73258,
          75136,
          75639,
          76197,
          76819,
          78572,
          78958,
          79561,
          80406,
          81388,
          82746,
          84112,
          86011,
          88369,
          90306,
          92840,
          95120,
          97888,
          101806,
          105848,
          109822,
          113595,
          118623,
          125879,
          128356,
          145225,
          156120,
          167507,
          181653,
          197150,
          214873,
          242632,
          272264,
          304580,
          337022,
          378301,
          418295,
          467817,
          529722,
          593764,
          661174,
          720291,
          782816,
          857608,
          933010,
          1013863,
          1096324,
          1176436,
          1249743,
          1321436,
          1396438,
          1480232,
          1566102,
          1658261,
          1736412,
          1835145,
          1905165,
          1975566,
          2055748,
          2152181,
          2239990,
          2317636,
          2400787,
          2472109,
          2549046,
          2624608,
          2708403,
          2795731,
          2881140,
          2955033,
          3023722,
          3097229,
          3172287,
          3256910,
          3345558,
          3427584,
          3506729,
          3583055,
          3662691,
          3756069,
          3845718,
          3938064,
          4024009,
          4101699,
          4177502,
          4261747,
          4347018,
          4442163,
          4542347,
          4634068,
          4713620,
          4801943,
          4897492,
          4996472
         ],
         "yaxis": "y"
        },
        {
         "hovertemplate": "Category=Death<br>Date=%{x}<br>NumberOfCases=%{y}<extra></extra>",
         "legendgroup": "Death",
         "line": {
          "color": "#EF553B",
          "dash": "solid"
         },
         "mode": "lines",
         "name": "Death",
         "showlegend": true,
         "type": "scatter",
         "x": [
          "2020-01-22T00:00:00",
          "2020-01-23T00:00:00",
          "2020-01-24T00:00:00",
          "2020-01-25T00:00:00",
          "2020-01-26T00:00:00",
          "2020-01-27T00:00:00",
          "2020-01-28T00:00:00",
          "2020-01-29T00:00:00",
          "2020-01-30T00:00:00",
          "2020-01-31T00:00:00",
          "2020-02-01T00:00:00",
          "2020-02-02T00:00:00",
          "2020-02-03T00:00:00",
          "2020-02-04T00:00:00",
          "2020-02-05T00:00:00",
          "2020-02-06T00:00:00",
          "2020-02-07T00:00:00",
          "2020-02-08T00:00:00",
          "2020-02-09T00:00:00",
          "2020-02-10T00:00:00",
          "2020-02-11T00:00:00",
          "2020-02-12T00:00:00",
          "2020-02-13T00:00:00",
          "2020-02-14T00:00:00",
          "2020-02-15T00:00:00",
          "2020-02-16T00:00:00",
          "2020-02-17T00:00:00",
          "2020-02-18T00:00:00",
          "2020-02-19T00:00:00",
          "2020-02-20T00:00:00",
          "2020-02-21T00:00:00",
          "2020-02-22T00:00:00",
          "2020-02-23T00:00:00",
          "2020-02-24T00:00:00",
          "2020-02-25T00:00:00",
          "2020-02-26T00:00:00",
          "2020-02-27T00:00:00",
          "2020-02-28T00:00:00",
          "2020-02-29T00:00:00",
          "2020-03-01T00:00:00",
          "2020-03-02T00:00:00",
          "2020-03-03T00:00:00",
          "2020-03-04T00:00:00",
          "2020-03-05T00:00:00",
          "2020-03-06T00:00:00",
          "2020-03-07T00:00:00",
          "2020-03-08T00:00:00",
          "2020-03-09T00:00:00",
          "2020-03-10T00:00:00",
          "2020-03-11T00:00:00",
          "2020-03-12T00:00:00",
          "2020-03-13T00:00:00",
          "2020-03-14T00:00:00",
          "2020-03-15T00:00:00",
          "2020-03-16T00:00:00",
          "2020-03-17T00:00:00",
          "2020-03-18T00:00:00",
          "2020-03-19T00:00:00",
          "2020-03-20T00:00:00",
          "2020-03-21T00:00:00",
          "2020-03-22T00:00:00",
          "2020-03-23T00:00:00",
          "2020-03-24T00:00:00",
          "2020-03-25T00:00:00",
          "2020-03-26T00:00:00",
          "2020-03-27T00:00:00",
          "2020-03-28T00:00:00",
          "2020-03-29T00:00:00",
          "2020-03-30T00:00:00",
          "2020-03-31T00:00:00",
          "2020-04-01T00:00:00",
          "2020-04-02T00:00:00",
          "2020-04-03T00:00:00",
          "2020-04-04T00:00:00",
          "2020-04-05T00:00:00",
          "2020-04-06T00:00:00",
          "2020-04-07T00:00:00",
          "2020-04-08T00:00:00",
          "2020-04-09T00:00:00",
          "2020-04-10T00:00:00",
          "2020-04-11T00:00:00",
          "2020-04-12T00:00:00",
          "2020-04-13T00:00:00",
          "2020-04-14T00:00:00",
          "2020-04-15T00:00:00",
          "2020-04-16T00:00:00",
          "2020-04-17T00:00:00",
          "2020-04-18T00:00:00",
          "2020-04-19T00:00:00",
          "2020-04-20T00:00:00",
          "2020-04-21T00:00:00",
          "2020-04-22T00:00:00",
          "2020-04-23T00:00:00",
          "2020-04-24T00:00:00",
          "2020-04-25T00:00:00",
          "2020-04-26T00:00:00",
          "2020-04-27T00:00:00",
          "2020-04-28T00:00:00",
          "2020-04-29T00:00:00",
          "2020-04-30T00:00:00",
          "2020-05-01T00:00:00",
          "2020-05-02T00:00:00",
          "2020-05-03T00:00:00",
          "2020-05-04T00:00:00",
          "2020-05-05T00:00:00",
          "2020-05-06T00:00:00",
          "2020-05-07T00:00:00",
          "2020-05-08T00:00:00",
          "2020-05-09T00:00:00",
          "2020-05-10T00:00:00",
          "2020-05-11T00:00:00",
          "2020-05-12T00:00:00",
          "2020-05-13T00:00:00",
          "2020-05-14T00:00:00",
          "2020-05-15T00:00:00",
          "2020-05-16T00:00:00",
          "2020-05-17T00:00:00",
          "2020-05-18T00:00:00",
          "2020-05-19T00:00:00",
          "2020-05-20T00:00:00"
         ],
         "xaxis": "x",
         "y": [
          17,
          18,
          26,
          42,
          56,
          82,
          131,
          133,
          171,
          213,
          259,
          362,
          426,
          492,
          564,
          634,
          719,
          806,
          906,
          1013,
          1113,
          1118,
          1371,
          1523,
          1666,
          1770,
          1868,
          2007,
          2122,
          2247,
          2251,
          2458,
          2469,
          2629,
          2708,
          2770,
          2814,
          2872,
          2941,
          2996,
          3085,
          3160,
          3254,
          3347,
          3459,
          3558,
          3801,
          3987,
          4263,
          4614,
          4723,
          5409,
          5832,
          6473,
          7151,
          7957,
          8824,
          9947,
          11423,
          13125,
          14826,
          16759,
          19017,
          21789,
          24788,
          28292,
          31811,
          35323,
          39443,
          44238,
          49685,
          55834,
          61826,
          67996,
          73077,
          78767,
          86662,
          93354,
          100915,
          108137,
          114170,
          119853,
          125561,
          132439,
          140685,
          147963,
          156821,
          163236,
          167772,
          173124,
          180236,
          186912,
          193665,
          199997,
          206187,
          209900,
          214444,
          220801,
          227665,
          233360,
          238619,
          243813,
          247470,
          251537,
          257239,
          263855,
          269567,
          274898,
          279311,
          282709,
          286330,
          291942,
          297197,
          302418,
          307666,
          311781,
          315185,
          318481,
          323285,
          328115
         ],
         "yaxis": "y"
        },
        {
         "hovertemplate": "Category=Recovered<br>Date=%{x}<br>NumberOfCases=%{y}<extra></extra>",
         "legendgroup": "Recovered",
         "line": {
          "color": "#00cc96",
          "dash": "solid"
         },
         "mode": "lines",
         "name": "Recovered",
         "showlegend": true,
         "type": "scatter",
         "x": [
          "2020-01-22T00:00:00",
          "2020-01-23T00:00:00",
          "2020-01-24T00:00:00",
          "2020-01-25T00:00:00",
          "2020-01-26T00:00:00",
          "2020-01-27T00:00:00",
          "2020-01-28T00:00:00",
          "2020-01-29T00:00:00",
          "2020-01-30T00:00:00",
          "2020-01-31T00:00:00",
          "2020-02-01T00:00:00",
          "2020-02-02T00:00:00",
          "2020-02-03T00:00:00",
          "2020-02-04T00:00:00",
          "2020-02-05T00:00:00",
          "2020-02-06T00:00:00",
          "2020-02-07T00:00:00",
          "2020-02-08T00:00:00",
          "2020-02-09T00:00:00",
          "2020-02-10T00:00:00",
          "2020-02-11T00:00:00",
          "2020-02-12T00:00:00",
          "2020-02-13T00:00:00",
          "2020-02-14T00:00:00",
          "2020-02-15T00:00:00",
          "2020-02-16T00:00:00",
          "2020-02-17T00:00:00",
          "2020-02-18T00:00:00",
          "2020-02-19T00:00:00",
          "2020-02-20T00:00:00",
          "2020-02-21T00:00:00",
          "2020-02-22T00:00:00",
          "2020-02-23T00:00:00",
          "2020-02-24T00:00:00",
          "2020-02-25T00:00:00",
          "2020-02-26T00:00:00",
          "2020-02-27T00:00:00",
          "2020-02-28T00:00:00",
          "2020-02-29T00:00:00",
          "2020-03-01T00:00:00",
          "2020-03-02T00:00:00",
          "2020-03-03T00:00:00",
          "2020-03-04T00:00:00",
          "2020-03-05T00:00:00",
          "2020-03-06T00:00:00",
          "2020-03-07T00:00:00",
          "2020-03-08T00:00:00",
          "2020-03-09T00:00:00",
          "2020-03-10T00:00:00",
          "2020-03-11T00:00:00",
          "2020-03-12T00:00:00",
          "2020-03-13T00:00:00",
          "2020-03-14T00:00:00",
          "2020-03-15T00:00:00",
          "2020-03-16T00:00:00",
          "2020-03-17T00:00:00",
          "2020-03-18T00:00:00",
          "2020-03-19T00:00:00",
          "2020-03-20T00:00:00",
          "2020-03-21T00:00:00",
          "2020-03-22T00:00:00",
          "2020-03-23T00:00:00",
          "2020-03-24T00:00:00",
          "2020-03-25T00:00:00",
          "2020-03-26T00:00:00",
          "2020-03-27T00:00:00",
          "2020-03-28T00:00:00",
          "2020-03-29T00:00:00",
          "2020-03-30T00:00:00",
          "2020-03-31T00:00:00",
          "2020-04-01T00:00:00",
          "2020-04-02T00:00:00",
          "2020-04-03T00:00:00",
          "2020-04-04T00:00:00",
          "2020-04-05T00:00:00",
          "2020-04-06T00:00:00",
          "2020-04-07T00:00:00",
          "2020-04-08T00:00:00",
          "2020-04-09T00:00:00",
          "2020-04-10T00:00:00",
          "2020-04-11T00:00:00",
          "2020-04-12T00:00:00",
          "2020-04-13T00:00:00",
          "2020-04-14T00:00:00",
          "2020-04-15T00:00:00",
          "2020-04-16T00:00:00",
          "2020-04-17T00:00:00",
          "2020-04-18T00:00:00",
          "2020-04-19T00:00:00",
          "2020-04-20T00:00:00",
          "2020-04-21T00:00:00",
          "2020-04-22T00:00:00",
          "2020-04-23T00:00:00",
          "2020-04-24T00:00:00",
          "2020-04-25T00:00:00",
          "2020-04-26T00:00:00",
          "2020-04-27T00:00:00",
          "2020-04-28T00:00:00",
          "2020-04-29T00:00:00",
          "2020-04-30T00:00:00",
          "2020-05-01T00:00:00",
          "2020-05-02T00:00:00",
          "2020-05-03T00:00:00",
          "2020-05-04T00:00:00",
          "2020-05-05T00:00:00",
          "2020-05-06T00:00:00",
          "2020-05-07T00:00:00",
          "2020-05-08T00:00:00",
          "2020-05-09T00:00:00",
          "2020-05-10T00:00:00",
          "2020-05-11T00:00:00",
          "2020-05-12T00:00:00",
          "2020-05-13T00:00:00",
          "2020-05-14T00:00:00",
          "2020-05-15T00:00:00",
          "2020-05-16T00:00:00",
          "2020-05-17T00:00:00",
          "2020-05-18T00:00:00",
          "2020-05-19T00:00:00",
          "2020-05-20T00:00:00"
         ],
         "xaxis": "x",
         "y": [
          28,
          30,
          36,
          39,
          52,
          61,
          107,
          126,
          143,
          222,
          284,
          472,
          623,
          852,
          1124,
          1487,
          2011,
          2616,
          3244,
          3946,
          4683,
          5150,
          6295,
          8058,
          9395,
          10865,
          12583,
          14352,
          16121,
          18177,
          18890,
          22886,
          23394,
          25227,
          27905,
          30384,
          33277,
          36711,
          39782,
          42716,
          45602,
          48228,
          51170,
          53796,
          55865,
          58358,
          60694,
          62494,
          64404,
          67003,
          68324,
          70251,
          72624,
          76034,
          78088,
          80840,
          83312,
          84975,
          87420,
          91692,
          97899,
          98351,
          108000,
          113787,
          122150,
          130915,
          139415,
          149082,
          164566,
          178034,
          193198,
          210269,
          225814,
          246152,
          260023,
          276534,
          300054,
          328703,
          353989,
          376104,
          402120,
          421722,
          448672,
          473980,
          510516,
          541592,
          567765,
          591719,
          623307,
          645308,
          679905,
          710046,
          738980,
          789585,
          817405,
          845985,
          873677,
          906955,
          948425,
          1013886,
          1052415,
          1093137,
          1125236,
          1162724,
          1198832,
          1245413,
          1284741,
          1322050,
          1375624,
          1408980,
          1456209,
          1493414,
          1548547,
          1587893,
          1637067,
          1693197,
          1733963,
          1786875,
          1838995,
          1897466
         ],
         "yaxis": "y"
        }
       ],
       "layout": {
        "legend": {
         "title": {
          "text": "Category"
         },
         "tracegroupgap": 0
        },
        "template": {
         "data": {
          "bar": [
           {
            "error_x": {
             "color": "#2a3f5f"
            },
            "error_y": {
             "color": "#2a3f5f"
            },
            "marker": {
             "line": {
              "color": "#E5ECF6",
              "width": 0.5
             }
            },
            "type": "bar"
           }
          ],
          "barpolar": [
           {
            "marker": {
             "line": {
              "color": "#E5ECF6",
              "width": 0.5
             }
            },
            "type": "barpolar"
           }
          ],
          "carpet": [
           {
            "aaxis": {
             "endlinecolor": "#2a3f5f",
             "gridcolor": "white",
             "linecolor": "white",
             "minorgridcolor": "white",
             "startlinecolor": "#2a3f5f"
            },
            "baxis": {
             "endlinecolor": "#2a3f5f",
             "gridcolor": "white",
             "linecolor": "white",
             "minorgridcolor": "white",
             "startlinecolor": "#2a3f5f"
            },
            "type": "carpet"
           }
          ],
          "choropleth": [
           {
            "colorbar": {
             "outlinewidth": 0,
             "ticks": ""
            },
            "type": "choropleth"
           }
          ],
          "contour": [
           {
            "colorbar": {
             "outlinewidth": 0,
             "ticks": ""
            },
            "colorscale": [
             [
              0,
              "#0d0887"
             ],
             [
              0.1111111111111111,
              "#46039f"
             ],
             [
              0.2222222222222222,
              "#7201a8"
             ],
             [
              0.3333333333333333,
              "#9c179e"
             ],
             [
              0.4444444444444444,
              "#bd3786"
             ],
             [
              0.5555555555555556,
              "#d8576b"
             ],
             [
              0.6666666666666666,
              "#ed7953"
             ],
             [
              0.7777777777777778,
              "#fb9f3a"
             ],
             [
              0.8888888888888888,
              "#fdca26"
             ],
             [
              1,
              "#f0f921"
             ]
            ],
            "type": "contour"
           }
          ],
          "contourcarpet": [
           {
            "colorbar": {
             "outlinewidth": 0,
             "ticks": ""
            },
            "type": "contourcarpet"
           }
          ],
          "heatmap": [
           {
            "colorbar": {
             "outlinewidth": 0,
             "ticks": ""
            },
            "colorscale": [
             [
              0,
              "#0d0887"
             ],
             [
              0.1111111111111111,
              "#46039f"
             ],
             [
              0.2222222222222222,
              "#7201a8"
             ],
             [
              0.3333333333333333,
              "#9c179e"
             ],
             [
              0.4444444444444444,
              "#bd3786"
             ],
             [
              0.5555555555555556,
              "#d8576b"
             ],
             [
              0.6666666666666666,
              "#ed7953"
             ],
             [
              0.7777777777777778,
              "#fb9f3a"
             ],
             [
              0.8888888888888888,
              "#fdca26"
             ],
             [
              1,
              "#f0f921"
             ]
            ],
            "type": "heatmap"
           }
          ],
          "heatmapgl": [
           {
            "colorbar": {
             "outlinewidth": 0,
             "ticks": ""
            },
            "colorscale": [
             [
              0,
              "#0d0887"
             ],
             [
              0.1111111111111111,
              "#46039f"
             ],
             [
              0.2222222222222222,
              "#7201a8"
             ],
             [
              0.3333333333333333,
              "#9c179e"
             ],
             [
              0.4444444444444444,
              "#bd3786"
             ],
             [
              0.5555555555555556,
              "#d8576b"
             ],
             [
              0.6666666666666666,
              "#ed7953"
             ],
             [
              0.7777777777777778,
              "#fb9f3a"
             ],
             [
              0.8888888888888888,
              "#fdca26"
             ],
             [
              1,
              "#f0f921"
             ]
            ],
            "type": "heatmapgl"
           }
          ],
          "histogram": [
           {
            "marker": {
             "colorbar": {
              "outlinewidth": 0,
              "ticks": ""
             }
            },
            "type": "histogram"
           }
          ],
          "histogram2d": [
           {
            "colorbar": {
             "outlinewidth": 0,
             "ticks": ""
            },
            "colorscale": [
             [
              0,
              "#0d0887"
             ],
             [
              0.1111111111111111,
              "#46039f"
             ],
             [
              0.2222222222222222,
              "#7201a8"
             ],
             [
              0.3333333333333333,
              "#9c179e"
             ],
             [
              0.4444444444444444,
              "#bd3786"
             ],
             [
              0.5555555555555556,
              "#d8576b"
             ],
             [
              0.6666666666666666,
              "#ed7953"
             ],
             [
              0.7777777777777778,
              "#fb9f3a"
             ],
             [
              0.8888888888888888,
              "#fdca26"
             ],
             [
              1,
              "#f0f921"
             ]
            ],
            "type": "histogram2d"
           }
          ],
          "histogram2dcontour": [
           {
            "colorbar": {
             "outlinewidth": 0,
             "ticks": ""
            },
            "colorscale": [
             [
              0,
              "#0d0887"
             ],
             [
              0.1111111111111111,
              "#46039f"
             ],
             [
              0.2222222222222222,
              "#7201a8"
             ],
             [
              0.3333333333333333,
              "#9c179e"
             ],
             [
              0.4444444444444444,
              "#bd3786"
             ],
             [
              0.5555555555555556,
              "#d8576b"
             ],
             [
              0.6666666666666666,
              "#ed7953"
             ],
             [
              0.7777777777777778,
              "#fb9f3a"
             ],
             [
              0.8888888888888888,
              "#fdca26"
             ],
             [
              1,
              "#f0f921"
             ]
            ],
            "type": "histogram2dcontour"
           }
          ],
          "mesh3d": [
           {
            "colorbar": {
             "outlinewidth": 0,
             "ticks": ""
            },
            "type": "mesh3d"
           }
          ],
          "parcoords": [
           {
            "line": {
             "colorbar": {
              "outlinewidth": 0,
              "ticks": ""
             }
            },
            "type": "parcoords"
           }
          ],
          "pie": [
           {
            "automargin": true,
            "type": "pie"
           }
          ],
          "scatter": [
           {
            "marker": {
             "colorbar": {
              "outlinewidth": 0,
              "ticks": ""
             }
            },
            "type": "scatter"
           }
          ],
          "scatter3d": [
           {
            "line": {
             "colorbar": {
              "outlinewidth": 0,
              "ticks": ""
             }
            },
            "marker": {
             "colorbar": {
              "outlinewidth": 0,
              "ticks": ""
             }
            },
            "type": "scatter3d"
           }
          ],
          "scattercarpet": [
           {
            "marker": {
             "colorbar": {
              "outlinewidth": 0,
              "ticks": ""
             }
            },
            "type": "scattercarpet"
           }
          ],
          "scattergeo": [
           {
            "marker": {
             "colorbar": {
              "outlinewidth": 0,
              "ticks": ""
             }
            },
            "type": "scattergeo"
           }
          ],
          "scattergl": [
           {
            "marker": {
             "colorbar": {
              "outlinewidth": 0,
              "ticks": ""
             }
            },
            "type": "scattergl"
           }
          ],
          "scattermapbox": [
           {
            "marker": {
             "colorbar": {
              "outlinewidth": 0,
              "ticks": ""
             }
            },
            "type": "scattermapbox"
           }
          ],
          "scatterpolar": [
           {
            "marker": {
             "colorbar": {
              "outlinewidth": 0,
              "ticks": ""
             }
            },
            "type": "scatterpolar"
           }
          ],
          "scatterpolargl": [
           {
            "marker": {
             "colorbar": {
              "outlinewidth": 0,
              "ticks": ""
             }
            },
            "type": "scatterpolargl"
           }
          ],
          "scatterternary": [
           {
            "marker": {
             "colorbar": {
              "outlinewidth": 0,
              "ticks": ""
             }
            },
            "type": "scatterternary"
           }
          ],
          "surface": [
           {
            "colorbar": {
             "outlinewidth": 0,
             "ticks": ""
            },
            "colorscale": [
             [
              0,
              "#0d0887"
             ],
             [
              0.1111111111111111,
              "#46039f"
             ],
             [
              0.2222222222222222,
              "#7201a8"
             ],
             [
              0.3333333333333333,
              "#9c179e"
             ],
             [
              0.4444444444444444,
              "#bd3786"
             ],
             [
              0.5555555555555556,
              "#d8576b"
             ],
             [
              0.6666666666666666,
              "#ed7953"
             ],
             [
              0.7777777777777778,
              "#fb9f3a"
             ],
             [
              0.8888888888888888,
              "#fdca26"
             ],
             [
              1,
              "#f0f921"
             ]
            ],
            "type": "surface"
           }
          ],
          "table": [
           {
            "cells": {
             "fill": {
              "color": "#EBF0F8"
             },
             "line": {
              "color": "white"
             }
            },
            "header": {
             "fill": {
              "color": "#C8D4E3"
             },
             "line": {
              "color": "white"
             }
            },
            "type": "table"
           }
          ]
         },
         "layout": {
          "annotationdefaults": {
           "arrowcolor": "#2a3f5f",
           "arrowhead": 0,
           "arrowwidth": 1
          },
          "coloraxis": {
           "colorbar": {
            "outlinewidth": 0,
            "ticks": ""
           }
          },
          "colorscale": {
           "diverging": [
            [
             0,
             "#8e0152"
            ],
            [
             0.1,
             "#c51b7d"
            ],
            [
             0.2,
             "#de77ae"
            ],
            [
             0.3,
             "#f1b6da"
            ],
            [
             0.4,
             "#fde0ef"
            ],
            [
             0.5,
             "#f7f7f7"
            ],
            [
             0.6,
             "#e6f5d0"
            ],
            [
             0.7,
             "#b8e186"
            ],
            [
             0.8,
             "#7fbc41"
            ],
            [
             0.9,
             "#4d9221"
            ],
            [
             1,
             "#276419"
            ]
           ],
           "sequential": [
            [
             0,
             "#0d0887"
            ],
            [
             0.1111111111111111,
             "#46039f"
            ],
            [
             0.2222222222222222,
             "#7201a8"
            ],
            [
             0.3333333333333333,
             "#9c179e"
            ],
            [
             0.4444444444444444,
             "#bd3786"
            ],
            [
             0.5555555555555556,
             "#d8576b"
            ],
            [
             0.6666666666666666,
             "#ed7953"
            ],
            [
             0.7777777777777778,
             "#fb9f3a"
            ],
            [
             0.8888888888888888,
             "#fdca26"
            ],
            [
             1,
             "#f0f921"
            ]
           ],
           "sequentialminus": [
            [
             0,
             "#0d0887"
            ],
            [
             0.1111111111111111,
             "#46039f"
            ],
            [
             0.2222222222222222,
             "#7201a8"
            ],
            [
             0.3333333333333333,
             "#9c179e"
            ],
            [
             0.4444444444444444,
             "#bd3786"
            ],
            [
             0.5555555555555556,
             "#d8576b"
            ],
            [
             0.6666666666666666,
             "#ed7953"
            ],
            [
             0.7777777777777778,
             "#fb9f3a"
            ],
            [
             0.8888888888888888,
             "#fdca26"
            ],
            [
             1,
             "#f0f921"
            ]
           ]
          },
          "colorway": [
           "#636efa",
           "#EF553B",
           "#00cc96",
           "#ab63fa",
           "#FFA15A",
           "#19d3f3",
           "#FF6692",
           "#B6E880",
           "#FF97FF",
           "#FECB52"
          ],
          "font": {
           "color": "#2a3f5f"
          },
          "geo": {
           "bgcolor": "white",
           "lakecolor": "white",
           "landcolor": "#E5ECF6",
           "showlakes": true,
           "showland": true,
           "subunitcolor": "white"
          },
          "hoverlabel": {
           "align": "left"
          },
          "hovermode": "closest",
          "mapbox": {
           "style": "light"
          },
          "paper_bgcolor": "white",
          "plot_bgcolor": "#E5ECF6",
          "polar": {
           "angularaxis": {
            "gridcolor": "white",
            "linecolor": "white",
            "ticks": ""
           },
           "bgcolor": "#E5ECF6",
           "radialaxis": {
            "gridcolor": "white",
            "linecolor": "white",
            "ticks": ""
           }
          },
          "scene": {
           "xaxis": {
            "backgroundcolor": "#E5ECF6",
            "gridcolor": "white",
            "gridwidth": 2,
            "linecolor": "white",
            "showbackground": true,
            "ticks": "",
            "zerolinecolor": "white"
           },
           "yaxis": {
            "backgroundcolor": "#E5ECF6",
            "gridcolor": "white",
            "gridwidth": 2,
            "linecolor": "white",
            "showbackground": true,
            "ticks": "",
            "zerolinecolor": "white"
           },
           "zaxis": {
            "backgroundcolor": "#E5ECF6",
            "gridcolor": "white",
            "gridwidth": 2,
            "linecolor": "white",
            "showbackground": true,
            "ticks": "",
            "zerolinecolor": "white"
           }
          },
          "shapedefaults": {
           "line": {
            "color": "#2a3f5f"
           }
          },
          "ternary": {
           "aaxis": {
            "gridcolor": "white",
            "linecolor": "white",
            "ticks": ""
           },
           "baxis": {
            "gridcolor": "white",
            "linecolor": "white",
            "ticks": ""
           },
           "bgcolor": "#E5ECF6",
           "caxis": {
            "gridcolor": "white",
            "linecolor": "white",
            "ticks": ""
           }
          },
          "title": {
           "x": 0.05
          },
          "xaxis": {
           "automargin": true,
           "gridcolor": "white",
           "linecolor": "white",
           "ticks": "",
           "title": {
            "standoff": 15
           },
           "zerolinecolor": "white",
           "zerolinewidth": 2
          },
          "yaxis": {
           "automargin": true,
           "gridcolor": "white",
           "linecolor": "white",
           "ticks": "",
           "title": {
            "standoff": 15
           },
           "zerolinecolor": "white",
           "zerolinewidth": 2
          }
         }
        },
        "title": {
         "text": "Global Cumulative Cases"
        },
        "xaxis": {
         "anchor": "y",
         "domain": [
          0,
          1
         ],
         "title": {
          "text": "Date"
         }
        },
        "yaxis": {
         "anchor": "x",
         "domain": [
          0,
          1
         ],
         "title": {
          "text": "NumberOfCases"
         }
        }
       }
      }
     },
     "metadata": {}
    },
    {
     "output_type": "display_data",
     "data": {
      "application/vnd.plotly.v1+json": {
       "config": {
        "plotlyServerURL": "https://plot.ly"
       },
       "data": [
        {
         "alignmentgroup": "True",
         "hovertemplate": "Date=%{x}<br>NewCases=%{y}<extra></extra>",
         "legendgroup": "",
         "marker": {
          "color": "#636efa"
         },
         "name": "",
         "offsetgroup": "",
         "orientation": "v",
         "showlegend": false,
         "textposition": "auto",
         "type": "bar",
         "x": [
          "2020-01-22T00:00:00",
          "2020-01-23T00:00:00",
          "2020-01-24T00:00:00",
          "2020-01-25T00:00:00",
          "2020-01-26T00:00:00",
          "2020-01-27T00:00:00",
          "2020-01-28T00:00:00",
          "2020-01-29T00:00:00",
          "2020-01-30T00:00:00",
          "2020-01-31T00:00:00",
          "2020-02-01T00:00:00",
          "2020-02-02T00:00:00",
          "2020-02-03T00:00:00",
          "2020-02-04T00:00:00",
          "2020-02-05T00:00:00",
          "2020-02-06T00:00:00",
          "2020-02-07T00:00:00",
          "2020-02-08T00:00:00",
          "2020-02-09T00:00:00",
          "2020-02-10T00:00:00",
          "2020-02-11T00:00:00",
          "2020-02-12T00:00:00",
          "2020-02-13T00:00:00",
          "2020-02-14T00:00:00",
          "2020-02-15T00:00:00",
          "2020-02-16T00:00:00",
          "2020-02-17T00:00:00",
          "2020-02-18T00:00:00",
          "2020-02-19T00:00:00",
          "2020-02-20T00:00:00",
          "2020-02-21T00:00:00",
          "2020-02-22T00:00:00",
          "2020-02-23T00:00:00",
          "2020-02-24T00:00:00",
          "2020-02-25T00:00:00",
          "2020-02-26T00:00:00",
          "2020-02-27T00:00:00",
          "2020-02-28T00:00:00",
          "2020-02-29T00:00:00",
          "2020-03-01T00:00:00",
          "2020-03-02T00:00:00",
          "2020-03-03T00:00:00",
          "2020-03-04T00:00:00",
          "2020-03-05T00:00:00",
          "2020-03-06T00:00:00",
          "2020-03-07T00:00:00",
          "2020-03-08T00:00:00",
          "2020-03-09T00:00:00",
          "2020-03-10T00:00:00",
          "2020-03-11T00:00:00",
          "2020-03-12T00:00:00",
          "2020-03-13T00:00:00",
          "2020-03-14T00:00:00",
          "2020-03-15T00:00:00",
          "2020-03-16T00:00:00",
          "2020-03-17T00:00:00",
          "2020-03-18T00:00:00",
          "2020-03-19T00:00:00",
          "2020-03-20T00:00:00",
          "2020-03-21T00:00:00",
          "2020-03-22T00:00:00",
          "2020-03-23T00:00:00",
          "2020-03-24T00:00:00",
          "2020-03-25T00:00:00",
          "2020-03-26T00:00:00",
          "2020-03-27T00:00:00",
          "2020-03-28T00:00:00",
          "2020-03-29T00:00:00",
          "2020-03-30T00:00:00",
          "2020-03-31T00:00:00",
          "2020-04-01T00:00:00",
          "2020-04-02T00:00:00",
          "2020-04-03T00:00:00",
          "2020-04-04T00:00:00",
          "2020-04-05T00:00:00",
          "2020-04-06T00:00:00",
          "2020-04-07T00:00:00",
          "2020-04-08T00:00:00",
          "2020-04-09T00:00:00",
          "2020-04-10T00:00:00",
          "2020-04-11T00:00:00",
          "2020-04-12T00:00:00",
          "2020-04-13T00:00:00",
          "2020-04-14T00:00:00",
          "2020-04-15T00:00:00",
          "2020-04-16T00:00:00",
          "2020-04-17T00:00:00",
          "2020-04-18T00:00:00",
          "2020-04-19T00:00:00",
          "2020-04-20T00:00:00",
          "2020-04-21T00:00:00",
          "2020-04-22T00:00:00",
          "2020-04-23T00:00:00",
          "2020-04-24T00:00:00",
          "2020-04-25T00:00:00",
          "2020-04-26T00:00:00",
          "2020-04-27T00:00:00",
          "2020-04-28T00:00:00",
          "2020-04-29T00:00:00",
          "2020-04-30T00:00:00",
          "2020-05-01T00:00:00",
          "2020-05-02T00:00:00",
          "2020-05-03T00:00:00",
          "2020-05-04T00:00:00",
          "2020-05-05T00:00:00",
          "2020-05-06T00:00:00",
          "2020-05-07T00:00:00",
          "2020-05-08T00:00:00",
          "2020-05-09T00:00:00",
          "2020-05-10T00:00:00",
          "2020-05-11T00:00:00",
          "2020-05-12T00:00:00",
          "2020-05-13T00:00:00",
          "2020-05-14T00:00:00",
          "2020-05-15T00:00:00",
          "2020-05-16T00:00:00",
          "2020-05-17T00:00:00",
          "2020-05-18T00:00:00",
          "2020-05-19T00:00:00",
          "2020-05-20T00:00:00"
         ],
         "xaxis": "x",
         "y": [
          507,
          99,
          287,
          493,
          684,
          809,
          2651,
          588,
          2068,
          1693,
          2111,
          4749,
          3094,
          4011,
          3743,
          3159,
          3597,
          2729,
          3030,
          2612,
          2040,
          419,
          15147,
          6517,
          2145,
          2194,
          2034,
          1878,
          503,
          558,
          622,
          1753,
          386,
          603,
          845,
          982,
          1358,
          1366,
          1899,
          2358,
          1937,
          2534,
          2280,
          2768,
          3918,
          4042,
          3974,
          3773,
          5028,
          7256,
          2477,
          16869,
          10895,
          11387,
          14146,
          15497,
          17723,
          27759,
          29632,
          32316,
          32442,
          41279,
          39994,
          49522,
          61905,
          64042,
          67410,
          59117,
          62525,
          74792,
          75402,
          80853,
          82461,
          80112,
          73307,
          71693,
          75002,
          83794,
          85870,
          92159,
          78151,
          98733,
          70020,
          70401,
          80182,
          96433,
          87809,
          77646,
          83151,
          71322,
          76937,
          75562,
          83795,
          87328,
          85409,
          73893,
          68689,
          73507,
          75058,
          84623,
          88648,
          82026,
          79145,
          76326,
          79636,
          93378,
          89649,
          92346,
          85945,
          77690,
          75803,
          84245,
          85271,
          95145,
          100184,
          91721,
          79552,
          88323,
          95549,
          98980
         ],
         "yaxis": "y"
        }
       ],
       "layout": {
        "barmode": "relative",
        "legend": {
         "tracegroupgap": 0
        },
        "template": {
         "data": {
          "bar": [
           {
            "error_x": {
             "color": "#2a3f5f"
            },
            "error_y": {
             "color": "#2a3f5f"
            },
            "marker": {
             "line": {
              "color": "#E5ECF6",
              "width": 0.5
             }
            },
            "type": "bar"
           }
          ],
          "barpolar": [
           {
            "marker": {
             "line": {
              "color": "#E5ECF6",
              "width": 0.5
             }
            },
            "type": "barpolar"
           }
          ],
          "carpet": [
           {
            "aaxis": {
             "endlinecolor": "#2a3f5f",
             "gridcolor": "white",
             "linecolor": "white",
             "minorgridcolor": "white",
             "startlinecolor": "#2a3f5f"
            },
            "baxis": {
             "endlinecolor": "#2a3f5f",
             "gridcolor": "white",
             "linecolor": "white",
             "minorgridcolor": "white",
             "startlinecolor": "#2a3f5f"
            },
            "type": "carpet"
           }
          ],
          "choropleth": [
           {
            "colorbar": {
             "outlinewidth": 0,
             "ticks": ""
            },
            "type": "choropleth"
           }
          ],
          "contour": [
           {
            "colorbar": {
             "outlinewidth": 0,
             "ticks": ""
            },
            "colorscale": [
             [
              0,
              "#0d0887"
             ],
             [
              0.1111111111111111,
              "#46039f"
             ],
             [
              0.2222222222222222,
              "#7201a8"
             ],
             [
              0.3333333333333333,
              "#9c179e"
             ],
             [
              0.4444444444444444,
              "#bd3786"
             ],
             [
              0.5555555555555556,
              "#d8576b"
             ],
             [
              0.6666666666666666,
              "#ed7953"
             ],
             [
              0.7777777777777778,
              "#fb9f3a"
             ],
             [
              0.8888888888888888,
              "#fdca26"
             ],
             [
              1,
              "#f0f921"
             ]
            ],
            "type": "contour"
           }
          ],
          "contourcarpet": [
           {
            "colorbar": {
             "outlinewidth": 0,
             "ticks": ""
            },
            "type": "contourcarpet"
           }
          ],
          "heatmap": [
           {
            "colorbar": {
             "outlinewidth": 0,
             "ticks": ""
            },
            "colorscale": [
             [
              0,
              "#0d0887"
             ],
             [
              0.1111111111111111,
              "#46039f"
             ],
             [
              0.2222222222222222,
              "#7201a8"
             ],
             [
              0.3333333333333333,
              "#9c179e"
             ],
             [
              0.4444444444444444,
              "#bd3786"
             ],
             [
              0.5555555555555556,
              "#d8576b"
             ],
             [
              0.6666666666666666,
              "#ed7953"
             ],
             [
              0.7777777777777778,
              "#fb9f3a"
             ],
             [
              0.8888888888888888,
              "#fdca26"
             ],
             [
              1,
              "#f0f921"
             ]
            ],
            "type": "heatmap"
           }
          ],
          "heatmapgl": [
           {
            "colorbar": {
             "outlinewidth": 0,
             "ticks": ""
            },
            "colorscale": [
             [
              0,
              "#0d0887"
             ],
             [
              0.1111111111111111,
              "#46039f"
             ],
             [
              0.2222222222222222,
              "#7201a8"
             ],
             [
              0.3333333333333333,
              "#9c179e"
             ],
             [
              0.4444444444444444,
              "#bd3786"
             ],
             [
              0.5555555555555556,
              "#d8576b"
             ],
             [
              0.6666666666666666,
              "#ed7953"
             ],
             [
              0.7777777777777778,
              "#fb9f3a"
             ],
             [
              0.8888888888888888,
              "#fdca26"
             ],
             [
              1,
              "#f0f921"
             ]
            ],
            "type": "heatmapgl"
           }
          ],
          "histogram": [
           {
            "marker": {
             "colorbar": {
              "outlinewidth": 0,
              "ticks": ""
             }
            },
            "type": "histogram"
           }
          ],
          "histogram2d": [
           {
            "colorbar": {
             "outlinewidth": 0,
             "ticks": ""
            },
            "colorscale": [
             [
              0,
              "#0d0887"
             ],
             [
              0.1111111111111111,
              "#46039f"
             ],
             [
              0.2222222222222222,
              "#7201a8"
             ],
             [
              0.3333333333333333,
              "#9c179e"
             ],
             [
              0.4444444444444444,
              "#bd3786"
             ],
             [
              0.5555555555555556,
              "#d8576b"
             ],
             [
              0.6666666666666666,
              "#ed7953"
             ],
             [
              0.7777777777777778,
              "#fb9f3a"
             ],
             [
              0.8888888888888888,
              "#fdca26"
             ],
             [
              1,
              "#f0f921"
             ]
            ],
            "type": "histogram2d"
           }
          ],
          "histogram2dcontour": [
           {
            "colorbar": {
             "outlinewidth": 0,
             "ticks": ""
            },
            "colorscale": [
             [
              0,
              "#0d0887"
             ],
             [
              0.1111111111111111,
              "#46039f"
             ],
             [
              0.2222222222222222,
              "#7201a8"
             ],
             [
              0.3333333333333333,
              "#9c179e"
             ],
             [
              0.4444444444444444,
              "#bd3786"
             ],
             [
              0.5555555555555556,
              "#d8576b"
             ],
             [
              0.6666666666666666,
              "#ed7953"
             ],
             [
              0.7777777777777778,
              "#fb9f3a"
             ],
             [
              0.8888888888888888,
              "#fdca26"
             ],
             [
              1,
              "#f0f921"
             ]
            ],
            "type": "histogram2dcontour"
           }
          ],
          "mesh3d": [
           {
            "colorbar": {
             "outlinewidth": 0,
             "ticks": ""
            },
            "type": "mesh3d"
           }
          ],
          "parcoords": [
           {
            "line": {
             "colorbar": {
              "outlinewidth": 0,
              "ticks": ""
             }
            },
            "type": "parcoords"
           }
          ],
          "pie": [
           {
            "automargin": true,
            "type": "pie"
           }
          ],
          "scatter": [
           {
            "marker": {
             "colorbar": {
              "outlinewidth": 0,
              "ticks": ""
             }
            },
            "type": "scatter"
           }
          ],
          "scatter3d": [
           {
            "line": {
             "colorbar": {
              "outlinewidth": 0,
              "ticks": ""
             }
            },
            "marker": {
             "colorbar": {
              "outlinewidth": 0,
              "ticks": ""
             }
            },
            "type": "scatter3d"
           }
          ],
          "scattercarpet": [
           {
            "marker": {
             "colorbar": {
              "outlinewidth": 0,
              "ticks": ""
             }
            },
            "type": "scattercarpet"
           }
          ],
          "scattergeo": [
           {
            "marker": {
             "colorbar": {
              "outlinewidth": 0,
              "ticks": ""
             }
            },
            "type": "scattergeo"
           }
          ],
          "scattergl": [
           {
            "marker": {
             "colorbar": {
              "outlinewidth": 0,
              "ticks": ""
             }
            },
            "type": "scattergl"
           }
          ],
          "scattermapbox": [
           {
            "marker": {
             "colorbar": {
              "outlinewidth": 0,
              "ticks": ""
             }
            },
            "type": "scattermapbox"
           }
          ],
          "scatterpolar": [
           {
            "marker": {
             "colorbar": {
              "outlinewidth": 0,
              "ticks": ""
             }
            },
            "type": "scatterpolar"
           }
          ],
          "scatterpolargl": [
           {
            "marker": {
             "colorbar": {
              "outlinewidth": 0,
              "ticks": ""
             }
            },
            "type": "scatterpolargl"
           }
          ],
          "scatterternary": [
           {
            "marker": {
             "colorbar": {
              "outlinewidth": 0,
              "ticks": ""
             }
            },
            "type": "scatterternary"
           }
          ],
          "surface": [
           {
            "colorbar": {
             "outlinewidth": 0,
             "ticks": ""
            },
            "colorscale": [
             [
              0,
              "#0d0887"
             ],
             [
              0.1111111111111111,
              "#46039f"
             ],
             [
              0.2222222222222222,
              "#7201a8"
             ],
             [
              0.3333333333333333,
              "#9c179e"
             ],
             [
              0.4444444444444444,
              "#bd3786"
             ],
             [
              0.5555555555555556,
              "#d8576b"
             ],
             [
              0.6666666666666666,
              "#ed7953"
             ],
             [
              0.7777777777777778,
              "#fb9f3a"
             ],
             [
              0.8888888888888888,
              "#fdca26"
             ],
             [
              1,
              "#f0f921"
             ]
            ],
            "type": "surface"
           }
          ],
          "table": [
           {
            "cells": {
             "fill": {
              "color": "#EBF0F8"
             },
             "line": {
              "color": "white"
             }
            },
            "header": {
             "fill": {
              "color": "#C8D4E3"
             },
             "line": {
              "color": "white"
             }
            },
            "type": "table"
           }
          ]
         },
         "layout": {
          "annotationdefaults": {
           "arrowcolor": "#2a3f5f",
           "arrowhead": 0,
           "arrowwidth": 1
          },
          "coloraxis": {
           "colorbar": {
            "outlinewidth": 0,
            "ticks": ""
           }
          },
          "colorscale": {
           "diverging": [
            [
             0,
             "#8e0152"
            ],
            [
             0.1,
             "#c51b7d"
            ],
            [
             0.2,
             "#de77ae"
            ],
            [
             0.3,
             "#f1b6da"
            ],
            [
             0.4,
             "#fde0ef"
            ],
            [
             0.5,
             "#f7f7f7"
            ],
            [
             0.6,
             "#e6f5d0"
            ],
            [
             0.7,
             "#b8e186"
            ],
            [
             0.8,
             "#7fbc41"
            ],
            [
             0.9,
             "#4d9221"
            ],
            [
             1,
             "#276419"
            ]
           ],
           "sequential": [
            [
             0,
             "#0d0887"
            ],
            [
             0.1111111111111111,
             "#46039f"
            ],
            [
             0.2222222222222222,
             "#7201a8"
            ],
            [
             0.3333333333333333,
             "#9c179e"
            ],
            [
             0.4444444444444444,
             "#bd3786"
            ],
            [
             0.5555555555555556,
             "#d8576b"
            ],
            [
             0.6666666666666666,
             "#ed7953"
            ],
            [
             0.7777777777777778,
             "#fb9f3a"
            ],
            [
             0.8888888888888888,
             "#fdca26"
            ],
            [
             1,
             "#f0f921"
            ]
           ],
           "sequentialminus": [
            [
             0,
             "#0d0887"
            ],
            [
             0.1111111111111111,
             "#46039f"
            ],
            [
             0.2222222222222222,
             "#7201a8"
            ],
            [
             0.3333333333333333,
             "#9c179e"
            ],
            [
             0.4444444444444444,
             "#bd3786"
            ],
            [
             0.5555555555555556,
             "#d8576b"
            ],
            [
             0.6666666666666666,
             "#ed7953"
            ],
            [
             0.7777777777777778,
             "#fb9f3a"
            ],
            [
             0.8888888888888888,
             "#fdca26"
            ],
            [
             1,
             "#f0f921"
            ]
           ]
          },
          "colorway": [
           "#636efa",
           "#EF553B",
           "#00cc96",
           "#ab63fa",
           "#FFA15A",
           "#19d3f3",
           "#FF6692",
           "#B6E880",
           "#FF97FF",
           "#FECB52"
          ],
          "font": {
           "color": "#2a3f5f"
          },
          "geo": {
           "bgcolor": "white",
           "lakecolor": "white",
           "landcolor": "#E5ECF6",
           "showlakes": true,
           "showland": true,
           "subunitcolor": "white"
          },
          "hoverlabel": {
           "align": "left"
          },
          "hovermode": "closest",
          "mapbox": {
           "style": "light"
          },
          "paper_bgcolor": "white",
          "plot_bgcolor": "#E5ECF6",
          "polar": {
           "angularaxis": {
            "gridcolor": "white",
            "linecolor": "white",
            "ticks": ""
           },
           "bgcolor": "#E5ECF6",
           "radialaxis": {
            "gridcolor": "white",
            "linecolor": "white",
            "ticks": ""
           }
          },
          "scene": {
           "xaxis": {
            "backgroundcolor": "#E5ECF6",
            "gridcolor": "white",
            "gridwidth": 2,
            "linecolor": "white",
            "showbackground": true,
            "ticks": "",
            "zerolinecolor": "white"
           },
           "yaxis": {
            "backgroundcolor": "#E5ECF6",
            "gridcolor": "white",
            "gridwidth": 2,
            "linecolor": "white",
            "showbackground": true,
            "ticks": "",
            "zerolinecolor": "white"
           },
           "zaxis": {
            "backgroundcolor": "#E5ECF6",
            "gridcolor": "white",
            "gridwidth": 2,
            "linecolor": "white",
            "showbackground": true,
            "ticks": "",
            "zerolinecolor": "white"
           }
          },
          "shapedefaults": {
           "line": {
            "color": "#2a3f5f"
           }
          },
          "ternary": {
           "aaxis": {
            "gridcolor": "white",
            "linecolor": "white",
            "ticks": ""
           },
           "baxis": {
            "gridcolor": "white",
            "linecolor": "white",
            "ticks": ""
           },
           "bgcolor": "#E5ECF6",
           "caxis": {
            "gridcolor": "white",
            "linecolor": "white",
            "ticks": ""
           }
          },
          "title": {
           "x": 0.05
          },
          "xaxis": {
           "automargin": true,
           "gridcolor": "white",
           "linecolor": "white",
           "ticks": "",
           "title": {
            "standoff": 15
           },
           "zerolinecolor": "white",
           "zerolinewidth": 2
          },
          "yaxis": {
           "automargin": true,
           "gridcolor": "white",
           "linecolor": "white",
           "ticks": "",
           "title": {
            "standoff": 15
           },
           "zerolinecolor": "white",
           "zerolinewidth": 2
          }
         }
        },
        "title": {
         "text": "Global New Cases"
        },
        "xaxis": {
         "anchor": "y",
         "domain": [
          0,
          1
         ],
         "title": {
          "text": "Date"
         }
        },
        "yaxis": {
         "anchor": "x",
         "domain": [
          0,
          1
         ],
         "title": {
          "text": "NewCases"
         }
        }
       }
      }
     },
     "metadata": {}
    }
   ],
   "source": [
    "cum_cases('Global')\n",
    "new_cases('Global')"
   ]
  },
  {
   "cell_type": "code",
   "execution_count": 173,
   "metadata": {},
   "outputs": [],
   "source": [
    "def data_prep(country):\n",
    "    dfc = daily[daily['Country/Region'] == country]\n",
    "    dfx = dfc[dfc['Category'] == 'Confirmed']\n",
    "    dfn = dfx.drop(['Country/Region','Category'],1)\n",
    "    dfn = dfn.set_index(['Date'])\n",
    "    dfn.index.name = None\n",
    "    dfn.iloc[0,1] = 0\n",
    "    return dfn"
   ]
  },
  {
   "cell_type": "code",
   "execution_count": 174,
   "metadata": {},
   "outputs": [],
   "source": [
    "def f(X, c, k, m):    \n",
    "    y = c / (1 + np.exp(-k*(X-m)))    \n",
    "    return y"
   ]
  },
  {
   "cell_type": "code",
   "execution_count": 175,
   "metadata": {},
   "outputs": [],
   "source": [
    "def fit(country):\n",
    "    dfn = data_prep(country)\n",
    "    ## find optimal parameters\n",
    "    model, cov = curve_fit(f=f, xdata=np.arange(len(dfn[\"NumberOfCases\"])), ydata=dfn[\"NumberOfCases\"].values, maxfev=10000, p0=[np.max(dfn[\"NumberOfCases\"]), 1, 1])\n",
    "    return model"
   ]
  },
  {
   "cell_type": "code",
   "execution_count": 234,
   "metadata": {},
   "outputs": [],
   "source": [
    "def indexdate(start, end=None, n=30, freq=\"D\"):\n",
    "    if end is not None:\n",
    "        index = pd.date_range(start=start, end=end, freq=freq)\n",
    "    else:\n",
    "        index = pd.date_range(start=start, periods=n, freq=freq)\n",
    "    index = index[1:]\n",
    "    print(\"--- generating index date --> start:\", index[0], \"| end:\", index[-1], \"| len:\", len(index), \"---\")\n",
    "    return index"
   ]
  },
  {
   "cell_type": "code",
   "execution_count": 243,
   "metadata": {},
   "outputs": [],
   "source": [
    "def plot(dfn, country, zoom=30, figsize=(15,5)):\n",
    "    ## interval\n",
    "    dfn[\"residuals\"] = dfn[\"ts\"] - dfn[\"model\"]\n",
    "    dfn[\"conf_int_low\"] = dfn[\"forecast\"] - 1.96*dfn[\"residuals\"].std()\n",
    "    dfn[\"conf_int_up\"] = dfn[\"forecast\"] + 1.96*dfn[\"residuals\"].std()\n",
    "    fig, ax = plt.subplots(nrows=1, ncols=2, figsize=figsize)\n",
    "    plt.suptitle('COVID-19 Outbreak Forecasting '+country+' to date')\n",
    "    \n",
    "    ## entire series\n",
    "    dfn[\"ts\"].plot(marker=\".\", linestyle='None', ax=ax[0], title=\"Parametric Fitting\", color=\"black\")\n",
    "    dfn[\"model\"].plot(ax=ax[0], color=\"green\", label=\"model\", legend=True)\n",
    "    dfn[\"forecast\"].plot(ax=ax[0], grid=True, color=\"red\", label=\"forecast\", legend=True)\n",
    "    ax[0].fill_between(x=dfn.index, y1=dfn['conf_int_low'], y2=dfn['conf_int_up'], color='b', alpha=0.3)\n",
    "   \n",
    "    ## focus on last\n",
    "    first_idx = dfn[pd.notnull(dfn[\"forecast\"])].index[0]\n",
    "    first_loc = dfn.index.tolist().index(first_idx)\n",
    "    zoom_idx = dfn.index[first_loc-zoom]\n",
    "    dfn.loc[zoom_idx:][\"ts\"].plot(marker=\".\", linestyle='None', ax=ax[1], color=\"black\", \n",
    "                                  title=\"Zoom on the last \"+str(zoom)+\" observations\")\n",
    "    dfn.loc[zoom_idx:][\"model\"].plot(ax=ax[1], color=\"green\")\n",
    "    dfn.loc[zoom_idx:][\"forecast\"].plot(ax=ax[1], grid=True, color=\"red\")\n",
    "    ax[1].fill_between(x=dfn.loc[zoom_idx:].index, y1=dfn.loc[zoom_idx:]['conf_int_low'], \n",
    "                       y2=dfn.loc[zoom_idx:]['conf_int_up'], color='b', alpha=0.3)\n",
    "    plt.show()\n",
    "    return dfn[[\"ts\",\"model\",\"residuals\",\"conf_int_low\",\"forecast\",\"conf_int_up\"]]"
   ]
  },
  {
   "cell_type": "code",
   "execution_count": 224,
   "metadata": {},
   "outputs": [],
   "source": [
    "def predict(country):\n",
    "    dfn = data_prep(country)\n",
    "    model = fit(country)\n",
    "    ts = pd.Series(dfn['NumberOfCases'])\n",
    "    X = np.arange(len(ts))\n",
    "    fitted = f(X, model[0], model[1], model[2])\n",
    "    df = ts.to_frame(name=\"ts\")\n",
    "    df['model'] = fitted\n",
    "    index = indexdate(start=dfn.index[-1])\n",
    "    preds = f(np.arange(len(ts)+1, len(ts)+1+len(index)), model[0], model[1], model[2])\n",
    "    df = df.append(pd.DataFrame(data=preds, index=index, columns=[\"forecast\"]))\n",
    "    return plot(df, country)"
   ]
  },
  {
   "cell_type": "code",
   "execution_count": 244,
   "metadata": {},
   "outputs": [
    {
     "output_type": "stream",
     "name": "stdout",
     "text": "--- generating index date --> start: 2020-05-21 00:00:00 | end: 2020-06-18 00:00:00 | len: 29 ---\n"
    },
    {
     "output_type": "display_data",
     "data": {
      "text/plain": "<Figure size 1080x360 with 2 Axes>",
      "image/svg+xml": "<?xml version=\"1.0\" encoding=\"utf-8\" standalone=\"no\"?>\r\n<!DOCTYPE svg PUBLIC \"-//W3C//DTD SVG 1.1//EN\"\r\n  \"http://www.w3.org/Graphics/SVG/1.1/DTD/svg11.dtd\">\r\n<!-- Created with matplotlib (https://matplotlib.org/) -->\r\n<svg height=\"372.471562pt\" version=\"1.1\" viewBox=\"0 0 864.7625 372.471562\" width=\"864.7625pt\" xmlns=\"http://www.w3.org/2000/svg\" xmlns:xlink=\"http://www.w3.org/1999/xlink\">\r\n <defs>\r\n  <style type=\"text/css\">\r\n*{stroke-linecap:butt;stroke-linejoin:round;}\r\n  </style>\r\n </defs>\r\n <g id=\"figure_1\">\r\n  <g id=\"patch_1\">\r\n   <path d=\"M 0 372.471562 \r\nL 864.7625 372.471562 \r\nL 864.7625 0 \r\nL 0 0 \r\nz\r\n\" style=\"fill:none;\"/>\r\n  </g>\r\n  <g id=\"axes_1\">\r\n   <g id=\"patch_2\">\r\n    <path d=\"M 20.5625 315 \r\nL 401.017045 315 \r\nL 401.017045 43.2 \r\nL 20.5625 43.2 \r\nz\r\n\" style=\"fill:#ffffff;\"/>\r\n   </g>\r\n   <g id=\"PolyCollection_1\">\r\n    <defs>\r\n     <path d=\"M 329.039158 -294.115952 \r\nL 329.039158 -278.554736 \r\nL 331.609797 -280.226513 \r\nL 334.180436 -281.804905 \r\nL 336.751075 -283.293727 \r\nL 339.321714 -284.696819 \r\nL 341.892353 -286.018012 \r\nL 344.462991 -287.261109 \r\nL 347.03363 -288.42986 \r\nL 349.604269 -289.527948 \r\nL 352.174908 -290.55897 \r\nL 354.745547 -291.526428 \r\nL 357.316186 -292.433718 \r\nL 359.886824 -293.284122 \r\nL 362.457463 -294.080804 \r\nL 365.028102 -294.826804 \r\nL 367.598741 -295.525034 \r\nL 370.16938 -296.178283 \r\nL 372.740018 -296.78921 \r\nL 375.310657 -297.36035 \r\nL 377.881296 -297.894112 \r\nL 380.451935 -298.392783 \r\nL 383.022574 -298.858533 \r\nL 385.593213 -299.293413 \r\nL 388.163851 -299.699366 \r\nL 390.73449 -300.078223 \r\nL 393.305129 -300.431713 \r\nL 395.875768 -300.761466 \r\nL 398.446407 -301.069014 \r\nL 401.017045 -301.355801 \r\nL 401.017045 -316.917017 \r\nL 401.017045 -316.917017 \r\nL 398.446407 -316.63023 \r\nL 395.875768 -316.322682 \r\nL 393.305129 -315.992929 \r\nL 390.73449 -315.639439 \r\nL 388.163851 -315.260582 \r\nL 385.593213 -314.85463 \r\nL 383.022574 -314.419749 \r\nL 380.451935 -313.953999 \r\nL 377.881296 -313.455328 \r\nL 375.310657 -312.921566 \r\nL 372.740018 -312.350426 \r\nL 370.16938 -311.739499 \r\nL 367.598741 -311.08625 \r\nL 365.028102 -310.38802 \r\nL 362.457463 -309.642021 \r\nL 359.886824 -308.845339 \r\nL 357.316186 -307.994934 \r\nL 354.745547 -307.087644 \r\nL 352.174908 -306.120186 \r\nL 349.604269 -305.089164 \r\nL 347.03363 -303.991076 \r\nL 344.462991 -302.822325 \r\nL 341.892353 -301.579228 \r\nL 339.321714 -300.258035 \r\nL 336.751075 -298.854944 \r\nL 334.180436 -297.366121 \r\nL 331.609797 -295.78773 \r\nL 329.039158 -294.115952 \r\nz\r\n\" id=\"mb99cb687e9\" style=\"stroke:#0000ff;stroke-opacity:0.3;\"/>\r\n    </defs>\r\n    <g clip-path=\"url(#p30ffc68a53)\">\r\n     <use style=\"fill:#0000ff;fill-opacity:0.3;stroke:#0000ff;stroke-opacity:0.3;\" x=\"0\" xlink:href=\"#mb99cb687e9\" y=\"372.471562\"/>\r\n    </g>\r\n   </g>\r\n   <g id=\"matplotlib.axis_1\">\r\n    <g id=\"xtick_1\">\r\n     <g id=\"line2d_1\">\r\n      <path clip-path=\"url(#p30ffc68a53)\" d=\"M 20.5625 315 \r\nL 20.5625 43.2 \r\n\" style=\"fill:none;stroke:#b0b0b0;stroke-linecap:square;stroke-width:0.8;\"/>\r\n     </g>\r\n     <g id=\"line2d_2\">\r\n      <defs>\r\n       <path d=\"M 0 0 \r\nL 0 3.5 \r\n\" id=\"m5b9f8ee693\" style=\"stroke:#000000;stroke-width:0.8;\"/>\r\n      </defs>\r\n      <g>\r\n       <use style=\"stroke:#000000;stroke-width:0.8;\" x=\"20.5625\" xlink:href=\"#m5b9f8ee693\" y=\"315\"/>\r\n      </g>\r\n     </g>\r\n    </g>\r\n    <g id=\"xtick_2\">\r\n     <g id=\"line2d_3\">\r\n      <path clip-path=\"url(#p30ffc68a53)\" d=\"M 46.268888 315 \r\nL 46.268888 43.2 \r\n\" style=\"fill:none;stroke:#b0b0b0;stroke-linecap:square;stroke-width:0.8;\"/>\r\n     </g>\r\n     <g id=\"line2d_4\">\r\n      <g>\r\n       <use style=\"stroke:#000000;stroke-width:0.8;\" x=\"46.268888\" xlink:href=\"#m5b9f8ee693\" y=\"315\"/>\r\n      </g>\r\n     </g>\r\n     <g id=\"text_1\">\r\n      <!-- Feb -->\r\n      <defs>\r\n       <path d=\"M 9.8125 72.90625 \r\nL 51.703125 72.90625 \r\nL 51.703125 64.59375 \r\nL 19.671875 64.59375 \r\nL 19.671875 43.109375 \r\nL 48.578125 43.109375 \r\nL 48.578125 34.8125 \r\nL 19.671875 34.8125 \r\nL 19.671875 0 \r\nL 9.8125 0 \r\nz\r\n\" id=\"DejaVuSans-70\"/>\r\n       <path d=\"M 56.203125 29.59375 \r\nL 56.203125 25.203125 \r\nL 14.890625 25.203125 \r\nQ 15.484375 15.921875 20.484375 11.0625 \r\nQ 25.484375 6.203125 34.421875 6.203125 \r\nQ 39.59375 6.203125 44.453125 7.46875 \r\nQ 49.3125 8.734375 54.109375 11.28125 \r\nL 54.109375 2.78125 \r\nQ 49.265625 0.734375 44.1875 -0.34375 \r\nQ 39.109375 -1.421875 33.890625 -1.421875 \r\nQ 20.796875 -1.421875 13.15625 6.1875 \r\nQ 5.515625 13.8125 5.515625 26.8125 \r\nQ 5.515625 40.234375 12.765625 48.109375 \r\nQ 20.015625 56 32.328125 56 \r\nQ 43.359375 56 49.78125 48.890625 \r\nQ 56.203125 41.796875 56.203125 29.59375 \r\nz\r\nM 47.21875 32.234375 \r\nQ 47.125 39.59375 43.09375 43.984375 \r\nQ 39.0625 48.390625 32.421875 48.390625 \r\nQ 24.90625 48.390625 20.390625 44.140625 \r\nQ 15.875 39.890625 15.1875 32.171875 \r\nz\r\n\" id=\"DejaVuSans-101\"/>\r\n       <path d=\"M 48.6875 27.296875 \r\nQ 48.6875 37.203125 44.609375 42.84375 \r\nQ 40.53125 48.484375 33.40625 48.484375 \r\nQ 26.265625 48.484375 22.1875 42.84375 \r\nQ 18.109375 37.203125 18.109375 27.296875 \r\nQ 18.109375 17.390625 22.1875 11.75 \r\nQ 26.265625 6.109375 33.40625 6.109375 \r\nQ 40.53125 6.109375 44.609375 11.75 \r\nQ 48.6875 17.390625 48.6875 27.296875 \r\nz\r\nM 18.109375 46.390625 \r\nQ 20.953125 51.265625 25.265625 53.625 \r\nQ 29.59375 56 35.59375 56 \r\nQ 45.5625 56 51.78125 48.09375 \r\nQ 58.015625 40.1875 58.015625 27.296875 \r\nQ 58.015625 14.40625 51.78125 6.484375 \r\nQ 45.5625 -1.421875 35.59375 -1.421875 \r\nQ 29.59375 -1.421875 25.265625 0.953125 \r\nQ 20.953125 3.328125 18.109375 8.203125 \r\nL 18.109375 0 \r\nL 9.078125 0 \r\nL 9.078125 75.984375 \r\nL 18.109375 75.984375 \r\nz\r\n\" id=\"DejaVuSans-98\"/>\r\n      </defs>\r\n      <g transform=\"translate(37.417326 329.598437)scale(0.1 -0.1)\">\r\n       <use xlink:href=\"#DejaVuSans-70\"/>\r\n       <use x=\"52.019531\" xlink:href=\"#DejaVuSans-101\"/>\r\n       <use x=\"113.542969\" xlink:href=\"#DejaVuSans-98\"/>\r\n      </g>\r\n      <!-- 2020 -->\r\n      <defs>\r\n       <path d=\"M 19.1875 8.296875 \r\nL 53.609375 8.296875 \r\nL 53.609375 0 \r\nL 7.328125 0 \r\nL 7.328125 8.296875 \r\nQ 12.9375 14.109375 22.625 23.890625 \r\nQ 32.328125 33.6875 34.8125 36.53125 \r\nQ 39.546875 41.84375 41.421875 45.53125 \r\nQ 43.3125 49.21875 43.3125 52.78125 \r\nQ 43.3125 58.59375 39.234375 62.25 \r\nQ 35.15625 65.921875 28.609375 65.921875 \r\nQ 23.96875 65.921875 18.8125 64.3125 \r\nQ 13.671875 62.703125 7.8125 59.421875 \r\nL 7.8125 69.390625 \r\nQ 13.765625 71.78125 18.9375 73 \r\nQ 24.125 74.21875 28.421875 74.21875 \r\nQ 39.75 74.21875 46.484375 68.546875 \r\nQ 53.21875 62.890625 53.21875 53.421875 \r\nQ 53.21875 48.921875 51.53125 44.890625 \r\nQ 49.859375 40.875 45.40625 35.40625 \r\nQ 44.1875 33.984375 37.640625 27.21875 \r\nQ 31.109375 20.453125 19.1875 8.296875 \r\nz\r\n\" id=\"DejaVuSans-50\"/>\r\n       <path d=\"M 31.78125 66.40625 \r\nQ 24.171875 66.40625 20.328125 58.90625 \r\nQ 16.5 51.421875 16.5 36.375 \r\nQ 16.5 21.390625 20.328125 13.890625 \r\nQ 24.171875 6.390625 31.78125 6.390625 \r\nQ 39.453125 6.390625 43.28125 13.890625 \r\nQ 47.125 21.390625 47.125 36.375 \r\nQ 47.125 51.421875 43.28125 58.90625 \r\nQ 39.453125 66.40625 31.78125 66.40625 \r\nz\r\nM 31.78125 74.21875 \r\nQ 44.046875 74.21875 50.515625 64.515625 \r\nQ 56.984375 54.828125 56.984375 36.375 \r\nQ 56.984375 17.96875 50.515625 8.265625 \r\nQ 44.046875 -1.421875 31.78125 -1.421875 \r\nQ 19.53125 -1.421875 13.0625 8.265625 \r\nQ 6.59375 17.96875 6.59375 36.375 \r\nQ 6.59375 54.828125 13.0625 64.515625 \r\nQ 19.53125 74.21875 31.78125 74.21875 \r\nz\r\n\" id=\"DejaVuSans-48\"/>\r\n      </defs>\r\n      <g transform=\"translate(33.543888 340.79625)scale(0.1 -0.1)\">\r\n       <use xlink:href=\"#DejaVuSans-50\"/>\r\n       <use x=\"63.623047\" xlink:href=\"#DejaVuSans-48\"/>\r\n       <use x=\"127.246094\" xlink:href=\"#DejaVuSans-50\"/>\r\n       <use x=\"190.869141\" xlink:href=\"#DejaVuSans-48\"/>\r\n      </g>\r\n     </g>\r\n    </g>\r\n    <g id=\"xtick_3\">\r\n     <g id=\"line2d_5\">\r\n      <path clip-path=\"url(#p30ffc68a53)\" d=\"M 120.817414 315 \r\nL 120.817414 43.2 \r\n\" style=\"fill:none;stroke:#b0b0b0;stroke-linecap:square;stroke-width:0.8;\"/>\r\n     </g>\r\n     <g id=\"line2d_6\">\r\n      <g>\r\n       <use style=\"stroke:#000000;stroke-width:0.8;\" x=\"120.817414\" xlink:href=\"#m5b9f8ee693\" y=\"315\"/>\r\n      </g>\r\n     </g>\r\n     <g id=\"text_2\">\r\n      <!-- Mar -->\r\n      <defs>\r\n       <path d=\"M 9.8125 72.90625 \r\nL 24.515625 72.90625 \r\nL 43.109375 23.296875 \r\nL 61.8125 72.90625 \r\nL 76.515625 72.90625 \r\nL 76.515625 0 \r\nL 66.890625 0 \r\nL 66.890625 64.015625 \r\nL 48.09375 14.015625 \r\nL 38.1875 14.015625 \r\nL 19.390625 64.015625 \r\nL 19.390625 0 \r\nL 9.8125 0 \r\nz\r\n\" id=\"DejaVuSans-77\"/>\r\n       <path d=\"M 34.28125 27.484375 \r\nQ 23.390625 27.484375 19.1875 25 \r\nQ 14.984375 22.515625 14.984375 16.5 \r\nQ 14.984375 11.71875 18.140625 8.90625 \r\nQ 21.296875 6.109375 26.703125 6.109375 \r\nQ 34.1875 6.109375 38.703125 11.40625 \r\nQ 43.21875 16.703125 43.21875 25.484375 \r\nL 43.21875 27.484375 \r\nz\r\nM 52.203125 31.203125 \r\nL 52.203125 0 \r\nL 43.21875 0 \r\nL 43.21875 8.296875 \r\nQ 40.140625 3.328125 35.546875 0.953125 \r\nQ 30.953125 -1.421875 24.3125 -1.421875 \r\nQ 15.921875 -1.421875 10.953125 3.296875 \r\nQ 6 8.015625 6 15.921875 \r\nQ 6 25.140625 12.171875 29.828125 \r\nQ 18.359375 34.515625 30.609375 34.515625 \r\nL 43.21875 34.515625 \r\nL 43.21875 35.40625 \r\nQ 43.21875 41.609375 39.140625 45 \r\nQ 35.0625 48.390625 27.6875 48.390625 \r\nQ 23 48.390625 18.546875 47.265625 \r\nQ 14.109375 46.140625 10.015625 43.890625 \r\nL 10.015625 52.203125 \r\nQ 14.9375 54.109375 19.578125 55.046875 \r\nQ 24.21875 56 28.609375 56 \r\nQ 40.484375 56 46.34375 49.84375 \r\nQ 52.203125 43.703125 52.203125 31.203125 \r\nz\r\n\" id=\"DejaVuSans-97\"/>\r\n       <path d=\"M 41.109375 46.296875 \r\nQ 39.59375 47.171875 37.8125 47.578125 \r\nQ 36.03125 48 33.890625 48 \r\nQ 26.265625 48 22.1875 43.046875 \r\nQ 18.109375 38.09375 18.109375 28.8125 \r\nL 18.109375 0 \r\nL 9.078125 0 \r\nL 9.078125 54.6875 \r\nL 18.109375 54.6875 \r\nL 18.109375 46.1875 \r\nQ 20.953125 51.171875 25.484375 53.578125 \r\nQ 30.03125 56 36.53125 56 \r\nQ 37.453125 56 38.578125 55.875 \r\nQ 39.703125 55.765625 41.0625 55.515625 \r\nz\r\n\" id=\"DejaVuSans-114\"/>\r\n      </defs>\r\n      <g transform=\"translate(111.38382 329.598437)scale(0.1 -0.1)\">\r\n       <use xlink:href=\"#DejaVuSans-77\"/>\r\n       <use x=\"86.279297\" xlink:href=\"#DejaVuSans-97\"/>\r\n       <use x=\"147.558594\" xlink:href=\"#DejaVuSans-114\"/>\r\n      </g>\r\n     </g>\r\n    </g>\r\n    <g id=\"xtick_4\">\r\n     <g id=\"line2d_7\">\r\n      <path clip-path=\"url(#p30ffc68a53)\" d=\"M 200.507217 315 \r\nL 200.507217 43.2 \r\n\" style=\"fill:none;stroke:#b0b0b0;stroke-linecap:square;stroke-width:0.8;\"/>\r\n     </g>\r\n     <g id=\"line2d_8\">\r\n      <g>\r\n       <use style=\"stroke:#000000;stroke-width:0.8;\" x=\"200.507217\" xlink:href=\"#m5b9f8ee693\" y=\"315\"/>\r\n      </g>\r\n     </g>\r\n     <g id=\"text_3\">\r\n      <!-- Apr -->\r\n      <defs>\r\n       <path d=\"M 34.1875 63.1875 \r\nL 20.796875 26.90625 \r\nL 47.609375 26.90625 \r\nz\r\nM 28.609375 72.90625 \r\nL 39.796875 72.90625 \r\nL 67.578125 0 \r\nL 57.328125 0 \r\nL 50.6875 18.703125 \r\nL 17.828125 18.703125 \r\nL 11.1875 0 \r\nL 0.78125 0 \r\nz\r\n\" id=\"DejaVuSans-65\"/>\r\n       <path d=\"M 18.109375 8.203125 \r\nL 18.109375 -20.796875 \r\nL 9.078125 -20.796875 \r\nL 9.078125 54.6875 \r\nL 18.109375 54.6875 \r\nL 18.109375 46.390625 \r\nQ 20.953125 51.265625 25.265625 53.625 \r\nQ 29.59375 56 35.59375 56 \r\nQ 45.5625 56 51.78125 48.09375 \r\nQ 58.015625 40.1875 58.015625 27.296875 \r\nQ 58.015625 14.40625 51.78125 6.484375 \r\nQ 45.5625 -1.421875 35.59375 -1.421875 \r\nQ 29.59375 -1.421875 25.265625 0.953125 \r\nQ 20.953125 3.328125 18.109375 8.203125 \r\nz\r\nM 48.6875 27.296875 \r\nQ 48.6875 37.203125 44.609375 42.84375 \r\nQ 40.53125 48.484375 33.40625 48.484375 \r\nQ 26.265625 48.484375 22.1875 42.84375 \r\nQ 18.109375 37.203125 18.109375 27.296875 \r\nQ 18.109375 17.390625 22.1875 11.75 \r\nQ 26.265625 6.109375 33.40625 6.109375 \r\nQ 40.53125 6.109375 44.609375 11.75 \r\nQ 48.6875 17.390625 48.6875 27.296875 \r\nz\r\n\" id=\"DejaVuSans-112\"/>\r\n      </defs>\r\n      <g transform=\"translate(191.857217 329.598437)scale(0.1 -0.1)\">\r\n       <use xlink:href=\"#DejaVuSans-65\"/>\r\n       <use x=\"68.408203\" xlink:href=\"#DejaVuSans-112\"/>\r\n       <use x=\"131.884766\" xlink:href=\"#DejaVuSans-114\"/>\r\n      </g>\r\n     </g>\r\n    </g>\r\n    <g id=\"xtick_5\">\r\n     <g id=\"line2d_9\">\r\n      <path clip-path=\"url(#p30ffc68a53)\" d=\"M 277.626382 315 \r\nL 277.626382 43.2 \r\n\" style=\"fill:none;stroke:#b0b0b0;stroke-linecap:square;stroke-width:0.8;\"/>\r\n     </g>\r\n     <g id=\"line2d_10\">\r\n      <g>\r\n       <use style=\"stroke:#000000;stroke-width:0.8;\" x=\"277.626382\" xlink:href=\"#m5b9f8ee693\" y=\"315\"/>\r\n      </g>\r\n     </g>\r\n     <g id=\"text_4\">\r\n      <!-- May -->\r\n      <defs>\r\n       <path d=\"M 32.171875 -5.078125 \r\nQ 28.375 -14.84375 24.75 -17.8125 \r\nQ 21.140625 -20.796875 15.09375 -20.796875 \r\nL 7.90625 -20.796875 \r\nL 7.90625 -13.28125 \r\nL 13.1875 -13.28125 \r\nQ 16.890625 -13.28125 18.9375 -11.515625 \r\nQ 21 -9.765625 23.484375 -3.21875 \r\nL 25.09375 0.875 \r\nL 2.984375 54.6875 \r\nL 12.5 54.6875 \r\nL 29.59375 11.921875 \r\nL 46.6875 54.6875 \r\nL 56.203125 54.6875 \r\nz\r\n\" id=\"DejaVuSans-121\"/>\r\n      </defs>\r\n      <g transform=\"translate(267.288882 329.598437)scale(0.1 -0.1)\">\r\n       <use xlink:href=\"#DejaVuSans-77\"/>\r\n       <use x=\"86.279297\" xlink:href=\"#DejaVuSans-97\"/>\r\n       <use x=\"147.558594\" xlink:href=\"#DejaVuSans-121\"/>\r\n      </g>\r\n     </g>\r\n    </g>\r\n    <g id=\"xtick_6\">\r\n     <g id=\"line2d_11\">\r\n      <path clip-path=\"url(#p30ffc68a53)\" d=\"M 357.316186 315 \r\nL 357.316186 43.2 \r\n\" style=\"fill:none;stroke:#b0b0b0;stroke-linecap:square;stroke-width:0.8;\"/>\r\n     </g>\r\n     <g id=\"line2d_12\">\r\n      <g>\r\n       <use style=\"stroke:#000000;stroke-width:0.8;\" x=\"357.316186\" xlink:href=\"#m5b9f8ee693\" y=\"315\"/>\r\n      </g>\r\n     </g>\r\n     <g id=\"text_5\">\r\n      <!-- Jun -->\r\n      <defs>\r\n       <path d=\"M 9.8125 72.90625 \r\nL 19.671875 72.90625 \r\nL 19.671875 5.078125 \r\nQ 19.671875 -8.109375 14.671875 -14.0625 \r\nQ 9.671875 -20.015625 -1.421875 -20.015625 \r\nL -5.171875 -20.015625 \r\nL -5.171875 -11.71875 \r\nL -2.09375 -11.71875 \r\nQ 4.4375 -11.71875 7.125 -8.046875 \r\nQ 9.8125 -4.390625 9.8125 5.078125 \r\nz\r\n\" id=\"DejaVuSans-74\"/>\r\n       <path d=\"M 8.5 21.578125 \r\nL 8.5 54.6875 \r\nL 17.484375 54.6875 \r\nL 17.484375 21.921875 \r\nQ 17.484375 14.15625 20.5 10.265625 \r\nQ 23.53125 6.390625 29.59375 6.390625 \r\nQ 36.859375 6.390625 41.078125 11.03125 \r\nQ 45.3125 15.671875 45.3125 23.6875 \r\nL 45.3125 54.6875 \r\nL 54.296875 54.6875 \r\nL 54.296875 0 \r\nL 45.3125 0 \r\nL 45.3125 8.40625 \r\nQ 42.046875 3.421875 37.71875 1 \r\nQ 33.40625 -1.421875 27.6875 -1.421875 \r\nQ 18.265625 -1.421875 13.375 4.4375 \r\nQ 8.5 10.296875 8.5 21.578125 \r\nz\r\nM 31.109375 56 \r\nz\r\n\" id=\"DejaVuSans-117\"/>\r\n       <path d=\"M 54.890625 33.015625 \r\nL 54.890625 0 \r\nL 45.90625 0 \r\nL 45.90625 32.71875 \r\nQ 45.90625 40.484375 42.875 44.328125 \r\nQ 39.84375 48.1875 33.796875 48.1875 \r\nQ 26.515625 48.1875 22.3125 43.546875 \r\nQ 18.109375 38.921875 18.109375 30.90625 \r\nL 18.109375 0 \r\nL 9.078125 0 \r\nL 9.078125 54.6875 \r\nL 18.109375 54.6875 \r\nL 18.109375 46.1875 \r\nQ 21.34375 51.125 25.703125 53.5625 \r\nQ 30.078125 56 35.796875 56 \r\nQ 45.21875 56 50.046875 50.171875 \r\nQ 54.890625 44.34375 54.890625 33.015625 \r\nz\r\n\" id=\"DejaVuSans-110\"/>\r\n      </defs>\r\n      <g transform=\"translate(349.503686 329.598437)scale(0.1 -0.1)\">\r\n       <use xlink:href=\"#DejaVuSans-74\"/>\r\n       <use x=\"29.492188\" xlink:href=\"#DejaVuSans-117\"/>\r\n       <use x=\"92.871094\" xlink:href=\"#DejaVuSans-110\"/>\r\n      </g>\r\n     </g>\r\n    </g>\r\n    <g id=\"xtick_7\">\r\n     <g id=\"line2d_13\">\r\n      <path clip-path=\"url(#p30ffc68a53)\" d=\"M 401.017045 315 \r\nL 401.017045 43.2 \r\n\" style=\"fill:none;stroke:#b0b0b0;stroke-linecap:square;stroke-width:0.8;\"/>\r\n     </g>\r\n     <g id=\"line2d_14\">\r\n      <g>\r\n       <use style=\"stroke:#000000;stroke-width:0.8;\" x=\"401.017045\" xlink:href=\"#m5b9f8ee693\" y=\"315\"/>\r\n      </g>\r\n     </g>\r\n    </g>\r\n    <g id=\"xtick_8\">\r\n     <g id=\"line2d_15\">\r\n      <defs>\r\n       <path d=\"M 0 0 \r\nL 0 2 \r\n\" id=\"m04670e37fe\" style=\"stroke:#000000;stroke-width:0.6;\"/>\r\n      </defs>\r\n      <g>\r\n       <use style=\"stroke:#000000;stroke-width:0.6;\" x=\"33.415694\" xlink:href=\"#m04670e37fe\" y=\"315\"/>\r\n      </g>\r\n     </g>\r\n    </g>\r\n    <g id=\"xtick_9\">\r\n     <g id=\"line2d_16\">\r\n      <g>\r\n       <use style=\"stroke:#000000;stroke-width:0.6;\" x=\"51.410166\" xlink:href=\"#m04670e37fe\" y=\"315\"/>\r\n      </g>\r\n     </g>\r\n    </g>\r\n    <g id=\"xtick_10\">\r\n     <g id=\"line2d_17\">\r\n      <g>\r\n       <use style=\"stroke:#000000;stroke-width:0.6;\" x=\"69.404638\" xlink:href=\"#m04670e37fe\" y=\"315\"/>\r\n      </g>\r\n     </g>\r\n    </g>\r\n    <g id=\"xtick_11\">\r\n     <g id=\"line2d_18\">\r\n      <g>\r\n       <use style=\"stroke:#000000;stroke-width:0.6;\" x=\"87.399109\" xlink:href=\"#m04670e37fe\" y=\"315\"/>\r\n      </g>\r\n     </g>\r\n    </g>\r\n    <g id=\"xtick_12\">\r\n     <g id=\"line2d_19\">\r\n      <g>\r\n       <use style=\"stroke:#000000;stroke-width:0.6;\" x=\"105.393581\" xlink:href=\"#m04670e37fe\" y=\"315\"/>\r\n      </g>\r\n     </g>\r\n    </g>\r\n    <g id=\"xtick_13\">\r\n     <g id=\"line2d_20\">\r\n      <g>\r\n       <use style=\"stroke:#000000;stroke-width:0.6;\" x=\"123.388053\" xlink:href=\"#m04670e37fe\" y=\"315\"/>\r\n      </g>\r\n     </g>\r\n    </g>\r\n    <g id=\"xtick_14\">\r\n     <g id=\"line2d_21\">\r\n      <g>\r\n       <use style=\"stroke:#000000;stroke-width:0.6;\" x=\"141.382525\" xlink:href=\"#m04670e37fe\" y=\"315\"/>\r\n      </g>\r\n     </g>\r\n    </g>\r\n    <g id=\"xtick_15\">\r\n     <g id=\"line2d_22\">\r\n      <g>\r\n       <use style=\"stroke:#000000;stroke-width:0.6;\" x=\"159.376996\" xlink:href=\"#m04670e37fe\" y=\"315\"/>\r\n      </g>\r\n     </g>\r\n    </g>\r\n    <g id=\"xtick_16\">\r\n     <g id=\"line2d_23\">\r\n      <g>\r\n       <use style=\"stroke:#000000;stroke-width:0.6;\" x=\"177.371468\" xlink:href=\"#m04670e37fe\" y=\"315\"/>\r\n      </g>\r\n     </g>\r\n    </g>\r\n    <g id=\"xtick_17\">\r\n     <g id=\"line2d_24\">\r\n      <g>\r\n       <use style=\"stroke:#000000;stroke-width:0.6;\" x=\"195.36594\" xlink:href=\"#m04670e37fe\" y=\"315\"/>\r\n      </g>\r\n     </g>\r\n    </g>\r\n    <g id=\"xtick_18\">\r\n     <g id=\"line2d_25\">\r\n      <g>\r\n       <use style=\"stroke:#000000;stroke-width:0.6;\" x=\"213.360412\" xlink:href=\"#m04670e37fe\" y=\"315\"/>\r\n      </g>\r\n     </g>\r\n    </g>\r\n    <g id=\"xtick_19\">\r\n     <g id=\"line2d_26\">\r\n      <g>\r\n       <use style=\"stroke:#000000;stroke-width:0.6;\" x=\"231.354883\" xlink:href=\"#m04670e37fe\" y=\"315\"/>\r\n      </g>\r\n     </g>\r\n    </g>\r\n    <g id=\"xtick_20\">\r\n     <g id=\"line2d_27\">\r\n      <g>\r\n       <use style=\"stroke:#000000;stroke-width:0.6;\" x=\"249.349355\" xlink:href=\"#m04670e37fe\" y=\"315\"/>\r\n      </g>\r\n     </g>\r\n    </g>\r\n    <g id=\"xtick_21\">\r\n     <g id=\"line2d_28\">\r\n      <g>\r\n       <use style=\"stroke:#000000;stroke-width:0.6;\" x=\"267.343827\" xlink:href=\"#m04670e37fe\" y=\"315\"/>\r\n      </g>\r\n     </g>\r\n    </g>\r\n    <g id=\"xtick_22\">\r\n     <g id=\"line2d_29\">\r\n      <g>\r\n       <use style=\"stroke:#000000;stroke-width:0.6;\" x=\"285.338299\" xlink:href=\"#m04670e37fe\" y=\"315\"/>\r\n      </g>\r\n     </g>\r\n    </g>\r\n    <g id=\"xtick_23\">\r\n     <g id=\"line2d_30\">\r\n      <g>\r\n       <use style=\"stroke:#000000;stroke-width:0.6;\" x=\"303.33277\" xlink:href=\"#m04670e37fe\" y=\"315\"/>\r\n      </g>\r\n     </g>\r\n    </g>\r\n    <g id=\"xtick_24\">\r\n     <g id=\"line2d_31\">\r\n      <g>\r\n       <use style=\"stroke:#000000;stroke-width:0.6;\" x=\"321.327242\" xlink:href=\"#m04670e37fe\" y=\"315\"/>\r\n      </g>\r\n     </g>\r\n    </g>\r\n    <g id=\"xtick_25\">\r\n     <g id=\"line2d_32\">\r\n      <g>\r\n       <use style=\"stroke:#000000;stroke-width:0.6;\" x=\"339.321714\" xlink:href=\"#m04670e37fe\" y=\"315\"/>\r\n      </g>\r\n     </g>\r\n    </g>\r\n    <g id=\"xtick_26\">\r\n     <g id=\"line2d_33\">\r\n      <g>\r\n       <use style=\"stroke:#000000;stroke-width:0.6;\" x=\"375.310657\" xlink:href=\"#m04670e37fe\" y=\"315\"/>\r\n      </g>\r\n     </g>\r\n    </g>\r\n    <g id=\"xtick_27\">\r\n     <g id=\"line2d_34\">\r\n      <g>\r\n       <use style=\"stroke:#000000;stroke-width:0.6;\" x=\"393.305129\" xlink:href=\"#m04670e37fe\" y=\"315\"/>\r\n      </g>\r\n     </g>\r\n    </g>\r\n   </g>\r\n   <g id=\"matplotlib.axis_2\">\r\n    <g id=\"ytick_1\">\r\n     <g id=\"line2d_35\">\r\n      <path clip-path=\"url(#p30ffc68a53)\" d=\"M 20.5625 302.670387 \r\nL 401.017045 302.670387 \r\n\" style=\"fill:none;stroke:#b0b0b0;stroke-linecap:square;stroke-width:0.8;\"/>\r\n     </g>\r\n     <g id=\"line2d_36\">\r\n      <defs>\r\n       <path d=\"M 0 0 \r\nL -3.5 0 \r\n\" id=\"m215b45a16e\" style=\"stroke:#000000;stroke-width:0.8;\"/>\r\n      </defs>\r\n      <g>\r\n       <use style=\"stroke:#000000;stroke-width:0.8;\" x=\"20.5625\" xlink:href=\"#m215b45a16e\" y=\"302.670387\"/>\r\n      </g>\r\n     </g>\r\n     <g id=\"text_6\">\r\n      <!-- 0 -->\r\n      <g transform=\"translate(7.2 306.469605)scale(0.1 -0.1)\">\r\n       <use xlink:href=\"#DejaVuSans-48\"/>\r\n      </g>\r\n     </g>\r\n    </g>\r\n    <g id=\"ytick_2\">\r\n     <g id=\"line2d_37\">\r\n      <path clip-path=\"url(#p30ffc68a53)\" d=\"M 20.5625 257.747726 \r\nL 401.017045 257.747726 \r\n\" style=\"fill:none;stroke:#b0b0b0;stroke-linecap:square;stroke-width:0.8;\"/>\r\n     </g>\r\n     <g id=\"line2d_38\">\r\n      <g>\r\n       <use style=\"stroke:#000000;stroke-width:0.8;\" x=\"20.5625\" xlink:href=\"#m215b45a16e\" y=\"257.747726\"/>\r\n      </g>\r\n     </g>\r\n     <g id=\"text_7\">\r\n      <!-- 1 -->\r\n      <defs>\r\n       <path d=\"M 12.40625 8.296875 \r\nL 28.515625 8.296875 \r\nL 28.515625 63.921875 \r\nL 10.984375 60.40625 \r\nL 10.984375 69.390625 \r\nL 28.421875 72.90625 \r\nL 38.28125 72.90625 \r\nL 38.28125 8.296875 \r\nL 54.390625 8.296875 \r\nL 54.390625 0 \r\nL 12.40625 0 \r\nz\r\n\" id=\"DejaVuSans-49\"/>\r\n      </defs>\r\n      <g transform=\"translate(7.2 261.546945)scale(0.1 -0.1)\">\r\n       <use xlink:href=\"#DejaVuSans-49\"/>\r\n      </g>\r\n     </g>\r\n    </g>\r\n    <g id=\"ytick_3\">\r\n     <g id=\"line2d_39\">\r\n      <path clip-path=\"url(#p30ffc68a53)\" d=\"M 20.5625 212.825065 \r\nL 401.017045 212.825065 \r\n\" style=\"fill:none;stroke:#b0b0b0;stroke-linecap:square;stroke-width:0.8;\"/>\r\n     </g>\r\n     <g id=\"line2d_40\">\r\n      <g>\r\n       <use style=\"stroke:#000000;stroke-width:0.8;\" x=\"20.5625\" xlink:href=\"#m215b45a16e\" y=\"212.825065\"/>\r\n      </g>\r\n     </g>\r\n     <g id=\"text_8\">\r\n      <!-- 2 -->\r\n      <g transform=\"translate(7.2 216.624284)scale(0.1 -0.1)\">\r\n       <use xlink:href=\"#DejaVuSans-50\"/>\r\n      </g>\r\n     </g>\r\n    </g>\r\n    <g id=\"ytick_4\">\r\n     <g id=\"line2d_41\">\r\n      <path clip-path=\"url(#p30ffc68a53)\" d=\"M 20.5625 167.902404 \r\nL 401.017045 167.902404 \r\n\" style=\"fill:none;stroke:#b0b0b0;stroke-linecap:square;stroke-width:0.8;\"/>\r\n     </g>\r\n     <g id=\"line2d_42\">\r\n      <g>\r\n       <use style=\"stroke:#000000;stroke-width:0.8;\" x=\"20.5625\" xlink:href=\"#m215b45a16e\" y=\"167.902404\"/>\r\n      </g>\r\n     </g>\r\n     <g id=\"text_9\">\r\n      <!-- 3 -->\r\n      <defs>\r\n       <path d=\"M 40.578125 39.3125 \r\nQ 47.65625 37.796875 51.625 33 \r\nQ 55.609375 28.21875 55.609375 21.1875 \r\nQ 55.609375 10.40625 48.1875 4.484375 \r\nQ 40.765625 -1.421875 27.09375 -1.421875 \r\nQ 22.515625 -1.421875 17.65625 -0.515625 \r\nQ 12.796875 0.390625 7.625 2.203125 \r\nL 7.625 11.71875 \r\nQ 11.71875 9.328125 16.59375 8.109375 \r\nQ 21.484375 6.890625 26.8125 6.890625 \r\nQ 36.078125 6.890625 40.9375 10.546875 \r\nQ 45.796875 14.203125 45.796875 21.1875 \r\nQ 45.796875 27.640625 41.28125 31.265625 \r\nQ 36.765625 34.90625 28.71875 34.90625 \r\nL 20.21875 34.90625 \r\nL 20.21875 43.015625 \r\nL 29.109375 43.015625 \r\nQ 36.375 43.015625 40.234375 45.921875 \r\nQ 44.09375 48.828125 44.09375 54.296875 \r\nQ 44.09375 59.90625 40.109375 62.90625 \r\nQ 36.140625 65.921875 28.71875 65.921875 \r\nQ 24.65625 65.921875 20.015625 65.03125 \r\nQ 15.375 64.15625 9.8125 62.3125 \r\nL 9.8125 71.09375 \r\nQ 15.4375 72.65625 20.34375 73.4375 \r\nQ 25.25 74.21875 29.59375 74.21875 \r\nQ 40.828125 74.21875 47.359375 69.109375 \r\nQ 53.90625 64.015625 53.90625 55.328125 \r\nQ 53.90625 49.265625 50.4375 45.09375 \r\nQ 46.96875 40.921875 40.578125 39.3125 \r\nz\r\n\" id=\"DejaVuSans-51\"/>\r\n      </defs>\r\n      <g transform=\"translate(7.2 171.701623)scale(0.1 -0.1)\">\r\n       <use xlink:href=\"#DejaVuSans-51\"/>\r\n      </g>\r\n     </g>\r\n    </g>\r\n    <g id=\"ytick_5\">\r\n     <g id=\"line2d_43\">\r\n      <path clip-path=\"url(#p30ffc68a53)\" d=\"M 20.5625 122.979743 \r\nL 401.017045 122.979743 \r\n\" style=\"fill:none;stroke:#b0b0b0;stroke-linecap:square;stroke-width:0.8;\"/>\r\n     </g>\r\n     <g id=\"line2d_44\">\r\n      <g>\r\n       <use style=\"stroke:#000000;stroke-width:0.8;\" x=\"20.5625\" xlink:href=\"#m215b45a16e\" y=\"122.979743\"/>\r\n      </g>\r\n     </g>\r\n     <g id=\"text_10\">\r\n      <!-- 4 -->\r\n      <defs>\r\n       <path d=\"M 37.796875 64.3125 \r\nL 12.890625 25.390625 \r\nL 37.796875 25.390625 \r\nz\r\nM 35.203125 72.90625 \r\nL 47.609375 72.90625 \r\nL 47.609375 25.390625 \r\nL 58.015625 25.390625 \r\nL 58.015625 17.1875 \r\nL 47.609375 17.1875 \r\nL 47.609375 0 \r\nL 37.796875 0 \r\nL 37.796875 17.1875 \r\nL 4.890625 17.1875 \r\nL 4.890625 26.703125 \r\nz\r\n\" id=\"DejaVuSans-52\"/>\r\n      </defs>\r\n      <g transform=\"translate(7.2 126.778962)scale(0.1 -0.1)\">\r\n       <use xlink:href=\"#DejaVuSans-52\"/>\r\n      </g>\r\n     </g>\r\n    </g>\r\n    <g id=\"ytick_6\">\r\n     <g id=\"line2d_45\">\r\n      <path clip-path=\"url(#p30ffc68a53)\" d=\"M 20.5625 78.057082 \r\nL 401.017045 78.057082 \r\n\" style=\"fill:none;stroke:#b0b0b0;stroke-linecap:square;stroke-width:0.8;\"/>\r\n     </g>\r\n     <g id=\"line2d_46\">\r\n      <g>\r\n       <use style=\"stroke:#000000;stroke-width:0.8;\" x=\"20.5625\" xlink:href=\"#m215b45a16e\" y=\"78.057082\"/>\r\n      </g>\r\n     </g>\r\n     <g id=\"text_11\">\r\n      <!-- 5 -->\r\n      <defs>\r\n       <path d=\"M 10.796875 72.90625 \r\nL 49.515625 72.90625 \r\nL 49.515625 64.59375 \r\nL 19.828125 64.59375 \r\nL 19.828125 46.734375 \r\nQ 21.96875 47.46875 24.109375 47.828125 \r\nQ 26.265625 48.1875 28.421875 48.1875 \r\nQ 40.625 48.1875 47.75 41.5 \r\nQ 54.890625 34.8125 54.890625 23.390625 \r\nQ 54.890625 11.625 47.5625 5.09375 \r\nQ 40.234375 -1.421875 26.90625 -1.421875 \r\nQ 22.3125 -1.421875 17.546875 -0.640625 \r\nQ 12.796875 0.140625 7.71875 1.703125 \r\nL 7.71875 11.625 \r\nQ 12.109375 9.234375 16.796875 8.0625 \r\nQ 21.484375 6.890625 26.703125 6.890625 \r\nQ 35.15625 6.890625 40.078125 11.328125 \r\nQ 45.015625 15.765625 45.015625 23.390625 \r\nQ 45.015625 31 40.078125 35.4375 \r\nQ 35.15625 39.890625 26.703125 39.890625 \r\nQ 22.75 39.890625 18.8125 39.015625 \r\nQ 14.890625 38.140625 10.796875 36.28125 \r\nz\r\n\" id=\"DejaVuSans-53\"/>\r\n      </defs>\r\n      <g transform=\"translate(7.2 81.856301)scale(0.1 -0.1)\">\r\n       <use xlink:href=\"#DejaVuSans-53\"/>\r\n      </g>\r\n     </g>\r\n    </g>\r\n    <g id=\"text_12\">\r\n     <!-- 1e6 -->\r\n     <defs>\r\n      <path d=\"M 33.015625 40.375 \r\nQ 26.375 40.375 22.484375 35.828125 \r\nQ 18.609375 31.296875 18.609375 23.390625 \r\nQ 18.609375 15.53125 22.484375 10.953125 \r\nQ 26.375 6.390625 33.015625 6.390625 \r\nQ 39.65625 6.390625 43.53125 10.953125 \r\nQ 47.40625 15.53125 47.40625 23.390625 \r\nQ 47.40625 31.296875 43.53125 35.828125 \r\nQ 39.65625 40.375 33.015625 40.375 \r\nz\r\nM 52.59375 71.296875 \r\nL 52.59375 62.3125 \r\nQ 48.875 64.0625 45.09375 64.984375 \r\nQ 41.3125 65.921875 37.59375 65.921875 \r\nQ 27.828125 65.921875 22.671875 59.328125 \r\nQ 17.53125 52.734375 16.796875 39.40625 \r\nQ 19.671875 43.65625 24.015625 45.921875 \r\nQ 28.375 48.1875 33.59375 48.1875 \r\nQ 44.578125 48.1875 50.953125 41.515625 \r\nQ 57.328125 34.859375 57.328125 23.390625 \r\nQ 57.328125 12.15625 50.6875 5.359375 \r\nQ 44.046875 -1.421875 33.015625 -1.421875 \r\nQ 20.359375 -1.421875 13.671875 8.265625 \r\nQ 6.984375 17.96875 6.984375 36.375 \r\nQ 6.984375 53.65625 15.1875 63.9375 \r\nQ 23.390625 74.21875 37.203125 74.21875 \r\nQ 40.921875 74.21875 44.703125 73.484375 \r\nQ 48.484375 72.75 52.59375 71.296875 \r\nz\r\n\" id=\"DejaVuSans-54\"/>\r\n     </defs>\r\n     <g transform=\"translate(20.5625 40.2)scale(0.1 -0.1)\">\r\n      <use xlink:href=\"#DejaVuSans-49\"/>\r\n      <use x=\"63.623047\" xlink:href=\"#DejaVuSans-101\"/>\r\n      <use x=\"125.146484\" xlink:href=\"#DejaVuSans-54\"/>\r\n     </g>\r\n    </g>\r\n   </g>\r\n   <g id=\"line2d_47\">\r\n    <defs>\r\n     <path d=\"M 0 1.5 \r\nC 0.397805 1.5 0.77937 1.341951 1.06066 1.06066 \r\nC 1.341951 0.77937 1.5 0.397805 1.5 0 \r\nC 1.5 -0.397805 1.341951 -0.77937 1.06066 -1.06066 \r\nC 0.77937 -1.341951 0.397805 -1.5 0 -1.5 \r\nC -0.397805 -1.5 -0.77937 -1.341951 -1.06066 -1.06066 \r\nC -1.341951 -0.77937 -1.5 -0.397805 -1.5 0 \r\nC -1.5 0.397805 -1.341951 0.77937 -1.06066 1.06066 \r\nC -0.77937 1.341951 -0.397805 1.5 0 1.5 \r\nz\r\n\" id=\"ma517fefa47\" style=\"stroke:#000000;\"/>\r\n    </defs>\r\n    <g clip-path=\"url(#p30ffc68a53)\">\r\n     <use style=\"stroke:#000000;\" x=\"20.5625\" xlink:href=\"#ma517fefa47\" y=\"302.645455\"/>\r\n     <use style=\"stroke:#000000;\" x=\"23.133139\" xlink:href=\"#ma517fefa47\" y=\"302.641007\"/>\r\n     <use style=\"stroke:#000000;\" x=\"25.703778\" xlink:href=\"#ma517fefa47\" y=\"302.628114\"/>\r\n     <use style=\"stroke:#000000;\" x=\"28.274416\" xlink:href=\"#ma517fefa47\" y=\"302.605968\"/>\r\n     <use style=\"stroke:#000000;\" x=\"30.845055\" xlink:href=\"#ma517fefa47\" y=\"302.57524\"/>\r\n     <use style=\"stroke:#000000;\" x=\"33.415694\" xlink:href=\"#ma517fefa47\" y=\"302.538898\"/>\r\n     <use style=\"stroke:#000000;\" x=\"35.986333\" xlink:href=\"#ma517fefa47\" y=\"302.419808\"/>\r\n     <use style=\"stroke:#000000;\" x=\"38.556972\" xlink:href=\"#ma517fefa47\" y=\"302.393393\"/>\r\n     <use style=\"stroke:#000000;\" x=\"41.127611\" xlink:href=\"#ma517fefa47\" y=\"302.300493\"/>\r\n     <use style=\"stroke:#000000;\" x=\"43.698249\" xlink:href=\"#ma517fefa47\" y=\"302.224439\"/>\r\n     <use style=\"stroke:#000000;\" x=\"46.268888\" xlink:href=\"#ma517fefa47\" y=\"302.129608\"/>\r\n     <use style=\"stroke:#000000;\" x=\"48.839527\" xlink:href=\"#ma517fefa47\" y=\"301.91627\"/>\r\n     <use style=\"stroke:#000000;\" x=\"51.410166\" xlink:href=\"#ma517fefa47\" y=\"301.777279\"/>\r\n     <use style=\"stroke:#000000;\" x=\"53.980805\" xlink:href=\"#ma517fefa47\" y=\"301.597094\"/>\r\n     <use style=\"stroke:#000000;\" x=\"56.551443\" xlink:href=\"#ma517fefa47\" y=\"301.428949\"/>\r\n     <use style=\"stroke:#000000;\" x=\"59.122082\" xlink:href=\"#ma517fefa47\" y=\"301.287038\"/>\r\n     <use style=\"stroke:#000000;\" x=\"61.692721\" xlink:href=\"#ma517fefa47\" y=\"301.125451\"/>\r\n     <use style=\"stroke:#000000;\" x=\"64.26336\" xlink:href=\"#ma517fefa47\" y=\"301.002857\"/>\r\n     <use style=\"stroke:#000000;\" x=\"66.833999\" xlink:href=\"#ma517fefa47\" y=\"300.866742\"/>\r\n     <use style=\"stroke:#000000;\" x=\"69.404638\" xlink:href=\"#ma517fefa47\" y=\"300.749404\"/>\r\n     <use style=\"stroke:#000000;\" x=\"71.975276\" xlink:href=\"#ma517fefa47\" y=\"300.657762\"/>\r\n     <use style=\"stroke:#000000;\" x=\"74.545915\" xlink:href=\"#ma517fefa47\" y=\"300.638939\"/>\r\n     <use style=\"stroke:#000000;\" x=\"77.116554\" xlink:href=\"#ma517fefa47\" y=\"299.958495\"/>\r\n     <use style=\"stroke:#000000;\" x=\"79.687193\" xlink:href=\"#ma517fefa47\" y=\"299.665734\"/>\r\n     <use style=\"stroke:#000000;\" x=\"82.257832\" xlink:href=\"#ma517fefa47\" y=\"299.569375\"/>\r\n     <use style=\"stroke:#000000;\" x=\"84.828471\" xlink:href=\"#ma517fefa47\" y=\"299.470815\"/>\r\n     <use style=\"stroke:#000000;\" x=\"87.399109\" xlink:href=\"#ma517fefa47\" y=\"299.379442\"/>\r\n     <use style=\"stroke:#000000;\" x=\"89.969748\" xlink:href=\"#ma517fefa47\" y=\"299.295078\"/>\r\n     <use style=\"stroke:#000000;\" x=\"92.540387\" xlink:href=\"#ma517fefa47\" y=\"299.272481\"/>\r\n     <use style=\"stroke:#000000;\" x=\"95.111026\" xlink:href=\"#ma517fefa47\" y=\"299.247415\"/>\r\n     <use style=\"stroke:#000000;\" x=\"97.681665\" xlink:href=\"#ma517fefa47\" y=\"299.219473\"/>\r\n     <use style=\"stroke:#000000;\" x=\"100.252303\" xlink:href=\"#ma517fefa47\" y=\"299.140723\"/>\r\n     <use style=\"stroke:#000000;\" x=\"102.822942\" xlink:href=\"#ma517fefa47\" y=\"299.123383\"/>\r\n     <use style=\"stroke:#000000;\" x=\"105.393581\" xlink:href=\"#ma517fefa47\" y=\"299.096295\"/>\r\n     <use style=\"stroke:#000000;\" x=\"107.96422\" xlink:href=\"#ma517fefa47\" y=\"299.058335\"/>\r\n     <use style=\"stroke:#000000;\" x=\"110.534859\" xlink:href=\"#ma517fefa47\" y=\"299.014221\"/>\r\n     <use style=\"stroke:#000000;\" x=\"113.105498\" xlink:href=\"#ma517fefa47\" y=\"298.953216\"/>\r\n     <use style=\"stroke:#000000;\" x=\"115.676136\" xlink:href=\"#ma517fefa47\" y=\"298.891852\"/>\r\n     <use style=\"stroke:#000000;\" x=\"118.246775\" xlink:href=\"#ma517fefa47\" y=\"298.806544\"/>\r\n     <use style=\"stroke:#000000;\" x=\"120.817414\" xlink:href=\"#ma517fefa47\" y=\"298.700616\"/>\r\n     <use style=\"stroke:#000000;\" x=\"123.388053\" xlink:href=\"#ma517fefa47\" y=\"298.613601\"/>\r\n     <use style=\"stroke:#000000;\" x=\"125.958692\" xlink:href=\"#ma517fefa47\" y=\"298.499767\"/>\r\n     <use style=\"stroke:#000000;\" x=\"128.52933\" xlink:href=\"#ma517fefa47\" y=\"298.397343\"/>\r\n     <use style=\"stroke:#000000;\" x=\"131.099969\" xlink:href=\"#ma517fefa47\" y=\"298.272997\"/>\r\n     <use style=\"stroke:#000000;\" x=\"133.670608\" xlink:href=\"#ma517fefa47\" y=\"298.09699\"/>\r\n     <use style=\"stroke:#000000;\" x=\"136.241247\" xlink:href=\"#ma517fefa47\" y=\"297.915413\"/>\r\n     <use style=\"stroke:#000000;\" x=\"138.811886\" xlink:href=\"#ma517fefa47\" y=\"297.73689\"/>\r\n     <use style=\"stroke:#000000;\" x=\"141.382525\" xlink:href=\"#ma517fefa47\" y=\"297.567397\"/>\r\n     <use style=\"stroke:#000000;\" x=\"143.953163\" xlink:href=\"#ma517fefa47\" y=\"297.341526\"/>\r\n     <use style=\"stroke:#000000;\" x=\"146.523802\" xlink:href=\"#ma517fefa47\" y=\"297.015567\"/>\r\n     <use style=\"stroke:#000000;\" x=\"149.094441\" xlink:href=\"#ma517fefa47\" y=\"296.904294\"/>\r\n     <use style=\"stroke:#000000;\" x=\"151.66508\" xlink:href=\"#ma517fefa47\" y=\"296.146493\"/>\r\n     <use style=\"stroke:#000000;\" x=\"154.235719\" xlink:href=\"#ma517fefa47\" y=\"295.657061\"/>\r\n     <use style=\"stroke:#000000;\" x=\"156.806357\" xlink:href=\"#ma517fefa47\" y=\"295.145526\"/>\r\n     <use style=\"stroke:#000000;\" x=\"159.376996\" xlink:href=\"#ma517fefa47\" y=\"294.510051\"/>\r\n     <use style=\"stroke:#000000;\" x=\"161.947635\" xlink:href=\"#ma517fefa47\" y=\"293.813884\"/>\r\n     <use style=\"stroke:#000000;\" x=\"164.518274\" xlink:href=\"#ma517fefa47\" y=\"293.01772\"/>\r\n     <use style=\"stroke:#000000;\" x=\"167.088913\" xlink:href=\"#ma517fefa47\" y=\"291.770712\"/>\r\n     <use style=\"stroke:#000000;\" x=\"169.659552\" xlink:href=\"#ma517fefa47\" y=\"290.439563\"/>\r\n     <use style=\"stroke:#000000;\" x=\"172.23019\" xlink:href=\"#ma517fefa47\" y=\"288.987843\"/>\r\n     <use style=\"stroke:#000000;\" x=\"174.800829\" xlink:href=\"#ma517fefa47\" y=\"287.530462\"/>\r\n     <use style=\"stroke:#000000;\" x=\"177.371468\" xlink:href=\"#ma517fefa47\" y=\"285.676099\"/>\r\n     <use style=\"stroke:#000000;\" x=\"179.942107\" xlink:href=\"#ma517fefa47\" y=\"283.879462\"/>\r\n     <use style=\"stroke:#000000;\" x=\"182.512746\" xlink:href=\"#ma517fefa47\" y=\"281.654802\"/>\r\n     <use style=\"stroke:#000000;\" x=\"185.083385\" xlink:href=\"#ma517fefa47\" y=\"278.873865\"/>\r\n     <use style=\"stroke:#000000;\" x=\"187.654023\" xlink:href=\"#ma517fefa47\" y=\"275.996928\"/>\r\n     <use style=\"stroke:#000000;\" x=\"190.224662\" xlink:href=\"#ma517fefa47\" y=\"272.968691\"/>\r\n     <use style=\"stroke:#000000;\" x=\"192.795301\" xlink:href=\"#ma517fefa47\" y=\"270.312998\"/>\r\n     <use style=\"stroke:#000000;\" x=\"195.36594\" xlink:href=\"#ma517fefa47\" y=\"267.504209\"/>\r\n     <use style=\"stroke:#000000;\" x=\"197.936579\" xlink:href=\"#ma517fefa47\" y=\"264.144353\"/>\r\n     <use style=\"stroke:#000000;\" x=\"200.507217\" xlink:href=\"#ma517fefa47\" y=\"260.757095\"/>\r\n     <use style=\"stroke:#000000;\" x=\"203.077856\" xlink:href=\"#ma517fefa47\" y=\"257.124963\"/>\r\n     <use style=\"stroke:#000000;\" x=\"205.648495\" xlink:href=\"#ma517fefa47\" y=\"253.420595\"/>\r\n     <use style=\"stroke:#000000;\" x=\"208.219134\" xlink:href=\"#ma517fefa47\" y=\"249.821751\"/>\r\n     <use style=\"stroke:#000000;\" x=\"210.789773\" xlink:href=\"#ma517fefa47\" y=\"246.528606\"/>\r\n     <use style=\"stroke:#000000;\" x=\"213.360412\" xlink:href=\"#ma517fefa47\" y=\"243.307965\"/>\r\n     <use style=\"stroke:#000000;\" x=\"215.93105\" xlink:href=\"#ma517fefa47\" y=\"239.938676\"/>\r\n     <use style=\"stroke:#000000;\" x=\"218.501689\" xlink:href=\"#ma517fefa47\" y=\"236.174426\"/>\r\n     <use style=\"stroke:#000000;\" x=\"221.072328\" xlink:href=\"#ma517fefa47\" y=\"232.316918\"/>\r\n     <use style=\"stroke:#000000;\" x=\"223.642967\" xlink:href=\"#ma517fefa47\" y=\"228.17689\"/>\r\n     <use style=\"stroke:#000000;\" x=\"226.213606\" xlink:href=\"#ma517fefa47\" y=\"224.666139\"/>\r\n     <use style=\"stroke:#000000;\" x=\"228.784244\" xlink:href=\"#ma517fefa47\" y=\"220.23079\"/>\r\n     <use style=\"stroke:#000000;\" x=\"231.354883\" xlink:href=\"#ma517fefa47\" y=\"217.085305\"/>\r\n     <use style=\"stroke:#000000;\" x=\"233.925522\" xlink:href=\"#ma517fefa47\" y=\"213.922705\"/>\r\n     <use style=\"stroke:#000000;\" x=\"236.496161\" xlink:href=\"#ma517fefa47\" y=\"210.320716\"/>\r\n     <use style=\"stroke:#000000;\" x=\"239.0668\" xlink:href=\"#ma517fefa47\" y=\"205.988689\"/>\r\n     <use style=\"stroke:#000000;\" x=\"241.637439\" xlink:href=\"#ma517fefa47\" y=\"202.044076\"/>\r\n     <use style=\"stroke:#000000;\" x=\"244.208077\" xlink:href=\"#ma517fefa47\" y=\"198.556011\"/>\r\n     <use style=\"stroke:#000000;\" x=\"246.778716\" xlink:href=\"#ma517fefa47\" y=\"194.820646\"/>\r\n     <use style=\"stroke:#000000;\" x=\"249.349355\" xlink:href=\"#ma517fefa47\" y=\"191.616672\"/>\r\n     <use style=\"stroke:#000000;\" x=\"251.919994\" xlink:href=\"#ma517fefa47\" y=\"188.160458\"/>\r\n     <use style=\"stroke:#000000;\" x=\"254.490633\" xlink:href=\"#ma517fefa47\" y=\"184.766012\"/>\r\n     <use style=\"stroke:#000000;\" x=\"257.061271\" xlink:href=\"#ma517fefa47\" y=\"181.001717\"/>\r\n     <use style=\"stroke:#000000;\" x=\"259.63191\" xlink:href=\"#ma517fefa47\" y=\"177.078711\"/>\r\n     <use style=\"stroke:#000000;\" x=\"262.202549\" xlink:href=\"#ma517fefa47\" y=\"173.241912\"/>\r\n     <use style=\"stroke:#000000;\" x=\"264.773188\" xlink:href=\"#ma517fefa47\" y=\"169.922441\"/>\r\n     <use style=\"stroke:#000000;\" x=\"267.343827\" xlink:href=\"#ma517fefa47\" y=\"166.836749\"/>\r\n     <use style=\"stroke:#000000;\" x=\"269.914466\" xlink:href=\"#ma517fefa47\" y=\"163.534619\"/>\r\n     <use style=\"stroke:#000000;\" x=\"272.485104\" xlink:href=\"#ma517fefa47\" y=\"160.162814\"/>\r\n     <use style=\"stroke:#000000;\" x=\"275.055743\" xlink:href=\"#ma517fefa47\" y=\"156.361323\"/>\r\n     <use style=\"stroke:#000000;\" x=\"277.626382\" xlink:href=\"#ma517fefa47\" y=\"152.379019\"/>\r\n     <use style=\"stroke:#000000;\" x=\"280.197021\" xlink:href=\"#ma517fefa47\" y=\"148.694193\"/>\r\n     <use style=\"stroke:#000000;\" x=\"282.76766\" xlink:href=\"#ma517fefa47\" y=\"145.138789\"/>\r\n     <use style=\"stroke:#000000;\" x=\"285.338299\" xlink:href=\"#ma517fefa47\" y=\"141.710022\"/>\r\n     <use style=\"stroke:#000000;\" x=\"287.908937\" xlink:href=\"#ma517fefa47\" y=\"138.132561\"/>\r\n     <use style=\"stroke:#000000;\" x=\"290.479576\" xlink:href=\"#ma517fefa47\" y=\"133.937773\"/>\r\n     <use style=\"stroke:#000000;\" x=\"293.050215\" xlink:href=\"#ma517fefa47\" y=\"129.910501\"/>\r\n     <use style=\"stroke:#000000;\" x=\"295.620854\" xlink:href=\"#ma517fefa47\" y=\"125.762073\"/>\r\n     <use style=\"stroke:#000000;\" x=\"298.191493\" xlink:href=\"#ma517fefa47\" y=\"121.901195\"/>\r\n     <use style=\"stroke:#000000;\" x=\"300.762131\" xlink:href=\"#ma517fefa47\" y=\"118.411153\"/>\r\n     <use style=\"stroke:#000000;\" x=\"303.33277\" xlink:href=\"#ma517fefa47\" y=\"115.005881\"/>\r\n     <use style=\"stroke:#000000;\" x=\"305.903409\" xlink:href=\"#ma517fefa47\" y=\"111.221371\"/>\r\n     <use style=\"stroke:#000000;\" x=\"308.474048\" xlink:href=\"#ma517fefa47\" y=\"107.390771\"/>\r\n     <use style=\"stroke:#000000;\" x=\"311.044687\" xlink:href=\"#ma517fefa47\" y=\"103.116605\"/>\r\n     <use style=\"stroke:#000000;\" x=\"313.615326\" xlink:href=\"#ma517fefa47\" y=\"98.616073\"/>\r\n     <use style=\"stroke:#000000;\" x=\"316.185964\" xlink:href=\"#ma517fefa47\" y=\"94.495721\"/>\r\n     <use style=\"stroke:#000000;\" x=\"318.756603\" xlink:href=\"#ma517fefa47\" y=\"90.922034\"/>\r\n     <use style=\"stroke:#000000;\" x=\"321.327242\" xlink:href=\"#ma517fefa47\" y=\"86.95433\"/>\r\n     <use style=\"stroke:#000000;\" x=\"323.897881\" xlink:href=\"#ma517fefa47\" y=\"82.662014\"/>\r\n     <use style=\"stroke:#000000;\" x=\"326.46852\" xlink:href=\"#ma517fefa47\" y=\"78.215569\"/>\r\n    </g>\r\n   </g>\r\n   <g id=\"line2d_48\">\r\n    <path clip-path=\"url(#p30ffc68a53)\" d=\"M 20.5625 302.360547 \r\nL 46.268888 302.032285 \r\nL 64.26336 301.613139 \r\nL 79.687193 301.042008 \r\nL 92.540387 300.338757 \r\nL 102.822942 299.565827 \r\nL 113.105498 298.541065 \r\nL 120.817414 297.560675 \r\nL 128.52933 296.353669 \r\nL 136.241247 294.870887 \r\nL 141.382525 293.70083 \r\nL 146.523802 292.362929 \r\nL 151.66508 290.83555 \r\nL 156.806357 289.095032 \r\nL 161.947635 287.115748 \r\nL 167.088913 284.870253 \r\nL 172.23019 282.329556 \r\nL 177.371468 279.463547 \r\nL 182.512746 276.241604 \r\nL 187.654023 272.633408 \r\nL 192.795301 268.609997 \r\nL 197.936579 264.145046 \r\nL 203.077856 259.216388 \r\nL 208.219134 253.807706 \r\nL 213.360412 247.91035 \r\nL 218.501689 241.525147 \r\nL 223.642967 234.664073 \r\nL 228.784244 227.351592 \r\nL 233.925522 219.625491 \r\nL 239.0668 211.537021 \r\nL 246.778716 198.868079 \r\nL 257.061271 181.392712 \r\nL 269.914466 159.61383 \r\nL 277.626382 147.109648 \r\nL 282.76766 139.167789 \r\nL 287.908937 131.611662 \r\nL 293.050215 124.486837 \r\nL 298.191493 117.82539 \r\nL 303.33277 111.646351 \r\nL 308.474048 105.95678 \r\nL 313.615326 100.753267 \r\nL 318.756603 96.023686 \r\nL 323.897881 91.749022 \r\nL 326.46852 89.774897 \r\nL 326.46852 89.774897 \r\n\" style=\"fill:none;stroke:#008000;stroke-linecap:square;stroke-width:1.5;\"/>\r\n   </g>\r\n   <g id=\"line2d_49\">\r\n    <path clip-path=\"url(#p30ffc68a53)\" d=\"M 329.039158 86.136218 \r\nL 334.180436 82.886049 \r\nL 339.321714 79.994135 \r\nL 344.462991 77.429845 \r\nL 349.604269 75.163007 \r\nL 354.745547 73.164527 \r\nL 359.886824 71.406832 \r\nL 365.028102 69.864151 \r\nL 370.16938 68.512671 \r\nL 375.310657 67.330605 \r\nL 383.022574 65.832422 \r\nL 390.73449 64.612731 \r\nL 398.446407 63.62194 \r\nL 401.017045 63.335154 \r\nL 401.017045 63.335154 \r\n\" style=\"fill:none;stroke:#ff0000;stroke-linecap:square;stroke-width:1.5;\"/>\r\n   </g>\r\n   <g id=\"patch_3\">\r\n    <path d=\"M 20.5625 315 \r\nL 20.5625 43.2 \r\n\" style=\"fill:none;stroke:#000000;stroke-linecap:square;stroke-linejoin:miter;stroke-width:0.8;\"/>\r\n   </g>\r\n   <g id=\"patch_4\">\r\n    <path d=\"M 401.017045 315 \r\nL 401.017045 43.2 \r\n\" style=\"fill:none;stroke:#000000;stroke-linecap:square;stroke-linejoin:miter;stroke-width:0.8;\"/>\r\n   </g>\r\n   <g id=\"patch_5\">\r\n    <path d=\"M 20.5625 315 \r\nL 401.017045 315 \r\n\" style=\"fill:none;stroke:#000000;stroke-linecap:square;stroke-linejoin:miter;stroke-width:0.8;\"/>\r\n   </g>\r\n   <g id=\"patch_6\">\r\n    <path d=\"M 20.5625 43.2 \r\nL 401.017045 43.2 \r\n\" style=\"fill:none;stroke:#000000;stroke-linecap:square;stroke-linejoin:miter;stroke-width:0.8;\"/>\r\n   </g>\r\n   <g id=\"text_13\">\r\n    <!-- Parametric Fitting -->\r\n    <defs>\r\n     <path d=\"M 19.671875 64.796875 \r\nL 19.671875 37.40625 \r\nL 32.078125 37.40625 \r\nQ 38.96875 37.40625 42.71875 40.96875 \r\nQ 46.484375 44.53125 46.484375 51.125 \r\nQ 46.484375 57.671875 42.71875 61.234375 \r\nQ 38.96875 64.796875 32.078125 64.796875 \r\nz\r\nM 9.8125 72.90625 \r\nL 32.078125 72.90625 \r\nQ 44.34375 72.90625 50.609375 67.359375 \r\nQ 56.890625 61.8125 56.890625 51.125 \r\nQ 56.890625 40.328125 50.609375 34.8125 \r\nQ 44.34375 29.296875 32.078125 29.296875 \r\nL 19.671875 29.296875 \r\nL 19.671875 0 \r\nL 9.8125 0 \r\nz\r\n\" id=\"DejaVuSans-80\"/>\r\n     <path d=\"M 52 44.1875 \r\nQ 55.375 50.25 60.0625 53.125 \r\nQ 64.75 56 71.09375 56 \r\nQ 79.640625 56 84.28125 50.015625 \r\nQ 88.921875 44.046875 88.921875 33.015625 \r\nL 88.921875 0 \r\nL 79.890625 0 \r\nL 79.890625 32.71875 \r\nQ 79.890625 40.578125 77.09375 44.375 \r\nQ 74.3125 48.1875 68.609375 48.1875 \r\nQ 61.625 48.1875 57.5625 43.546875 \r\nQ 53.515625 38.921875 53.515625 30.90625 \r\nL 53.515625 0 \r\nL 44.484375 0 \r\nL 44.484375 32.71875 \r\nQ 44.484375 40.625 41.703125 44.40625 \r\nQ 38.921875 48.1875 33.109375 48.1875 \r\nQ 26.21875 48.1875 22.15625 43.53125 \r\nQ 18.109375 38.875 18.109375 30.90625 \r\nL 18.109375 0 \r\nL 9.078125 0 \r\nL 9.078125 54.6875 \r\nL 18.109375 54.6875 \r\nL 18.109375 46.1875 \r\nQ 21.1875 51.21875 25.484375 53.609375 \r\nQ 29.78125 56 35.6875 56 \r\nQ 41.65625 56 45.828125 52.96875 \r\nQ 50 49.953125 52 44.1875 \r\nz\r\n\" id=\"DejaVuSans-109\"/>\r\n     <path d=\"M 18.3125 70.21875 \r\nL 18.3125 54.6875 \r\nL 36.8125 54.6875 \r\nL 36.8125 47.703125 \r\nL 18.3125 47.703125 \r\nL 18.3125 18.015625 \r\nQ 18.3125 11.328125 20.140625 9.421875 \r\nQ 21.96875 7.515625 27.59375 7.515625 \r\nL 36.8125 7.515625 \r\nL 36.8125 0 \r\nL 27.59375 0 \r\nQ 17.1875 0 13.234375 3.875 \r\nQ 9.28125 7.765625 9.28125 18.015625 \r\nL 9.28125 47.703125 \r\nL 2.6875 47.703125 \r\nL 2.6875 54.6875 \r\nL 9.28125 54.6875 \r\nL 9.28125 70.21875 \r\nz\r\n\" id=\"DejaVuSans-116\"/>\r\n     <path d=\"M 9.421875 54.6875 \r\nL 18.40625 54.6875 \r\nL 18.40625 0 \r\nL 9.421875 0 \r\nz\r\nM 9.421875 75.984375 \r\nL 18.40625 75.984375 \r\nL 18.40625 64.59375 \r\nL 9.421875 64.59375 \r\nz\r\n\" id=\"DejaVuSans-105\"/>\r\n     <path d=\"M 48.78125 52.59375 \r\nL 48.78125 44.1875 \r\nQ 44.96875 46.296875 41.140625 47.34375 \r\nQ 37.3125 48.390625 33.40625 48.390625 \r\nQ 24.65625 48.390625 19.8125 42.84375 \r\nQ 14.984375 37.3125 14.984375 27.296875 \r\nQ 14.984375 17.28125 19.8125 11.734375 \r\nQ 24.65625 6.203125 33.40625 6.203125 \r\nQ 37.3125 6.203125 41.140625 7.25 \r\nQ 44.96875 8.296875 48.78125 10.40625 \r\nL 48.78125 2.09375 \r\nQ 45.015625 0.34375 40.984375 -0.53125 \r\nQ 36.96875 -1.421875 32.421875 -1.421875 \r\nQ 20.0625 -1.421875 12.78125 6.34375 \r\nQ 5.515625 14.109375 5.515625 27.296875 \r\nQ 5.515625 40.671875 12.859375 48.328125 \r\nQ 20.21875 56 33.015625 56 \r\nQ 37.15625 56 41.109375 55.140625 \r\nQ 45.0625 54.296875 48.78125 52.59375 \r\nz\r\n\" id=\"DejaVuSans-99\"/>\r\n     <path id=\"DejaVuSans-32\"/>\r\n     <path d=\"M 45.40625 27.984375 \r\nQ 45.40625 37.75 41.375 43.109375 \r\nQ 37.359375 48.484375 30.078125 48.484375 \r\nQ 22.859375 48.484375 18.828125 43.109375 \r\nQ 14.796875 37.75 14.796875 27.984375 \r\nQ 14.796875 18.265625 18.828125 12.890625 \r\nQ 22.859375 7.515625 30.078125 7.515625 \r\nQ 37.359375 7.515625 41.375 12.890625 \r\nQ 45.40625 18.265625 45.40625 27.984375 \r\nz\r\nM 54.390625 6.78125 \r\nQ 54.390625 -7.171875 48.1875 -13.984375 \r\nQ 42 -20.796875 29.203125 -20.796875 \r\nQ 24.46875 -20.796875 20.265625 -20.09375 \r\nQ 16.0625 -19.390625 12.109375 -17.921875 \r\nL 12.109375 -9.1875 \r\nQ 16.0625 -11.328125 19.921875 -12.34375 \r\nQ 23.78125 -13.375 27.78125 -13.375 \r\nQ 36.625 -13.375 41.015625 -8.765625 \r\nQ 45.40625 -4.15625 45.40625 5.171875 \r\nL 45.40625 9.625 \r\nQ 42.625 4.78125 38.28125 2.390625 \r\nQ 33.9375 0 27.875 0 \r\nQ 17.828125 0 11.671875 7.65625 \r\nQ 5.515625 15.328125 5.515625 27.984375 \r\nQ 5.515625 40.671875 11.671875 48.328125 \r\nQ 17.828125 56 27.875 56 \r\nQ 33.9375 56 38.28125 53.609375 \r\nQ 42.625 51.21875 45.40625 46.390625 \r\nL 45.40625 54.6875 \r\nL 54.390625 54.6875 \r\nz\r\n\" id=\"DejaVuSans-103\"/>\r\n    </defs>\r\n    <g transform=\"translate(157.72821 37.2)scale(0.12 -0.12)\">\r\n     <use xlink:href=\"#DejaVuSans-80\"/>\r\n     <use x=\"55.802734\" xlink:href=\"#DejaVuSans-97\"/>\r\n     <use x=\"117.082031\" xlink:href=\"#DejaVuSans-114\"/>\r\n     <use x=\"158.195312\" xlink:href=\"#DejaVuSans-97\"/>\r\n     <use x=\"219.474609\" xlink:href=\"#DejaVuSans-109\"/>\r\n     <use x=\"316.886719\" xlink:href=\"#DejaVuSans-101\"/>\r\n     <use x=\"378.410156\" xlink:href=\"#DejaVuSans-116\"/>\r\n     <use x=\"417.619141\" xlink:href=\"#DejaVuSans-114\"/>\r\n     <use x=\"458.732422\" xlink:href=\"#DejaVuSans-105\"/>\r\n     <use x=\"486.515625\" xlink:href=\"#DejaVuSans-99\"/>\r\n     <use x=\"541.496094\" xlink:href=\"#DejaVuSans-32\"/>\r\n     <use x=\"573.283203\" xlink:href=\"#DejaVuSans-70\"/>\r\n     <use x=\"623.552734\" xlink:href=\"#DejaVuSans-105\"/>\r\n     <use x=\"651.335938\" xlink:href=\"#DejaVuSans-116\"/>\r\n     <use x=\"690.544922\" xlink:href=\"#DejaVuSans-116\"/>\r\n     <use x=\"729.753906\" xlink:href=\"#DejaVuSans-105\"/>\r\n     <use x=\"757.537109\" xlink:href=\"#DejaVuSans-110\"/>\r\n     <use x=\"820.916016\" xlink:href=\"#DejaVuSans-103\"/>\r\n    </g>\r\n   </g>\r\n   <g id=\"legend_1\">\r\n    <g id=\"patch_7\">\r\n     <path d=\"M 27.5625 80.55625 \r\nL 99.996875 80.55625 \r\nQ 101.996875 80.55625 101.996875 78.55625 \r\nL 101.996875 50.2 \r\nQ 101.996875 48.2 99.996875 48.2 \r\nL 27.5625 48.2 \r\nQ 25.5625 48.2 25.5625 50.2 \r\nL 25.5625 78.55625 \r\nQ 25.5625 80.55625 27.5625 80.55625 \r\nz\r\n\" style=\"fill:#ffffff;opacity:0.8;stroke:#cccccc;stroke-linejoin:miter;\"/>\r\n    </g>\r\n    <g id=\"line2d_50\"/>\r\n    <g id=\"line2d_51\">\r\n     <g>\r\n      <use style=\"stroke:#000000;\" x=\"39.5625\" xlink:href=\"#ma517fefa47\" y=\"56.298437\"/>\r\n     </g>\r\n    </g>\r\n    <g id=\"text_14\">\r\n     <!-- model -->\r\n     <defs>\r\n      <path d=\"M 30.609375 48.390625 \r\nQ 23.390625 48.390625 19.1875 42.75 \r\nQ 14.984375 37.109375 14.984375 27.296875 \r\nQ 14.984375 17.484375 19.15625 11.84375 \r\nQ 23.34375 6.203125 30.609375 6.203125 \r\nQ 37.796875 6.203125 41.984375 11.859375 \r\nQ 46.1875 17.53125 46.1875 27.296875 \r\nQ 46.1875 37.015625 41.984375 42.703125 \r\nQ 37.796875 48.390625 30.609375 48.390625 \r\nz\r\nM 30.609375 56 \r\nQ 42.328125 56 49.015625 48.375 \r\nQ 55.71875 40.765625 55.71875 27.296875 \r\nQ 55.71875 13.875 49.015625 6.21875 \r\nQ 42.328125 -1.421875 30.609375 -1.421875 \r\nQ 18.84375 -1.421875 12.171875 6.21875 \r\nQ 5.515625 13.875 5.515625 27.296875 \r\nQ 5.515625 40.765625 12.171875 48.375 \r\nQ 18.84375 56 30.609375 56 \r\nz\r\n\" id=\"DejaVuSans-111\"/>\r\n      <path d=\"M 45.40625 46.390625 \r\nL 45.40625 75.984375 \r\nL 54.390625 75.984375 \r\nL 54.390625 0 \r\nL 45.40625 0 \r\nL 45.40625 8.203125 \r\nQ 42.578125 3.328125 38.25 0.953125 \r\nQ 33.9375 -1.421875 27.875 -1.421875 \r\nQ 17.96875 -1.421875 11.734375 6.484375 \r\nQ 5.515625 14.40625 5.515625 27.296875 \r\nQ 5.515625 40.1875 11.734375 48.09375 \r\nQ 17.96875 56 27.875 56 \r\nQ 33.9375 56 38.25 53.625 \r\nQ 42.578125 51.265625 45.40625 46.390625 \r\nz\r\nM 14.796875 27.296875 \r\nQ 14.796875 17.390625 18.875 11.75 \r\nQ 22.953125 6.109375 30.078125 6.109375 \r\nQ 37.203125 6.109375 41.296875 11.75 \r\nQ 45.40625 17.390625 45.40625 27.296875 \r\nQ 45.40625 37.203125 41.296875 42.84375 \r\nQ 37.203125 48.484375 30.078125 48.484375 \r\nQ 22.953125 48.484375 18.875 42.84375 \r\nQ 14.796875 37.203125 14.796875 27.296875 \r\nz\r\n\" id=\"DejaVuSans-100\"/>\r\n      <path d=\"M 9.421875 75.984375 \r\nL 18.40625 75.984375 \r\nL 18.40625 0 \r\nL 9.421875 0 \r\nz\r\n\" id=\"DejaVuSans-108\"/>\r\n     </defs>\r\n     <g transform=\"translate(57.5625 59.798437)scale(0.1 -0.1)\">\r\n      <use xlink:href=\"#DejaVuSans-109\"/>\r\n      <use x=\"97.412109\" xlink:href=\"#DejaVuSans-111\"/>\r\n      <use x=\"158.59375\" xlink:href=\"#DejaVuSans-100\"/>\r\n      <use x=\"222.070312\" xlink:href=\"#DejaVuSans-101\"/>\r\n      <use x=\"283.59375\" xlink:href=\"#DejaVuSans-108\"/>\r\n     </g>\r\n    </g>\r\n    <g id=\"line2d_52\">\r\n     <path d=\"M 29.5625 70.976562 \r\nL 49.5625 70.976562 \r\n\" style=\"fill:none;stroke:#008000;stroke-linecap:square;stroke-width:1.5;\"/>\r\n    </g>\r\n    <g id=\"line2d_53\"/>\r\n    <g id=\"text_15\">\r\n     <!-- forecast -->\r\n     <defs>\r\n      <path d=\"M 37.109375 75.984375 \r\nL 37.109375 68.5 \r\nL 28.515625 68.5 \r\nQ 23.6875 68.5 21.796875 66.546875 \r\nQ 19.921875 64.59375 19.921875 59.515625 \r\nL 19.921875 54.6875 \r\nL 34.71875 54.6875 \r\nL 34.71875 47.703125 \r\nL 19.921875 47.703125 \r\nL 19.921875 0 \r\nL 10.890625 0 \r\nL 10.890625 47.703125 \r\nL 2.296875 47.703125 \r\nL 2.296875 54.6875 \r\nL 10.890625 54.6875 \r\nL 10.890625 58.5 \r\nQ 10.890625 67.625 15.140625 71.796875 \r\nQ 19.390625 75.984375 28.609375 75.984375 \r\nz\r\n\" id=\"DejaVuSans-102\"/>\r\n      <path d=\"M 44.28125 53.078125 \r\nL 44.28125 44.578125 \r\nQ 40.484375 46.53125 36.375 47.5 \r\nQ 32.28125 48.484375 27.875 48.484375 \r\nQ 21.1875 48.484375 17.84375 46.4375 \r\nQ 14.5 44.390625 14.5 40.28125 \r\nQ 14.5 37.15625 16.890625 35.375 \r\nQ 19.28125 33.59375 26.515625 31.984375 \r\nL 29.59375 31.296875 \r\nQ 39.15625 29.25 43.1875 25.515625 \r\nQ 47.21875 21.78125 47.21875 15.09375 \r\nQ 47.21875 7.46875 41.1875 3.015625 \r\nQ 35.15625 -1.421875 24.609375 -1.421875 \r\nQ 20.21875 -1.421875 15.453125 -0.5625 \r\nQ 10.6875 0.296875 5.421875 2 \r\nL 5.421875 11.28125 \r\nQ 10.40625 8.6875 15.234375 7.390625 \r\nQ 20.0625 6.109375 24.8125 6.109375 \r\nQ 31.15625 6.109375 34.5625 8.28125 \r\nQ 37.984375 10.453125 37.984375 14.40625 \r\nQ 37.984375 18.0625 35.515625 20.015625 \r\nQ 33.0625 21.96875 24.703125 23.78125 \r\nL 21.578125 24.515625 \r\nQ 13.234375 26.265625 9.515625 29.90625 \r\nQ 5.8125 33.546875 5.8125 39.890625 \r\nQ 5.8125 47.609375 11.28125 51.796875 \r\nQ 16.75 56 26.8125 56 \r\nQ 31.78125 56 36.171875 55.265625 \r\nQ 40.578125 54.546875 44.28125 53.078125 \r\nz\r\n\" id=\"DejaVuSans-115\"/>\r\n     </defs>\r\n     <g transform=\"translate(57.5625 74.476562)scale(0.1 -0.1)\">\r\n      <use xlink:href=\"#DejaVuSans-102\"/>\r\n      <use x=\"35.205078\" xlink:href=\"#DejaVuSans-111\"/>\r\n      <use x=\"96.386719\" xlink:href=\"#DejaVuSans-114\"/>\r\n      <use x=\"135.25\" xlink:href=\"#DejaVuSans-101\"/>\r\n      <use x=\"196.773438\" xlink:href=\"#DejaVuSans-99\"/>\r\n      <use x=\"251.753906\" xlink:href=\"#DejaVuSans-97\"/>\r\n      <use x=\"313.033203\" xlink:href=\"#DejaVuSans-115\"/>\r\n      <use x=\"365.132812\" xlink:href=\"#DejaVuSans-116\"/>\r\n     </g>\r\n    </g>\r\n   </g>\r\n  </g>\r\n  <g id=\"axes_2\">\r\n   <g id=\"patch_8\">\r\n    <path d=\"M 477.107955 315 \r\nL 857.5625 315 \r\nL 857.5625 43.2 \r\nL 477.107955 43.2 \r\nz\r\n\" style=\"fill:#ffffff;\"/>\r\n   </g>\r\n   <g id=\"PolyCollection_2\">\r\n    <defs>\r\n     <path d=\"M 673.894788 -275.067348 \r\nL 673.894788 -246.505886 \r\nL 680.45435 -249.57431 \r\nL 687.013911 -252.471331 \r\nL 693.573472 -255.203955 \r\nL 700.133033 -257.779226 \r\nL 706.692594 -260.204178 \r\nL 713.252155 -262.48579 \r\nL 719.811716 -264.630947 \r\nL 726.371277 -266.646405 \r\nL 732.930839 -268.53877 \r\nL 739.4904 -270.314467 \r\nL 746.049961 -271.979731 \r\nL 752.609522 -273.540586 \r\nL 759.169083 -275.002837 \r\nL 765.728644 -276.372063 \r\nL 772.288205 -277.653614 \r\nL 778.847766 -278.852604 \r\nL 785.407328 -279.973916 \r\nL 791.966889 -281.0222 \r\nL 798.52645 -282.001881 \r\nL 805.086011 -282.917155 \r\nL 811.645572 -283.772004 \r\nL 818.205133 -284.570196 \r\nL 824.764694 -285.315291 \r\nL 831.324255 -286.010655 \r\nL 837.883817 -286.659461 \r\nL 844.443378 -287.264697 \r\nL 851.002939 -287.829179 \r\nL 857.5625 -288.355555 \r\nL 857.5625 -316.917017 \r\nL 857.5625 -316.917017 \r\nL 851.002939 -316.390641 \r\nL 844.443378 -315.826159 \r\nL 837.883817 -315.220923 \r\nL 831.324255 -314.572117 \r\nL 824.764694 -313.876753 \r\nL 818.205133 -313.131658 \r\nL 811.645572 -312.333466 \r\nL 805.086011 -311.478617 \r\nL 798.52645 -310.563343 \r\nL 791.966889 -309.583662 \r\nL 785.407328 -308.535378 \r\nL 778.847766 -307.414066 \r\nL 772.288205 -306.215076 \r\nL 765.728644 -304.933525 \r\nL 759.169083 -303.564299 \r\nL 752.609522 -302.102048 \r\nL 746.049961 -300.541193 \r\nL 739.4904 -298.875929 \r\nL 732.930839 -297.100232 \r\nL 726.371277 -295.207867 \r\nL 719.811716 -293.192409 \r\nL 713.252155 -291.047252 \r\nL 706.692594 -288.76564 \r\nL 700.133033 -286.340688 \r\nL 693.573472 -283.765417 \r\nL 687.013911 -281.032793 \r\nL 680.45435 -278.135772 \r\nL 673.894788 -275.067348 \r\nz\r\n\" id=\"mbbcc10e827\" style=\"stroke:#0000ff;stroke-opacity:0.3;\"/>\r\n    </defs>\r\n    <g clip-path=\"url(#p48bee36943)\">\r\n     <use style=\"fill:#0000ff;fill-opacity:0.3;stroke:#0000ff;stroke-opacity:0.3;\" x=\"0\" xlink:href=\"#mbbcc10e827\" y=\"372.471562\"/>\r\n    </g>\r\n   </g>\r\n   <g id=\"matplotlib.axis_3\">\r\n    <g id=\"xtick_28\">\r\n     <g id=\"line2d_54\">\r\n      <path clip-path=\"url(#p48bee36943)\" d=\"M 477.107955 315 \r\nL 477.107955 43.2 \r\n\" style=\"fill:none;stroke:#b0b0b0;stroke-linecap:square;stroke-width:0.8;\"/>\r\n     </g>\r\n     <g id=\"line2d_55\">\r\n      <g>\r\n       <use style=\"stroke:#000000;stroke-width:0.8;\" x=\"477.107955\" xlink:href=\"#m5b9f8ee693\" y=\"315\"/>\r\n      </g>\r\n     </g>\r\n    </g>\r\n    <g id=\"xtick_29\">\r\n     <g id=\"line2d_56\">\r\n      <path clip-path=\"url(#p48bee36943)\" d=\"M 542.703566 315 \r\nL 542.703566 43.2 \r\n\" style=\"fill:none;stroke:#b0b0b0;stroke-linecap:square;stroke-width:0.8;\"/>\r\n     </g>\r\n     <g id=\"line2d_57\">\r\n      <g>\r\n       <use style=\"stroke:#000000;stroke-width:0.8;\" x=\"542.703566\" xlink:href=\"#m5b9f8ee693\" y=\"315\"/>\r\n      </g>\r\n     </g>\r\n     <g id=\"text_16\">\r\n      <!--  -->\r\n      <g transform=\"translate(542.703566 329.598437)scale(0.1 -0.1)\"/>\r\n      <!--  -->\r\n      <g transform=\"translate(542.703566 340.79625)scale(0.1 -0.1)\"/>\r\n      <!-- May -->\r\n      <g transform=\"translate(532.366066 351.994062)scale(0.1 -0.1)\">\r\n       <use xlink:href=\"#DejaVuSans-77\"/>\r\n       <use x=\"86.279297\" xlink:href=\"#DejaVuSans-97\"/>\r\n       <use x=\"147.558594\" xlink:href=\"#DejaVuSans-121\"/>\r\n      </g>\r\n      <!-- 2020 -->\r\n      <g transform=\"translate(529.978566 363.191875)scale(0.1 -0.1)\">\r\n       <use xlink:href=\"#DejaVuSans-50\"/>\r\n       <use x=\"63.623047\" xlink:href=\"#DejaVuSans-48\"/>\r\n       <use x=\"127.246094\" xlink:href=\"#DejaVuSans-50\"/>\r\n       <use x=\"190.869141\" xlink:href=\"#DejaVuSans-48\"/>\r\n      </g>\r\n     </g>\r\n    </g>\r\n    <g id=\"xtick_30\">\r\n     <g id=\"line2d_58\">\r\n      <path clip-path=\"url(#p48bee36943)\" d=\"M 746.049961 315 \r\nL 746.049961 43.2 \r\n\" style=\"fill:none;stroke:#b0b0b0;stroke-linecap:square;stroke-width:0.8;\"/>\r\n     </g>\r\n     <g id=\"line2d_59\">\r\n      <g>\r\n       <use style=\"stroke:#000000;stroke-width:0.8;\" x=\"746.049961\" xlink:href=\"#m5b9f8ee693\" y=\"315\"/>\r\n      </g>\r\n     </g>\r\n     <g id=\"text_17\">\r\n      <!--  -->\r\n      <g transform=\"translate(746.049961 329.598437)scale(0.1 -0.1)\"/>\r\n      <!--  -->\r\n      <g transform=\"translate(746.049961 340.79625)scale(0.1 -0.1)\"/>\r\n      <!-- Jun -->\r\n      <g transform=\"translate(738.237461 351.994062)scale(0.1 -0.1)\">\r\n       <use xlink:href=\"#DejaVuSans-74\"/>\r\n       <use x=\"29.492188\" xlink:href=\"#DejaVuSans-117\"/>\r\n       <use x=\"92.871094\" xlink:href=\"#DejaVuSans-110\"/>\r\n      </g>\r\n     </g>\r\n    </g>\r\n    <g id=\"xtick_31\">\r\n     <g id=\"line2d_60\">\r\n      <path clip-path=\"url(#p48bee36943)\" d=\"M 857.5625 315 \r\nL 857.5625 43.2 \r\n\" style=\"fill:none;stroke:#b0b0b0;stroke-linecap:square;stroke-width:0.8;\"/>\r\n     </g>\r\n     <g id=\"line2d_61\">\r\n      <g>\r\n       <use style=\"stroke:#000000;stroke-width:0.8;\" x=\"857.5625\" xlink:href=\"#m5b9f8ee693\" y=\"315\"/>\r\n      </g>\r\n     </g>\r\n    </g>\r\n    <g id=\"xtick_32\">\r\n     <g id=\"line2d_62\">\r\n      <g>\r\n       <use style=\"stroke:#000000;stroke-width:0.6;\" x=\"483.667516\" xlink:href=\"#m04670e37fe\" y=\"315\"/>\r\n      </g>\r\n     </g>\r\n    </g>\r\n    <g id=\"xtick_33\">\r\n     <g id=\"line2d_63\">\r\n      <g>\r\n       <use style=\"stroke:#000000;stroke-width:0.6;\" x=\"490.227077\" xlink:href=\"#m04670e37fe\" y=\"315\"/>\r\n      </g>\r\n     </g>\r\n    </g>\r\n    <g id=\"xtick_34\">\r\n     <g id=\"line2d_64\">\r\n      <g>\r\n       <use style=\"stroke:#000000;stroke-width:0.6;\" x=\"496.786638\" xlink:href=\"#m04670e37fe\" y=\"315\"/>\r\n      </g>\r\n     </g>\r\n    </g>\r\n    <g id=\"xtick_35\">\r\n     <g id=\"line2d_65\">\r\n      <g>\r\n       <use style=\"stroke:#000000;stroke-width:0.6;\" x=\"503.346199\" xlink:href=\"#m04670e37fe\" y=\"315\"/>\r\n      </g>\r\n     </g>\r\n    </g>\r\n    <g id=\"xtick_36\">\r\n     <g id=\"line2d_66\">\r\n      <g>\r\n       <use style=\"stroke:#000000;stroke-width:0.6;\" x=\"509.90576\" xlink:href=\"#m04670e37fe\" y=\"315\"/>\r\n      </g>\r\n     </g>\r\n    </g>\r\n    <g id=\"xtick_37\">\r\n     <g id=\"line2d_67\">\r\n      <g>\r\n       <use style=\"stroke:#000000;stroke-width:0.6;\" x=\"516.465321\" xlink:href=\"#m04670e37fe\" y=\"315\"/>\r\n      </g>\r\n     </g>\r\n     <g id=\"text_18\">\r\n      <!-- 27 -->\r\n      <defs>\r\n       <path d=\"M 8.203125 72.90625 \r\nL 55.078125 72.90625 \r\nL 55.078125 68.703125 \r\nL 28.609375 0 \r\nL 18.3125 0 \r\nL 43.21875 64.59375 \r\nL 8.203125 64.59375 \r\nz\r\n\" id=\"DejaVuSans-55\"/>\r\n      </defs>\r\n      <g transform=\"translate(510.102821 327.998437)scale(0.1 -0.1)\">\r\n       <use xlink:href=\"#DejaVuSans-50\"/>\r\n       <use x=\"63.623047\" xlink:href=\"#DejaVuSans-55\"/>\r\n      </g>\r\n     </g>\r\n    </g>\r\n    <g id=\"xtick_38\">\r\n     <g id=\"line2d_68\">\r\n      <g>\r\n       <use style=\"stroke:#000000;stroke-width:0.6;\" x=\"523.024882\" xlink:href=\"#m04670e37fe\" y=\"315\"/>\r\n      </g>\r\n     </g>\r\n    </g>\r\n    <g id=\"xtick_39\">\r\n     <g id=\"line2d_69\">\r\n      <g>\r\n       <use style=\"stroke:#000000;stroke-width:0.6;\" x=\"529.584444\" xlink:href=\"#m04670e37fe\" y=\"315\"/>\r\n      </g>\r\n     </g>\r\n    </g>\r\n    <g id=\"xtick_40\">\r\n     <g id=\"line2d_70\">\r\n      <g>\r\n       <use style=\"stroke:#000000;stroke-width:0.6;\" x=\"536.144005\" xlink:href=\"#m04670e37fe\" y=\"315\"/>\r\n      </g>\r\n     </g>\r\n    </g>\r\n    <g id=\"xtick_41\">\r\n     <g id=\"line2d_71\">\r\n      <g>\r\n       <use style=\"stroke:#000000;stroke-width:0.6;\" x=\"549.263127\" xlink:href=\"#m04670e37fe\" y=\"315\"/>\r\n      </g>\r\n     </g>\r\n    </g>\r\n    <g id=\"xtick_42\">\r\n     <g id=\"line2d_72\">\r\n      <g>\r\n       <use style=\"stroke:#000000;stroke-width:0.6;\" x=\"555.822688\" xlink:href=\"#m04670e37fe\" y=\"315\"/>\r\n      </g>\r\n     </g>\r\n    </g>\r\n    <g id=\"xtick_43\">\r\n     <g id=\"line2d_73\">\r\n      <g>\r\n       <use style=\"stroke:#000000;stroke-width:0.6;\" x=\"562.382249\" xlink:href=\"#m04670e37fe\" y=\"315\"/>\r\n      </g>\r\n     </g>\r\n     <g id=\"text_19\">\r\n      <!-- 04 -->\r\n      <g transform=\"translate(556.019749 327.998437)scale(0.1 -0.1)\">\r\n       <use xlink:href=\"#DejaVuSans-48\"/>\r\n       <use x=\"63.623047\" xlink:href=\"#DejaVuSans-52\"/>\r\n      </g>\r\n     </g>\r\n    </g>\r\n    <g id=\"xtick_44\">\r\n     <g id=\"line2d_74\">\r\n      <g>\r\n       <use style=\"stroke:#000000;stroke-width:0.6;\" x=\"568.94181\" xlink:href=\"#m04670e37fe\" y=\"315\"/>\r\n      </g>\r\n     </g>\r\n    </g>\r\n    <g id=\"xtick_45\">\r\n     <g id=\"line2d_75\">\r\n      <g>\r\n       <use style=\"stroke:#000000;stroke-width:0.6;\" x=\"575.501371\" xlink:href=\"#m04670e37fe\" y=\"315\"/>\r\n      </g>\r\n     </g>\r\n    </g>\r\n    <g id=\"xtick_46\">\r\n     <g id=\"line2d_76\">\r\n      <g>\r\n       <use style=\"stroke:#000000;stroke-width:0.6;\" x=\"582.060933\" xlink:href=\"#m04670e37fe\" y=\"315\"/>\r\n      </g>\r\n     </g>\r\n    </g>\r\n    <g id=\"xtick_47\">\r\n     <g id=\"line2d_77\">\r\n      <g>\r\n       <use style=\"stroke:#000000;stroke-width:0.6;\" x=\"588.620494\" xlink:href=\"#m04670e37fe\" y=\"315\"/>\r\n      </g>\r\n     </g>\r\n    </g>\r\n    <g id=\"xtick_48\">\r\n     <g id=\"line2d_78\">\r\n      <g>\r\n       <use style=\"stroke:#000000;stroke-width:0.6;\" x=\"595.180055\" xlink:href=\"#m04670e37fe\" y=\"315\"/>\r\n      </g>\r\n     </g>\r\n    </g>\r\n    <g id=\"xtick_49\">\r\n     <g id=\"line2d_79\">\r\n      <g>\r\n       <use style=\"stroke:#000000;stroke-width:0.6;\" x=\"601.739616\" xlink:href=\"#m04670e37fe\" y=\"315\"/>\r\n      </g>\r\n     </g>\r\n    </g>\r\n    <g id=\"xtick_50\">\r\n     <g id=\"line2d_80\">\r\n      <g>\r\n       <use style=\"stroke:#000000;stroke-width:0.6;\" x=\"608.299177\" xlink:href=\"#m04670e37fe\" y=\"315\"/>\r\n      </g>\r\n     </g>\r\n     <g id=\"text_20\">\r\n      <!-- 11 -->\r\n      <g transform=\"translate(601.936677 327.998437)scale(0.1 -0.1)\">\r\n       <use xlink:href=\"#DejaVuSans-49\"/>\r\n       <use x=\"63.623047\" xlink:href=\"#DejaVuSans-49\"/>\r\n      </g>\r\n     </g>\r\n    </g>\r\n    <g id=\"xtick_51\">\r\n     <g id=\"line2d_81\">\r\n      <g>\r\n       <use style=\"stroke:#000000;stroke-width:0.6;\" x=\"614.858738\" xlink:href=\"#m04670e37fe\" y=\"315\"/>\r\n      </g>\r\n     </g>\r\n    </g>\r\n    <g id=\"xtick_52\">\r\n     <g id=\"line2d_82\">\r\n      <g>\r\n       <use style=\"stroke:#000000;stroke-width:0.6;\" x=\"621.418299\" xlink:href=\"#m04670e37fe\" y=\"315\"/>\r\n      </g>\r\n     </g>\r\n    </g>\r\n    <g id=\"xtick_53\">\r\n     <g id=\"line2d_83\">\r\n      <g>\r\n       <use style=\"stroke:#000000;stroke-width:0.6;\" x=\"627.977861\" xlink:href=\"#m04670e37fe\" y=\"315\"/>\r\n      </g>\r\n     </g>\r\n    </g>\r\n    <g id=\"xtick_54\">\r\n     <g id=\"line2d_84\">\r\n      <g>\r\n       <use style=\"stroke:#000000;stroke-width:0.6;\" x=\"634.537422\" xlink:href=\"#m04670e37fe\" y=\"315\"/>\r\n      </g>\r\n     </g>\r\n    </g>\r\n    <g id=\"xtick_55\">\r\n     <g id=\"line2d_85\">\r\n      <g>\r\n       <use style=\"stroke:#000000;stroke-width:0.6;\" x=\"641.096983\" xlink:href=\"#m04670e37fe\" y=\"315\"/>\r\n      </g>\r\n     </g>\r\n    </g>\r\n    <g id=\"xtick_56\">\r\n     <g id=\"line2d_86\">\r\n      <g>\r\n       <use style=\"stroke:#000000;stroke-width:0.6;\" x=\"647.656544\" xlink:href=\"#m04670e37fe\" y=\"315\"/>\r\n      </g>\r\n     </g>\r\n    </g>\r\n    <g id=\"xtick_57\">\r\n     <g id=\"line2d_87\">\r\n      <g>\r\n       <use style=\"stroke:#000000;stroke-width:0.6;\" x=\"654.216105\" xlink:href=\"#m04670e37fe\" y=\"315\"/>\r\n      </g>\r\n     </g>\r\n     <g id=\"text_21\">\r\n      <!-- 18 -->\r\n      <defs>\r\n       <path d=\"M 31.78125 34.625 \r\nQ 24.75 34.625 20.71875 30.859375 \r\nQ 16.703125 27.09375 16.703125 20.515625 \r\nQ 16.703125 13.921875 20.71875 10.15625 \r\nQ 24.75 6.390625 31.78125 6.390625 \r\nQ 38.8125 6.390625 42.859375 10.171875 \r\nQ 46.921875 13.96875 46.921875 20.515625 \r\nQ 46.921875 27.09375 42.890625 30.859375 \r\nQ 38.875 34.625 31.78125 34.625 \r\nz\r\nM 21.921875 38.8125 \r\nQ 15.578125 40.375 12.03125 44.71875 \r\nQ 8.5 49.078125 8.5 55.328125 \r\nQ 8.5 64.0625 14.71875 69.140625 \r\nQ 20.953125 74.21875 31.78125 74.21875 \r\nQ 42.671875 74.21875 48.875 69.140625 \r\nQ 55.078125 64.0625 55.078125 55.328125 \r\nQ 55.078125 49.078125 51.53125 44.71875 \r\nQ 48 40.375 41.703125 38.8125 \r\nQ 48.828125 37.15625 52.796875 32.3125 \r\nQ 56.78125 27.484375 56.78125 20.515625 \r\nQ 56.78125 9.90625 50.3125 4.234375 \r\nQ 43.84375 -1.421875 31.78125 -1.421875 \r\nQ 19.734375 -1.421875 13.25 4.234375 \r\nQ 6.78125 9.90625 6.78125 20.515625 \r\nQ 6.78125 27.484375 10.78125 32.3125 \r\nQ 14.796875 37.15625 21.921875 38.8125 \r\nz\r\nM 18.3125 54.390625 \r\nQ 18.3125 48.734375 21.84375 45.5625 \r\nQ 25.390625 42.390625 31.78125 42.390625 \r\nQ 38.140625 42.390625 41.71875 45.5625 \r\nQ 45.3125 48.734375 45.3125 54.390625 \r\nQ 45.3125 60.0625 41.71875 63.234375 \r\nQ 38.140625 66.40625 31.78125 66.40625 \r\nQ 25.390625 66.40625 21.84375 63.234375 \r\nQ 18.3125 60.0625 18.3125 54.390625 \r\nz\r\n\" id=\"DejaVuSans-56\"/>\r\n      </defs>\r\n      <g transform=\"translate(647.853605 327.998437)scale(0.1 -0.1)\">\r\n       <use xlink:href=\"#DejaVuSans-49\"/>\r\n       <use x=\"63.623047\" xlink:href=\"#DejaVuSans-56\"/>\r\n      </g>\r\n     </g>\r\n    </g>\r\n    <g id=\"xtick_58\">\r\n     <g id=\"line2d_88\">\r\n      <g>\r\n       <use style=\"stroke:#000000;stroke-width:0.6;\" x=\"660.775666\" xlink:href=\"#m04670e37fe\" y=\"315\"/>\r\n      </g>\r\n     </g>\r\n    </g>\r\n    <g id=\"xtick_59\">\r\n     <g id=\"line2d_89\">\r\n      <g>\r\n       <use style=\"stroke:#000000;stroke-width:0.6;\" x=\"667.335227\" xlink:href=\"#m04670e37fe\" y=\"315\"/>\r\n      </g>\r\n     </g>\r\n    </g>\r\n    <g id=\"xtick_60\">\r\n     <g id=\"line2d_90\">\r\n      <g>\r\n       <use style=\"stroke:#000000;stroke-width:0.6;\" x=\"673.894788\" xlink:href=\"#m04670e37fe\" y=\"315\"/>\r\n      </g>\r\n     </g>\r\n    </g>\r\n    <g id=\"xtick_61\">\r\n     <g id=\"line2d_91\">\r\n      <g>\r\n       <use style=\"stroke:#000000;stroke-width:0.6;\" x=\"680.45435\" xlink:href=\"#m04670e37fe\" y=\"315\"/>\r\n      </g>\r\n     </g>\r\n    </g>\r\n    <g id=\"xtick_62\">\r\n     <g id=\"line2d_92\">\r\n      <g>\r\n       <use style=\"stroke:#000000;stroke-width:0.6;\" x=\"687.013911\" xlink:href=\"#m04670e37fe\" y=\"315\"/>\r\n      </g>\r\n     </g>\r\n    </g>\r\n    <g id=\"xtick_63\">\r\n     <g id=\"line2d_93\">\r\n      <g>\r\n       <use style=\"stroke:#000000;stroke-width:0.6;\" x=\"693.573472\" xlink:href=\"#m04670e37fe\" y=\"315\"/>\r\n      </g>\r\n     </g>\r\n    </g>\r\n    <g id=\"xtick_64\">\r\n     <g id=\"line2d_94\">\r\n      <g>\r\n       <use style=\"stroke:#000000;stroke-width:0.6;\" x=\"700.133033\" xlink:href=\"#m04670e37fe\" y=\"315\"/>\r\n      </g>\r\n     </g>\r\n     <g id=\"text_22\">\r\n      <!-- 25 -->\r\n      <g transform=\"translate(693.770533 327.998437)scale(0.1 -0.1)\">\r\n       <use xlink:href=\"#DejaVuSans-50\"/>\r\n       <use x=\"63.623047\" xlink:href=\"#DejaVuSans-53\"/>\r\n      </g>\r\n     </g>\r\n    </g>\r\n    <g id=\"xtick_65\">\r\n     <g id=\"line2d_95\">\r\n      <g>\r\n       <use style=\"stroke:#000000;stroke-width:0.6;\" x=\"706.692594\" xlink:href=\"#m04670e37fe\" y=\"315\"/>\r\n      </g>\r\n     </g>\r\n    </g>\r\n    <g id=\"xtick_66\">\r\n     <g id=\"line2d_96\">\r\n      <g>\r\n       <use style=\"stroke:#000000;stroke-width:0.6;\" x=\"713.252155\" xlink:href=\"#m04670e37fe\" y=\"315\"/>\r\n      </g>\r\n     </g>\r\n    </g>\r\n    <g id=\"xtick_67\">\r\n     <g id=\"line2d_97\">\r\n      <g>\r\n       <use style=\"stroke:#000000;stroke-width:0.6;\" x=\"719.811716\" xlink:href=\"#m04670e37fe\" y=\"315\"/>\r\n      </g>\r\n     </g>\r\n    </g>\r\n    <g id=\"xtick_68\">\r\n     <g id=\"line2d_98\">\r\n      <g>\r\n       <use style=\"stroke:#000000;stroke-width:0.6;\" x=\"726.371277\" xlink:href=\"#m04670e37fe\" y=\"315\"/>\r\n      </g>\r\n     </g>\r\n    </g>\r\n    <g id=\"xtick_69\">\r\n     <g id=\"line2d_99\">\r\n      <g>\r\n       <use style=\"stroke:#000000;stroke-width:0.6;\" x=\"732.930839\" xlink:href=\"#m04670e37fe\" y=\"315\"/>\r\n      </g>\r\n     </g>\r\n    </g>\r\n    <g id=\"xtick_70\">\r\n     <g id=\"line2d_100\">\r\n      <g>\r\n       <use style=\"stroke:#000000;stroke-width:0.6;\" x=\"739.4904\" xlink:href=\"#m04670e37fe\" y=\"315\"/>\r\n      </g>\r\n     </g>\r\n    </g>\r\n    <g id=\"xtick_71\">\r\n     <g id=\"line2d_101\">\r\n      <g>\r\n       <use style=\"stroke:#000000;stroke-width:0.6;\" x=\"752.609522\" xlink:href=\"#m04670e37fe\" y=\"315\"/>\r\n      </g>\r\n     </g>\r\n    </g>\r\n    <g id=\"xtick_72\">\r\n     <g id=\"line2d_102\">\r\n      <g>\r\n       <use style=\"stroke:#000000;stroke-width:0.6;\" x=\"759.169083\" xlink:href=\"#m04670e37fe\" y=\"315\"/>\r\n      </g>\r\n     </g>\r\n    </g>\r\n    <g id=\"xtick_73\">\r\n     <g id=\"line2d_103\">\r\n      <g>\r\n       <use style=\"stroke:#000000;stroke-width:0.6;\" x=\"765.728644\" xlink:href=\"#m04670e37fe\" y=\"315\"/>\r\n      </g>\r\n     </g>\r\n    </g>\r\n    <g id=\"xtick_74\">\r\n     <g id=\"line2d_104\">\r\n      <g>\r\n       <use style=\"stroke:#000000;stroke-width:0.6;\" x=\"772.288205\" xlink:href=\"#m04670e37fe\" y=\"315\"/>\r\n      </g>\r\n     </g>\r\n    </g>\r\n    <g id=\"xtick_75\">\r\n     <g id=\"line2d_105\">\r\n      <g>\r\n       <use style=\"stroke:#000000;stroke-width:0.6;\" x=\"778.847766\" xlink:href=\"#m04670e37fe\" y=\"315\"/>\r\n      </g>\r\n     </g>\r\n    </g>\r\n    <g id=\"xtick_76\">\r\n     <g id=\"line2d_106\">\r\n      <g>\r\n       <use style=\"stroke:#000000;stroke-width:0.6;\" x=\"785.407328\" xlink:href=\"#m04670e37fe\" y=\"315\"/>\r\n      </g>\r\n     </g>\r\n    </g>\r\n    <g id=\"xtick_77\">\r\n     <g id=\"line2d_107\">\r\n      <g>\r\n       <use style=\"stroke:#000000;stroke-width:0.6;\" x=\"791.966889\" xlink:href=\"#m04670e37fe\" y=\"315\"/>\r\n      </g>\r\n     </g>\r\n     <g id=\"text_23\">\r\n      <!-- 08 -->\r\n      <g transform=\"translate(785.604389 327.998437)scale(0.1 -0.1)\">\r\n       <use xlink:href=\"#DejaVuSans-48\"/>\r\n       <use x=\"63.623047\" xlink:href=\"#DejaVuSans-56\"/>\r\n      </g>\r\n     </g>\r\n    </g>\r\n    <g id=\"xtick_78\">\r\n     <g id=\"line2d_108\">\r\n      <g>\r\n       <use style=\"stroke:#000000;stroke-width:0.6;\" x=\"798.52645\" xlink:href=\"#m04670e37fe\" y=\"315\"/>\r\n      </g>\r\n     </g>\r\n    </g>\r\n    <g id=\"xtick_79\">\r\n     <g id=\"line2d_109\">\r\n      <g>\r\n       <use style=\"stroke:#000000;stroke-width:0.6;\" x=\"805.086011\" xlink:href=\"#m04670e37fe\" y=\"315\"/>\r\n      </g>\r\n     </g>\r\n    </g>\r\n    <g id=\"xtick_80\">\r\n     <g id=\"line2d_110\">\r\n      <g>\r\n       <use style=\"stroke:#000000;stroke-width:0.6;\" x=\"811.645572\" xlink:href=\"#m04670e37fe\" y=\"315\"/>\r\n      </g>\r\n     </g>\r\n    </g>\r\n    <g id=\"xtick_81\">\r\n     <g id=\"line2d_111\">\r\n      <g>\r\n       <use style=\"stroke:#000000;stroke-width:0.6;\" x=\"818.205133\" xlink:href=\"#m04670e37fe\" y=\"315\"/>\r\n      </g>\r\n     </g>\r\n    </g>\r\n    <g id=\"xtick_82\">\r\n     <g id=\"line2d_112\">\r\n      <g>\r\n       <use style=\"stroke:#000000;stroke-width:0.6;\" x=\"824.764694\" xlink:href=\"#m04670e37fe\" y=\"315\"/>\r\n      </g>\r\n     </g>\r\n    </g>\r\n    <g id=\"xtick_83\">\r\n     <g id=\"line2d_113\">\r\n      <g>\r\n       <use style=\"stroke:#000000;stroke-width:0.6;\" x=\"831.324255\" xlink:href=\"#m04670e37fe\" y=\"315\"/>\r\n      </g>\r\n     </g>\r\n    </g>\r\n    <g id=\"xtick_84\">\r\n     <g id=\"line2d_114\">\r\n      <g>\r\n       <use style=\"stroke:#000000;stroke-width:0.6;\" x=\"837.883817\" xlink:href=\"#m04670e37fe\" y=\"315\"/>\r\n      </g>\r\n     </g>\r\n     <g id=\"text_24\">\r\n      <!-- 15 -->\r\n      <g transform=\"translate(831.521317 327.998437)scale(0.1 -0.1)\">\r\n       <use xlink:href=\"#DejaVuSans-49\"/>\r\n       <use x=\"63.623047\" xlink:href=\"#DejaVuSans-53\"/>\r\n      </g>\r\n     </g>\r\n    </g>\r\n    <g id=\"xtick_85\">\r\n     <g id=\"line2d_115\">\r\n      <g>\r\n       <use style=\"stroke:#000000;stroke-width:0.6;\" x=\"844.443378\" xlink:href=\"#m04670e37fe\" y=\"315\"/>\r\n      </g>\r\n     </g>\r\n    </g>\r\n    <g id=\"xtick_86\">\r\n     <g id=\"line2d_116\">\r\n      <g>\r\n       <use style=\"stroke:#000000;stroke-width:0.6;\" x=\"851.002939\" xlink:href=\"#m04670e37fe\" y=\"315\"/>\r\n      </g>\r\n     </g>\r\n    </g>\r\n   </g>\r\n   <g id=\"matplotlib.axis_4\">\r\n    <g id=\"ytick_7\">\r\n     <g id=\"line2d_117\">\r\n      <path clip-path=\"url(#p48bee36943)\" d=\"M 477.107955 302.986845 \r\nL 857.5625 302.986845 \r\n\" style=\"fill:none;stroke:#b0b0b0;stroke-linecap:square;stroke-width:0.8;\"/>\r\n     </g>\r\n     <g id=\"line2d_118\">\r\n      <g>\r\n       <use style=\"stroke:#000000;stroke-width:0.8;\" x=\"477.107955\" xlink:href=\"#m215b45a16e\" y=\"302.986845\"/>\r\n      </g>\r\n     </g>\r\n     <g id=\"text_25\">\r\n      <!-- 2.5 -->\r\n      <defs>\r\n       <path d=\"M 10.6875 12.40625 \r\nL 21 12.40625 \r\nL 21 0 \r\nL 10.6875 0 \r\nz\r\n\" id=\"DejaVuSans-46\"/>\r\n      </defs>\r\n      <g transform=\"translate(454.20483 306.786064)scale(0.1 -0.1)\">\r\n       <use xlink:href=\"#DejaVuSans-50\"/>\r\n       <use x=\"63.623047\" xlink:href=\"#DejaVuSans-46\"/>\r\n       <use x=\"95.410156\" xlink:href=\"#DejaVuSans-53\"/>\r\n      </g>\r\n     </g>\r\n    </g>\r\n    <g id=\"ytick_8\">\r\n     <g id=\"line2d_119\">\r\n      <path clip-path=\"url(#p48bee36943)\" d=\"M 477.107955 261.760734 \r\nL 857.5625 261.760734 \r\n\" style=\"fill:none;stroke:#b0b0b0;stroke-linecap:square;stroke-width:0.8;\"/>\r\n     </g>\r\n     <g id=\"line2d_120\">\r\n      <g>\r\n       <use style=\"stroke:#000000;stroke-width:0.8;\" x=\"477.107955\" xlink:href=\"#m215b45a16e\" y=\"261.760734\"/>\r\n      </g>\r\n     </g>\r\n     <g id=\"text_26\">\r\n      <!-- 3.0 -->\r\n      <g transform=\"translate(454.20483 265.559953)scale(0.1 -0.1)\">\r\n       <use xlink:href=\"#DejaVuSans-51\"/>\r\n       <use x=\"63.623047\" xlink:href=\"#DejaVuSans-46\"/>\r\n       <use x=\"95.410156\" xlink:href=\"#DejaVuSans-48\"/>\r\n      </g>\r\n     </g>\r\n    </g>\r\n    <g id=\"ytick_9\">\r\n     <g id=\"line2d_121\">\r\n      <path clip-path=\"url(#p48bee36943)\" d=\"M 477.107955 220.534623 \r\nL 857.5625 220.534623 \r\n\" style=\"fill:none;stroke:#b0b0b0;stroke-linecap:square;stroke-width:0.8;\"/>\r\n     </g>\r\n     <g id=\"line2d_122\">\r\n      <g>\r\n       <use style=\"stroke:#000000;stroke-width:0.8;\" x=\"477.107955\" xlink:href=\"#m215b45a16e\" y=\"220.534623\"/>\r\n      </g>\r\n     </g>\r\n     <g id=\"text_27\">\r\n      <!-- 3.5 -->\r\n      <g transform=\"translate(454.20483 224.333841)scale(0.1 -0.1)\">\r\n       <use xlink:href=\"#DejaVuSans-51\"/>\r\n       <use x=\"63.623047\" xlink:href=\"#DejaVuSans-46\"/>\r\n       <use x=\"95.410156\" xlink:href=\"#DejaVuSans-53\"/>\r\n      </g>\r\n     </g>\r\n    </g>\r\n    <g id=\"ytick_10\">\r\n     <g id=\"line2d_123\">\r\n      <path clip-path=\"url(#p48bee36943)\" d=\"M 477.107955 179.308511 \r\nL 857.5625 179.308511 \r\n\" style=\"fill:none;stroke:#b0b0b0;stroke-linecap:square;stroke-width:0.8;\"/>\r\n     </g>\r\n     <g id=\"line2d_124\">\r\n      <g>\r\n       <use style=\"stroke:#000000;stroke-width:0.8;\" x=\"477.107955\" xlink:href=\"#m215b45a16e\" y=\"179.308511\"/>\r\n      </g>\r\n     </g>\r\n     <g id=\"text_28\">\r\n      <!-- 4.0 -->\r\n      <g transform=\"translate(454.20483 183.10773)scale(0.1 -0.1)\">\r\n       <use xlink:href=\"#DejaVuSans-52\"/>\r\n       <use x=\"63.623047\" xlink:href=\"#DejaVuSans-46\"/>\r\n       <use x=\"95.410156\" xlink:href=\"#DejaVuSans-48\"/>\r\n      </g>\r\n     </g>\r\n    </g>\r\n    <g id=\"ytick_11\">\r\n     <g id=\"line2d_125\">\r\n      <path clip-path=\"url(#p48bee36943)\" d=\"M 477.107955 138.0824 \r\nL 857.5625 138.0824 \r\n\" style=\"fill:none;stroke:#b0b0b0;stroke-linecap:square;stroke-width:0.8;\"/>\r\n     </g>\r\n     <g id=\"line2d_126\">\r\n      <g>\r\n       <use style=\"stroke:#000000;stroke-width:0.8;\" x=\"477.107955\" xlink:href=\"#m215b45a16e\" y=\"138.0824\"/>\r\n      </g>\r\n     </g>\r\n     <g id=\"text_29\">\r\n      <!-- 4.5 -->\r\n      <g transform=\"translate(454.20483 141.881618)scale(0.1 -0.1)\">\r\n       <use xlink:href=\"#DejaVuSans-52\"/>\r\n       <use x=\"63.623047\" xlink:href=\"#DejaVuSans-46\"/>\r\n       <use x=\"95.410156\" xlink:href=\"#DejaVuSans-53\"/>\r\n      </g>\r\n     </g>\r\n    </g>\r\n    <g id=\"ytick_12\">\r\n     <g id=\"line2d_127\">\r\n      <path clip-path=\"url(#p48bee36943)\" d=\"M 477.107955 96.856288 \r\nL 857.5625 96.856288 \r\n\" style=\"fill:none;stroke:#b0b0b0;stroke-linecap:square;stroke-width:0.8;\"/>\r\n     </g>\r\n     <g id=\"line2d_128\">\r\n      <g>\r\n       <use style=\"stroke:#000000;stroke-width:0.8;\" x=\"477.107955\" xlink:href=\"#m215b45a16e\" y=\"96.856288\"/>\r\n      </g>\r\n     </g>\r\n     <g id=\"text_30\">\r\n      <!-- 5.0 -->\r\n      <g transform=\"translate(454.20483 100.655507)scale(0.1 -0.1)\">\r\n       <use xlink:href=\"#DejaVuSans-53\"/>\r\n       <use x=\"63.623047\" xlink:href=\"#DejaVuSans-46\"/>\r\n       <use x=\"95.410156\" xlink:href=\"#DejaVuSans-48\"/>\r\n      </g>\r\n     </g>\r\n    </g>\r\n    <g id=\"ytick_13\">\r\n     <g id=\"line2d_129\">\r\n      <path clip-path=\"url(#p48bee36943)\" d=\"M 477.107955 55.630177 \r\nL 857.5625 55.630177 \r\n\" style=\"fill:none;stroke:#b0b0b0;stroke-linecap:square;stroke-width:0.8;\"/>\r\n     </g>\r\n     <g id=\"line2d_130\">\r\n      <g>\r\n       <use style=\"stroke:#000000;stroke-width:0.8;\" x=\"477.107955\" xlink:href=\"#m215b45a16e\" y=\"55.630177\"/>\r\n      </g>\r\n     </g>\r\n     <g id=\"text_31\">\r\n      <!-- 5.5 -->\r\n      <g transform=\"translate(454.20483 59.429396)scale(0.1 -0.1)\">\r\n       <use xlink:href=\"#DejaVuSans-53\"/>\r\n       <use x=\"63.623047\" xlink:href=\"#DejaVuSans-46\"/>\r\n       <use x=\"95.410156\" xlink:href=\"#DejaVuSans-53\"/>\r\n      </g>\r\n     </g>\r\n    </g>\r\n    <g id=\"text_32\">\r\n     <!-- 1e6 -->\r\n     <g transform=\"translate(477.107955 40.2)scale(0.1 -0.1)\">\r\n      <use xlink:href=\"#DejaVuSans-49\"/>\r\n      <use x=\"63.623047\" xlink:href=\"#DejaVuSans-101\"/>\r\n      <use x=\"125.146484\" xlink:href=\"#DejaVuSans-54\"/>\r\n     </g>\r\n    </g>\r\n   </g>\r\n   <g id=\"line2d_131\">\r\n    <g clip-path=\"url(#p48bee36943)\">\r\n     <use style=\"stroke:#000000;\" x=\"477.107955\" xlink:href=\"#ma517fefa47\" y=\"298.942894\"/>\r\n     <use style=\"stroke:#000000;\" x=\"483.667516\" xlink:href=\"#ma517fefa47\" y=\"292.712639\"/>\r\n     <use style=\"stroke:#000000;\" x=\"490.227077\" xlink:href=\"#ma517fefa47\" y=\"285.803555\"/>\r\n     <use style=\"stroke:#000000;\" x=\"496.786638\" xlink:href=\"#ma517fefa47\" y=\"278.603167\"/>\r\n     <use style=\"stroke:#000000;\" x=\"503.346199\" xlink:href=\"#ma517fefa47\" y=\"271.561005\"/>\r\n     <use style=\"stroke:#000000;\" x=\"509.90576\" xlink:href=\"#ma517fefa47\" y=\"265.468363\"/>\r\n     <use style=\"stroke:#000000;\" x=\"516.465321\" xlink:href=\"#ma517fefa47\" y=\"259.804802\"/>\r\n     <use style=\"stroke:#000000;\" x=\"523.024882\" xlink:href=\"#ma517fefa47\" y=\"253.743987\"/>\r\n     <use style=\"stroke:#000000;\" x=\"529.584444\" xlink:href=\"#ma517fefa47\" y=\"247.555288\"/>\r\n     <use style=\"stroke:#000000;\" x=\"536.144005\" xlink:href=\"#ma517fefa47\" y=\"240.577933\"/>\r\n     <use style=\"stroke:#000000;\" x=\"542.703566\" xlink:href=\"#ma517fefa47\" y=\"233.268709\"/>\r\n     <use style=\"stroke:#000000;\" x=\"549.263127\" xlink:href=\"#ma517fefa47\" y=\"226.505483\"/>\r\n     <use style=\"stroke:#000000;\" x=\"555.822688\" xlink:href=\"#ma517fefa47\" y=\"219.979802\"/>\r\n     <use style=\"stroke:#000000;\" x=\"562.382249\" xlink:href=\"#ma517fefa47\" y=\"213.686553\"/>\r\n     <use style=\"stroke:#000000;\" x=\"568.94181\" xlink:href=\"#ma517fefa47\" y=\"207.120388\"/>\r\n     <use style=\"stroke:#000000;\" x=\"575.501371\" xlink:href=\"#ma517fefa47\" y=\"199.421164\"/>\r\n     <use style=\"stroke:#000000;\" x=\"582.060933\" xlink:href=\"#ma517fefa47\" y=\"192.029405\"/>\r\n     <use style=\"stroke:#000000;\" x=\"588.620494\" xlink:href=\"#ma517fefa47\" y=\"184.415272\"/>\r\n     <use style=\"stroke:#000000;\" x=\"595.180055\" xlink:href=\"#ma517fefa47\" y=\"177.328916\"/>\r\n     <use style=\"stroke:#000000;\" x=\"601.739616\" xlink:href=\"#ma517fefa47\" y=\"170.923202\"/>\r\n     <use style=\"stroke:#000000;\" x=\"608.299177\" xlink:href=\"#ma517fefa47\" y=\"164.673077\"/>\r\n     <use style=\"stroke:#000000;\" x=\"614.858738\" xlink:href=\"#ma517fefa47\" y=\"157.726889\"/>\r\n     <use style=\"stroke:#000000;\" x=\"621.418299\" xlink:href=\"#ma517fefa47\" y=\"150.696106\"/>\r\n     <use style=\"stroke:#000000;\" x=\"627.977861\" xlink:href=\"#ma517fefa47\" y=\"142.851189\"/>\r\n     <use style=\"stroke:#000000;\" x=\"634.537422\" xlink:href=\"#ma517fefa47\" y=\"134.590795\"/>\r\n     <use style=\"stroke:#000000;\" x=\"641.096983\" xlink:href=\"#ma517fefa47\" y=\"127.028195\"/>\r\n     <use style=\"stroke:#000000;\" x=\"647.656544\" xlink:href=\"#ma517fefa47\" y=\"120.468956\"/>\r\n     <use style=\"stroke:#000000;\" x=\"654.216105\" xlink:href=\"#ma517fefa47\" y=\"113.186528\"/>\r\n     <use style=\"stroke:#000000;\" x=\"660.775666\" xlink:href=\"#ma517fefa47\" y=\"105.308301\"/>\r\n     <use style=\"stroke:#000000;\" x=\"667.335227\" xlink:href=\"#ma517fefa47\" y=\"97.14718\"/>\r\n    </g>\r\n   </g>\r\n   <g id=\"line2d_132\">\r\n    <path clip-path=\"url(#p48bee36943)\" d=\"M 477.107955 302.645455 \r\nL 483.667516 294.594675 \r\nL 490.227077 286.521198 \r\nL 496.786638 278.446118 \r\nL 503.346199 270.390547 \r\nL 509.90576 262.375394 \r\nL 516.465321 254.421147 \r\nL 523.024882 246.547669 \r\nL 529.584444 238.774005 \r\nL 536.144005 231.118204 \r\nL 542.703566 223.597167 \r\nL 549.263127 216.226513 \r\nL 555.822688 209.020473 \r\nL 562.382249 201.99181 \r\nL 568.94181 195.151759 \r\nL 575.501371 188.510005 \r\nL 582.060933 182.074671 \r\nL 588.620494 175.852336 \r\nL 595.180055 169.848077 \r\nL 601.739616 164.065519 \r\nL 608.299177 158.506908 \r\nL 614.858738 153.173193 \r\nL 621.418299 148.06412 \r\nL 627.977861 143.178328 \r\nL 634.537422 138.513457 \r\nL 641.096983 134.06625 \r\nL 647.656544 129.832662 \r\nL 654.216105 125.807961 \r\nL 660.775666 121.986832 \r\nL 667.335227 118.363472 \r\n\" style=\"fill:none;stroke:#008000;stroke-linecap:square;stroke-width:1.5;\"/>\r\n   </g>\r\n   <g id=\"line2d_133\">\r\n    <path clip-path=\"url(#p48bee36943)\" d=\"M 673.894788 111.684945 \r\nL 680.45435 108.616521 \r\nL 687.013911 105.7195 \r\nL 693.573472 102.986877 \r\nL 700.133033 100.411606 \r\nL 706.692594 97.986654 \r\nL 713.252155 95.705041 \r\nL 719.811716 93.559885 \r\nL 726.371277 91.544426 \r\nL 732.930839 89.652062 \r\nL 739.4904 87.876364 \r\nL 746.049961 86.2111 \r\nL 752.609522 84.650246 \r\nL 759.169083 83.187995 \r\nL 765.728644 81.818768 \r\nL 772.288205 80.537218 \r\nL 778.847766 79.338228 \r\nL 785.407328 78.216916 \r\nL 791.966889 77.168631 \r\nL 798.52645 76.188951 \r\nL 805.086011 75.273676 \r\nL 811.645572 74.418827 \r\nL 818.205133 73.620636 \r\nL 824.764694 72.87554 \r\nL 831.324255 72.180176 \r\nL 837.883817 71.531371 \r\nL 844.443378 70.926135 \r\nL 851.002939 70.361652 \r\nL 857.5625 69.835276 \r\n\" style=\"fill:none;stroke:#ff0000;stroke-linecap:square;stroke-width:1.5;\"/>\r\n   </g>\r\n   <g id=\"patch_9\">\r\n    <path d=\"M 477.107955 315 \r\nL 477.107955 43.2 \r\n\" style=\"fill:none;stroke:#000000;stroke-linecap:square;stroke-linejoin:miter;stroke-width:0.8;\"/>\r\n   </g>\r\n   <g id=\"patch_10\">\r\n    <path d=\"M 857.5625 315 \r\nL 857.5625 43.2 \r\n\" style=\"fill:none;stroke:#000000;stroke-linecap:square;stroke-linejoin:miter;stroke-width:0.8;\"/>\r\n   </g>\r\n   <g id=\"patch_11\">\r\n    <path d=\"M 477.107955 315 \r\nL 857.5625 315 \r\n\" style=\"fill:none;stroke:#000000;stroke-linecap:square;stroke-linejoin:miter;stroke-width:0.8;\"/>\r\n   </g>\r\n   <g id=\"patch_12\">\r\n    <path d=\"M 477.107955 43.2 \r\nL 857.5625 43.2 \r\n\" style=\"fill:none;stroke:#000000;stroke-linecap:square;stroke-linejoin:miter;stroke-width:0.8;\"/>\r\n   </g>\r\n   <g id=\"text_33\">\r\n    <!-- Zoom on the last 30 observations -->\r\n    <defs>\r\n     <path d=\"M 5.609375 72.90625 \r\nL 62.890625 72.90625 \r\nL 62.890625 65.375 \r\nL 16.796875 8.296875 \r\nL 64.015625 8.296875 \r\nL 64.015625 0 \r\nL 4.5 0 \r\nL 4.5 7.515625 \r\nL 50.59375 64.59375 \r\nL 5.609375 64.59375 \r\nz\r\n\" id=\"DejaVuSans-90\"/>\r\n     <path d=\"M 54.890625 33.015625 \r\nL 54.890625 0 \r\nL 45.90625 0 \r\nL 45.90625 32.71875 \r\nQ 45.90625 40.484375 42.875 44.328125 \r\nQ 39.84375 48.1875 33.796875 48.1875 \r\nQ 26.515625 48.1875 22.3125 43.546875 \r\nQ 18.109375 38.921875 18.109375 30.90625 \r\nL 18.109375 0 \r\nL 9.078125 0 \r\nL 9.078125 75.984375 \r\nL 18.109375 75.984375 \r\nL 18.109375 46.1875 \r\nQ 21.34375 51.125 25.703125 53.5625 \r\nQ 30.078125 56 35.796875 56 \r\nQ 45.21875 56 50.046875 50.171875 \r\nQ 54.890625 44.34375 54.890625 33.015625 \r\nz\r\n\" id=\"DejaVuSans-104\"/>\r\n     <path d=\"M 2.984375 54.6875 \r\nL 12.5 54.6875 \r\nL 29.59375 8.796875 \r\nL 46.6875 54.6875 \r\nL 56.203125 54.6875 \r\nL 35.6875 0 \r\nL 23.484375 0 \r\nz\r\n\" id=\"DejaVuSans-118\"/>\r\n    </defs>\r\n    <g transform=\"translate(566.116165 37.2)scale(0.12 -0.12)\">\r\n     <use xlink:href=\"#DejaVuSans-90\"/>\r\n     <use x=\"68.505859\" xlink:href=\"#DejaVuSans-111\"/>\r\n     <use x=\"129.6875\" xlink:href=\"#DejaVuSans-111\"/>\r\n     <use x=\"190.869141\" xlink:href=\"#DejaVuSans-109\"/>\r\n     <use x=\"288.28125\" xlink:href=\"#DejaVuSans-32\"/>\r\n     <use x=\"320.068359\" xlink:href=\"#DejaVuSans-111\"/>\r\n     <use x=\"381.25\" xlink:href=\"#DejaVuSans-110\"/>\r\n     <use x=\"444.628906\" xlink:href=\"#DejaVuSans-32\"/>\r\n     <use x=\"476.416016\" xlink:href=\"#DejaVuSans-116\"/>\r\n     <use x=\"515.625\" xlink:href=\"#DejaVuSans-104\"/>\r\n     <use x=\"579.003906\" xlink:href=\"#DejaVuSans-101\"/>\r\n     <use x=\"640.527344\" xlink:href=\"#DejaVuSans-32\"/>\r\n     <use x=\"672.314453\" xlink:href=\"#DejaVuSans-108\"/>\r\n     <use x=\"700.097656\" xlink:href=\"#DejaVuSans-97\"/>\r\n     <use x=\"761.376953\" xlink:href=\"#DejaVuSans-115\"/>\r\n     <use x=\"813.476562\" xlink:href=\"#DejaVuSans-116\"/>\r\n     <use x=\"852.685547\" xlink:href=\"#DejaVuSans-32\"/>\r\n     <use x=\"884.472656\" xlink:href=\"#DejaVuSans-51\"/>\r\n     <use x=\"948.095703\" xlink:href=\"#DejaVuSans-48\"/>\r\n     <use x=\"1011.71875\" xlink:href=\"#DejaVuSans-32\"/>\r\n     <use x=\"1043.505859\" xlink:href=\"#DejaVuSans-111\"/>\r\n     <use x=\"1104.6875\" xlink:href=\"#DejaVuSans-98\"/>\r\n     <use x=\"1168.164062\" xlink:href=\"#DejaVuSans-115\"/>\r\n     <use x=\"1220.263672\" xlink:href=\"#DejaVuSans-101\"/>\r\n     <use x=\"1281.787109\" xlink:href=\"#DejaVuSans-114\"/>\r\n     <use x=\"1322.900391\" xlink:href=\"#DejaVuSans-118\"/>\r\n     <use x=\"1382.080078\" xlink:href=\"#DejaVuSans-97\"/>\r\n     <use x=\"1443.359375\" xlink:href=\"#DejaVuSans-116\"/>\r\n     <use x=\"1482.568359\" xlink:href=\"#DejaVuSans-105\"/>\r\n     <use x=\"1510.351562\" xlink:href=\"#DejaVuSans-111\"/>\r\n     <use x=\"1571.533203\" xlink:href=\"#DejaVuSans-110\"/>\r\n     <use x=\"1634.912109\" xlink:href=\"#DejaVuSans-115\"/>\r\n    </g>\r\n   </g>\r\n  </g>\r\n  <g id=\"text_34\">\r\n   <!-- COVID-19 Outbreak Forecasting Global to date -->\r\n   <defs>\r\n    <path d=\"M 64.40625 67.28125 \r\nL 64.40625 56.890625 \r\nQ 59.421875 61.53125 53.78125 63.8125 \r\nQ 48.140625 66.109375 41.796875 66.109375 \r\nQ 29.296875 66.109375 22.65625 58.46875 \r\nQ 16.015625 50.828125 16.015625 36.375 \r\nQ 16.015625 21.96875 22.65625 14.328125 \r\nQ 29.296875 6.6875 41.796875 6.6875 \r\nQ 48.140625 6.6875 53.78125 8.984375 \r\nQ 59.421875 11.28125 64.40625 15.921875 \r\nL 64.40625 5.609375 \r\nQ 59.234375 2.09375 53.4375 0.328125 \r\nQ 47.65625 -1.421875 41.21875 -1.421875 \r\nQ 24.65625 -1.421875 15.125 8.703125 \r\nQ 5.609375 18.84375 5.609375 36.375 \r\nQ 5.609375 53.953125 15.125 64.078125 \r\nQ 24.65625 74.21875 41.21875 74.21875 \r\nQ 47.75 74.21875 53.53125 72.484375 \r\nQ 59.328125 70.75 64.40625 67.28125 \r\nz\r\n\" id=\"DejaVuSans-67\"/>\r\n    <path d=\"M 39.40625 66.21875 \r\nQ 28.65625 66.21875 22.328125 58.203125 \r\nQ 16.015625 50.203125 16.015625 36.375 \r\nQ 16.015625 22.609375 22.328125 14.59375 \r\nQ 28.65625 6.59375 39.40625 6.59375 \r\nQ 50.140625 6.59375 56.421875 14.59375 \r\nQ 62.703125 22.609375 62.703125 36.375 \r\nQ 62.703125 50.203125 56.421875 58.203125 \r\nQ 50.140625 66.21875 39.40625 66.21875 \r\nz\r\nM 39.40625 74.21875 \r\nQ 54.734375 74.21875 63.90625 63.9375 \r\nQ 73.09375 53.65625 73.09375 36.375 \r\nQ 73.09375 19.140625 63.90625 8.859375 \r\nQ 54.734375 -1.421875 39.40625 -1.421875 \r\nQ 24.03125 -1.421875 14.8125 8.828125 \r\nQ 5.609375 19.09375 5.609375 36.375 \r\nQ 5.609375 53.65625 14.8125 63.9375 \r\nQ 24.03125 74.21875 39.40625 74.21875 \r\nz\r\n\" id=\"DejaVuSans-79\"/>\r\n    <path d=\"M 28.609375 0 \r\nL 0.78125 72.90625 \r\nL 11.078125 72.90625 \r\nL 34.1875 11.53125 \r\nL 57.328125 72.90625 \r\nL 67.578125 72.90625 \r\nL 39.796875 0 \r\nz\r\n\" id=\"DejaVuSans-86\"/>\r\n    <path d=\"M 9.8125 72.90625 \r\nL 19.671875 72.90625 \r\nL 19.671875 0 \r\nL 9.8125 0 \r\nz\r\n\" id=\"DejaVuSans-73\"/>\r\n    <path d=\"M 19.671875 64.796875 \r\nL 19.671875 8.109375 \r\nL 31.59375 8.109375 \r\nQ 46.6875 8.109375 53.6875 14.9375 \r\nQ 60.6875 21.78125 60.6875 36.53125 \r\nQ 60.6875 51.171875 53.6875 57.984375 \r\nQ 46.6875 64.796875 31.59375 64.796875 \r\nz\r\nM 9.8125 72.90625 \r\nL 30.078125 72.90625 \r\nQ 51.265625 72.90625 61.171875 64.09375 \r\nQ 71.09375 55.28125 71.09375 36.53125 \r\nQ 71.09375 17.671875 61.125 8.828125 \r\nQ 51.171875 0 30.078125 0 \r\nL 9.8125 0 \r\nz\r\n\" id=\"DejaVuSans-68\"/>\r\n    <path d=\"M 4.890625 31.390625 \r\nL 31.203125 31.390625 \r\nL 31.203125 23.390625 \r\nL 4.890625 23.390625 \r\nz\r\n\" id=\"DejaVuSans-45\"/>\r\n    <path d=\"M 10.984375 1.515625 \r\nL 10.984375 10.5 \r\nQ 14.703125 8.734375 18.5 7.8125 \r\nQ 22.3125 6.890625 25.984375 6.890625 \r\nQ 35.75 6.890625 40.890625 13.453125 \r\nQ 46.046875 20.015625 46.78125 33.40625 \r\nQ 43.953125 29.203125 39.59375 26.953125 \r\nQ 35.25 24.703125 29.984375 24.703125 \r\nQ 19.046875 24.703125 12.671875 31.3125 \r\nQ 6.296875 37.9375 6.296875 49.421875 \r\nQ 6.296875 60.640625 12.9375 67.421875 \r\nQ 19.578125 74.21875 30.609375 74.21875 \r\nQ 43.265625 74.21875 49.921875 64.515625 \r\nQ 56.59375 54.828125 56.59375 36.375 \r\nQ 56.59375 19.140625 48.40625 8.859375 \r\nQ 40.234375 -1.421875 26.421875 -1.421875 \r\nQ 22.703125 -1.421875 18.890625 -0.6875 \r\nQ 15.09375 0.046875 10.984375 1.515625 \r\nz\r\nM 30.609375 32.421875 \r\nQ 37.25 32.421875 41.125 36.953125 \r\nQ 45.015625 41.5 45.015625 49.421875 \r\nQ 45.015625 57.28125 41.125 61.84375 \r\nQ 37.25 66.40625 30.609375 66.40625 \r\nQ 23.96875 66.40625 20.09375 61.84375 \r\nQ 16.21875 57.28125 16.21875 49.421875 \r\nQ 16.21875 41.5 20.09375 36.953125 \r\nQ 23.96875 32.421875 30.609375 32.421875 \r\nz\r\n\" id=\"DejaVuSans-57\"/>\r\n    <path d=\"M 9.078125 75.984375 \r\nL 18.109375 75.984375 \r\nL 18.109375 31.109375 \r\nL 44.921875 54.6875 \r\nL 56.390625 54.6875 \r\nL 27.390625 29.109375 \r\nL 57.625 0 \r\nL 45.90625 0 \r\nL 18.109375 26.703125 \r\nL 18.109375 0 \r\nL 9.078125 0 \r\nz\r\n\" id=\"DejaVuSans-107\"/>\r\n    <path d=\"M 59.515625 10.40625 \r\nL 59.515625 29.984375 \r\nL 43.40625 29.984375 \r\nL 43.40625 38.09375 \r\nL 69.28125 38.09375 \r\nL 69.28125 6.78125 \r\nQ 63.578125 2.734375 56.6875 0.65625 \r\nQ 49.8125 -1.421875 42 -1.421875 \r\nQ 24.90625 -1.421875 15.25 8.5625 \r\nQ 5.609375 18.5625 5.609375 36.375 \r\nQ 5.609375 54.25 15.25 64.234375 \r\nQ 24.90625 74.21875 42 74.21875 \r\nQ 49.125 74.21875 55.546875 72.453125 \r\nQ 61.96875 70.703125 67.390625 67.28125 \r\nL 67.390625 56.78125 \r\nQ 61.921875 61.421875 55.765625 63.765625 \r\nQ 49.609375 66.109375 42.828125 66.109375 \r\nQ 29.4375 66.109375 22.71875 58.640625 \r\nQ 16.015625 51.171875 16.015625 36.375 \r\nQ 16.015625 21.625 22.71875 14.15625 \r\nQ 29.4375 6.6875 42.828125 6.6875 \r\nQ 48.046875 6.6875 52.140625 7.59375 \r\nQ 56.25 8.5 59.515625 10.40625 \r\nz\r\n\" id=\"DejaVuSans-71\"/>\r\n   </defs>\r\n   <g transform=\"translate(285.710938 16.318125)scale(0.12 -0.12)\">\r\n    <use xlink:href=\"#DejaVuSans-67\"/>\r\n    <use x=\"69.824219\" xlink:href=\"#DejaVuSans-79\"/>\r\n    <use x=\"146.785156\" xlink:href=\"#DejaVuSans-86\"/>\r\n    <use x=\"215.193359\" xlink:href=\"#DejaVuSans-73\"/>\r\n    <use x=\"244.685547\" xlink:href=\"#DejaVuSans-68\"/>\r\n    <use x=\"321.6875\" xlink:href=\"#DejaVuSans-45\"/>\r\n    <use x=\"357.771484\" xlink:href=\"#DejaVuSans-49\"/>\r\n    <use x=\"421.394531\" xlink:href=\"#DejaVuSans-57\"/>\r\n    <use x=\"485.017578\" xlink:href=\"#DejaVuSans-32\"/>\r\n    <use x=\"516.804688\" xlink:href=\"#DejaVuSans-79\"/>\r\n    <use x=\"595.515625\" xlink:href=\"#DejaVuSans-117\"/>\r\n    <use x=\"658.894531\" xlink:href=\"#DejaVuSans-116\"/>\r\n    <use x=\"698.103516\" xlink:href=\"#DejaVuSans-98\"/>\r\n    <use x=\"761.580078\" xlink:href=\"#DejaVuSans-114\"/>\r\n    <use x=\"800.443359\" xlink:href=\"#DejaVuSans-101\"/>\r\n    <use x=\"861.966797\" xlink:href=\"#DejaVuSans-97\"/>\r\n    <use x=\"923.246094\" xlink:href=\"#DejaVuSans-107\"/>\r\n    <use x=\"981.15625\" xlink:href=\"#DejaVuSans-32\"/>\r\n    <use x=\"1012.943359\" xlink:href=\"#DejaVuSans-70\"/>\r\n    <use x=\"1066.837891\" xlink:href=\"#DejaVuSans-111\"/>\r\n    <use x=\"1128.019531\" xlink:href=\"#DejaVuSans-114\"/>\r\n    <use x=\"1166.882812\" xlink:href=\"#DejaVuSans-101\"/>\r\n    <use x=\"1228.40625\" xlink:href=\"#DejaVuSans-99\"/>\r\n    <use x=\"1283.386719\" xlink:href=\"#DejaVuSans-97\"/>\r\n    <use x=\"1344.666016\" xlink:href=\"#DejaVuSans-115\"/>\r\n    <use x=\"1396.765625\" xlink:href=\"#DejaVuSans-116\"/>\r\n    <use x=\"1435.974609\" xlink:href=\"#DejaVuSans-105\"/>\r\n    <use x=\"1463.757812\" xlink:href=\"#DejaVuSans-110\"/>\r\n    <use x=\"1527.136719\" xlink:href=\"#DejaVuSans-103\"/>\r\n    <use x=\"1590.613281\" xlink:href=\"#DejaVuSans-32\"/>\r\n    <use x=\"1622.400391\" xlink:href=\"#DejaVuSans-71\"/>\r\n    <use x=\"1699.890625\" xlink:href=\"#DejaVuSans-108\"/>\r\n    <use x=\"1727.673828\" xlink:href=\"#DejaVuSans-111\"/>\r\n    <use x=\"1788.855469\" xlink:href=\"#DejaVuSans-98\"/>\r\n    <use x=\"1852.332031\" xlink:href=\"#DejaVuSans-97\"/>\r\n    <use x=\"1913.611328\" xlink:href=\"#DejaVuSans-108\"/>\r\n    <use x=\"1941.394531\" xlink:href=\"#DejaVuSans-32\"/>\r\n    <use x=\"1973.181641\" xlink:href=\"#DejaVuSans-116\"/>\r\n    <use x=\"2012.390625\" xlink:href=\"#DejaVuSans-111\"/>\r\n    <use x=\"2073.572266\" xlink:href=\"#DejaVuSans-32\"/>\r\n    <use x=\"2105.359375\" xlink:href=\"#DejaVuSans-100\"/>\r\n    <use x=\"2168.835938\" xlink:href=\"#DejaVuSans-97\"/>\r\n    <use x=\"2230.115234\" xlink:href=\"#DejaVuSans-116\"/>\r\n    <use x=\"2269.324219\" xlink:href=\"#DejaVuSans-101\"/>\r\n   </g>\r\n  </g>\r\n </g>\r\n <defs>\r\n  <clipPath id=\"p30ffc68a53\">\r\n   <rect height=\"271.8\" width=\"380.454545\" x=\"20.5625\" y=\"43.2\"/>\r\n  </clipPath>\r\n  <clipPath id=\"p48bee36943\">\r\n   <rect height=\"271.8\" width=\"380.454545\" x=\"477.107955\" y=\"43.2\"/>\r\n  </clipPath>\r\n </defs>\r\n</svg>\r\n",
      "image/png": "[encoded data removed]"
     },
     "metadata": {
      "needs_background": "light"
     }
    },
    {
     "output_type": "stream",
     "name": "stdout",
     "text": "None\n"
    }
   ],
   "source": [
    "print(predict('Global'))\n",
    "# print(predict('Indonesia'))"
   ]
  }
 ],
 "metadata": {
  "language_info": {
   "codemirror_mode": {
    "name": "ipython",
    "version": 3
   },
   "file_extension": ".py",
   "mimetype": "text/x-python",
   "name": "python",
   "nbconvert_exporter": "python",
   "pygments_lexer": "ipython3",
   "version": "3.7.7-final"
  },
  "orig_nbformat": 2,
  "kernelspec": {
   "name": "python3",
   "display_name": "Python 3"
  }
 },
 "nbformat": 4,
 "nbformat_minor": 2
}